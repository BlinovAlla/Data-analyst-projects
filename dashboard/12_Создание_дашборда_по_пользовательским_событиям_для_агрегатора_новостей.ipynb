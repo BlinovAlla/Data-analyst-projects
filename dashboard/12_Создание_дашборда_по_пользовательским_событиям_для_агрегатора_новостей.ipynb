{
  "nbformat": 4,
  "nbformat_minor": 0,
  "metadata": {
    "colab": {
      "provenance": [],
      "collapsed_sections": []
    },
    "kernelspec": {
      "name": "python3",
      "display_name": "Python 3"
    },
    "language_info": {
      "name": "python"
    }
  },
  "cells": [
    {
      "cell_type": "markdown",
      "source": [
        "**Название проекта:**\n",
        "\n",
        "Создание дашборда по пользовательским событиям для агрегатора новостей"
      ],
      "metadata": {
        "id": "MFcjKmgeWdEc"
      }
    },
    {
      "cell_type": "markdown",
      "source": [
        "**ТЗ:**\n",
        "\n",
        "- *Бизнес-задача:* анализ взаимодействия пользователей с карточками Яндекс.Дзен;\n",
        "\n",
        "- *Насколько часто предполагается пользоваться дашбордом:* не реже, чем раз в неделю;\n",
        "\n",
        "- *Кто будет основным пользователем дашборда:* менеджеры по анализу контента;\n",
        "\n",
        "- *Состав данных для дашборда:*\n",
        " - История событий по темам карточек (два графика - абсолютные числа и процентное соотношение);\n",
        " - Разбивка событий по темам источников;\n",
        " - Таблица соответствия тем источников темам карточек;\n",
        "\n",
        "- *По каким параметрам данные должны группироваться:*\n",
        " - Дата и время;\n",
        " - Тема карточки;\n",
        " - Тема источника;\n",
        " - Возрастная группа;\n",
        "\n",
        "- *Характер данных:* \n",
        " - История событий по темам карточек — абсолютные величины с разбивкой по минутам;\n",
        " - Разбивка событий по темам источников — относительные величины (% событий);\n",
        " - Соответствия тем источников темам карточек - абсолютные величины;\n",
        "\n",
        "- *Важность:* все графики имеют равную важность;\n",
        "\n",
        "- *Источники данных для дашборда:* cырые данные о событиях взаимодействия пользователей с карточками;\n",
        "\n",
        "- *Частота обновления данных:* один раз в сутки, в полночь по UTC\n",
        "\n"
      ],
      "metadata": {
        "id": "FMUon0-kWvDN"
      }
    },
    {
      "cell_type": "markdown",
      "source": [
        "**Краткое описание проекта:**\n",
        "\n",
        "Я - аналитик в Яндекс.Дзене. Почти всё рабочее время занимает анализ пользовательского взаимодействия с карточками статей. Каждую неделю начинающие менеджеры Денис и Валерия задают мне одни и те же вопросы про взаимодействие пользователей с карточками. На шестую неделю работы я решаю, что процесс пора автоматизировать. Для Дениса и Валерии нужно сделать дашборд.\n",
        "Дашборд будет основываться на пайплайне, который будет брать данные из таблицы, в которых хранятся сырые данные, трансформировать данные и укладывать их в агрегирующую таблицу. Пайплайн будет разработан дата-инженерами.\n",
        "\n"
      ],
      "metadata": {
        "id": "akXvwq_vW8cw"
      }
    },
    {
      "cell_type": "markdown",
      "source": [
        "**Ссылка на работу:**\n",
        "\n",
        "[Дашборд](https://public.tableau.com/app/profile/alla7041/viz/analysisforYandex_Dzen/Dashboard1#1) и [Презентация](https://disk.yandex.ru/i/WtdLtA0OF_O5zA)"
      ],
      "metadata": {
        "id": "xLGsCtZkcggr"
      }
    },
    {
      "cell_type": "markdown",
      "source": [
        "# 1. Загрузка данных и создание коннекции к базе"
      ],
      "metadata": {
        "id": "D4AF6qRKZz_m"
      }
    },
    {
      "cell_type": "code",
      "source": [
        "# импортируем библиотеки\n",
        "import pandas as pd\n",
        "from sqlalchemy import create_engine"
      ],
      "metadata": {
        "id": "awFCHtfnNcVw"
      },
      "execution_count": null,
      "outputs": []
    },
    {
      "cell_type": "code",
      "execution_count": null,
      "metadata": {
        "id": "1_WL4TleM6hJ"
      },
      "outputs": [],
      "source": [
        "# создаем коннекцию к базе\n",
        "import pandas as pd\n",
        "from sqlalchemy import create_engine\n",
        "\n",
        "db_config = {'user': 'praktikum_student', # имя пользователя\n",
        "            'pwd': 'Sdf4$2;d-d30pp', # пароль\n",
        "            'host': 'rc1b-wcoijxj3yxfsf3fs.mdb.yandexcloud.net',\n",
        "            'port': 6432, # порт подключения\n",
        "            'db': 'data-analyst-zen-project-db'} # название базы данных\n",
        "\n",
        "connection_string = 'postgresql://{}:{}@{}:{}/{}'.format(db_config['user'],\n",
        "                                                db_config['pwd'],\n",
        "                                                db_config['host'],\n",
        "                                                db_config['port'],\n",
        "                                                db_config['db'])\n",
        "\n",
        "engine = create_engine(connection_string)"
      ]
    },
    {
      "cell_type": "code",
      "source": [
        "query = '''SELECT * FROM dash_visits'''"
      ],
      "metadata": {
        "id": "-GJ1gMSKNLRF"
      },
      "execution_count": null,
      "outputs": []
    },
    {
      "cell_type": "code",
      "source": [
        "dash_visits = pd.io.sql.read_sql(query, con = engine)"
      ],
      "metadata": {
        "id": "C6sFnRcqOvoU"
      },
      "execution_count": null,
      "outputs": []
    },
    {
      "cell_type": "code",
      "source": [
        "dash_visits.to_csv('dash_visits.csv', index=False)"
      ],
      "metadata": {
        "id": "W441dmMcfCXe"
      },
      "execution_count": null,
      "outputs": []
    },
    {
      "cell_type": "code",
      "source": [
        "# выгружаем файл\n",
        "from google.colab import files\n",
        "files.download(\"dash_visits.csv\")"
      ],
      "metadata": {
        "colab": {
          "base_uri": "https://localhost:8080/",
          "height": 17
        },
        "id": "W4B0fPA6fM_W",
        "outputId": "d7a99616-5a23-4cc2-c2e6-55ddf86deec7"
      },
      "execution_count": null,
      "outputs": [
        {
          "output_type": "display_data",
          "data": {
            "text/plain": [
              "<IPython.core.display.Javascript object>"
            ],
            "application/javascript": [
              "\n",
              "    async function download(id, filename, size) {\n",
              "      if (!google.colab.kernel.accessAllowed) {\n",
              "        return;\n",
              "      }\n",
              "      const div = document.createElement('div');\n",
              "      const label = document.createElement('label');\n",
              "      label.textContent = `Downloading \"${filename}\": `;\n",
              "      div.appendChild(label);\n",
              "      const progress = document.createElement('progress');\n",
              "      progress.max = size;\n",
              "      div.appendChild(progress);\n",
              "      document.body.appendChild(div);\n",
              "\n",
              "      const buffers = [];\n",
              "      let downloaded = 0;\n",
              "\n",
              "      const channel = await google.colab.kernel.comms.open(id);\n",
              "      // Send a message to notify the kernel that we're ready.\n",
              "      channel.send({})\n",
              "\n",
              "      for await (const message of channel.messages) {\n",
              "        // Send a message to notify the kernel that we're ready.\n",
              "        channel.send({})\n",
              "        if (message.buffers) {\n",
              "          for (const buffer of message.buffers) {\n",
              "            buffers.push(buffer);\n",
              "            downloaded += buffer.byteLength;\n",
              "            progress.value = downloaded;\n",
              "          }\n",
              "        }\n",
              "      }\n",
              "      const blob = new Blob(buffers, {type: 'application/binary'});\n",
              "      const a = document.createElement('a');\n",
              "      a.href = window.URL.createObjectURL(blob);\n",
              "      a.download = filename;\n",
              "      div.appendChild(a);\n",
              "      a.click();\n",
              "      div.remove();\n",
              "    }\n",
              "  "
            ]
          },
          "metadata": {}
        },
        {
          "output_type": "display_data",
          "data": {
            "text/plain": [
              "<IPython.core.display.Javascript object>"
            ],
            "application/javascript": [
              "download(\"download_cc39b6a6-5ce2-4ab3-abdc-5c59cc15f7c7\", \"dash_visits.csv\", 2189600)"
            ]
          },
          "metadata": {}
        }
      ]
    },
    {
      "cell_type": "markdown",
      "source": [
        "# 2. Обзор данных"
      ],
      "metadata": {
        "id": "gOzdT874aPak"
      }
    },
    {
      "cell_type": "code",
      "source": [
        "# посмотрим общую информацию\n",
        "dash_visits.info()\n",
        "dash_visits.head()"
      ],
      "metadata": {
        "colab": {
          "base_uri": "https://localhost:8080/",
          "height": 438
        },
        "id": "yDyBQqanfi8Y",
        "outputId": "a3c7407c-2dbd-4c7e-fcef-c6d29b6ab276"
      },
      "execution_count": null,
      "outputs": [
        {
          "output_type": "stream",
          "name": "stdout",
          "text": [
            "<class 'pandas.core.frame.DataFrame'>\n",
            "RangeIndex: 30745 entries, 0 to 30744\n",
            "Data columns (total 6 columns):\n",
            " #   Column        Non-Null Count  Dtype         \n",
            "---  ------        --------------  -----         \n",
            " 0   record_id     30745 non-null  int64         \n",
            " 1   item_topic    30745 non-null  object        \n",
            " 2   source_topic  30745 non-null  object        \n",
            " 3   age_segment   30745 non-null  object        \n",
            " 4   dt            30745 non-null  datetime64[ns]\n",
            " 5   visits        30745 non-null  int64         \n",
            "dtypes: datetime64[ns](1), int64(2), object(3)\n",
            "memory usage: 1.4+ MB\n"
          ]
        },
        {
          "output_type": "execute_result",
          "data": {
            "text/plain": [
              "   record_id item_topic source_topic age_segment                  dt  visits\n",
              "0    1040597     Деньги         Авто       18-25 2019-09-24 18:32:00       3\n",
              "1    1040598     Деньги         Авто       18-25 2019-09-24 18:35:00       1\n",
              "2    1040599     Деньги         Авто       18-25 2019-09-24 18:54:00       4\n",
              "3    1040600     Деньги         Авто       18-25 2019-09-24 18:55:00      17\n",
              "4    1040601     Деньги         Авто       18-25 2019-09-24 18:56:00      27"
            ],
            "text/html": [
              "\n",
              "  <div id=\"df-d65226cf-6a2e-4e02-8333-1969d0983296\">\n",
              "    <div class=\"colab-df-container\">\n",
              "      <div>\n",
              "<style scoped>\n",
              "    .dataframe tbody tr th:only-of-type {\n",
              "        vertical-align: middle;\n",
              "    }\n",
              "\n",
              "    .dataframe tbody tr th {\n",
              "        vertical-align: top;\n",
              "    }\n",
              "\n",
              "    .dataframe thead th {\n",
              "        text-align: right;\n",
              "    }\n",
              "</style>\n",
              "<table border=\"1\" class=\"dataframe\">\n",
              "  <thead>\n",
              "    <tr style=\"text-align: right;\">\n",
              "      <th></th>\n",
              "      <th>record_id</th>\n",
              "      <th>item_topic</th>\n",
              "      <th>source_topic</th>\n",
              "      <th>age_segment</th>\n",
              "      <th>dt</th>\n",
              "      <th>visits</th>\n",
              "    </tr>\n",
              "  </thead>\n",
              "  <tbody>\n",
              "    <tr>\n",
              "      <th>0</th>\n",
              "      <td>1040597</td>\n",
              "      <td>Деньги</td>\n",
              "      <td>Авто</td>\n",
              "      <td>18-25</td>\n",
              "      <td>2019-09-24 18:32:00</td>\n",
              "      <td>3</td>\n",
              "    </tr>\n",
              "    <tr>\n",
              "      <th>1</th>\n",
              "      <td>1040598</td>\n",
              "      <td>Деньги</td>\n",
              "      <td>Авто</td>\n",
              "      <td>18-25</td>\n",
              "      <td>2019-09-24 18:35:00</td>\n",
              "      <td>1</td>\n",
              "    </tr>\n",
              "    <tr>\n",
              "      <th>2</th>\n",
              "      <td>1040599</td>\n",
              "      <td>Деньги</td>\n",
              "      <td>Авто</td>\n",
              "      <td>18-25</td>\n",
              "      <td>2019-09-24 18:54:00</td>\n",
              "      <td>4</td>\n",
              "    </tr>\n",
              "    <tr>\n",
              "      <th>3</th>\n",
              "      <td>1040600</td>\n",
              "      <td>Деньги</td>\n",
              "      <td>Авто</td>\n",
              "      <td>18-25</td>\n",
              "      <td>2019-09-24 18:55:00</td>\n",
              "      <td>17</td>\n",
              "    </tr>\n",
              "    <tr>\n",
              "      <th>4</th>\n",
              "      <td>1040601</td>\n",
              "      <td>Деньги</td>\n",
              "      <td>Авто</td>\n",
              "      <td>18-25</td>\n",
              "      <td>2019-09-24 18:56:00</td>\n",
              "      <td>27</td>\n",
              "    </tr>\n",
              "  </tbody>\n",
              "</table>\n",
              "</div>\n",
              "      <button class=\"colab-df-convert\" onclick=\"convertToInteractive('df-d65226cf-6a2e-4e02-8333-1969d0983296')\"\n",
              "              title=\"Convert this dataframe to an interactive table.\"\n",
              "              style=\"display:none;\">\n",
              "        \n",
              "  <svg xmlns=\"http://www.w3.org/2000/svg\" height=\"24px\"viewBox=\"0 0 24 24\"\n",
              "       width=\"24px\">\n",
              "    <path d=\"M0 0h24v24H0V0z\" fill=\"none\"/>\n",
              "    <path d=\"M18.56 5.44l.94 2.06.94-2.06 2.06-.94-2.06-.94-.94-2.06-.94 2.06-2.06.94zm-11 1L8.5 8.5l.94-2.06 2.06-.94-2.06-.94L8.5 2.5l-.94 2.06-2.06.94zm10 10l.94 2.06.94-2.06 2.06-.94-2.06-.94-.94-2.06-.94 2.06-2.06.94z\"/><path d=\"M17.41 7.96l-1.37-1.37c-.4-.4-.92-.59-1.43-.59-.52 0-1.04.2-1.43.59L10.3 9.45l-7.72 7.72c-.78.78-.78 2.05 0 2.83L4 21.41c.39.39.9.59 1.41.59.51 0 1.02-.2 1.41-.59l7.78-7.78 2.81-2.81c.8-.78.8-2.07 0-2.86zM5.41 20L4 18.59l7.72-7.72 1.47 1.35L5.41 20z\"/>\n",
              "  </svg>\n",
              "      </button>\n",
              "      \n",
              "  <style>\n",
              "    .colab-df-container {\n",
              "      display:flex;\n",
              "      flex-wrap:wrap;\n",
              "      gap: 12px;\n",
              "    }\n",
              "\n",
              "    .colab-df-convert {\n",
              "      background-color: #E8F0FE;\n",
              "      border: none;\n",
              "      border-radius: 50%;\n",
              "      cursor: pointer;\n",
              "      display: none;\n",
              "      fill: #1967D2;\n",
              "      height: 32px;\n",
              "      padding: 0 0 0 0;\n",
              "      width: 32px;\n",
              "    }\n",
              "\n",
              "    .colab-df-convert:hover {\n",
              "      background-color: #E2EBFA;\n",
              "      box-shadow: 0px 1px 2px rgba(60, 64, 67, 0.3), 0px 1px 3px 1px rgba(60, 64, 67, 0.15);\n",
              "      fill: #174EA6;\n",
              "    }\n",
              "\n",
              "    [theme=dark] .colab-df-convert {\n",
              "      background-color: #3B4455;\n",
              "      fill: #D2E3FC;\n",
              "    }\n",
              "\n",
              "    [theme=dark] .colab-df-convert:hover {\n",
              "      background-color: #434B5C;\n",
              "      box-shadow: 0px 1px 3px 1px rgba(0, 0, 0, 0.15);\n",
              "      filter: drop-shadow(0px 1px 2px rgba(0, 0, 0, 0.3));\n",
              "      fill: #FFFFFF;\n",
              "    }\n",
              "  </style>\n",
              "\n",
              "      <script>\n",
              "        const buttonEl =\n",
              "          document.querySelector('#df-d65226cf-6a2e-4e02-8333-1969d0983296 button.colab-df-convert');\n",
              "        buttonEl.style.display =\n",
              "          google.colab.kernel.accessAllowed ? 'block' : 'none';\n",
              "\n",
              "        async function convertToInteractive(key) {\n",
              "          const element = document.querySelector('#df-d65226cf-6a2e-4e02-8333-1969d0983296');\n",
              "          const dataTable =\n",
              "            await google.colab.kernel.invokeFunction('convertToInteractive',\n",
              "                                                     [key], {});\n",
              "          if (!dataTable) return;\n",
              "\n",
              "          const docLinkHtml = 'Like what you see? Visit the ' +\n",
              "            '<a target=\"_blank\" href=https://colab.research.google.com/notebooks/data_table.ipynb>data table notebook</a>'\n",
              "            + ' to learn more about interactive tables.';\n",
              "          element.innerHTML = '';\n",
              "          dataTable['output_type'] = 'display_data';\n",
              "          await google.colab.output.renderOutput(dataTable, element);\n",
              "          const docLink = document.createElement('div');\n",
              "          docLink.innerHTML = docLinkHtml;\n",
              "          element.appendChild(docLink);\n",
              "        }\n",
              "      </script>\n",
              "    </div>\n",
              "  </div>\n",
              "  "
            ]
          },
          "metadata": {},
          "execution_count": 22
        }
      ]
    },
    {
      "cell_type": "code",
      "source": [
        "# посмотрим минимальную дату\n",
        "dash_visits['dt'].min()"
      ],
      "metadata": {
        "id": "j6jcNjG6GKo2",
        "colab": {
          "base_uri": "https://localhost:8080/"
        },
        "outputId": "470b2a52-a2ba-4fe3-afed-df069891fa27"
      },
      "execution_count": null,
      "outputs": [
        {
          "output_type": "execute_result",
          "data": {
            "text/plain": [
              "Timestamp('2019-09-24 18:28:00')"
            ]
          },
          "metadata": {},
          "execution_count": 27
        }
      ]
    },
    {
      "cell_type": "code",
      "source": [
        "# посмотрим максимальную дату\n",
        "dash_visits['dt'].max()"
      ],
      "metadata": {
        "colab": {
          "base_uri": "https://localhost:8080/"
        },
        "id": "LgkH-qPEaGWX",
        "outputId": "e342520e-d74e-4f3a-99c7-85ad6b69b07a"
      },
      "execution_count": null,
      "outputs": [
        {
          "output_type": "execute_result",
          "data": {
            "text/plain": [
              "Timestamp('2019-09-24 19:00:00')"
            ]
          },
          "metadata": {},
          "execution_count": 28
        }
      ]
    }
  ]
}