{
  "cells": [
    {
      "cell_type": "markdown",
      "metadata": {
        "id": "9TIii7bQLgQn"
      },
      "source": [
        "**Название проекта:**\n",
        "\n",
        "Проект по А/B-тестированию"
      ]
    },
    {
      "cell_type": "markdown",
      "metadata": {
        "id": "iIHzqhvuLgQn"
      },
      "source": [
        "**Цель исследования:**\n",
        "\n",
        "Оценка результатов A/B-теста\n"
      ]
    },
    {
      "cell_type": "markdown",
      "metadata": {
        "id": "T16VCpCnLgQn"
      },
      "source": [
        "**Краткое описание проекта:**\n",
        "\n",
        "В распоряжении датасет с действиями пользователей, техническое задание и несколько вспомогательных датасетов.\n",
        "\n",
        "*Техническое задание*\n",
        "- название теста: recommender_system_test;\n",
        "- группы: А (контрольная), B (новая платёжная воронка);\n",
        "- дата запуска: 2020-12-07;\n",
        "- дата остановки набора новых пользователей: 2020-12-21;\n",
        "- дата остановки: 2021-01-04;\n",
        "- аудитория: 15% новых пользователей из региона EU;\n",
        "- назначение теста: тестирование изменений, связанных с внедрением улучшенной рекомендательной системы;\n",
        "- ожидаемое количество участников теста: 6000.\n",
        "- ожидаемый эффект: за 14 дней с момента регистрации в системе пользователи покажут улучшение каждой метрики не менее, чем на 10%:\n",
        "  - конверсии в просмотр карточек товаров — событие product_page\n",
        "  - просмотры корзины — product_cart\n",
        "  - покупки — purchase.\n",
        "\n",
        "\n"
      ]
    },
    {
      "cell_type": "markdown",
      "metadata": {
        "id": "i5Lvc-uILgQn"
      },
      "source": [
        "**Описание начальных данных:**\n",
        "\n",
        "- датасет ab_project_marketing_events.csv (календарь маркетинговых событий на 2020 год)\n",
        "  - name — название маркетингового события;\n",
        "  - regions — регионы, в которых будет проводиться рекламная кампания;\n",
        "  - start_dt — дата начала кампании;\n",
        "  - finish_dt — дата завершения кампании.\n",
        "\n",
        "\n",
        "- датасет final_ab_new_users.csv (все пользователи, зарегистрировавшиеся в интернет-магазине в период с 7 по 21 декабря 2020 года)\n",
        "  - user_id — идентификатор пользователя;\n",
        "  - first_date — дата регистрации;\n",
        "  - region — регион пользователя;\n",
        "  - device — устройство, с которого происходила регистрация.\n",
        "\n",
        "\n",
        "- датасет final_ab_events.csv (все события новых пользователей в период с 7 декабря 2020 по 4 января 2021 года)\n",
        "  - user_id — идентификатор пользователя;\n",
        "  - event_dt — дата и время события;\n",
        "  - event_name — тип события;\n",
        "  - details — дополнительные данные о событии. Например, для покупок, purchase, в этом поле хранится стоимость покупки в долларах.\n",
        "\n",
        "\n",
        "- датасет final_ab_participants.csv (таблица участников тестов)\n",
        "  - user_id — идентификатор пользователя;\n",
        "  - ab_test — название теста;\n",
        "  - group — группа пользователя.\n"
      ]
    },
    {
      "cell_type": "markdown",
      "metadata": {
        "id": "Kkfh9dLiLgQo"
      },
      "source": [
        "**Ход исследования:**\n",
        "\n",
        "1. Загрузка данных и подготовка их к анализу\n",
        "2. Предобработка данных\n",
        "3. Оценка корректности проведения теста\n",
        "4. Исследовательский анализ данных\n",
        "5. Оценка результатов A/B-тестирования\n",
        "6. Выводы и общее заключение о корректности проведения теста"
      ]
    },
    {
      "cell_type": "markdown",
      "metadata": {
        "id": "v-HhCvCtLgQo"
      },
      "source": [
        "# 1. Загрузка данных и подготовка их к анализу"
      ]
    },
    {
      "cell_type": "markdown",
      "metadata": {
        "id": "S21FSgYLLgQo"
      },
      "source": [
        "## Обзор данных"
      ]
    },
    {
      "cell_type": "code",
      "execution_count": null,
      "metadata": {
        "id": "y3h_nL9dLgQo"
      },
      "outputs": [],
      "source": [
        "# импортируем необходимые библиотеки\n",
        "import pandas as pd\n",
        "import matplotlib.pyplot as plt\n",
        "from plotly import graph_objects as go\n",
        "import math as mth\n",
        "from scipy import stats as st\n",
        "from statsmodels.stats.multitest import multipletests\n",
        "from datetime import datetime, timedelta\n",
        "import datetime as dt\n",
        "import plotly.express as px\n",
        "import numpy as np"
      ]
    },
    {
      "cell_type": "code",
      "execution_count": null,
      "metadata": {
        "id": "y7ovbvlaLgQo"
      },
      "outputs": [],
      "source": [
        "# загружаем календарь маркетинговых событий на 2020 год\n",
        "calendar = pd.read_csv('/content/drive/MyDrive/ЯПрактикум - АЛЛА/Спринт 13. Выпускной проект/Проект по А В - тестрованию/ab_project_marketing_events.csv')"
      ]
    },
    {
      "cell_type": "code",
      "execution_count": null,
      "metadata": {
        "id": "nHawOPxALgQp"
      },
      "outputs": [],
      "source": [
        "# загружаем данные о пользователях\n",
        "users = pd.read_csv('/content/drive/MyDrive/ЯПрактикум - АЛЛА/Спринт 13. Выпускной проект/Проект по А В - тестрованию/final_ab_new_users.csv')"
      ]
    },
    {
      "cell_type": "code",
      "execution_count": null,
      "metadata": {
        "id": "cMbQNivJLgQp"
      },
      "outputs": [],
      "source": [
        "# загружаем данные о событиях\n",
        "events = pd.read_csv('/content/drive/MyDrive/ЯПрактикум - АЛЛА/Спринт 13. Выпускной проект/Проект по А В - тестрованию/final_ab_events.csv')"
      ]
    },
    {
      "cell_type": "code",
      "execution_count": null,
      "metadata": {
        "id": "jAKYdrlTLgQp"
      },
      "outputs": [],
      "source": [
        "# загружаем данные об участниках А/В - тестов\n",
        "ab_test = pd.read_csv('/content/drive/MyDrive/ЯПрактикум - АЛЛА/Спринт 13. Выпускной проект/Проект по А В - тестрованию/final_ab_participants.csv')"
      ]
    },
    {
      "cell_type": "code",
      "execution_count": null,
      "metadata": {
        "colab": {
          "base_uri": "https://localhost:8080/",
          "height": 403
        },
        "id": "7PbsaDyfLgQp",
        "outputId": "da019198-ae7b-4e29-f2c9-7df217a5c7a7"
      },
      "outputs": [
        {
          "output_type": "stream",
          "name": "stdout",
          "text": [
            "<class 'pandas.core.frame.DataFrame'>\n",
            "RangeIndex: 14 entries, 0 to 13\n",
            "Data columns (total 4 columns):\n",
            " #   Column     Non-Null Count  Dtype \n",
            "---  ------     --------------  ----- \n",
            " 0   name       14 non-null     object\n",
            " 1   regions    14 non-null     object\n",
            " 2   start_dt   14 non-null     object\n",
            " 3   finish_dt  14 non-null     object\n",
            "dtypes: object(4)\n",
            "memory usage: 576.0+ bytes\n"
          ]
        },
        {
          "output_type": "execute_result",
          "data": {
            "text/plain": [
              "                           name                   regions    start_dt  \\\n",
              "0      Christmas&New Year Promo             EU, N.America  2020-12-25   \n",
              "1  St. Valentine's Day Giveaway  EU, CIS, APAC, N.America  2020-02-14   \n",
              "2        St. Patric's Day Promo             EU, N.America  2020-03-17   \n",
              "3                  Easter Promo  EU, CIS, APAC, N.America  2020-04-12   \n",
              "4             4th of July Promo                 N.America  2020-07-04   \n",
              "\n",
              "    finish_dt  \n",
              "0  2021-01-03  \n",
              "1  2020-02-16  \n",
              "2  2020-03-19  \n",
              "3  2020-04-19  \n",
              "4  2020-07-11  "
            ],
            "text/html": [
              "\n",
              "  <div id=\"df-a03278a7-adc1-4839-81c7-928785db4602\">\n",
              "    <div class=\"colab-df-container\">\n",
              "      <div>\n",
              "<style scoped>\n",
              "    .dataframe tbody tr th:only-of-type {\n",
              "        vertical-align: middle;\n",
              "    }\n",
              "\n",
              "    .dataframe tbody tr th {\n",
              "        vertical-align: top;\n",
              "    }\n",
              "\n",
              "    .dataframe thead th {\n",
              "        text-align: right;\n",
              "    }\n",
              "</style>\n",
              "<table border=\"1\" class=\"dataframe\">\n",
              "  <thead>\n",
              "    <tr style=\"text-align: right;\">\n",
              "      <th></th>\n",
              "      <th>name</th>\n",
              "      <th>regions</th>\n",
              "      <th>start_dt</th>\n",
              "      <th>finish_dt</th>\n",
              "    </tr>\n",
              "  </thead>\n",
              "  <tbody>\n",
              "    <tr>\n",
              "      <th>0</th>\n",
              "      <td>Christmas&amp;New Year Promo</td>\n",
              "      <td>EU, N.America</td>\n",
              "      <td>2020-12-25</td>\n",
              "      <td>2021-01-03</td>\n",
              "    </tr>\n",
              "    <tr>\n",
              "      <th>1</th>\n",
              "      <td>St. Valentine's Day Giveaway</td>\n",
              "      <td>EU, CIS, APAC, N.America</td>\n",
              "      <td>2020-02-14</td>\n",
              "      <td>2020-02-16</td>\n",
              "    </tr>\n",
              "    <tr>\n",
              "      <th>2</th>\n",
              "      <td>St. Patric's Day Promo</td>\n",
              "      <td>EU, N.America</td>\n",
              "      <td>2020-03-17</td>\n",
              "      <td>2020-03-19</td>\n",
              "    </tr>\n",
              "    <tr>\n",
              "      <th>3</th>\n",
              "      <td>Easter Promo</td>\n",
              "      <td>EU, CIS, APAC, N.America</td>\n",
              "      <td>2020-04-12</td>\n",
              "      <td>2020-04-19</td>\n",
              "    </tr>\n",
              "    <tr>\n",
              "      <th>4</th>\n",
              "      <td>4th of July Promo</td>\n",
              "      <td>N.America</td>\n",
              "      <td>2020-07-04</td>\n",
              "      <td>2020-07-11</td>\n",
              "    </tr>\n",
              "  </tbody>\n",
              "</table>\n",
              "</div>\n",
              "      <button class=\"colab-df-convert\" onclick=\"convertToInteractive('df-a03278a7-adc1-4839-81c7-928785db4602')\"\n",
              "              title=\"Convert this dataframe to an interactive table.\"\n",
              "              style=\"display:none;\">\n",
              "        \n",
              "  <svg xmlns=\"http://www.w3.org/2000/svg\" height=\"24px\"viewBox=\"0 0 24 24\"\n",
              "       width=\"24px\">\n",
              "    <path d=\"M0 0h24v24H0V0z\" fill=\"none\"/>\n",
              "    <path d=\"M18.56 5.44l.94 2.06.94-2.06 2.06-.94-2.06-.94-.94-2.06-.94 2.06-2.06.94zm-11 1L8.5 8.5l.94-2.06 2.06-.94-2.06-.94L8.5 2.5l-.94 2.06-2.06.94zm10 10l.94 2.06.94-2.06 2.06-.94-2.06-.94-.94-2.06-.94 2.06-2.06.94z\"/><path d=\"M17.41 7.96l-1.37-1.37c-.4-.4-.92-.59-1.43-.59-.52 0-1.04.2-1.43.59L10.3 9.45l-7.72 7.72c-.78.78-.78 2.05 0 2.83L4 21.41c.39.39.9.59 1.41.59.51 0 1.02-.2 1.41-.59l7.78-7.78 2.81-2.81c.8-.78.8-2.07 0-2.86zM5.41 20L4 18.59l7.72-7.72 1.47 1.35L5.41 20z\"/>\n",
              "  </svg>\n",
              "      </button>\n",
              "      \n",
              "  <style>\n",
              "    .colab-df-container {\n",
              "      display:flex;\n",
              "      flex-wrap:wrap;\n",
              "      gap: 12px;\n",
              "    }\n",
              "\n",
              "    .colab-df-convert {\n",
              "      background-color: #E8F0FE;\n",
              "      border: none;\n",
              "      border-radius: 50%;\n",
              "      cursor: pointer;\n",
              "      display: none;\n",
              "      fill: #1967D2;\n",
              "      height: 32px;\n",
              "      padding: 0 0 0 0;\n",
              "      width: 32px;\n",
              "    }\n",
              "\n",
              "    .colab-df-convert:hover {\n",
              "      background-color: #E2EBFA;\n",
              "      box-shadow: 0px 1px 2px rgba(60, 64, 67, 0.3), 0px 1px 3px 1px rgba(60, 64, 67, 0.15);\n",
              "      fill: #174EA6;\n",
              "    }\n",
              "\n",
              "    [theme=dark] .colab-df-convert {\n",
              "      background-color: #3B4455;\n",
              "      fill: #D2E3FC;\n",
              "    }\n",
              "\n",
              "    [theme=dark] .colab-df-convert:hover {\n",
              "      background-color: #434B5C;\n",
              "      box-shadow: 0px 1px 3px 1px rgba(0, 0, 0, 0.15);\n",
              "      filter: drop-shadow(0px 1px 2px rgba(0, 0, 0, 0.3));\n",
              "      fill: #FFFFFF;\n",
              "    }\n",
              "  </style>\n",
              "\n",
              "      <script>\n",
              "        const buttonEl =\n",
              "          document.querySelector('#df-a03278a7-adc1-4839-81c7-928785db4602 button.colab-df-convert');\n",
              "        buttonEl.style.display =\n",
              "          google.colab.kernel.accessAllowed ? 'block' : 'none';\n",
              "\n",
              "        async function convertToInteractive(key) {\n",
              "          const element = document.querySelector('#df-a03278a7-adc1-4839-81c7-928785db4602');\n",
              "          const dataTable =\n",
              "            await google.colab.kernel.invokeFunction('convertToInteractive',\n",
              "                                                     [key], {});\n",
              "          if (!dataTable) return;\n",
              "\n",
              "          const docLinkHtml = 'Like what you see? Visit the ' +\n",
              "            '<a target=\"_blank\" href=https://colab.research.google.com/notebooks/data_table.ipynb>data table notebook</a>'\n",
              "            + ' to learn more about interactive tables.';\n",
              "          element.innerHTML = '';\n",
              "          dataTable['output_type'] = 'display_data';\n",
              "          await google.colab.output.renderOutput(dataTable, element);\n",
              "          const docLink = document.createElement('div');\n",
              "          docLink.innerHTML = docLinkHtml;\n",
              "          element.appendChild(docLink);\n",
              "        }\n",
              "      </script>\n",
              "    </div>\n",
              "  </div>\n",
              "  "
            ]
          },
          "metadata": {},
          "execution_count": 7
        }
      ],
      "source": [
        "# откроем таблицу calendar и посмотрим общую информацию о ней\n",
        "calendar.info()\n",
        "calendar.head()"
      ]
    },
    {
      "cell_type": "code",
      "execution_count": null,
      "metadata": {
        "colab": {
          "base_uri": "https://localhost:8080/",
          "height": 403
        },
        "id": "X1EcJcNvLgQp",
        "outputId": "d8c0397d-89e6-4190-f9e6-f29c6e0197c5"
      },
      "outputs": [
        {
          "output_type": "stream",
          "name": "stdout",
          "text": [
            "<class 'pandas.core.frame.DataFrame'>\n",
            "RangeIndex: 61733 entries, 0 to 61732\n",
            "Data columns (total 4 columns):\n",
            " #   Column      Non-Null Count  Dtype \n",
            "---  ------      --------------  ----- \n",
            " 0   user_id     61733 non-null  object\n",
            " 1   first_date  61733 non-null  object\n",
            " 2   region      61733 non-null  object\n",
            " 3   device      61733 non-null  object\n",
            "dtypes: object(4)\n",
            "memory usage: 1.9+ MB\n"
          ]
        },
        {
          "output_type": "execute_result",
          "data": {
            "text/plain": [
              "            user_id  first_date     region   device\n",
              "0  D72A72121175D8BE  2020-12-07         EU       PC\n",
              "1  F1C668619DFE6E65  2020-12-07  N.America  Android\n",
              "2  2E1BF1D4C37EA01F  2020-12-07         EU       PC\n",
              "3  50734A22C0C63768  2020-12-07         EU   iPhone\n",
              "4  E1BDDCE0DAFA2679  2020-12-07  N.America   iPhone"
            ],
            "text/html": [
              "\n",
              "  <div id=\"df-b0ef24ff-8ad9-43af-b816-db5a628682c1\">\n",
              "    <div class=\"colab-df-container\">\n",
              "      <div>\n",
              "<style scoped>\n",
              "    .dataframe tbody tr th:only-of-type {\n",
              "        vertical-align: middle;\n",
              "    }\n",
              "\n",
              "    .dataframe tbody tr th {\n",
              "        vertical-align: top;\n",
              "    }\n",
              "\n",
              "    .dataframe thead th {\n",
              "        text-align: right;\n",
              "    }\n",
              "</style>\n",
              "<table border=\"1\" class=\"dataframe\">\n",
              "  <thead>\n",
              "    <tr style=\"text-align: right;\">\n",
              "      <th></th>\n",
              "      <th>user_id</th>\n",
              "      <th>first_date</th>\n",
              "      <th>region</th>\n",
              "      <th>device</th>\n",
              "    </tr>\n",
              "  </thead>\n",
              "  <tbody>\n",
              "    <tr>\n",
              "      <th>0</th>\n",
              "      <td>D72A72121175D8BE</td>\n",
              "      <td>2020-12-07</td>\n",
              "      <td>EU</td>\n",
              "      <td>PC</td>\n",
              "    </tr>\n",
              "    <tr>\n",
              "      <th>1</th>\n",
              "      <td>F1C668619DFE6E65</td>\n",
              "      <td>2020-12-07</td>\n",
              "      <td>N.America</td>\n",
              "      <td>Android</td>\n",
              "    </tr>\n",
              "    <tr>\n",
              "      <th>2</th>\n",
              "      <td>2E1BF1D4C37EA01F</td>\n",
              "      <td>2020-12-07</td>\n",
              "      <td>EU</td>\n",
              "      <td>PC</td>\n",
              "    </tr>\n",
              "    <tr>\n",
              "      <th>3</th>\n",
              "      <td>50734A22C0C63768</td>\n",
              "      <td>2020-12-07</td>\n",
              "      <td>EU</td>\n",
              "      <td>iPhone</td>\n",
              "    </tr>\n",
              "    <tr>\n",
              "      <th>4</th>\n",
              "      <td>E1BDDCE0DAFA2679</td>\n",
              "      <td>2020-12-07</td>\n",
              "      <td>N.America</td>\n",
              "      <td>iPhone</td>\n",
              "    </tr>\n",
              "  </tbody>\n",
              "</table>\n",
              "</div>\n",
              "      <button class=\"colab-df-convert\" onclick=\"convertToInteractive('df-b0ef24ff-8ad9-43af-b816-db5a628682c1')\"\n",
              "              title=\"Convert this dataframe to an interactive table.\"\n",
              "              style=\"display:none;\">\n",
              "        \n",
              "  <svg xmlns=\"http://www.w3.org/2000/svg\" height=\"24px\"viewBox=\"0 0 24 24\"\n",
              "       width=\"24px\">\n",
              "    <path d=\"M0 0h24v24H0V0z\" fill=\"none\"/>\n",
              "    <path d=\"M18.56 5.44l.94 2.06.94-2.06 2.06-.94-2.06-.94-.94-2.06-.94 2.06-2.06.94zm-11 1L8.5 8.5l.94-2.06 2.06-.94-2.06-.94L8.5 2.5l-.94 2.06-2.06.94zm10 10l.94 2.06.94-2.06 2.06-.94-2.06-.94-.94-2.06-.94 2.06-2.06.94z\"/><path d=\"M17.41 7.96l-1.37-1.37c-.4-.4-.92-.59-1.43-.59-.52 0-1.04.2-1.43.59L10.3 9.45l-7.72 7.72c-.78.78-.78 2.05 0 2.83L4 21.41c.39.39.9.59 1.41.59.51 0 1.02-.2 1.41-.59l7.78-7.78 2.81-2.81c.8-.78.8-2.07 0-2.86zM5.41 20L4 18.59l7.72-7.72 1.47 1.35L5.41 20z\"/>\n",
              "  </svg>\n",
              "      </button>\n",
              "      \n",
              "  <style>\n",
              "    .colab-df-container {\n",
              "      display:flex;\n",
              "      flex-wrap:wrap;\n",
              "      gap: 12px;\n",
              "    }\n",
              "\n",
              "    .colab-df-convert {\n",
              "      background-color: #E8F0FE;\n",
              "      border: none;\n",
              "      border-radius: 50%;\n",
              "      cursor: pointer;\n",
              "      display: none;\n",
              "      fill: #1967D2;\n",
              "      height: 32px;\n",
              "      padding: 0 0 0 0;\n",
              "      width: 32px;\n",
              "    }\n",
              "\n",
              "    .colab-df-convert:hover {\n",
              "      background-color: #E2EBFA;\n",
              "      box-shadow: 0px 1px 2px rgba(60, 64, 67, 0.3), 0px 1px 3px 1px rgba(60, 64, 67, 0.15);\n",
              "      fill: #174EA6;\n",
              "    }\n",
              "\n",
              "    [theme=dark] .colab-df-convert {\n",
              "      background-color: #3B4455;\n",
              "      fill: #D2E3FC;\n",
              "    }\n",
              "\n",
              "    [theme=dark] .colab-df-convert:hover {\n",
              "      background-color: #434B5C;\n",
              "      box-shadow: 0px 1px 3px 1px rgba(0, 0, 0, 0.15);\n",
              "      filter: drop-shadow(0px 1px 2px rgba(0, 0, 0, 0.3));\n",
              "      fill: #FFFFFF;\n",
              "    }\n",
              "  </style>\n",
              "\n",
              "      <script>\n",
              "        const buttonEl =\n",
              "          document.querySelector('#df-b0ef24ff-8ad9-43af-b816-db5a628682c1 button.colab-df-convert');\n",
              "        buttonEl.style.display =\n",
              "          google.colab.kernel.accessAllowed ? 'block' : 'none';\n",
              "\n",
              "        async function convertToInteractive(key) {\n",
              "          const element = document.querySelector('#df-b0ef24ff-8ad9-43af-b816-db5a628682c1');\n",
              "          const dataTable =\n",
              "            await google.colab.kernel.invokeFunction('convertToInteractive',\n",
              "                                                     [key], {});\n",
              "          if (!dataTable) return;\n",
              "\n",
              "          const docLinkHtml = 'Like what you see? Visit the ' +\n",
              "            '<a target=\"_blank\" href=https://colab.research.google.com/notebooks/data_table.ipynb>data table notebook</a>'\n",
              "            + ' to learn more about interactive tables.';\n",
              "          element.innerHTML = '';\n",
              "          dataTable['output_type'] = 'display_data';\n",
              "          await google.colab.output.renderOutput(dataTable, element);\n",
              "          const docLink = document.createElement('div');\n",
              "          docLink.innerHTML = docLinkHtml;\n",
              "          element.appendChild(docLink);\n",
              "        }\n",
              "      </script>\n",
              "    </div>\n",
              "  </div>\n",
              "  "
            ]
          },
          "metadata": {},
          "execution_count": 8
        }
      ],
      "source": [
        "# откроем таблицу users и посмотрим общую информацию о ней\n",
        "users.info()\n",
        "users.head(5)"
      ]
    },
    {
      "cell_type": "code",
      "execution_count": null,
      "metadata": {
        "colab": {
          "base_uri": "https://localhost:8080/",
          "height": 403
        },
        "id": "pyEexWuFLgQp",
        "outputId": "734ce27a-ece4-4f76-bec8-44c0a5e87bd1"
      },
      "outputs": [
        {
          "output_type": "stream",
          "name": "stdout",
          "text": [
            "<class 'pandas.core.frame.DataFrame'>\n",
            "RangeIndex: 440317 entries, 0 to 440316\n",
            "Data columns (total 4 columns):\n",
            " #   Column      Non-Null Count   Dtype  \n",
            "---  ------      --------------   -----  \n",
            " 0   user_id     440317 non-null  object \n",
            " 1   event_dt    440317 non-null  object \n",
            " 2   event_name  440317 non-null  object \n",
            " 3   details     62740 non-null   float64\n",
            "dtypes: float64(1), object(3)\n",
            "memory usage: 13.4+ MB\n"
          ]
        },
        {
          "output_type": "execute_result",
          "data": {
            "text/plain": [
              "            user_id             event_dt event_name  details\n",
              "0  E1BDDCE0DAFA2679  2020-12-07 20:22:03   purchase    99.99\n",
              "1  7B6452F081F49504  2020-12-07 09:22:53   purchase     9.99\n",
              "2  9CD9F34546DF254C  2020-12-07 12:59:29   purchase     4.99\n",
              "3  96F27A054B191457  2020-12-07 04:02:40   purchase     4.99\n",
              "4  1FD7660FDF94CA1F  2020-12-07 10:15:09   purchase     4.99"
            ],
            "text/html": [
              "\n",
              "  <div id=\"df-f2a92f7d-8416-46a0-a2c6-683c66c48a7e\">\n",
              "    <div class=\"colab-df-container\">\n",
              "      <div>\n",
              "<style scoped>\n",
              "    .dataframe tbody tr th:only-of-type {\n",
              "        vertical-align: middle;\n",
              "    }\n",
              "\n",
              "    .dataframe tbody tr th {\n",
              "        vertical-align: top;\n",
              "    }\n",
              "\n",
              "    .dataframe thead th {\n",
              "        text-align: right;\n",
              "    }\n",
              "</style>\n",
              "<table border=\"1\" class=\"dataframe\">\n",
              "  <thead>\n",
              "    <tr style=\"text-align: right;\">\n",
              "      <th></th>\n",
              "      <th>user_id</th>\n",
              "      <th>event_dt</th>\n",
              "      <th>event_name</th>\n",
              "      <th>details</th>\n",
              "    </tr>\n",
              "  </thead>\n",
              "  <tbody>\n",
              "    <tr>\n",
              "      <th>0</th>\n",
              "      <td>E1BDDCE0DAFA2679</td>\n",
              "      <td>2020-12-07 20:22:03</td>\n",
              "      <td>purchase</td>\n",
              "      <td>99.99</td>\n",
              "    </tr>\n",
              "    <tr>\n",
              "      <th>1</th>\n",
              "      <td>7B6452F081F49504</td>\n",
              "      <td>2020-12-07 09:22:53</td>\n",
              "      <td>purchase</td>\n",
              "      <td>9.99</td>\n",
              "    </tr>\n",
              "    <tr>\n",
              "      <th>2</th>\n",
              "      <td>9CD9F34546DF254C</td>\n",
              "      <td>2020-12-07 12:59:29</td>\n",
              "      <td>purchase</td>\n",
              "      <td>4.99</td>\n",
              "    </tr>\n",
              "    <tr>\n",
              "      <th>3</th>\n",
              "      <td>96F27A054B191457</td>\n",
              "      <td>2020-12-07 04:02:40</td>\n",
              "      <td>purchase</td>\n",
              "      <td>4.99</td>\n",
              "    </tr>\n",
              "    <tr>\n",
              "      <th>4</th>\n",
              "      <td>1FD7660FDF94CA1F</td>\n",
              "      <td>2020-12-07 10:15:09</td>\n",
              "      <td>purchase</td>\n",
              "      <td>4.99</td>\n",
              "    </tr>\n",
              "  </tbody>\n",
              "</table>\n",
              "</div>\n",
              "      <button class=\"colab-df-convert\" onclick=\"convertToInteractive('df-f2a92f7d-8416-46a0-a2c6-683c66c48a7e')\"\n",
              "              title=\"Convert this dataframe to an interactive table.\"\n",
              "              style=\"display:none;\">\n",
              "        \n",
              "  <svg xmlns=\"http://www.w3.org/2000/svg\" height=\"24px\"viewBox=\"0 0 24 24\"\n",
              "       width=\"24px\">\n",
              "    <path d=\"M0 0h24v24H0V0z\" fill=\"none\"/>\n",
              "    <path d=\"M18.56 5.44l.94 2.06.94-2.06 2.06-.94-2.06-.94-.94-2.06-.94 2.06-2.06.94zm-11 1L8.5 8.5l.94-2.06 2.06-.94-2.06-.94L8.5 2.5l-.94 2.06-2.06.94zm10 10l.94 2.06.94-2.06 2.06-.94-2.06-.94-.94-2.06-.94 2.06-2.06.94z\"/><path d=\"M17.41 7.96l-1.37-1.37c-.4-.4-.92-.59-1.43-.59-.52 0-1.04.2-1.43.59L10.3 9.45l-7.72 7.72c-.78.78-.78 2.05 0 2.83L4 21.41c.39.39.9.59 1.41.59.51 0 1.02-.2 1.41-.59l7.78-7.78 2.81-2.81c.8-.78.8-2.07 0-2.86zM5.41 20L4 18.59l7.72-7.72 1.47 1.35L5.41 20z\"/>\n",
              "  </svg>\n",
              "      </button>\n",
              "      \n",
              "  <style>\n",
              "    .colab-df-container {\n",
              "      display:flex;\n",
              "      flex-wrap:wrap;\n",
              "      gap: 12px;\n",
              "    }\n",
              "\n",
              "    .colab-df-convert {\n",
              "      background-color: #E8F0FE;\n",
              "      border: none;\n",
              "      border-radius: 50%;\n",
              "      cursor: pointer;\n",
              "      display: none;\n",
              "      fill: #1967D2;\n",
              "      height: 32px;\n",
              "      padding: 0 0 0 0;\n",
              "      width: 32px;\n",
              "    }\n",
              "\n",
              "    .colab-df-convert:hover {\n",
              "      background-color: #E2EBFA;\n",
              "      box-shadow: 0px 1px 2px rgba(60, 64, 67, 0.3), 0px 1px 3px 1px rgba(60, 64, 67, 0.15);\n",
              "      fill: #174EA6;\n",
              "    }\n",
              "\n",
              "    [theme=dark] .colab-df-convert {\n",
              "      background-color: #3B4455;\n",
              "      fill: #D2E3FC;\n",
              "    }\n",
              "\n",
              "    [theme=dark] .colab-df-convert:hover {\n",
              "      background-color: #434B5C;\n",
              "      box-shadow: 0px 1px 3px 1px rgba(0, 0, 0, 0.15);\n",
              "      filter: drop-shadow(0px 1px 2px rgba(0, 0, 0, 0.3));\n",
              "      fill: #FFFFFF;\n",
              "    }\n",
              "  </style>\n",
              "\n",
              "      <script>\n",
              "        const buttonEl =\n",
              "          document.querySelector('#df-f2a92f7d-8416-46a0-a2c6-683c66c48a7e button.colab-df-convert');\n",
              "        buttonEl.style.display =\n",
              "          google.colab.kernel.accessAllowed ? 'block' : 'none';\n",
              "\n",
              "        async function convertToInteractive(key) {\n",
              "          const element = document.querySelector('#df-f2a92f7d-8416-46a0-a2c6-683c66c48a7e');\n",
              "          const dataTable =\n",
              "            await google.colab.kernel.invokeFunction('convertToInteractive',\n",
              "                                                     [key], {});\n",
              "          if (!dataTable) return;\n",
              "\n",
              "          const docLinkHtml = 'Like what you see? Visit the ' +\n",
              "            '<a target=\"_blank\" href=https://colab.research.google.com/notebooks/data_table.ipynb>data table notebook</a>'\n",
              "            + ' to learn more about interactive tables.';\n",
              "          element.innerHTML = '';\n",
              "          dataTable['output_type'] = 'display_data';\n",
              "          await google.colab.output.renderOutput(dataTable, element);\n",
              "          const docLink = document.createElement('div');\n",
              "          docLink.innerHTML = docLinkHtml;\n",
              "          element.appendChild(docLink);\n",
              "        }\n",
              "      </script>\n",
              "    </div>\n",
              "  </div>\n",
              "  "
            ]
          },
          "metadata": {},
          "execution_count": 9
        }
      ],
      "source": [
        "# откроем таблицу events и посмотрим общую информацию о ней\n",
        "events.info()\n",
        "events.head(5)"
      ]
    },
    {
      "cell_type": "code",
      "execution_count": null,
      "metadata": {
        "colab": {
          "base_uri": "https://localhost:8080/",
          "height": 385
        },
        "id": "vkRlB0D1LgQp",
        "outputId": "568569bd-98f7-4582-b203-217a9336babb"
      },
      "outputs": [
        {
          "output_type": "stream",
          "name": "stdout",
          "text": [
            "<class 'pandas.core.frame.DataFrame'>\n",
            "RangeIndex: 18268 entries, 0 to 18267\n",
            "Data columns (total 3 columns):\n",
            " #   Column   Non-Null Count  Dtype \n",
            "---  ------   --------------  ----- \n",
            " 0   user_id  18268 non-null  object\n",
            " 1   group    18268 non-null  object\n",
            " 2   ab_test  18268 non-null  object\n",
            "dtypes: object(3)\n",
            "memory usage: 428.3+ KB\n"
          ]
        },
        {
          "output_type": "execute_result",
          "data": {
            "text/plain": [
              "            user_id group                  ab_test\n",
              "0  D1ABA3E2887B6A73     A  recommender_system_test\n",
              "1  A7A3664BD6242119     A  recommender_system_test\n",
              "2  DABC14FDDFADD29E     A  recommender_system_test\n",
              "3  04988C5DF189632E     A  recommender_system_test\n",
              "4  482F14783456D21B     B  recommender_system_test"
            ],
            "text/html": [
              "\n",
              "  <div id=\"df-f53c28ed-4578-471d-ac1a-fb60522d838d\">\n",
              "    <div class=\"colab-df-container\">\n",
              "      <div>\n",
              "<style scoped>\n",
              "    .dataframe tbody tr th:only-of-type {\n",
              "        vertical-align: middle;\n",
              "    }\n",
              "\n",
              "    .dataframe tbody tr th {\n",
              "        vertical-align: top;\n",
              "    }\n",
              "\n",
              "    .dataframe thead th {\n",
              "        text-align: right;\n",
              "    }\n",
              "</style>\n",
              "<table border=\"1\" class=\"dataframe\">\n",
              "  <thead>\n",
              "    <tr style=\"text-align: right;\">\n",
              "      <th></th>\n",
              "      <th>user_id</th>\n",
              "      <th>group</th>\n",
              "      <th>ab_test</th>\n",
              "    </tr>\n",
              "  </thead>\n",
              "  <tbody>\n",
              "    <tr>\n",
              "      <th>0</th>\n",
              "      <td>D1ABA3E2887B6A73</td>\n",
              "      <td>A</td>\n",
              "      <td>recommender_system_test</td>\n",
              "    </tr>\n",
              "    <tr>\n",
              "      <th>1</th>\n",
              "      <td>A7A3664BD6242119</td>\n",
              "      <td>A</td>\n",
              "      <td>recommender_system_test</td>\n",
              "    </tr>\n",
              "    <tr>\n",
              "      <th>2</th>\n",
              "      <td>DABC14FDDFADD29E</td>\n",
              "      <td>A</td>\n",
              "      <td>recommender_system_test</td>\n",
              "    </tr>\n",
              "    <tr>\n",
              "      <th>3</th>\n",
              "      <td>04988C5DF189632E</td>\n",
              "      <td>A</td>\n",
              "      <td>recommender_system_test</td>\n",
              "    </tr>\n",
              "    <tr>\n",
              "      <th>4</th>\n",
              "      <td>482F14783456D21B</td>\n",
              "      <td>B</td>\n",
              "      <td>recommender_system_test</td>\n",
              "    </tr>\n",
              "  </tbody>\n",
              "</table>\n",
              "</div>\n",
              "      <button class=\"colab-df-convert\" onclick=\"convertToInteractive('df-f53c28ed-4578-471d-ac1a-fb60522d838d')\"\n",
              "              title=\"Convert this dataframe to an interactive table.\"\n",
              "              style=\"display:none;\">\n",
              "        \n",
              "  <svg xmlns=\"http://www.w3.org/2000/svg\" height=\"24px\"viewBox=\"0 0 24 24\"\n",
              "       width=\"24px\">\n",
              "    <path d=\"M0 0h24v24H0V0z\" fill=\"none\"/>\n",
              "    <path d=\"M18.56 5.44l.94 2.06.94-2.06 2.06-.94-2.06-.94-.94-2.06-.94 2.06-2.06.94zm-11 1L8.5 8.5l.94-2.06 2.06-.94-2.06-.94L8.5 2.5l-.94 2.06-2.06.94zm10 10l.94 2.06.94-2.06 2.06-.94-2.06-.94-.94-2.06-.94 2.06-2.06.94z\"/><path d=\"M17.41 7.96l-1.37-1.37c-.4-.4-.92-.59-1.43-.59-.52 0-1.04.2-1.43.59L10.3 9.45l-7.72 7.72c-.78.78-.78 2.05 0 2.83L4 21.41c.39.39.9.59 1.41.59.51 0 1.02-.2 1.41-.59l7.78-7.78 2.81-2.81c.8-.78.8-2.07 0-2.86zM5.41 20L4 18.59l7.72-7.72 1.47 1.35L5.41 20z\"/>\n",
              "  </svg>\n",
              "      </button>\n",
              "      \n",
              "  <style>\n",
              "    .colab-df-container {\n",
              "      display:flex;\n",
              "      flex-wrap:wrap;\n",
              "      gap: 12px;\n",
              "    }\n",
              "\n",
              "    .colab-df-convert {\n",
              "      background-color: #E8F0FE;\n",
              "      border: none;\n",
              "      border-radius: 50%;\n",
              "      cursor: pointer;\n",
              "      display: none;\n",
              "      fill: #1967D2;\n",
              "      height: 32px;\n",
              "      padding: 0 0 0 0;\n",
              "      width: 32px;\n",
              "    }\n",
              "\n",
              "    .colab-df-convert:hover {\n",
              "      background-color: #E2EBFA;\n",
              "      box-shadow: 0px 1px 2px rgba(60, 64, 67, 0.3), 0px 1px 3px 1px rgba(60, 64, 67, 0.15);\n",
              "      fill: #174EA6;\n",
              "    }\n",
              "\n",
              "    [theme=dark] .colab-df-convert {\n",
              "      background-color: #3B4455;\n",
              "      fill: #D2E3FC;\n",
              "    }\n",
              "\n",
              "    [theme=dark] .colab-df-convert:hover {\n",
              "      background-color: #434B5C;\n",
              "      box-shadow: 0px 1px 3px 1px rgba(0, 0, 0, 0.15);\n",
              "      filter: drop-shadow(0px 1px 2px rgba(0, 0, 0, 0.3));\n",
              "      fill: #FFFFFF;\n",
              "    }\n",
              "  </style>\n",
              "\n",
              "      <script>\n",
              "        const buttonEl =\n",
              "          document.querySelector('#df-f53c28ed-4578-471d-ac1a-fb60522d838d button.colab-df-convert');\n",
              "        buttonEl.style.display =\n",
              "          google.colab.kernel.accessAllowed ? 'block' : 'none';\n",
              "\n",
              "        async function convertToInteractive(key) {\n",
              "          const element = document.querySelector('#df-f53c28ed-4578-471d-ac1a-fb60522d838d');\n",
              "          const dataTable =\n",
              "            await google.colab.kernel.invokeFunction('convertToInteractive',\n",
              "                                                     [key], {});\n",
              "          if (!dataTable) return;\n",
              "\n",
              "          const docLinkHtml = 'Like what you see? Visit the ' +\n",
              "            '<a target=\"_blank\" href=https://colab.research.google.com/notebooks/data_table.ipynb>data table notebook</a>'\n",
              "            + ' to learn more about interactive tables.';\n",
              "          element.innerHTML = '';\n",
              "          dataTable['output_type'] = 'display_data';\n",
              "          await google.colab.output.renderOutput(dataTable, element);\n",
              "          const docLink = document.createElement('div');\n",
              "          docLink.innerHTML = docLinkHtml;\n",
              "          element.appendChild(docLink);\n",
              "        }\n",
              "      </script>\n",
              "    </div>\n",
              "  </div>\n",
              "  "
            ]
          },
          "metadata": {},
          "execution_count": 10
        }
      ],
      "source": [
        "# откроем таблицу ab_test и посмотрим общую информацию о ней\n",
        "ab_test.info()\n",
        "ab_test.head(5)"
      ]
    },
    {
      "cell_type": "markdown",
      "metadata": {
        "id": "6GXa469DLgQp"
      },
      "source": [
        "Что необходимо исправить:\n",
        "\n",
        "- таблица calendar:\n",
        "  - наименование столбца regions на region\n",
        "  - тип в столбцах start_dt и finish_dt на дату\n",
        "  \n",
        "- таблица users:\n",
        "  - наименование столбца first_date на registration_date\n",
        "  - тип в столбце first_date (registration_date) на дату\n",
        "  \n",
        "- таблица events:\n",
        "  - тип в столбце event_dt на datetime\n",
        "  - заменить пропуски в столбце details на 0\n",
        "  \n",
        "- проверить все таблицы на наличие дубликатов"
      ]
    },
    {
      "cell_type": "markdown",
      "metadata": {
        "id": "lzoPdRcnLgQq"
      },
      "source": [
        "# 2. Предобработка данных"
      ]
    },
    {
      "cell_type": "markdown",
      "metadata": {
        "id": "MA-M4ByGLgQq"
      },
      "source": [
        "## Изменение типов данных"
      ]
    },
    {
      "cell_type": "code",
      "execution_count": null,
      "metadata": {
        "id": "nH9AOcgKLgQq"
      },
      "outputs": [],
      "source": [
        "# преобразуем данные о времени\n",
        "calendar['start_dt'] = pd.to_datetime(calendar['start_dt'])\n",
        "calendar['finish_dt'] = pd.to_datetime(calendar['finish_dt'])\n",
        "users['first_date'] = pd.to_datetime(users['first_date'])\n",
        "events['event_dt'] = pd.to_datetime(events['event_dt'], format='%Y-%m-%dT')\n",
        "                       "
      ]
    },
    {
      "cell_type": "markdown",
      "metadata": {
        "id": "kGA9MEwZLgQq"
      },
      "source": [
        "## Обработка названий столбцов"
      ]
    },
    {
      "cell_type": "code",
      "execution_count": null,
      "metadata": {
        "id": "Ednux70oLgQq"
      },
      "outputs": [],
      "source": [
        "# переименуем названия столбцов\n",
        "calendar = calendar.rename(columns={\n",
        "    'regions': 'region'\n",
        "})\n",
        "\n",
        "users = users.rename(columns={\n",
        "    'first_date': 'registration_date'\n",
        "})"
      ]
    },
    {
      "cell_type": "markdown",
      "metadata": {
        "id": "Qe-DGQ4QLgQq"
      },
      "source": [
        "## Обработка пропусков"
      ]
    },
    {
      "cell_type": "code",
      "execution_count": null,
      "metadata": {
        "colab": {
          "base_uri": "https://localhost:8080/",
          "height": 175
        },
        "id": "qwIbOzuRLgQq",
        "outputId": "86c72443-12a9-4150-ad3d-ffa7be0c104c"
      },
      "outputs": [
        {
          "output_type": "execute_result",
          "data": {
            "text/plain": [
              "<pandas.io.formats.style.Styler at 0x7f26afb27c10>"
            ],
            "text/html": [
              "<style type=\"text/css\">\n",
              "#T_c5801_row0_col0, #T_c5801_row1_col0, #T_c5801_row2_col0 {\n",
              "  background-color: #3b4cc0;\n",
              "  color: #f1f1f1;\n",
              "}\n",
              "#T_c5801_row3_col0 {\n",
              "  background-color: #b40426;\n",
              "  color: #f1f1f1;\n",
              "}\n",
              "</style>\n",
              "<table id=\"T_c5801_\" class=\"dataframe\">\n",
              "  <thead>\n",
              "    <tr>\n",
              "      <th class=\"blank level0\" >&nbsp;</th>\n",
              "      <th class=\"col_heading level0 col0\" >0</th>\n",
              "    </tr>\n",
              "  </thead>\n",
              "  <tbody>\n",
              "    <tr>\n",
              "      <th id=\"T_c5801_level0_row0\" class=\"row_heading level0 row0\" >user_id</th>\n",
              "      <td id=\"T_c5801_row0_col0\" class=\"data row0 col0\" >0.000000</td>\n",
              "    </tr>\n",
              "    <tr>\n",
              "      <th id=\"T_c5801_level0_row1\" class=\"row_heading level0 row1\" >event_dt</th>\n",
              "      <td id=\"T_c5801_row1_col0\" class=\"data row1 col0\" >0.000000</td>\n",
              "    </tr>\n",
              "    <tr>\n",
              "      <th id=\"T_c5801_level0_row2\" class=\"row_heading level0 row2\" >event_name</th>\n",
              "      <td id=\"T_c5801_row2_col0\" class=\"data row2 col0\" >0.000000</td>\n",
              "    </tr>\n",
              "    <tr>\n",
              "      <th id=\"T_c5801_level0_row3\" class=\"row_heading level0 row3\" >details</th>\n",
              "      <td id=\"T_c5801_row3_col0\" class=\"data row3 col0\" >86.000000</td>\n",
              "    </tr>\n",
              "  </tbody>\n",
              "</table>\n"
            ]
          },
          "metadata": {},
          "execution_count": 13
        }
      ],
      "source": [
        "# проверим данные датасета events на наличие пропусков в %\n",
        "pd.DataFrame(round(events.isna().mean()*100)).style.background_gradient('coolwarm')"
      ]
    },
    {
      "cell_type": "code",
      "execution_count": null,
      "metadata": {
        "id": "RZcz4yPOLgQq"
      },
      "outputs": [],
      "source": [
        "# заменим пропуски в столбце details на '0'\n",
        "events['details'] = events['details'].fillna(0)"
      ]
    },
    {
      "cell_type": "code",
      "execution_count": null,
      "metadata": {
        "colab": {
          "base_uri": "https://localhost:8080/"
        },
        "id": "PBHAqn9PLgQq",
        "outputId": "8e2b57df-0bdd-4b85-b3a3-77c6a6619e00"
      },
      "outputs": [
        {
          "output_type": "execute_result",
          "data": {
            "text/plain": [
              "login           189552\n",
              "product_page    125563\n",
              "product_cart     62462\n",
              "Name: event_name, dtype: int64"
            ]
          },
          "metadata": {},
          "execution_count": 15
        }
      ],
      "source": [
        "# посмотрим на природу пропусков\n",
        "r=events[events['details']==0]\n",
        "r['event_name'].value_counts()"
      ]
    },
    {
      "cell_type": "markdown",
      "metadata": {
        "id": "62lXpqNTLgQq"
      },
      "source": [
        "Возможная причина отсутстия данных: часть пользователей не прошли регистрацию / не просмотрели страницу продукта / не дошли до корзины."
      ]
    },
    {
      "cell_type": "markdown",
      "metadata": {
        "id": "FWNtGv_JLgQq"
      },
      "source": [
        "## Обработка дубликатов"
      ]
    },
    {
      "cell_type": "code",
      "execution_count": null,
      "metadata": {
        "colab": {
          "base_uri": "https://localhost:8080/"
        },
        "id": "Os4hv0s3LgQr",
        "outputId": "e7d51c94-4738-40d2-8244-023fcb81a10b"
      },
      "outputs": [
        {
          "output_type": "stream",
          "name": "stdout",
          "text": [
            "количество дубликатов в датасете calendar - 0\n",
            "количество дубликатов в датасете users - 0\n",
            "количество дубликатов в датасете events - 0\n",
            "количество дубликатов в датасете ab_test - 0\n"
          ]
        }
      ],
      "source": [
        "# проверим датасеты на наличие дубликатов\n",
        "c_dub = calendar.duplicated().sum()\n",
        "u_dub = users.duplicated().sum()\n",
        "e_dub = events.duplicated().sum()\n",
        "ab_dub = ab_test.duplicated().sum()\n",
        "\n",
        "print('количество дубликатов в датасете calendar - {}'.format(c_dub))\n",
        "print('количество дубликатов в датасете users - {}'.format(u_dub))\n",
        "print('количество дубликатов в датасете events - {}'.format(e_dub))\n",
        "print('количество дубликатов в датасете ab_test - {}'.format(ab_dub))\n",
        "\n"
      ]
    },
    {
      "cell_type": "markdown",
      "metadata": {
        "id": "F-YLfshoLgQr"
      },
      "source": [
        "## Проверка изменений"
      ]
    },
    {
      "cell_type": "code",
      "execution_count": null,
      "metadata": {
        "colab": {
          "base_uri": "https://localhost:8080/",
          "height": 403
        },
        "id": "nqojeJTeLgQr",
        "outputId": "45310829-7160-4baa-dae8-51cb341e27d0"
      },
      "outputs": [
        {
          "output_type": "stream",
          "name": "stdout",
          "text": [
            "<class 'pandas.core.frame.DataFrame'>\n",
            "RangeIndex: 14 entries, 0 to 13\n",
            "Data columns (total 4 columns):\n",
            " #   Column     Non-Null Count  Dtype         \n",
            "---  ------     --------------  -----         \n",
            " 0   name       14 non-null     object        \n",
            " 1   region     14 non-null     object        \n",
            " 2   start_dt   14 non-null     datetime64[ns]\n",
            " 3   finish_dt  14 non-null     datetime64[ns]\n",
            "dtypes: datetime64[ns](2), object(2)\n",
            "memory usage: 576.0+ bytes\n"
          ]
        },
        {
          "output_type": "execute_result",
          "data": {
            "text/plain": [
              "                           name                    region   start_dt  \\\n",
              "0      Christmas&New Year Promo             EU, N.America 2020-12-25   \n",
              "1  St. Valentine's Day Giveaway  EU, CIS, APAC, N.America 2020-02-14   \n",
              "2        St. Patric's Day Promo             EU, N.America 2020-03-17   \n",
              "3                  Easter Promo  EU, CIS, APAC, N.America 2020-04-12   \n",
              "4             4th of July Promo                 N.America 2020-07-04   \n",
              "\n",
              "   finish_dt  \n",
              "0 2021-01-03  \n",
              "1 2020-02-16  \n",
              "2 2020-03-19  \n",
              "3 2020-04-19  \n",
              "4 2020-07-11  "
            ],
            "text/html": [
              "\n",
              "  <div id=\"df-da26032a-e735-4b03-800e-9e77a9523a4d\">\n",
              "    <div class=\"colab-df-container\">\n",
              "      <div>\n",
              "<style scoped>\n",
              "    .dataframe tbody tr th:only-of-type {\n",
              "        vertical-align: middle;\n",
              "    }\n",
              "\n",
              "    .dataframe tbody tr th {\n",
              "        vertical-align: top;\n",
              "    }\n",
              "\n",
              "    .dataframe thead th {\n",
              "        text-align: right;\n",
              "    }\n",
              "</style>\n",
              "<table border=\"1\" class=\"dataframe\">\n",
              "  <thead>\n",
              "    <tr style=\"text-align: right;\">\n",
              "      <th></th>\n",
              "      <th>name</th>\n",
              "      <th>region</th>\n",
              "      <th>start_dt</th>\n",
              "      <th>finish_dt</th>\n",
              "    </tr>\n",
              "  </thead>\n",
              "  <tbody>\n",
              "    <tr>\n",
              "      <th>0</th>\n",
              "      <td>Christmas&amp;New Year Promo</td>\n",
              "      <td>EU, N.America</td>\n",
              "      <td>2020-12-25</td>\n",
              "      <td>2021-01-03</td>\n",
              "    </tr>\n",
              "    <tr>\n",
              "      <th>1</th>\n",
              "      <td>St. Valentine's Day Giveaway</td>\n",
              "      <td>EU, CIS, APAC, N.America</td>\n",
              "      <td>2020-02-14</td>\n",
              "      <td>2020-02-16</td>\n",
              "    </tr>\n",
              "    <tr>\n",
              "      <th>2</th>\n",
              "      <td>St. Patric's Day Promo</td>\n",
              "      <td>EU, N.America</td>\n",
              "      <td>2020-03-17</td>\n",
              "      <td>2020-03-19</td>\n",
              "    </tr>\n",
              "    <tr>\n",
              "      <th>3</th>\n",
              "      <td>Easter Promo</td>\n",
              "      <td>EU, CIS, APAC, N.America</td>\n",
              "      <td>2020-04-12</td>\n",
              "      <td>2020-04-19</td>\n",
              "    </tr>\n",
              "    <tr>\n",
              "      <th>4</th>\n",
              "      <td>4th of July Promo</td>\n",
              "      <td>N.America</td>\n",
              "      <td>2020-07-04</td>\n",
              "      <td>2020-07-11</td>\n",
              "    </tr>\n",
              "  </tbody>\n",
              "</table>\n",
              "</div>\n",
              "      <button class=\"colab-df-convert\" onclick=\"convertToInteractive('df-da26032a-e735-4b03-800e-9e77a9523a4d')\"\n",
              "              title=\"Convert this dataframe to an interactive table.\"\n",
              "              style=\"display:none;\">\n",
              "        \n",
              "  <svg xmlns=\"http://www.w3.org/2000/svg\" height=\"24px\"viewBox=\"0 0 24 24\"\n",
              "       width=\"24px\">\n",
              "    <path d=\"M0 0h24v24H0V0z\" fill=\"none\"/>\n",
              "    <path d=\"M18.56 5.44l.94 2.06.94-2.06 2.06-.94-2.06-.94-.94-2.06-.94 2.06-2.06.94zm-11 1L8.5 8.5l.94-2.06 2.06-.94-2.06-.94L8.5 2.5l-.94 2.06-2.06.94zm10 10l.94 2.06.94-2.06 2.06-.94-2.06-.94-.94-2.06-.94 2.06-2.06.94z\"/><path d=\"M17.41 7.96l-1.37-1.37c-.4-.4-.92-.59-1.43-.59-.52 0-1.04.2-1.43.59L10.3 9.45l-7.72 7.72c-.78.78-.78 2.05 0 2.83L4 21.41c.39.39.9.59 1.41.59.51 0 1.02-.2 1.41-.59l7.78-7.78 2.81-2.81c.8-.78.8-2.07 0-2.86zM5.41 20L4 18.59l7.72-7.72 1.47 1.35L5.41 20z\"/>\n",
              "  </svg>\n",
              "      </button>\n",
              "      \n",
              "  <style>\n",
              "    .colab-df-container {\n",
              "      display:flex;\n",
              "      flex-wrap:wrap;\n",
              "      gap: 12px;\n",
              "    }\n",
              "\n",
              "    .colab-df-convert {\n",
              "      background-color: #E8F0FE;\n",
              "      border: none;\n",
              "      border-radius: 50%;\n",
              "      cursor: pointer;\n",
              "      display: none;\n",
              "      fill: #1967D2;\n",
              "      height: 32px;\n",
              "      padding: 0 0 0 0;\n",
              "      width: 32px;\n",
              "    }\n",
              "\n",
              "    .colab-df-convert:hover {\n",
              "      background-color: #E2EBFA;\n",
              "      box-shadow: 0px 1px 2px rgba(60, 64, 67, 0.3), 0px 1px 3px 1px rgba(60, 64, 67, 0.15);\n",
              "      fill: #174EA6;\n",
              "    }\n",
              "\n",
              "    [theme=dark] .colab-df-convert {\n",
              "      background-color: #3B4455;\n",
              "      fill: #D2E3FC;\n",
              "    }\n",
              "\n",
              "    [theme=dark] .colab-df-convert:hover {\n",
              "      background-color: #434B5C;\n",
              "      box-shadow: 0px 1px 3px 1px rgba(0, 0, 0, 0.15);\n",
              "      filter: drop-shadow(0px 1px 2px rgba(0, 0, 0, 0.3));\n",
              "      fill: #FFFFFF;\n",
              "    }\n",
              "  </style>\n",
              "\n",
              "      <script>\n",
              "        const buttonEl =\n",
              "          document.querySelector('#df-da26032a-e735-4b03-800e-9e77a9523a4d button.colab-df-convert');\n",
              "        buttonEl.style.display =\n",
              "          google.colab.kernel.accessAllowed ? 'block' : 'none';\n",
              "\n",
              "        async function convertToInteractive(key) {\n",
              "          const element = document.querySelector('#df-da26032a-e735-4b03-800e-9e77a9523a4d');\n",
              "          const dataTable =\n",
              "            await google.colab.kernel.invokeFunction('convertToInteractive',\n",
              "                                                     [key], {});\n",
              "          if (!dataTable) return;\n",
              "\n",
              "          const docLinkHtml = 'Like what you see? Visit the ' +\n",
              "            '<a target=\"_blank\" href=https://colab.research.google.com/notebooks/data_table.ipynb>data table notebook</a>'\n",
              "            + ' to learn more about interactive tables.';\n",
              "          element.innerHTML = '';\n",
              "          dataTable['output_type'] = 'display_data';\n",
              "          await google.colab.output.renderOutput(dataTable, element);\n",
              "          const docLink = document.createElement('div');\n",
              "          docLink.innerHTML = docLinkHtml;\n",
              "          element.appendChild(docLink);\n",
              "        }\n",
              "      </script>\n",
              "    </div>\n",
              "  </div>\n",
              "  "
            ]
          },
          "metadata": {},
          "execution_count": 17
        }
      ],
      "source": [
        "# откроем таблицу calendar\n",
        "calendar.info()\n",
        "calendar.head(5)"
      ]
    },
    {
      "cell_type": "code",
      "execution_count": null,
      "metadata": {
        "colab": {
          "base_uri": "https://localhost:8080/",
          "height": 403
        },
        "id": "aPQC0ge7LgQr",
        "outputId": "3475f34e-b95e-4bcd-9a07-0563dbe3126b"
      },
      "outputs": [
        {
          "output_type": "stream",
          "name": "stdout",
          "text": [
            "<class 'pandas.core.frame.DataFrame'>\n",
            "RangeIndex: 61733 entries, 0 to 61732\n",
            "Data columns (total 4 columns):\n",
            " #   Column             Non-Null Count  Dtype         \n",
            "---  ------             --------------  -----         \n",
            " 0   user_id            61733 non-null  object        \n",
            " 1   registration_date  61733 non-null  datetime64[ns]\n",
            " 2   region             61733 non-null  object        \n",
            " 3   device             61733 non-null  object        \n",
            "dtypes: datetime64[ns](1), object(3)\n",
            "memory usage: 1.9+ MB\n"
          ]
        },
        {
          "output_type": "execute_result",
          "data": {
            "text/plain": [
              "            user_id registration_date     region   device\n",
              "0  D72A72121175D8BE        2020-12-07         EU       PC\n",
              "1  F1C668619DFE6E65        2020-12-07  N.America  Android\n",
              "2  2E1BF1D4C37EA01F        2020-12-07         EU       PC\n",
              "3  50734A22C0C63768        2020-12-07         EU   iPhone\n",
              "4  E1BDDCE0DAFA2679        2020-12-07  N.America   iPhone"
            ],
            "text/html": [
              "\n",
              "  <div id=\"df-6387046a-de49-40fe-a96f-8a8f06a241a7\">\n",
              "    <div class=\"colab-df-container\">\n",
              "      <div>\n",
              "<style scoped>\n",
              "    .dataframe tbody tr th:only-of-type {\n",
              "        vertical-align: middle;\n",
              "    }\n",
              "\n",
              "    .dataframe tbody tr th {\n",
              "        vertical-align: top;\n",
              "    }\n",
              "\n",
              "    .dataframe thead th {\n",
              "        text-align: right;\n",
              "    }\n",
              "</style>\n",
              "<table border=\"1\" class=\"dataframe\">\n",
              "  <thead>\n",
              "    <tr style=\"text-align: right;\">\n",
              "      <th></th>\n",
              "      <th>user_id</th>\n",
              "      <th>registration_date</th>\n",
              "      <th>region</th>\n",
              "      <th>device</th>\n",
              "    </tr>\n",
              "  </thead>\n",
              "  <tbody>\n",
              "    <tr>\n",
              "      <th>0</th>\n",
              "      <td>D72A72121175D8BE</td>\n",
              "      <td>2020-12-07</td>\n",
              "      <td>EU</td>\n",
              "      <td>PC</td>\n",
              "    </tr>\n",
              "    <tr>\n",
              "      <th>1</th>\n",
              "      <td>F1C668619DFE6E65</td>\n",
              "      <td>2020-12-07</td>\n",
              "      <td>N.America</td>\n",
              "      <td>Android</td>\n",
              "    </tr>\n",
              "    <tr>\n",
              "      <th>2</th>\n",
              "      <td>2E1BF1D4C37EA01F</td>\n",
              "      <td>2020-12-07</td>\n",
              "      <td>EU</td>\n",
              "      <td>PC</td>\n",
              "    </tr>\n",
              "    <tr>\n",
              "      <th>3</th>\n",
              "      <td>50734A22C0C63768</td>\n",
              "      <td>2020-12-07</td>\n",
              "      <td>EU</td>\n",
              "      <td>iPhone</td>\n",
              "    </tr>\n",
              "    <tr>\n",
              "      <th>4</th>\n",
              "      <td>E1BDDCE0DAFA2679</td>\n",
              "      <td>2020-12-07</td>\n",
              "      <td>N.America</td>\n",
              "      <td>iPhone</td>\n",
              "    </tr>\n",
              "  </tbody>\n",
              "</table>\n",
              "</div>\n",
              "      <button class=\"colab-df-convert\" onclick=\"convertToInteractive('df-6387046a-de49-40fe-a96f-8a8f06a241a7')\"\n",
              "              title=\"Convert this dataframe to an interactive table.\"\n",
              "              style=\"display:none;\">\n",
              "        \n",
              "  <svg xmlns=\"http://www.w3.org/2000/svg\" height=\"24px\"viewBox=\"0 0 24 24\"\n",
              "       width=\"24px\">\n",
              "    <path d=\"M0 0h24v24H0V0z\" fill=\"none\"/>\n",
              "    <path d=\"M18.56 5.44l.94 2.06.94-2.06 2.06-.94-2.06-.94-.94-2.06-.94 2.06-2.06.94zm-11 1L8.5 8.5l.94-2.06 2.06-.94-2.06-.94L8.5 2.5l-.94 2.06-2.06.94zm10 10l.94 2.06.94-2.06 2.06-.94-2.06-.94-.94-2.06-.94 2.06-2.06.94z\"/><path d=\"M17.41 7.96l-1.37-1.37c-.4-.4-.92-.59-1.43-.59-.52 0-1.04.2-1.43.59L10.3 9.45l-7.72 7.72c-.78.78-.78 2.05 0 2.83L4 21.41c.39.39.9.59 1.41.59.51 0 1.02-.2 1.41-.59l7.78-7.78 2.81-2.81c.8-.78.8-2.07 0-2.86zM5.41 20L4 18.59l7.72-7.72 1.47 1.35L5.41 20z\"/>\n",
              "  </svg>\n",
              "      </button>\n",
              "      \n",
              "  <style>\n",
              "    .colab-df-container {\n",
              "      display:flex;\n",
              "      flex-wrap:wrap;\n",
              "      gap: 12px;\n",
              "    }\n",
              "\n",
              "    .colab-df-convert {\n",
              "      background-color: #E8F0FE;\n",
              "      border: none;\n",
              "      border-radius: 50%;\n",
              "      cursor: pointer;\n",
              "      display: none;\n",
              "      fill: #1967D2;\n",
              "      height: 32px;\n",
              "      padding: 0 0 0 0;\n",
              "      width: 32px;\n",
              "    }\n",
              "\n",
              "    .colab-df-convert:hover {\n",
              "      background-color: #E2EBFA;\n",
              "      box-shadow: 0px 1px 2px rgba(60, 64, 67, 0.3), 0px 1px 3px 1px rgba(60, 64, 67, 0.15);\n",
              "      fill: #174EA6;\n",
              "    }\n",
              "\n",
              "    [theme=dark] .colab-df-convert {\n",
              "      background-color: #3B4455;\n",
              "      fill: #D2E3FC;\n",
              "    }\n",
              "\n",
              "    [theme=dark] .colab-df-convert:hover {\n",
              "      background-color: #434B5C;\n",
              "      box-shadow: 0px 1px 3px 1px rgba(0, 0, 0, 0.15);\n",
              "      filter: drop-shadow(0px 1px 2px rgba(0, 0, 0, 0.3));\n",
              "      fill: #FFFFFF;\n",
              "    }\n",
              "  </style>\n",
              "\n",
              "      <script>\n",
              "        const buttonEl =\n",
              "          document.querySelector('#df-6387046a-de49-40fe-a96f-8a8f06a241a7 button.colab-df-convert');\n",
              "        buttonEl.style.display =\n",
              "          google.colab.kernel.accessAllowed ? 'block' : 'none';\n",
              "\n",
              "        async function convertToInteractive(key) {\n",
              "          const element = document.querySelector('#df-6387046a-de49-40fe-a96f-8a8f06a241a7');\n",
              "          const dataTable =\n",
              "            await google.colab.kernel.invokeFunction('convertToInteractive',\n",
              "                                                     [key], {});\n",
              "          if (!dataTable) return;\n",
              "\n",
              "          const docLinkHtml = 'Like what you see? Visit the ' +\n",
              "            '<a target=\"_blank\" href=https://colab.research.google.com/notebooks/data_table.ipynb>data table notebook</a>'\n",
              "            + ' to learn more about interactive tables.';\n",
              "          element.innerHTML = '';\n",
              "          dataTable['output_type'] = 'display_data';\n",
              "          await google.colab.output.renderOutput(dataTable, element);\n",
              "          const docLink = document.createElement('div');\n",
              "          docLink.innerHTML = docLinkHtml;\n",
              "          element.appendChild(docLink);\n",
              "        }\n",
              "      </script>\n",
              "    </div>\n",
              "  </div>\n",
              "  "
            ]
          },
          "metadata": {},
          "execution_count": 18
        }
      ],
      "source": [
        "# откроем таблицу calendar\n",
        "users.info()\n",
        "users.head(5)"
      ]
    },
    {
      "cell_type": "code",
      "execution_count": null,
      "metadata": {
        "colab": {
          "base_uri": "https://localhost:8080/",
          "height": 403
        },
        "id": "1v0ajT7dLgQr",
        "outputId": "78d3e381-8efe-42d0-a007-f1f6b87b5fd1"
      },
      "outputs": [
        {
          "output_type": "stream",
          "name": "stdout",
          "text": [
            "<class 'pandas.core.frame.DataFrame'>\n",
            "RangeIndex: 440317 entries, 0 to 440316\n",
            "Data columns (total 4 columns):\n",
            " #   Column      Non-Null Count   Dtype         \n",
            "---  ------      --------------   -----         \n",
            " 0   user_id     440317 non-null  object        \n",
            " 1   event_dt    440317 non-null  datetime64[ns]\n",
            " 2   event_name  440317 non-null  object        \n",
            " 3   details     440317 non-null  float64       \n",
            "dtypes: datetime64[ns](1), float64(1), object(2)\n",
            "memory usage: 13.4+ MB\n"
          ]
        },
        {
          "output_type": "execute_result",
          "data": {
            "text/plain": [
              "            user_id            event_dt event_name  details\n",
              "0  E1BDDCE0DAFA2679 2020-12-07 20:22:03   purchase    99.99\n",
              "1  7B6452F081F49504 2020-12-07 09:22:53   purchase     9.99\n",
              "2  9CD9F34546DF254C 2020-12-07 12:59:29   purchase     4.99\n",
              "3  96F27A054B191457 2020-12-07 04:02:40   purchase     4.99\n",
              "4  1FD7660FDF94CA1F 2020-12-07 10:15:09   purchase     4.99"
            ],
            "text/html": [
              "\n",
              "  <div id=\"df-108dd784-4511-47e4-9bc5-d4c74cab28a7\">\n",
              "    <div class=\"colab-df-container\">\n",
              "      <div>\n",
              "<style scoped>\n",
              "    .dataframe tbody tr th:only-of-type {\n",
              "        vertical-align: middle;\n",
              "    }\n",
              "\n",
              "    .dataframe tbody tr th {\n",
              "        vertical-align: top;\n",
              "    }\n",
              "\n",
              "    .dataframe thead th {\n",
              "        text-align: right;\n",
              "    }\n",
              "</style>\n",
              "<table border=\"1\" class=\"dataframe\">\n",
              "  <thead>\n",
              "    <tr style=\"text-align: right;\">\n",
              "      <th></th>\n",
              "      <th>user_id</th>\n",
              "      <th>event_dt</th>\n",
              "      <th>event_name</th>\n",
              "      <th>details</th>\n",
              "    </tr>\n",
              "  </thead>\n",
              "  <tbody>\n",
              "    <tr>\n",
              "      <th>0</th>\n",
              "      <td>E1BDDCE0DAFA2679</td>\n",
              "      <td>2020-12-07 20:22:03</td>\n",
              "      <td>purchase</td>\n",
              "      <td>99.99</td>\n",
              "    </tr>\n",
              "    <tr>\n",
              "      <th>1</th>\n",
              "      <td>7B6452F081F49504</td>\n",
              "      <td>2020-12-07 09:22:53</td>\n",
              "      <td>purchase</td>\n",
              "      <td>9.99</td>\n",
              "    </tr>\n",
              "    <tr>\n",
              "      <th>2</th>\n",
              "      <td>9CD9F34546DF254C</td>\n",
              "      <td>2020-12-07 12:59:29</td>\n",
              "      <td>purchase</td>\n",
              "      <td>4.99</td>\n",
              "    </tr>\n",
              "    <tr>\n",
              "      <th>3</th>\n",
              "      <td>96F27A054B191457</td>\n",
              "      <td>2020-12-07 04:02:40</td>\n",
              "      <td>purchase</td>\n",
              "      <td>4.99</td>\n",
              "    </tr>\n",
              "    <tr>\n",
              "      <th>4</th>\n",
              "      <td>1FD7660FDF94CA1F</td>\n",
              "      <td>2020-12-07 10:15:09</td>\n",
              "      <td>purchase</td>\n",
              "      <td>4.99</td>\n",
              "    </tr>\n",
              "  </tbody>\n",
              "</table>\n",
              "</div>\n",
              "      <button class=\"colab-df-convert\" onclick=\"convertToInteractive('df-108dd784-4511-47e4-9bc5-d4c74cab28a7')\"\n",
              "              title=\"Convert this dataframe to an interactive table.\"\n",
              "              style=\"display:none;\">\n",
              "        \n",
              "  <svg xmlns=\"http://www.w3.org/2000/svg\" height=\"24px\"viewBox=\"0 0 24 24\"\n",
              "       width=\"24px\">\n",
              "    <path d=\"M0 0h24v24H0V0z\" fill=\"none\"/>\n",
              "    <path d=\"M18.56 5.44l.94 2.06.94-2.06 2.06-.94-2.06-.94-.94-2.06-.94 2.06-2.06.94zm-11 1L8.5 8.5l.94-2.06 2.06-.94-2.06-.94L8.5 2.5l-.94 2.06-2.06.94zm10 10l.94 2.06.94-2.06 2.06-.94-2.06-.94-.94-2.06-.94 2.06-2.06.94z\"/><path d=\"M17.41 7.96l-1.37-1.37c-.4-.4-.92-.59-1.43-.59-.52 0-1.04.2-1.43.59L10.3 9.45l-7.72 7.72c-.78.78-.78 2.05 0 2.83L4 21.41c.39.39.9.59 1.41.59.51 0 1.02-.2 1.41-.59l7.78-7.78 2.81-2.81c.8-.78.8-2.07 0-2.86zM5.41 20L4 18.59l7.72-7.72 1.47 1.35L5.41 20z\"/>\n",
              "  </svg>\n",
              "      </button>\n",
              "      \n",
              "  <style>\n",
              "    .colab-df-container {\n",
              "      display:flex;\n",
              "      flex-wrap:wrap;\n",
              "      gap: 12px;\n",
              "    }\n",
              "\n",
              "    .colab-df-convert {\n",
              "      background-color: #E8F0FE;\n",
              "      border: none;\n",
              "      border-radius: 50%;\n",
              "      cursor: pointer;\n",
              "      display: none;\n",
              "      fill: #1967D2;\n",
              "      height: 32px;\n",
              "      padding: 0 0 0 0;\n",
              "      width: 32px;\n",
              "    }\n",
              "\n",
              "    .colab-df-convert:hover {\n",
              "      background-color: #E2EBFA;\n",
              "      box-shadow: 0px 1px 2px rgba(60, 64, 67, 0.3), 0px 1px 3px 1px rgba(60, 64, 67, 0.15);\n",
              "      fill: #174EA6;\n",
              "    }\n",
              "\n",
              "    [theme=dark] .colab-df-convert {\n",
              "      background-color: #3B4455;\n",
              "      fill: #D2E3FC;\n",
              "    }\n",
              "\n",
              "    [theme=dark] .colab-df-convert:hover {\n",
              "      background-color: #434B5C;\n",
              "      box-shadow: 0px 1px 3px 1px rgba(0, 0, 0, 0.15);\n",
              "      filter: drop-shadow(0px 1px 2px rgba(0, 0, 0, 0.3));\n",
              "      fill: #FFFFFF;\n",
              "    }\n",
              "  </style>\n",
              "\n",
              "      <script>\n",
              "        const buttonEl =\n",
              "          document.querySelector('#df-108dd784-4511-47e4-9bc5-d4c74cab28a7 button.colab-df-convert');\n",
              "        buttonEl.style.display =\n",
              "          google.colab.kernel.accessAllowed ? 'block' : 'none';\n",
              "\n",
              "        async function convertToInteractive(key) {\n",
              "          const element = document.querySelector('#df-108dd784-4511-47e4-9bc5-d4c74cab28a7');\n",
              "          const dataTable =\n",
              "            await google.colab.kernel.invokeFunction('convertToInteractive',\n",
              "                                                     [key], {});\n",
              "          if (!dataTable) return;\n",
              "\n",
              "          const docLinkHtml = 'Like what you see? Visit the ' +\n",
              "            '<a target=\"_blank\" href=https://colab.research.google.com/notebooks/data_table.ipynb>data table notebook</a>'\n",
              "            + ' to learn more about interactive tables.';\n",
              "          element.innerHTML = '';\n",
              "          dataTable['output_type'] = 'display_data';\n",
              "          await google.colab.output.renderOutput(dataTable, element);\n",
              "          const docLink = document.createElement('div');\n",
              "          docLink.innerHTML = docLinkHtml;\n",
              "          element.appendChild(docLink);\n",
              "        }\n",
              "      </script>\n",
              "    </div>\n",
              "  </div>\n",
              "  "
            ]
          },
          "metadata": {},
          "execution_count": 19
        }
      ],
      "source": [
        "# откроем таблицу calendar\n",
        "events.info()\n",
        "events.head(5)"
      ]
    },
    {
      "cell_type": "markdown",
      "metadata": {
        "id": "E7Hr6iopLgQr"
      },
      "source": [
        "В данном разделе обработаны все ошибки, обнаруженные на 1 этапе (загрузка и обзор данных)"
      ]
    },
    {
      "cell_type": "markdown",
      "metadata": {
        "id": "zBi28r8xLgQr"
      },
      "source": [
        "# 3. Оценка корректности проведения теста"
      ]
    },
    {
      "cell_type": "markdown",
      "metadata": {
        "id": "4pgrNnrCLgQr"
      },
      "source": [
        "## Проверка корректности всех пунктов технического задания"
      ]
    },
    {
      "cell_type": "markdown",
      "metadata": {
        "id": "jzf7m0uULgQr"
      },
      "source": [
        "### Периоды запуска и остановки теста"
      ]
    },
    {
      "cell_type": "code",
      "execution_count": null,
      "metadata": {
        "colab": {
          "base_uri": "https://localhost:8080/",
          "height": 206
        },
        "id": "Nxgtt1K7LgQr",
        "outputId": "c6f56e96-3c79-4da0-a289-94641356e7ed"
      },
      "outputs": [
        {
          "output_type": "execute_result",
          "data": {
            "text/plain": [
              "              user_id registration_date region   device            event_dt  \\\n",
              "0    D72A72121175D8BE        2020-12-07     EU       PC 2020-12-07 21:52:10   \n",
              "1    D72A72121175D8BE        2020-12-07     EU       PC 2020-12-07 21:52:07   \n",
              "90   E6DE857AFBDC6102        2020-12-07     EU       PC                 NaT   \n",
              "146  DD4352CDCF8C3D57        2020-12-07     EU  Android 2020-12-07 15:32:54   \n",
              "148  DD4352CDCF8C3D57        2020-12-07     EU  Android 2020-12-08 08:29:31   \n",
              "\n",
              "       event_name  details group                  ab_test  \n",
              "0    product_page      0.0     A  recommender_system_test  \n",
              "1           login      0.0     A  recommender_system_test  \n",
              "90            NaN      NaN     B  recommender_system_test  \n",
              "146  product_page      0.0     B  recommender_system_test  \n",
              "148  product_page      0.0     B  recommender_system_test  "
            ],
            "text/html": [
              "\n",
              "  <div id=\"df-766a19d0-6f88-496a-be40-77a7a579fd51\">\n",
              "    <div class=\"colab-df-container\">\n",
              "      <div>\n",
              "<style scoped>\n",
              "    .dataframe tbody tr th:only-of-type {\n",
              "        vertical-align: middle;\n",
              "    }\n",
              "\n",
              "    .dataframe tbody tr th {\n",
              "        vertical-align: top;\n",
              "    }\n",
              "\n",
              "    .dataframe thead th {\n",
              "        text-align: right;\n",
              "    }\n",
              "</style>\n",
              "<table border=\"1\" class=\"dataframe\">\n",
              "  <thead>\n",
              "    <tr style=\"text-align: right;\">\n",
              "      <th></th>\n",
              "      <th>user_id</th>\n",
              "      <th>registration_date</th>\n",
              "      <th>region</th>\n",
              "      <th>device</th>\n",
              "      <th>event_dt</th>\n",
              "      <th>event_name</th>\n",
              "      <th>details</th>\n",
              "      <th>group</th>\n",
              "      <th>ab_test</th>\n",
              "    </tr>\n",
              "  </thead>\n",
              "  <tbody>\n",
              "    <tr>\n",
              "      <th>0</th>\n",
              "      <td>D72A72121175D8BE</td>\n",
              "      <td>2020-12-07</td>\n",
              "      <td>EU</td>\n",
              "      <td>PC</td>\n",
              "      <td>2020-12-07 21:52:10</td>\n",
              "      <td>product_page</td>\n",
              "      <td>0.0</td>\n",
              "      <td>A</td>\n",
              "      <td>recommender_system_test</td>\n",
              "    </tr>\n",
              "    <tr>\n",
              "      <th>1</th>\n",
              "      <td>D72A72121175D8BE</td>\n",
              "      <td>2020-12-07</td>\n",
              "      <td>EU</td>\n",
              "      <td>PC</td>\n",
              "      <td>2020-12-07 21:52:07</td>\n",
              "      <td>login</td>\n",
              "      <td>0.0</td>\n",
              "      <td>A</td>\n",
              "      <td>recommender_system_test</td>\n",
              "    </tr>\n",
              "    <tr>\n",
              "      <th>90</th>\n",
              "      <td>E6DE857AFBDC6102</td>\n",
              "      <td>2020-12-07</td>\n",
              "      <td>EU</td>\n",
              "      <td>PC</td>\n",
              "      <td>NaT</td>\n",
              "      <td>NaN</td>\n",
              "      <td>NaN</td>\n",
              "      <td>B</td>\n",
              "      <td>recommender_system_test</td>\n",
              "    </tr>\n",
              "    <tr>\n",
              "      <th>146</th>\n",
              "      <td>DD4352CDCF8C3D57</td>\n",
              "      <td>2020-12-07</td>\n",
              "      <td>EU</td>\n",
              "      <td>Android</td>\n",
              "      <td>2020-12-07 15:32:54</td>\n",
              "      <td>product_page</td>\n",
              "      <td>0.0</td>\n",
              "      <td>B</td>\n",
              "      <td>recommender_system_test</td>\n",
              "    </tr>\n",
              "    <tr>\n",
              "      <th>148</th>\n",
              "      <td>DD4352CDCF8C3D57</td>\n",
              "      <td>2020-12-07</td>\n",
              "      <td>EU</td>\n",
              "      <td>Android</td>\n",
              "      <td>2020-12-08 08:29:31</td>\n",
              "      <td>product_page</td>\n",
              "      <td>0.0</td>\n",
              "      <td>B</td>\n",
              "      <td>recommender_system_test</td>\n",
              "    </tr>\n",
              "  </tbody>\n",
              "</table>\n",
              "</div>\n",
              "      <button class=\"colab-df-convert\" onclick=\"convertToInteractive('df-766a19d0-6f88-496a-be40-77a7a579fd51')\"\n",
              "              title=\"Convert this dataframe to an interactive table.\"\n",
              "              style=\"display:none;\">\n",
              "        \n",
              "  <svg xmlns=\"http://www.w3.org/2000/svg\" height=\"24px\"viewBox=\"0 0 24 24\"\n",
              "       width=\"24px\">\n",
              "    <path d=\"M0 0h24v24H0V0z\" fill=\"none\"/>\n",
              "    <path d=\"M18.56 5.44l.94 2.06.94-2.06 2.06-.94-2.06-.94-.94-2.06-.94 2.06-2.06.94zm-11 1L8.5 8.5l.94-2.06 2.06-.94-2.06-.94L8.5 2.5l-.94 2.06-2.06.94zm10 10l.94 2.06.94-2.06 2.06-.94-2.06-.94-.94-2.06-.94 2.06-2.06.94z\"/><path d=\"M17.41 7.96l-1.37-1.37c-.4-.4-.92-.59-1.43-.59-.52 0-1.04.2-1.43.59L10.3 9.45l-7.72 7.72c-.78.78-.78 2.05 0 2.83L4 21.41c.39.39.9.59 1.41.59.51 0 1.02-.2 1.41-.59l7.78-7.78 2.81-2.81c.8-.78.8-2.07 0-2.86zM5.41 20L4 18.59l7.72-7.72 1.47 1.35L5.41 20z\"/>\n",
              "  </svg>\n",
              "      </button>\n",
              "      \n",
              "  <style>\n",
              "    .colab-df-container {\n",
              "      display:flex;\n",
              "      flex-wrap:wrap;\n",
              "      gap: 12px;\n",
              "    }\n",
              "\n",
              "    .colab-df-convert {\n",
              "      background-color: #E8F0FE;\n",
              "      border: none;\n",
              "      border-radius: 50%;\n",
              "      cursor: pointer;\n",
              "      display: none;\n",
              "      fill: #1967D2;\n",
              "      height: 32px;\n",
              "      padding: 0 0 0 0;\n",
              "      width: 32px;\n",
              "    }\n",
              "\n",
              "    .colab-df-convert:hover {\n",
              "      background-color: #E2EBFA;\n",
              "      box-shadow: 0px 1px 2px rgba(60, 64, 67, 0.3), 0px 1px 3px 1px rgba(60, 64, 67, 0.15);\n",
              "      fill: #174EA6;\n",
              "    }\n",
              "\n",
              "    [theme=dark] .colab-df-convert {\n",
              "      background-color: #3B4455;\n",
              "      fill: #D2E3FC;\n",
              "    }\n",
              "\n",
              "    [theme=dark] .colab-df-convert:hover {\n",
              "      background-color: #434B5C;\n",
              "      box-shadow: 0px 1px 3px 1px rgba(0, 0, 0, 0.15);\n",
              "      filter: drop-shadow(0px 1px 2px rgba(0, 0, 0, 0.3));\n",
              "      fill: #FFFFFF;\n",
              "    }\n",
              "  </style>\n",
              "\n",
              "      <script>\n",
              "        const buttonEl =\n",
              "          document.querySelector('#df-766a19d0-6f88-496a-be40-77a7a579fd51 button.colab-df-convert');\n",
              "        buttonEl.style.display =\n",
              "          google.colab.kernel.accessAllowed ? 'block' : 'none';\n",
              "\n",
              "        async function convertToInteractive(key) {\n",
              "          const element = document.querySelector('#df-766a19d0-6f88-496a-be40-77a7a579fd51');\n",
              "          const dataTable =\n",
              "            await google.colab.kernel.invokeFunction('convertToInteractive',\n",
              "                                                     [key], {});\n",
              "          if (!dataTable) return;\n",
              "\n",
              "          const docLinkHtml = 'Like what you see? Visit the ' +\n",
              "            '<a target=\"_blank\" href=https://colab.research.google.com/notebooks/data_table.ipynb>data table notebook</a>'\n",
              "            + ' to learn more about interactive tables.';\n",
              "          element.innerHTML = '';\n",
              "          dataTable['output_type'] = 'display_data';\n",
              "          await google.colab.output.renderOutput(dataTable, element);\n",
              "          const docLink = document.createElement('div');\n",
              "          docLink.innerHTML = docLinkHtml;\n",
              "          element.appendChild(docLink);\n",
              "        }\n",
              "      </script>\n",
              "    </div>\n",
              "  </div>\n",
              "  "
            ]
          },
          "metadata": {},
          "execution_count": 20
        }
      ],
      "source": [
        "# объединим таблицы users и events\n",
        "users_events = users.merge(events, on='user_id', how='left')\n",
        "\n",
        "# объединим таблицы users_events и ab_test\n",
        "users_events_ab_test = users_events.merge(ab_test, on='user_id', how='left')\n",
        "\n",
        "# отфильтруем итоговую таблицу по тестируемой группе\n",
        "users_events_ab_test_period = users_events_ab_test.query('ab_test==\"recommender_system_test\"')\n",
        "users_events_ab_test_period.head()"
      ]
    },
    {
      "cell_type": "code",
      "execution_count": null,
      "metadata": {
        "colab": {
          "base_uri": "https://localhost:8080/"
        },
        "id": "I2SpsPb3LgQr",
        "outputId": "896565a5-9398-49e1-903a-a9d3b8c015df"
      },
      "outputs": [
        {
          "output_type": "stream",
          "name": "stdout",
          "text": [
            "дата запуска - 2020-12-07 00:05:57\n",
            "дата остановки набора новых пользователей- 2020-12-21 00:00:00\n",
            "дата остановки - 2020-12-30 12:42:57\n"
          ]
        }
      ],
      "source": [
        "# найдем минимальную и максимальную даты периода\n",
        "min_date = users_events_ab_test_period['event_dt'].min()\n",
        "max_date = users_events_ab_test_period['event_dt'].max()\n",
        "max_date_u = users_events_ab_test_period['registration_date'].max()\n",
        "print('дата запуска - {}'.format(min_date))\n",
        "print('дата остановки набора новых пользователей- {}'.format(max_date_u))\n",
        "print('дата остановки - {}'.format(max_date))\n"
      ]
    },
    {
      "cell_type": "markdown",
      "metadata": {
        "id": "ZgDViC-5LgQs"
      },
      "source": [
        "Обнаружено несовпадение в дате остановки теста"
      ]
    },
    {
      "cell_type": "markdown",
      "metadata": {
        "id": "AvU8sKRmLgQs"
      },
      "source": [
        "### Аудитория новых пользователей из региона EU"
      ]
    },
    {
      "cell_type": "code",
      "execution_count": null,
      "metadata": {
        "colab": {
          "base_uri": "https://localhost:8080/",
          "height": 175
        },
        "id": "qSNharaULgQs",
        "outputId": "dcd5dca2-975f-41fb-c0d0-44568365f22f"
      },
      "outputs": [
        {
          "output_type": "execute_result",
          "data": {
            "text/plain": [
              "      region  user_id\n",
              "0       APAC     3153\n",
              "1        CIS     3155\n",
              "2         EU    46270\n",
              "3  N.America     9155"
            ],
            "text/html": [
              "\n",
              "  <div id=\"df-3709be10-2e8f-4b4a-86c7-7e471225cbbf\">\n",
              "    <div class=\"colab-df-container\">\n",
              "      <div>\n",
              "<style scoped>\n",
              "    .dataframe tbody tr th:only-of-type {\n",
              "        vertical-align: middle;\n",
              "    }\n",
              "\n",
              "    .dataframe tbody tr th {\n",
              "        vertical-align: top;\n",
              "    }\n",
              "\n",
              "    .dataframe thead th {\n",
              "        text-align: right;\n",
              "    }\n",
              "</style>\n",
              "<table border=\"1\" class=\"dataframe\">\n",
              "  <thead>\n",
              "    <tr style=\"text-align: right;\">\n",
              "      <th></th>\n",
              "      <th>region</th>\n",
              "      <th>user_id</th>\n",
              "    </tr>\n",
              "  </thead>\n",
              "  <tbody>\n",
              "    <tr>\n",
              "      <th>0</th>\n",
              "      <td>APAC</td>\n",
              "      <td>3153</td>\n",
              "    </tr>\n",
              "    <tr>\n",
              "      <th>1</th>\n",
              "      <td>CIS</td>\n",
              "      <td>3155</td>\n",
              "    </tr>\n",
              "    <tr>\n",
              "      <th>2</th>\n",
              "      <td>EU</td>\n",
              "      <td>46270</td>\n",
              "    </tr>\n",
              "    <tr>\n",
              "      <th>3</th>\n",
              "      <td>N.America</td>\n",
              "      <td>9155</td>\n",
              "    </tr>\n",
              "  </tbody>\n",
              "</table>\n",
              "</div>\n",
              "      <button class=\"colab-df-convert\" onclick=\"convertToInteractive('df-3709be10-2e8f-4b4a-86c7-7e471225cbbf')\"\n",
              "              title=\"Convert this dataframe to an interactive table.\"\n",
              "              style=\"display:none;\">\n",
              "        \n",
              "  <svg xmlns=\"http://www.w3.org/2000/svg\" height=\"24px\"viewBox=\"0 0 24 24\"\n",
              "       width=\"24px\">\n",
              "    <path d=\"M0 0h24v24H0V0z\" fill=\"none\"/>\n",
              "    <path d=\"M18.56 5.44l.94 2.06.94-2.06 2.06-.94-2.06-.94-.94-2.06-.94 2.06-2.06.94zm-11 1L8.5 8.5l.94-2.06 2.06-.94-2.06-.94L8.5 2.5l-.94 2.06-2.06.94zm10 10l.94 2.06.94-2.06 2.06-.94-2.06-.94-.94-2.06-.94 2.06-2.06.94z\"/><path d=\"M17.41 7.96l-1.37-1.37c-.4-.4-.92-.59-1.43-.59-.52 0-1.04.2-1.43.59L10.3 9.45l-7.72 7.72c-.78.78-.78 2.05 0 2.83L4 21.41c.39.39.9.59 1.41.59.51 0 1.02-.2 1.41-.59l7.78-7.78 2.81-2.81c.8-.78.8-2.07 0-2.86zM5.41 20L4 18.59l7.72-7.72 1.47 1.35L5.41 20z\"/>\n",
              "  </svg>\n",
              "      </button>\n",
              "      \n",
              "  <style>\n",
              "    .colab-df-container {\n",
              "      display:flex;\n",
              "      flex-wrap:wrap;\n",
              "      gap: 12px;\n",
              "    }\n",
              "\n",
              "    .colab-df-convert {\n",
              "      background-color: #E8F0FE;\n",
              "      border: none;\n",
              "      border-radius: 50%;\n",
              "      cursor: pointer;\n",
              "      display: none;\n",
              "      fill: #1967D2;\n",
              "      height: 32px;\n",
              "      padding: 0 0 0 0;\n",
              "      width: 32px;\n",
              "    }\n",
              "\n",
              "    .colab-df-convert:hover {\n",
              "      background-color: #E2EBFA;\n",
              "      box-shadow: 0px 1px 2px rgba(60, 64, 67, 0.3), 0px 1px 3px 1px rgba(60, 64, 67, 0.15);\n",
              "      fill: #174EA6;\n",
              "    }\n",
              "\n",
              "    [theme=dark] .colab-df-convert {\n",
              "      background-color: #3B4455;\n",
              "      fill: #D2E3FC;\n",
              "    }\n",
              "\n",
              "    [theme=dark] .colab-df-convert:hover {\n",
              "      background-color: #434B5C;\n",
              "      box-shadow: 0px 1px 3px 1px rgba(0, 0, 0, 0.15);\n",
              "      filter: drop-shadow(0px 1px 2px rgba(0, 0, 0, 0.3));\n",
              "      fill: #FFFFFF;\n",
              "    }\n",
              "  </style>\n",
              "\n",
              "      <script>\n",
              "        const buttonEl =\n",
              "          document.querySelector('#df-3709be10-2e8f-4b4a-86c7-7e471225cbbf button.colab-df-convert');\n",
              "        buttonEl.style.display =\n",
              "          google.colab.kernel.accessAllowed ? 'block' : 'none';\n",
              "\n",
              "        async function convertToInteractive(key) {\n",
              "          const element = document.querySelector('#df-3709be10-2e8f-4b4a-86c7-7e471225cbbf');\n",
              "          const dataTable =\n",
              "            await google.colab.kernel.invokeFunction('convertToInteractive',\n",
              "                                                     [key], {});\n",
              "          if (!dataTable) return;\n",
              "\n",
              "          const docLinkHtml = 'Like what you see? Visit the ' +\n",
              "            '<a target=\"_blank\" href=https://colab.research.google.com/notebooks/data_table.ipynb>data table notebook</a>'\n",
              "            + ' to learn more about interactive tables.';\n",
              "          element.innerHTML = '';\n",
              "          dataTable['output_type'] = 'display_data';\n",
              "          await google.colab.output.renderOutput(dataTable, element);\n",
              "          const docLink = document.createElement('div');\n",
              "          docLink.innerHTML = docLinkHtml;\n",
              "          element.appendChild(docLink);\n",
              "        }\n",
              "      </script>\n",
              "    </div>\n",
              "  </div>\n",
              "  "
            ]
          },
          "metadata": {},
          "execution_count": 22
        }
      ],
      "source": [
        "# выведем всех пользователей по регионам\n",
        "region_cnt= users_events_ab_test.groupby('region')['user_id'].nunique().reset_index()\n",
        "region_cnt"
      ]
    },
    {
      "cell_type": "code",
      "execution_count": null,
      "metadata": {
        "colab": {
          "base_uri": "https://localhost:8080/",
          "height": 175
        },
        "id": "Xz5JDbyVLgQs",
        "outputId": "52f20310-a434-4493-fc4f-37510cab2f93"
      },
      "outputs": [
        {
          "output_type": "execute_result",
          "data": {
            "text/plain": [
              "      region  user_id_eu\n",
              "0       APAC          72\n",
              "1        CIS          55\n",
              "2         EU        6351\n",
              "3  N.America         223"
            ],
            "text/html": [
              "\n",
              "  <div id=\"df-57456d16-29e6-4b56-944f-e92575fae6fd\">\n",
              "    <div class=\"colab-df-container\">\n",
              "      <div>\n",
              "<style scoped>\n",
              "    .dataframe tbody tr th:only-of-type {\n",
              "        vertical-align: middle;\n",
              "    }\n",
              "\n",
              "    .dataframe tbody tr th {\n",
              "        vertical-align: top;\n",
              "    }\n",
              "\n",
              "    .dataframe thead th {\n",
              "        text-align: right;\n",
              "    }\n",
              "</style>\n",
              "<table border=\"1\" class=\"dataframe\">\n",
              "  <thead>\n",
              "    <tr style=\"text-align: right;\">\n",
              "      <th></th>\n",
              "      <th>region</th>\n",
              "      <th>user_id_eu</th>\n",
              "    </tr>\n",
              "  </thead>\n",
              "  <tbody>\n",
              "    <tr>\n",
              "      <th>0</th>\n",
              "      <td>APAC</td>\n",
              "      <td>72</td>\n",
              "    </tr>\n",
              "    <tr>\n",
              "      <th>1</th>\n",
              "      <td>CIS</td>\n",
              "      <td>55</td>\n",
              "    </tr>\n",
              "    <tr>\n",
              "      <th>2</th>\n",
              "      <td>EU</td>\n",
              "      <td>6351</td>\n",
              "    </tr>\n",
              "    <tr>\n",
              "      <th>3</th>\n",
              "      <td>N.America</td>\n",
              "      <td>223</td>\n",
              "    </tr>\n",
              "  </tbody>\n",
              "</table>\n",
              "</div>\n",
              "      <button class=\"colab-df-convert\" onclick=\"convertToInteractive('df-57456d16-29e6-4b56-944f-e92575fae6fd')\"\n",
              "              title=\"Convert this dataframe to an interactive table.\"\n",
              "              style=\"display:none;\">\n",
              "        \n",
              "  <svg xmlns=\"http://www.w3.org/2000/svg\" height=\"24px\"viewBox=\"0 0 24 24\"\n",
              "       width=\"24px\">\n",
              "    <path d=\"M0 0h24v24H0V0z\" fill=\"none\"/>\n",
              "    <path d=\"M18.56 5.44l.94 2.06.94-2.06 2.06-.94-2.06-.94-.94-2.06-.94 2.06-2.06.94zm-11 1L8.5 8.5l.94-2.06 2.06-.94-2.06-.94L8.5 2.5l-.94 2.06-2.06.94zm10 10l.94 2.06.94-2.06 2.06-.94-2.06-.94-.94-2.06-.94 2.06-2.06.94z\"/><path d=\"M17.41 7.96l-1.37-1.37c-.4-.4-.92-.59-1.43-.59-.52 0-1.04.2-1.43.59L10.3 9.45l-7.72 7.72c-.78.78-.78 2.05 0 2.83L4 21.41c.39.39.9.59 1.41.59.51 0 1.02-.2 1.41-.59l7.78-7.78 2.81-2.81c.8-.78.8-2.07 0-2.86zM5.41 20L4 18.59l7.72-7.72 1.47 1.35L5.41 20z\"/>\n",
              "  </svg>\n",
              "      </button>\n",
              "      \n",
              "  <style>\n",
              "    .colab-df-container {\n",
              "      display:flex;\n",
              "      flex-wrap:wrap;\n",
              "      gap: 12px;\n",
              "    }\n",
              "\n",
              "    .colab-df-convert {\n",
              "      background-color: #E8F0FE;\n",
              "      border: none;\n",
              "      border-radius: 50%;\n",
              "      cursor: pointer;\n",
              "      display: none;\n",
              "      fill: #1967D2;\n",
              "      height: 32px;\n",
              "      padding: 0 0 0 0;\n",
              "      width: 32px;\n",
              "    }\n",
              "\n",
              "    .colab-df-convert:hover {\n",
              "      background-color: #E2EBFA;\n",
              "      box-shadow: 0px 1px 2px rgba(60, 64, 67, 0.3), 0px 1px 3px 1px rgba(60, 64, 67, 0.15);\n",
              "      fill: #174EA6;\n",
              "    }\n",
              "\n",
              "    [theme=dark] .colab-df-convert {\n",
              "      background-color: #3B4455;\n",
              "      fill: #D2E3FC;\n",
              "    }\n",
              "\n",
              "    [theme=dark] .colab-df-convert:hover {\n",
              "      background-color: #434B5C;\n",
              "      box-shadow: 0px 1px 3px 1px rgba(0, 0, 0, 0.15);\n",
              "      filter: drop-shadow(0px 1px 2px rgba(0, 0, 0, 0.3));\n",
              "      fill: #FFFFFF;\n",
              "    }\n",
              "  </style>\n",
              "\n",
              "      <script>\n",
              "        const buttonEl =\n",
              "          document.querySelector('#df-57456d16-29e6-4b56-944f-e92575fae6fd button.colab-df-convert');\n",
              "        buttonEl.style.display =\n",
              "          google.colab.kernel.accessAllowed ? 'block' : 'none';\n",
              "\n",
              "        async function convertToInteractive(key) {\n",
              "          const element = document.querySelector('#df-57456d16-29e6-4b56-944f-e92575fae6fd');\n",
              "          const dataTable =\n",
              "            await google.colab.kernel.invokeFunction('convertToInteractive',\n",
              "                                                     [key], {});\n",
              "          if (!dataTable) return;\n",
              "\n",
              "          const docLinkHtml = 'Like what you see? Visit the ' +\n",
              "            '<a target=\"_blank\" href=https://colab.research.google.com/notebooks/data_table.ipynb>data table notebook</a>'\n",
              "            + ' to learn more about interactive tables.';\n",
              "          element.innerHTML = '';\n",
              "          dataTable['output_type'] = 'display_data';\n",
              "          await google.colab.output.renderOutput(dataTable, element);\n",
              "          const docLink = document.createElement('div');\n",
              "          docLink.innerHTML = docLinkHtml;\n",
              "          element.appendChild(docLink);\n",
              "        }\n",
              "      </script>\n",
              "    </div>\n",
              "  </div>\n",
              "  "
            ]
          },
          "metadata": {},
          "execution_count": 23
        }
      ],
      "source": [
        "# выведем новых пользователей из EU\n",
        "ab_test_cnt = users_events_ab_test[users_events_ab_test['ab_test']==\"recommender_system_test\"]\n",
        "\n",
        "ab_test_cnt = ab_test_cnt.groupby('region')['user_id'].nunique().reset_index()\n",
        "ab_test_cnt.columns = ['region', 'user_id_eu']\n",
        "ab_test_cnt"
      ]
    },
    {
      "cell_type": "code",
      "execution_count": null,
      "metadata": {
        "colab": {
          "base_uri": "https://localhost:8080/",
          "height": 81
        },
        "id": "s4THU6p3LgQs",
        "outputId": "a307362d-b8ff-4e57-c9e3-f9c8feb5c62b"
      },
      "outputs": [
        {
          "output_type": "execute_result",
          "data": {
            "text/plain": [
              "  region  user_id  user_id_eu      ratio\n",
              "2     EU    46270        6351  13.725956"
            ],
            "text/html": [
              "\n",
              "  <div id=\"df-72620476-e1eb-426b-b413-ded1565bec83\">\n",
              "    <div class=\"colab-df-container\">\n",
              "      <div>\n",
              "<style scoped>\n",
              "    .dataframe tbody tr th:only-of-type {\n",
              "        vertical-align: middle;\n",
              "    }\n",
              "\n",
              "    .dataframe tbody tr th {\n",
              "        vertical-align: top;\n",
              "    }\n",
              "\n",
              "    .dataframe thead th {\n",
              "        text-align: right;\n",
              "    }\n",
              "</style>\n",
              "<table border=\"1\" class=\"dataframe\">\n",
              "  <thead>\n",
              "    <tr style=\"text-align: right;\">\n",
              "      <th></th>\n",
              "      <th>region</th>\n",
              "      <th>user_id</th>\n",
              "      <th>user_id_eu</th>\n",
              "      <th>ratio</th>\n",
              "    </tr>\n",
              "  </thead>\n",
              "  <tbody>\n",
              "    <tr>\n",
              "      <th>2</th>\n",
              "      <td>EU</td>\n",
              "      <td>46270</td>\n",
              "      <td>6351</td>\n",
              "      <td>13.725956</td>\n",
              "    </tr>\n",
              "  </tbody>\n",
              "</table>\n",
              "</div>\n",
              "      <button class=\"colab-df-convert\" onclick=\"convertToInteractive('df-72620476-e1eb-426b-b413-ded1565bec83')\"\n",
              "              title=\"Convert this dataframe to an interactive table.\"\n",
              "              style=\"display:none;\">\n",
              "        \n",
              "  <svg xmlns=\"http://www.w3.org/2000/svg\" height=\"24px\"viewBox=\"0 0 24 24\"\n",
              "       width=\"24px\">\n",
              "    <path d=\"M0 0h24v24H0V0z\" fill=\"none\"/>\n",
              "    <path d=\"M18.56 5.44l.94 2.06.94-2.06 2.06-.94-2.06-.94-.94-2.06-.94 2.06-2.06.94zm-11 1L8.5 8.5l.94-2.06 2.06-.94-2.06-.94L8.5 2.5l-.94 2.06-2.06.94zm10 10l.94 2.06.94-2.06 2.06-.94-2.06-.94-.94-2.06-.94 2.06-2.06.94z\"/><path d=\"M17.41 7.96l-1.37-1.37c-.4-.4-.92-.59-1.43-.59-.52 0-1.04.2-1.43.59L10.3 9.45l-7.72 7.72c-.78.78-.78 2.05 0 2.83L4 21.41c.39.39.9.59 1.41.59.51 0 1.02-.2 1.41-.59l7.78-7.78 2.81-2.81c.8-.78.8-2.07 0-2.86zM5.41 20L4 18.59l7.72-7.72 1.47 1.35L5.41 20z\"/>\n",
              "  </svg>\n",
              "      </button>\n",
              "      \n",
              "  <style>\n",
              "    .colab-df-container {\n",
              "      display:flex;\n",
              "      flex-wrap:wrap;\n",
              "      gap: 12px;\n",
              "    }\n",
              "\n",
              "    .colab-df-convert {\n",
              "      background-color: #E8F0FE;\n",
              "      border: none;\n",
              "      border-radius: 50%;\n",
              "      cursor: pointer;\n",
              "      display: none;\n",
              "      fill: #1967D2;\n",
              "      height: 32px;\n",
              "      padding: 0 0 0 0;\n",
              "      width: 32px;\n",
              "    }\n",
              "\n",
              "    .colab-df-convert:hover {\n",
              "      background-color: #E2EBFA;\n",
              "      box-shadow: 0px 1px 2px rgba(60, 64, 67, 0.3), 0px 1px 3px 1px rgba(60, 64, 67, 0.15);\n",
              "      fill: #174EA6;\n",
              "    }\n",
              "\n",
              "    [theme=dark] .colab-df-convert {\n",
              "      background-color: #3B4455;\n",
              "      fill: #D2E3FC;\n",
              "    }\n",
              "\n",
              "    [theme=dark] .colab-df-convert:hover {\n",
              "      background-color: #434B5C;\n",
              "      box-shadow: 0px 1px 3px 1px rgba(0, 0, 0, 0.15);\n",
              "      filter: drop-shadow(0px 1px 2px rgba(0, 0, 0, 0.3));\n",
              "      fill: #FFFFFF;\n",
              "    }\n",
              "  </style>\n",
              "\n",
              "      <script>\n",
              "        const buttonEl =\n",
              "          document.querySelector('#df-72620476-e1eb-426b-b413-ded1565bec83 button.colab-df-convert');\n",
              "        buttonEl.style.display =\n",
              "          google.colab.kernel.accessAllowed ? 'block' : 'none';\n",
              "\n",
              "        async function convertToInteractive(key) {\n",
              "          const element = document.querySelector('#df-72620476-e1eb-426b-b413-ded1565bec83');\n",
              "          const dataTable =\n",
              "            await google.colab.kernel.invokeFunction('convertToInteractive',\n",
              "                                                     [key], {});\n",
              "          if (!dataTable) return;\n",
              "\n",
              "          const docLinkHtml = 'Like what you see? Visit the ' +\n",
              "            '<a target=\"_blank\" href=https://colab.research.google.com/notebooks/data_table.ipynb>data table notebook</a>'\n",
              "            + ' to learn more about interactive tables.';\n",
              "          element.innerHTML = '';\n",
              "          dataTable['output_type'] = 'display_data';\n",
              "          await google.colab.output.renderOutput(dataTable, element);\n",
              "          const docLink = document.createElement('div');\n",
              "          docLink.innerHTML = docLinkHtml;\n",
              "          element.appendChild(docLink);\n",
              "        }\n",
              "      </script>\n",
              "    </div>\n",
              "  </div>\n",
              "  "
            ]
          },
          "metadata": {},
          "execution_count": 24
        }
      ],
      "source": [
        "# объединим таблицы region_cnt_ и ab_test_cnt\n",
        "region_ab_test_cnt = region_cnt.merge(\n",
        "        ab_test_cnt[['region', 'user_id_eu']], on='region', how='left'\n",
        "    )\n",
        "\n",
        "# посчитаем долюновых пользователей из ЕС\n",
        "region_ab_test_cnt = region_ab_test_cnt[region_ab_test_cnt['region']==\"EU\"]\n",
        "region_ab_test_cnt['ratio'] = (region_ab_test_cnt['user_id_eu']/region_ab_test_cnt['user_id'])*100\n",
        "region_ab_test_cnt"
      ]
    },
    {
      "cell_type": "markdown",
      "metadata": {
        "id": "thhSpAhOLgQs"
      },
      "source": [
        "Обнаружены несовпадения в доле новых пользователей из Европы: разница составляет 1,2% в меньшую сторону."
      ]
    },
    {
      "cell_type": "markdown",
      "metadata": {
        "id": "hMHprL9OLgQs"
      },
      "source": [
        "### Ожидаемый эффект: за 14 дней с момента регистрации в системе пользователи покажут улучшение каждой метрики не менее, чем на 10%\n"
      ]
    },
    {
      "cell_type": "code",
      "execution_count": null,
      "metadata": {
        "colab": {
          "base_uri": "https://localhost:8080/",
          "height": 313
        },
        "id": "4TRvpODRLgQs",
        "outputId": "a9606c3c-a0ed-409f-f54d-d980cb942ab3"
      },
      "outputs": [
        {
          "output_type": "stream",
          "name": "stderr",
          "text": [
            "<ipython-input-25-78dbe826da6b>:6: SettingWithCopyWarning: \n",
            "A value is trying to be set on a copy of a slice from a DataFrame.\n",
            "Try using .loc[row_indexer,col_indexer] = value instead\n",
            "\n",
            "See the caveats in the documentation: https://pandas.pydata.org/pandas-docs/stable/user_guide/indexing.html#returning-a-view-versus-a-copy\n",
            "  users_login['lifetime'] = users_login['event_dt'] - users_login['registration_date']\n"
          ]
        },
        {
          "output_type": "execute_result",
          "data": {
            "text/plain": [
              "              number_of_users  user_share\n",
              "event_name                               \n",
              "login                    3480    0.999713\n",
              "product_page             2178    0.625682\n",
              "product_cart             1026    0.294743\n",
              "purchase                 1082    0.310830"
            ],
            "text/html": [
              "\n",
              "  <div id=\"df-b55fd4dd-ebcb-45ff-a129-af40cde5bf54\">\n",
              "    <div class=\"colab-df-container\">\n",
              "      <div>\n",
              "<style scoped>\n",
              "    .dataframe tbody tr th:only-of-type {\n",
              "        vertical-align: middle;\n",
              "    }\n",
              "\n",
              "    .dataframe tbody tr th {\n",
              "        vertical-align: top;\n",
              "    }\n",
              "\n",
              "    .dataframe thead th {\n",
              "        text-align: right;\n",
              "    }\n",
              "</style>\n",
              "<table border=\"1\" class=\"dataframe\">\n",
              "  <thead>\n",
              "    <tr style=\"text-align: right;\">\n",
              "      <th></th>\n",
              "      <th>number_of_users</th>\n",
              "      <th>user_share</th>\n",
              "    </tr>\n",
              "    <tr>\n",
              "      <th>event_name</th>\n",
              "      <th></th>\n",
              "      <th></th>\n",
              "    </tr>\n",
              "  </thead>\n",
              "  <tbody>\n",
              "    <tr>\n",
              "      <th>login</th>\n",
              "      <td>3480</td>\n",
              "      <td>0.999713</td>\n",
              "    </tr>\n",
              "    <tr>\n",
              "      <th>product_page</th>\n",
              "      <td>2178</td>\n",
              "      <td>0.625682</td>\n",
              "    </tr>\n",
              "    <tr>\n",
              "      <th>product_cart</th>\n",
              "      <td>1026</td>\n",
              "      <td>0.294743</td>\n",
              "    </tr>\n",
              "    <tr>\n",
              "      <th>purchase</th>\n",
              "      <td>1082</td>\n",
              "      <td>0.310830</td>\n",
              "    </tr>\n",
              "  </tbody>\n",
              "</table>\n",
              "</div>\n",
              "      <button class=\"colab-df-convert\" onclick=\"convertToInteractive('df-b55fd4dd-ebcb-45ff-a129-af40cde5bf54')\"\n",
              "              title=\"Convert this dataframe to an interactive table.\"\n",
              "              style=\"display:none;\">\n",
              "        \n",
              "  <svg xmlns=\"http://www.w3.org/2000/svg\" height=\"24px\"viewBox=\"0 0 24 24\"\n",
              "       width=\"24px\">\n",
              "    <path d=\"M0 0h24v24H0V0z\" fill=\"none\"/>\n",
              "    <path d=\"M18.56 5.44l.94 2.06.94-2.06 2.06-.94-2.06-.94-.94-2.06-.94 2.06-2.06.94zm-11 1L8.5 8.5l.94-2.06 2.06-.94-2.06-.94L8.5 2.5l-.94 2.06-2.06.94zm10 10l.94 2.06.94-2.06 2.06-.94-2.06-.94-.94-2.06-.94 2.06-2.06.94z\"/><path d=\"M17.41 7.96l-1.37-1.37c-.4-.4-.92-.59-1.43-.59-.52 0-1.04.2-1.43.59L10.3 9.45l-7.72 7.72c-.78.78-.78 2.05 0 2.83L4 21.41c.39.39.9.59 1.41.59.51 0 1.02-.2 1.41-.59l7.78-7.78 2.81-2.81c.8-.78.8-2.07 0-2.86zM5.41 20L4 18.59l7.72-7.72 1.47 1.35L5.41 20z\"/>\n",
              "  </svg>\n",
              "      </button>\n",
              "      \n",
              "  <style>\n",
              "    .colab-df-container {\n",
              "      display:flex;\n",
              "      flex-wrap:wrap;\n",
              "      gap: 12px;\n",
              "    }\n",
              "\n",
              "    .colab-df-convert {\n",
              "      background-color: #E8F0FE;\n",
              "      border: none;\n",
              "      border-radius: 50%;\n",
              "      cursor: pointer;\n",
              "      display: none;\n",
              "      fill: #1967D2;\n",
              "      height: 32px;\n",
              "      padding: 0 0 0 0;\n",
              "      width: 32px;\n",
              "    }\n",
              "\n",
              "    .colab-df-convert:hover {\n",
              "      background-color: #E2EBFA;\n",
              "      box-shadow: 0px 1px 2px rgba(60, 64, 67, 0.3), 0px 1px 3px 1px rgba(60, 64, 67, 0.15);\n",
              "      fill: #174EA6;\n",
              "    }\n",
              "\n",
              "    [theme=dark] .colab-df-convert {\n",
              "      background-color: #3B4455;\n",
              "      fill: #D2E3FC;\n",
              "    }\n",
              "\n",
              "    [theme=dark] .colab-df-convert:hover {\n",
              "      background-color: #434B5C;\n",
              "      box-shadow: 0px 1px 3px 1px rgba(0, 0, 0, 0.15);\n",
              "      filter: drop-shadow(0px 1px 2px rgba(0, 0, 0, 0.3));\n",
              "      fill: #FFFFFF;\n",
              "    }\n",
              "  </style>\n",
              "\n",
              "      <script>\n",
              "        const buttonEl =\n",
              "          document.querySelector('#df-b55fd4dd-ebcb-45ff-a129-af40cde5bf54 button.colab-df-convert');\n",
              "        buttonEl.style.display =\n",
              "          google.colab.kernel.accessAllowed ? 'block' : 'none';\n",
              "\n",
              "        async function convertToInteractive(key) {\n",
              "          const element = document.querySelector('#df-b55fd4dd-ebcb-45ff-a129-af40cde5bf54');\n",
              "          const dataTable =\n",
              "            await google.colab.kernel.invokeFunction('convertToInteractive',\n",
              "                                                     [key], {});\n",
              "          if (!dataTable) return;\n",
              "\n",
              "          const docLinkHtml = 'Like what you see? Visit the ' +\n",
              "            '<a target=\"_blank\" href=https://colab.research.google.com/notebooks/data_table.ipynb>data table notebook</a>'\n",
              "            + ' to learn more about interactive tables.';\n",
              "          element.innerHTML = '';\n",
              "          dataTable['output_type'] = 'display_data';\n",
              "          await google.colab.output.renderOutput(dataTable, element);\n",
              "          const docLink = document.createElement('div');\n",
              "          docLink.innerHTML = docLinkHtml;\n",
              "          element.appendChild(docLink);\n",
              "        }\n",
              "      </script>\n",
              "    </div>\n",
              "  </div>\n",
              "  "
            ]
          },
          "metadata": {},
          "execution_count": 25
        }
      ],
      "source": [
        "# отфильтруем таблицу \n",
        "users_login = users_events_ab_test.query('region==\"EU\" and ab_test==\"recommender_system_test\"')\n",
        "users_login\n",
        "\n",
        "# добавим столбец с лайфтаймом\n",
        "users_login['lifetime'] = users_login['event_dt'] - users_login['registration_date']\n",
        "\n",
        "\n",
        "# отфильтруем таблицу по поздней дате\n",
        "users_login=users_login[users_login['lifetime']<='14 days 12:42:57']\n",
        "\n",
        "# выведем пользователей по группам\n",
        "# посчитаем долю пользователей по событию\n",
        "unic_user_event = (users_login\n",
        "                   .groupby('event_name')\n",
        "                   .agg(number_of_users = ('user_id', 'nunique'))\n",
        "                   .sort_values('number_of_users', ascending=False)\n",
        "                   .assign(user_share = lambda x: x['number_of_users'] / users_login['user_id'].nunique()))\n",
        "\n",
        "new_index = ['login', 'product_page', 'product_cart', 'purchase']\n",
        "unic_user_event = unic_user_event.reindex(new_index)\n",
        "\n",
        "unic_user_event"
      ]
    },
    {
      "cell_type": "code",
      "execution_count": null,
      "metadata": {
        "colab": {
          "base_uri": "https://localhost:8080/",
          "height": 517
        },
        "id": "oEtZUwjnLgQs",
        "outputId": "cdcbb5dd-b7af-4722-9112-7a8949fa06d8"
      },
      "outputs": [
        {
          "output_type": "display_data",
          "data": {
            "text/html": [
              "<html>\n",
              "<head><meta charset=\"utf-8\" /></head>\n",
              "<body>\n",
              "    <div>            <script src=\"https://cdnjs.cloudflare.com/ajax/libs/mathjax/2.7.5/MathJax.js?config=TeX-AMS-MML_SVG\"></script><script type=\"text/javascript\">if (window.MathJax) {MathJax.Hub.Config({SVG: {font: \"STIX-Web\"}});}</script>                <script type=\"text/javascript\">window.PlotlyConfig = {MathJaxConfig: 'local'};</script>\n",
              "        <script src=\"https://cdn.plot.ly/plotly-2.8.3.min.js\"></script>                <div id=\"bd56e887-8633-467e-a9bf-fc01bbbd9e23\" class=\"plotly-graph-div\" style=\"height:500px; width:900px;\"></div>            <script type=\"text/javascript\">                                    window.PLOTLYENV=window.PLOTLYENV || {};                                    if (document.getElementById(\"bd56e887-8633-467e-a9bf-fc01bbbd9e23\")) {                    Plotly.newPlot(                        \"bd56e887-8633-467e-a9bf-fc01bbbd9e23\",                        [{\"connector\":{\"line\":{\"color\":\"royalblue\",\"dash\":\"dot\",\"width\":3}},\"marker\":{\"color\":[\"deepskyblue\",\"lightsalmon\",\"tan\",\"teal\"],\"line\":{\"color\":[\"wheat\",\"wheat\",\"wheat\",\"wheat\"],\"width\":[4,3,2,1]}},\"opacity\":0.65,\"textinfo\":\"value+percent initial+percent previous+percent total\",\"textposition\":\"inside\",\"x\":[3480,2178,1026,1082],\"y\":[\"login\",\"product_page\",\"product_cart\",\"purchase\"],\"type\":\"funnel\"}],                        {\"template\":{\"data\":{\"bar\":[{\"error_x\":{\"color\":\"#2a3f5f\"},\"error_y\":{\"color\":\"#2a3f5f\"},\"marker\":{\"line\":{\"color\":\"#E5ECF6\",\"width\":0.5},\"pattern\":{\"fillmode\":\"overlay\",\"size\":10,\"solidity\":0.2}},\"type\":\"bar\"}],\"barpolar\":[{\"marker\":{\"line\":{\"color\":\"#E5ECF6\",\"width\":0.5},\"pattern\":{\"fillmode\":\"overlay\",\"size\":10,\"solidity\":0.2}},\"type\":\"barpolar\"}],\"carpet\":[{\"aaxis\":{\"endlinecolor\":\"#2a3f5f\",\"gridcolor\":\"white\",\"linecolor\":\"white\",\"minorgridcolor\":\"white\",\"startlinecolor\":\"#2a3f5f\"},\"baxis\":{\"endlinecolor\":\"#2a3f5f\",\"gridcolor\":\"white\",\"linecolor\":\"white\",\"minorgridcolor\":\"white\",\"startlinecolor\":\"#2a3f5f\"},\"type\":\"carpet\"}],\"choropleth\":[{\"colorbar\":{\"outlinewidth\":0,\"ticks\":\"\"},\"type\":\"choropleth\"}],\"contour\":[{\"colorbar\":{\"outlinewidth\":0,\"ticks\":\"\"},\"colorscale\":[[0.0,\"#0d0887\"],[0.1111111111111111,\"#46039f\"],[0.2222222222222222,\"#7201a8\"],[0.3333333333333333,\"#9c179e\"],[0.4444444444444444,\"#bd3786\"],[0.5555555555555556,\"#d8576b\"],[0.6666666666666666,\"#ed7953\"],[0.7777777777777778,\"#fb9f3a\"],[0.8888888888888888,\"#fdca26\"],[1.0,\"#f0f921\"]],\"type\":\"contour\"}],\"contourcarpet\":[{\"colorbar\":{\"outlinewidth\":0,\"ticks\":\"\"},\"type\":\"contourcarpet\"}],\"heatmap\":[{\"colorbar\":{\"outlinewidth\":0,\"ticks\":\"\"},\"colorscale\":[[0.0,\"#0d0887\"],[0.1111111111111111,\"#46039f\"],[0.2222222222222222,\"#7201a8\"],[0.3333333333333333,\"#9c179e\"],[0.4444444444444444,\"#bd3786\"],[0.5555555555555556,\"#d8576b\"],[0.6666666666666666,\"#ed7953\"],[0.7777777777777778,\"#fb9f3a\"],[0.8888888888888888,\"#fdca26\"],[1.0,\"#f0f921\"]],\"type\":\"heatmap\"}],\"heatmapgl\":[{\"colorbar\":{\"outlinewidth\":0,\"ticks\":\"\"},\"colorscale\":[[0.0,\"#0d0887\"],[0.1111111111111111,\"#46039f\"],[0.2222222222222222,\"#7201a8\"],[0.3333333333333333,\"#9c179e\"],[0.4444444444444444,\"#bd3786\"],[0.5555555555555556,\"#d8576b\"],[0.6666666666666666,\"#ed7953\"],[0.7777777777777778,\"#fb9f3a\"],[0.8888888888888888,\"#fdca26\"],[1.0,\"#f0f921\"]],\"type\":\"heatmapgl\"}],\"histogram\":[{\"marker\":{\"pattern\":{\"fillmode\":\"overlay\",\"size\":10,\"solidity\":0.2}},\"type\":\"histogram\"}],\"histogram2d\":[{\"colorbar\":{\"outlinewidth\":0,\"ticks\":\"\"},\"colorscale\":[[0.0,\"#0d0887\"],[0.1111111111111111,\"#46039f\"],[0.2222222222222222,\"#7201a8\"],[0.3333333333333333,\"#9c179e\"],[0.4444444444444444,\"#bd3786\"],[0.5555555555555556,\"#d8576b\"],[0.6666666666666666,\"#ed7953\"],[0.7777777777777778,\"#fb9f3a\"],[0.8888888888888888,\"#fdca26\"],[1.0,\"#f0f921\"]],\"type\":\"histogram2d\"}],\"histogram2dcontour\":[{\"colorbar\":{\"outlinewidth\":0,\"ticks\":\"\"},\"colorscale\":[[0.0,\"#0d0887\"],[0.1111111111111111,\"#46039f\"],[0.2222222222222222,\"#7201a8\"],[0.3333333333333333,\"#9c179e\"],[0.4444444444444444,\"#bd3786\"],[0.5555555555555556,\"#d8576b\"],[0.6666666666666666,\"#ed7953\"],[0.7777777777777778,\"#fb9f3a\"],[0.8888888888888888,\"#fdca26\"],[1.0,\"#f0f921\"]],\"type\":\"histogram2dcontour\"}],\"mesh3d\":[{\"colorbar\":{\"outlinewidth\":0,\"ticks\":\"\"},\"type\":\"mesh3d\"}],\"parcoords\":[{\"line\":{\"colorbar\":{\"outlinewidth\":0,\"ticks\":\"\"}},\"type\":\"parcoords\"}],\"pie\":[{\"automargin\":true,\"type\":\"pie\"}],\"scatter\":[{\"marker\":{\"colorbar\":{\"outlinewidth\":0,\"ticks\":\"\"}},\"type\":\"scatter\"}],\"scatter3d\":[{\"line\":{\"colorbar\":{\"outlinewidth\":0,\"ticks\":\"\"}},\"marker\":{\"colorbar\":{\"outlinewidth\":0,\"ticks\":\"\"}},\"type\":\"scatter3d\"}],\"scattercarpet\":[{\"marker\":{\"colorbar\":{\"outlinewidth\":0,\"ticks\":\"\"}},\"type\":\"scattercarpet\"}],\"scattergeo\":[{\"marker\":{\"colorbar\":{\"outlinewidth\":0,\"ticks\":\"\"}},\"type\":\"scattergeo\"}],\"scattergl\":[{\"marker\":{\"colorbar\":{\"outlinewidth\":0,\"ticks\":\"\"}},\"type\":\"scattergl\"}],\"scattermapbox\":[{\"marker\":{\"colorbar\":{\"outlinewidth\":0,\"ticks\":\"\"}},\"type\":\"scattermapbox\"}],\"scatterpolar\":[{\"marker\":{\"colorbar\":{\"outlinewidth\":0,\"ticks\":\"\"}},\"type\":\"scatterpolar\"}],\"scatterpolargl\":[{\"marker\":{\"colorbar\":{\"outlinewidth\":0,\"ticks\":\"\"}},\"type\":\"scatterpolargl\"}],\"scatterternary\":[{\"marker\":{\"colorbar\":{\"outlinewidth\":0,\"ticks\":\"\"}},\"type\":\"scatterternary\"}],\"surface\":[{\"colorbar\":{\"outlinewidth\":0,\"ticks\":\"\"},\"colorscale\":[[0.0,\"#0d0887\"],[0.1111111111111111,\"#46039f\"],[0.2222222222222222,\"#7201a8\"],[0.3333333333333333,\"#9c179e\"],[0.4444444444444444,\"#bd3786\"],[0.5555555555555556,\"#d8576b\"],[0.6666666666666666,\"#ed7953\"],[0.7777777777777778,\"#fb9f3a\"],[0.8888888888888888,\"#fdca26\"],[1.0,\"#f0f921\"]],\"type\":\"surface\"}],\"table\":[{\"cells\":{\"fill\":{\"color\":\"#EBF0F8\"},\"line\":{\"color\":\"white\"}},\"header\":{\"fill\":{\"color\":\"#C8D4E3\"},\"line\":{\"color\":\"white\"}},\"type\":\"table\"}]},\"layout\":{\"annotationdefaults\":{\"arrowcolor\":\"#2a3f5f\",\"arrowhead\":0,\"arrowwidth\":1},\"autotypenumbers\":\"strict\",\"coloraxis\":{\"colorbar\":{\"outlinewidth\":0,\"ticks\":\"\"}},\"colorscale\":{\"diverging\":[[0,\"#8e0152\"],[0.1,\"#c51b7d\"],[0.2,\"#de77ae\"],[0.3,\"#f1b6da\"],[0.4,\"#fde0ef\"],[0.5,\"#f7f7f7\"],[0.6,\"#e6f5d0\"],[0.7,\"#b8e186\"],[0.8,\"#7fbc41\"],[0.9,\"#4d9221\"],[1,\"#276419\"]],\"sequential\":[[0.0,\"#0d0887\"],[0.1111111111111111,\"#46039f\"],[0.2222222222222222,\"#7201a8\"],[0.3333333333333333,\"#9c179e\"],[0.4444444444444444,\"#bd3786\"],[0.5555555555555556,\"#d8576b\"],[0.6666666666666666,\"#ed7953\"],[0.7777777777777778,\"#fb9f3a\"],[0.8888888888888888,\"#fdca26\"],[1.0,\"#f0f921\"]],\"sequentialminus\":[[0.0,\"#0d0887\"],[0.1111111111111111,\"#46039f\"],[0.2222222222222222,\"#7201a8\"],[0.3333333333333333,\"#9c179e\"],[0.4444444444444444,\"#bd3786\"],[0.5555555555555556,\"#d8576b\"],[0.6666666666666666,\"#ed7953\"],[0.7777777777777778,\"#fb9f3a\"],[0.8888888888888888,\"#fdca26\"],[1.0,\"#f0f921\"]]},\"colorway\":[\"#636efa\",\"#EF553B\",\"#00cc96\",\"#ab63fa\",\"#FFA15A\",\"#19d3f3\",\"#FF6692\",\"#B6E880\",\"#FF97FF\",\"#FECB52\"],\"font\":{\"color\":\"#2a3f5f\"},\"geo\":{\"bgcolor\":\"white\",\"lakecolor\":\"white\",\"landcolor\":\"#E5ECF6\",\"showlakes\":true,\"showland\":true,\"subunitcolor\":\"white\"},\"hoverlabel\":{\"align\":\"left\"},\"hovermode\":\"closest\",\"mapbox\":{\"style\":\"light\"},\"paper_bgcolor\":\"white\",\"plot_bgcolor\":\"#E5ECF6\",\"polar\":{\"angularaxis\":{\"gridcolor\":\"white\",\"linecolor\":\"white\",\"ticks\":\"\"},\"bgcolor\":\"#E5ECF6\",\"radialaxis\":{\"gridcolor\":\"white\",\"linecolor\":\"white\",\"ticks\":\"\"}},\"scene\":{\"xaxis\":{\"backgroundcolor\":\"#E5ECF6\",\"gridcolor\":\"white\",\"gridwidth\":2,\"linecolor\":\"white\",\"showbackground\":true,\"ticks\":\"\",\"zerolinecolor\":\"white\"},\"yaxis\":{\"backgroundcolor\":\"#E5ECF6\",\"gridcolor\":\"white\",\"gridwidth\":2,\"linecolor\":\"white\",\"showbackground\":true,\"ticks\":\"\",\"zerolinecolor\":\"white\"},\"zaxis\":{\"backgroundcolor\":\"#E5ECF6\",\"gridcolor\":\"white\",\"gridwidth\":2,\"linecolor\":\"white\",\"showbackground\":true,\"ticks\":\"\",\"zerolinecolor\":\"white\"}},\"shapedefaults\":{\"line\":{\"color\":\"#2a3f5f\"}},\"ternary\":{\"aaxis\":{\"gridcolor\":\"white\",\"linecolor\":\"white\",\"ticks\":\"\"},\"baxis\":{\"gridcolor\":\"white\",\"linecolor\":\"white\",\"ticks\":\"\"},\"bgcolor\":\"#E5ECF6\",\"caxis\":{\"gridcolor\":\"white\",\"linecolor\":\"white\",\"ticks\":\"\"}},\"title\":{\"x\":0.05},\"xaxis\":{\"automargin\":true,\"gridcolor\":\"white\",\"linecolor\":\"white\",\"ticks\":\"\",\"title\":{\"standoff\":15},\"zerolinecolor\":\"white\",\"zerolinewidth\":2},\"yaxis\":{\"automargin\":true,\"gridcolor\":\"white\",\"linecolor\":\"white\",\"ticks\":\"\",\"title\":{\"standoff\":15},\"zerolinecolor\":\"white\",\"zerolinewidth\":2}}},\"title\":{\"text\":\"\\u0412\\u043e\\u0440\\u043e\\u043d\\u043a\\u0430 \\u0441\\u043e\\u0431\\u044b\\u0442\\u0438\\u0439\"},\"width\":900,\"height\":500},                        {\"responsive\": true}                    ).then(function(){\n",
              "                            \n",
              "var gd = document.getElementById('bd56e887-8633-467e-a9bf-fc01bbbd9e23');\n",
              "var x = new MutationObserver(function (mutations, observer) {{\n",
              "        var display = window.getComputedStyle(gd).display;\n",
              "        if (!display || display === 'none') {{\n",
              "            console.log([gd, 'removed!']);\n",
              "            Plotly.purge(gd);\n",
              "            observer.disconnect();\n",
              "        }}\n",
              "}});\n",
              "\n",
              "// Listen for the removal of the full notebook cells\n",
              "var notebookContainer = gd.closest('#notebook-container');\n",
              "if (notebookContainer) {{\n",
              "    x.observe(notebookContainer, {childList: true});\n",
              "}}\n",
              "\n",
              "// Listen for the clearing of the current output cell\n",
              "var outputEl = gd.closest('.output');\n",
              "if (outputEl) {{\n",
              "    x.observe(outputEl, {childList: true});\n",
              "}}\n",
              "\n",
              "                        })                };                            </script>        </div>\n",
              "</body>\n",
              "</html>"
            ]
          },
          "metadata": {}
        }
      ],
      "source": [
        "# login - регистрация пользователя\n",
        "# product_page - страница продукта\n",
        "# product_cart - корзина\n",
        "# purchase - покупка\n",
        "\n",
        "# построим воронку событий и посмотрим, сколько пользователей побывали на каждом из этапов\n",
        "fig = go.Figure(go.Funnel(\n",
        "    y = new_index,\n",
        "    x = unic_user_event['number_of_users'],\n",
        "    textposition = \"inside\",\n",
        "    textinfo = \"value+percent initial+percent previous+percent total\",\n",
        "    opacity = 0.65, marker = {\"color\": [\"deepskyblue\", \"lightsalmon\", \"tan\", \"teal\"],\n",
        "    \"line\": {\"width\": [4, 3, 2, 1], \"color\": [\"wheat\", \"wheat\", \"wheat\", \"wheat\"]}},\n",
        "    connector = {\"line\": {\"color\": \"royalblue\", \"dash\": \"dot\", \"width\": 3}})\n",
        "    )\n",
        "\n",
        "fig.update_layout(title=\"Воронка событий\", width=900, height=500)\n",
        "\n",
        "fig.show()"
      ]
    },
    {
      "cell_type": "markdown",
      "metadata": {
        "id": "b15AIoypLgQt"
      },
      "source": [
        "## Проверка пересечений периодов проведения теста и маркетинговых активностей"
      ]
    },
    {
      "cell_type": "code",
      "execution_count": null,
      "metadata": {
        "colab": {
          "base_uri": "https://localhost:8080/",
          "height": 488
        },
        "id": "TGr4YVZ7LgQt",
        "outputId": "da2e0a67-8985-42f8-c24c-8e72bb3cb317"
      },
      "outputs": [
        {
          "output_type": "execute_result",
          "data": {
            "text/plain": [
              "                                name                    region   start_dt  \\\n",
              "6             Chinese New Year Promo                      APAC 2020-01-25   \n",
              "1       St. Valentine's Day Giveaway  EU, CIS, APAC, N.America 2020-02-14   \n",
              "8    International Women's Day Promo             EU, CIS, APAC 2020-03-08   \n",
              "2             St. Patric's Day Promo             EU, N.America 2020-03-17   \n",
              "3                       Easter Promo  EU, CIS, APAC, N.America 2020-04-12   \n",
              "7   Labor day (May 1st) Ads Campaign             EU, CIS, APAC 2020-05-01   \n",
              "9    Victory Day CIS (May 9th) Event                       CIS 2020-05-09   \n",
              "11     Dragon Boat Festival Giveaway                      APAC 2020-06-25   \n",
              "4                  4th of July Promo                 N.America 2020-07-04   \n",
              "13             Chinese Moon Festival                      APAC 2020-10-01   \n",
              "12           Single's Day Gift Promo                      APAC 2020-11-11   \n",
              "5          Black Friday Ads Campaign  EU, CIS, APAC, N.America 2020-11-26   \n",
              "0           Christmas&New Year Promo             EU, N.America 2020-12-25   \n",
              "10         CIS New Year Gift Lottery                       CIS 2020-12-30   \n",
              "\n",
              "    finish_dt  \n",
              "6  2020-02-07  \n",
              "1  2020-02-16  \n",
              "8  2020-03-10  \n",
              "2  2020-03-19  \n",
              "3  2020-04-19  \n",
              "7  2020-05-03  \n",
              "9  2020-05-11  \n",
              "11 2020-07-01  \n",
              "4  2020-07-11  \n",
              "13 2020-10-07  \n",
              "12 2020-11-12  \n",
              "5  2020-12-01  \n",
              "0  2021-01-03  \n",
              "10 2021-01-07  "
            ],
            "text/html": [
              "\n",
              "  <div id=\"df-99423d0e-491a-4735-a35f-b664f57e4265\">\n",
              "    <div class=\"colab-df-container\">\n",
              "      <div>\n",
              "<style scoped>\n",
              "    .dataframe tbody tr th:only-of-type {\n",
              "        vertical-align: middle;\n",
              "    }\n",
              "\n",
              "    .dataframe tbody tr th {\n",
              "        vertical-align: top;\n",
              "    }\n",
              "\n",
              "    .dataframe thead th {\n",
              "        text-align: right;\n",
              "    }\n",
              "</style>\n",
              "<table border=\"1\" class=\"dataframe\">\n",
              "  <thead>\n",
              "    <tr style=\"text-align: right;\">\n",
              "      <th></th>\n",
              "      <th>name</th>\n",
              "      <th>region</th>\n",
              "      <th>start_dt</th>\n",
              "      <th>finish_dt</th>\n",
              "    </tr>\n",
              "  </thead>\n",
              "  <tbody>\n",
              "    <tr>\n",
              "      <th>6</th>\n",
              "      <td>Chinese New Year Promo</td>\n",
              "      <td>APAC</td>\n",
              "      <td>2020-01-25</td>\n",
              "      <td>2020-02-07</td>\n",
              "    </tr>\n",
              "    <tr>\n",
              "      <th>1</th>\n",
              "      <td>St. Valentine's Day Giveaway</td>\n",
              "      <td>EU, CIS, APAC, N.America</td>\n",
              "      <td>2020-02-14</td>\n",
              "      <td>2020-02-16</td>\n",
              "    </tr>\n",
              "    <tr>\n",
              "      <th>8</th>\n",
              "      <td>International Women's Day Promo</td>\n",
              "      <td>EU, CIS, APAC</td>\n",
              "      <td>2020-03-08</td>\n",
              "      <td>2020-03-10</td>\n",
              "    </tr>\n",
              "    <tr>\n",
              "      <th>2</th>\n",
              "      <td>St. Patric's Day Promo</td>\n",
              "      <td>EU, N.America</td>\n",
              "      <td>2020-03-17</td>\n",
              "      <td>2020-03-19</td>\n",
              "    </tr>\n",
              "    <tr>\n",
              "      <th>3</th>\n",
              "      <td>Easter Promo</td>\n",
              "      <td>EU, CIS, APAC, N.America</td>\n",
              "      <td>2020-04-12</td>\n",
              "      <td>2020-04-19</td>\n",
              "    </tr>\n",
              "    <tr>\n",
              "      <th>7</th>\n",
              "      <td>Labor day (May 1st) Ads Campaign</td>\n",
              "      <td>EU, CIS, APAC</td>\n",
              "      <td>2020-05-01</td>\n",
              "      <td>2020-05-03</td>\n",
              "    </tr>\n",
              "    <tr>\n",
              "      <th>9</th>\n",
              "      <td>Victory Day CIS (May 9th) Event</td>\n",
              "      <td>CIS</td>\n",
              "      <td>2020-05-09</td>\n",
              "      <td>2020-05-11</td>\n",
              "    </tr>\n",
              "    <tr>\n",
              "      <th>11</th>\n",
              "      <td>Dragon Boat Festival Giveaway</td>\n",
              "      <td>APAC</td>\n",
              "      <td>2020-06-25</td>\n",
              "      <td>2020-07-01</td>\n",
              "    </tr>\n",
              "    <tr>\n",
              "      <th>4</th>\n",
              "      <td>4th of July Promo</td>\n",
              "      <td>N.America</td>\n",
              "      <td>2020-07-04</td>\n",
              "      <td>2020-07-11</td>\n",
              "    </tr>\n",
              "    <tr>\n",
              "      <th>13</th>\n",
              "      <td>Chinese Moon Festival</td>\n",
              "      <td>APAC</td>\n",
              "      <td>2020-10-01</td>\n",
              "      <td>2020-10-07</td>\n",
              "    </tr>\n",
              "    <tr>\n",
              "      <th>12</th>\n",
              "      <td>Single's Day Gift Promo</td>\n",
              "      <td>APAC</td>\n",
              "      <td>2020-11-11</td>\n",
              "      <td>2020-11-12</td>\n",
              "    </tr>\n",
              "    <tr>\n",
              "      <th>5</th>\n",
              "      <td>Black Friday Ads Campaign</td>\n",
              "      <td>EU, CIS, APAC, N.America</td>\n",
              "      <td>2020-11-26</td>\n",
              "      <td>2020-12-01</td>\n",
              "    </tr>\n",
              "    <tr>\n",
              "      <th>0</th>\n",
              "      <td>Christmas&amp;New Year Promo</td>\n",
              "      <td>EU, N.America</td>\n",
              "      <td>2020-12-25</td>\n",
              "      <td>2021-01-03</td>\n",
              "    </tr>\n",
              "    <tr>\n",
              "      <th>10</th>\n",
              "      <td>CIS New Year Gift Lottery</td>\n",
              "      <td>CIS</td>\n",
              "      <td>2020-12-30</td>\n",
              "      <td>2021-01-07</td>\n",
              "    </tr>\n",
              "  </tbody>\n",
              "</table>\n",
              "</div>\n",
              "      <button class=\"colab-df-convert\" onclick=\"convertToInteractive('df-99423d0e-491a-4735-a35f-b664f57e4265')\"\n",
              "              title=\"Convert this dataframe to an interactive table.\"\n",
              "              style=\"display:none;\">\n",
              "        \n",
              "  <svg xmlns=\"http://www.w3.org/2000/svg\" height=\"24px\"viewBox=\"0 0 24 24\"\n",
              "       width=\"24px\">\n",
              "    <path d=\"M0 0h24v24H0V0z\" fill=\"none\"/>\n",
              "    <path d=\"M18.56 5.44l.94 2.06.94-2.06 2.06-.94-2.06-.94-.94-2.06-.94 2.06-2.06.94zm-11 1L8.5 8.5l.94-2.06 2.06-.94-2.06-.94L8.5 2.5l-.94 2.06-2.06.94zm10 10l.94 2.06.94-2.06 2.06-.94-2.06-.94-.94-2.06-.94 2.06-2.06.94z\"/><path d=\"M17.41 7.96l-1.37-1.37c-.4-.4-.92-.59-1.43-.59-.52 0-1.04.2-1.43.59L10.3 9.45l-7.72 7.72c-.78.78-.78 2.05 0 2.83L4 21.41c.39.39.9.59 1.41.59.51 0 1.02-.2 1.41-.59l7.78-7.78 2.81-2.81c.8-.78.8-2.07 0-2.86zM5.41 20L4 18.59l7.72-7.72 1.47 1.35L5.41 20z\"/>\n",
              "  </svg>\n",
              "      </button>\n",
              "      \n",
              "  <style>\n",
              "    .colab-df-container {\n",
              "      display:flex;\n",
              "      flex-wrap:wrap;\n",
              "      gap: 12px;\n",
              "    }\n",
              "\n",
              "    .colab-df-convert {\n",
              "      background-color: #E8F0FE;\n",
              "      border: none;\n",
              "      border-radius: 50%;\n",
              "      cursor: pointer;\n",
              "      display: none;\n",
              "      fill: #1967D2;\n",
              "      height: 32px;\n",
              "      padding: 0 0 0 0;\n",
              "      width: 32px;\n",
              "    }\n",
              "\n",
              "    .colab-df-convert:hover {\n",
              "      background-color: #E2EBFA;\n",
              "      box-shadow: 0px 1px 2px rgba(60, 64, 67, 0.3), 0px 1px 3px 1px rgba(60, 64, 67, 0.15);\n",
              "      fill: #174EA6;\n",
              "    }\n",
              "\n",
              "    [theme=dark] .colab-df-convert {\n",
              "      background-color: #3B4455;\n",
              "      fill: #D2E3FC;\n",
              "    }\n",
              "\n",
              "    [theme=dark] .colab-df-convert:hover {\n",
              "      background-color: #434B5C;\n",
              "      box-shadow: 0px 1px 3px 1px rgba(0, 0, 0, 0.15);\n",
              "      filter: drop-shadow(0px 1px 2px rgba(0, 0, 0, 0.3));\n",
              "      fill: #FFFFFF;\n",
              "    }\n",
              "  </style>\n",
              "\n",
              "      <script>\n",
              "        const buttonEl =\n",
              "          document.querySelector('#df-99423d0e-491a-4735-a35f-b664f57e4265 button.colab-df-convert');\n",
              "        buttonEl.style.display =\n",
              "          google.colab.kernel.accessAllowed ? 'block' : 'none';\n",
              "\n",
              "        async function convertToInteractive(key) {\n",
              "          const element = document.querySelector('#df-99423d0e-491a-4735-a35f-b664f57e4265');\n",
              "          const dataTable =\n",
              "            await google.colab.kernel.invokeFunction('convertToInteractive',\n",
              "                                                     [key], {});\n",
              "          if (!dataTable) return;\n",
              "\n",
              "          const docLinkHtml = 'Like what you see? Visit the ' +\n",
              "            '<a target=\"_blank\" href=https://colab.research.google.com/notebooks/data_table.ipynb>data table notebook</a>'\n",
              "            + ' to learn more about interactive tables.';\n",
              "          element.innerHTML = '';\n",
              "          dataTable['output_type'] = 'display_data';\n",
              "          await google.colab.output.renderOutput(dataTable, element);\n",
              "          const docLink = document.createElement('div');\n",
              "          docLink.innerHTML = docLinkHtml;\n",
              "          element.appendChild(docLink);\n",
              "        }\n",
              "      </script>\n",
              "    </div>\n",
              "  </div>\n",
              "  "
            ]
          },
          "metadata": {},
          "execution_count": 27
        }
      ],
      "source": [
        "# отсортируем промо-календарь по дате старта\n",
        "calendar.sort_values(by='start_dt')"
      ]
    },
    {
      "cell_type": "markdown",
      "metadata": {
        "id": "Y0qqsRaELgQt"
      },
      "source": [
        "В период проведения теста попадают два мерояприятия - Christmas&New Year Promo (6 дней) и CIS New Year Gift Lottery (1 день)"
      ]
    },
    {
      "cell_type": "markdown",
      "metadata": {
        "id": "YU1VWxrgLgQt"
      },
      "source": [
        "## Аудитория теста"
      ]
    },
    {
      "cell_type": "markdown",
      "metadata": {
        "id": "YFsMX61BLgQt"
      },
      "source": [
        "### Проверка наличия пользователей в двух тестах и группах одновременно"
      ]
    },
    {
      "cell_type": "code",
      "execution_count": null,
      "metadata": {
        "colab": {
          "base_uri": "https://localhost:8080/"
        },
        "id": "JYEXuXcOLgQt",
        "outputId": "290bd95c-a0e7-4bd0-ae2a-a6961b29b4dc"
      },
      "outputs": [
        {
          "output_type": "execute_result",
          "data": {
            "text/plain": [
              "Index(['001064FEAAB631A1', '00341D8401F0F665', '003B6786B4FF5B03',\n",
              "       '0082295A41A867B5', '00E68F103C66C1F7', '00EFA157F7B6E1C4',\n",
              "       '010DB4614355A4BB', '0151DAF505060E94', '01B9975CAE144B78',\n",
              "       '020A95B66F363AFB',\n",
              "       ...\n",
              "       'FEA0C585A53E7027', 'FEC0BCA6C323872F', 'FEE7040D7D2F2968',\n",
              "       'FF2174A1AA0EAD20', 'FF44696E39039D29', 'FF7BE2897FC0380D',\n",
              "       'FF9A81323FA67D6E', 'FFC53FD45DDA5EE8', 'FFED90241D04503F',\n",
              "       'FFF28D02B1EACBE1'],\n",
              "      dtype='object', name='user_id', length=1602)"
            ]
          },
          "metadata": {},
          "execution_count": 28
        }
      ],
      "source": [
        "# проверим, нет ли в данных пользователей, участвовавших в двух тестах сразу\n",
        "general = users_events_ab_test.query('region==\"EU\"')\n",
        "general.groupby('user_id')['ab_test'].nunique()[general.groupby('user_id')['ab_test'].nunique() > 1].index\n"
      ]
    },
    {
      "cell_type": "markdown",
      "metadata": {
        "id": "MzhLBYfXLgQt"
      },
      "source": [
        "Выявлено 1602 пользователя, участвоваших сразу в двух тестах."
      ]
    },
    {
      "cell_type": "code",
      "execution_count": null,
      "metadata": {
        "colab": {
          "base_uri": "https://localhost:8080/"
        },
        "id": "PoFTzcEMLgQt",
        "outputId": "4c7c1ba8-3e9a-4053-dfde-0828a61bd17e"
      },
      "outputs": [
        {
          "output_type": "execute_result",
          "data": {
            "text/plain": [
              "Index([], dtype='object', name='user_id')"
            ]
          },
          "metadata": {},
          "execution_count": 29
        }
      ],
      "source": [
        "# проверим, нет ли в данных пользователей, участвовавших в нескольких группах одного теста сразу\n",
        "out = users_events_ab_test.query('region==\"EU\" and ab_test==\"recommender_system_test\"')\n",
        "\n",
        "out.groupby('user_id')['group'].nunique()[out.groupby('user_id')['group'].nunique() > 1].index\n"
      ]
    },
    {
      "cell_type": "markdown",
      "metadata": {
        "id": "DixzEBSGLgQt"
      },
      "source": [
        "Таблица out пуста, можно сделать вывод, что нет пользователей, участвующих в двух и более группах одного теста сразу."
      ]
    },
    {
      "cell_type": "markdown",
      "metadata": {
        "id": "vJ8lAA2ELgQt"
      },
      "source": [
        "### Проверка количества пользователей в группах"
      ]
    },
    {
      "cell_type": "code",
      "execution_count": null,
      "metadata": {
        "colab": {
          "base_uri": "https://localhost:8080/",
          "height": 143
        },
        "id": "gx8472djLgQt",
        "outputId": "a159bd7c-a1e9-4eee-85e7-1516c7b7cd62"
      },
      "outputs": [
        {
          "output_type": "execute_result",
          "data": {
            "text/plain": [
              "       user_id  ratio\n",
              "group                \n",
              "B          877   25.0\n",
              "A         2604   75.0"
            ],
            "text/html": [
              "\n",
              "  <div id=\"df-2fa8c365-b940-4171-b345-873bd0503df0\">\n",
              "    <div class=\"colab-df-container\">\n",
              "      <div>\n",
              "<style scoped>\n",
              "    .dataframe tbody tr th:only-of-type {\n",
              "        vertical-align: middle;\n",
              "    }\n",
              "\n",
              "    .dataframe tbody tr th {\n",
              "        vertical-align: top;\n",
              "    }\n",
              "\n",
              "    .dataframe thead th {\n",
              "        text-align: right;\n",
              "    }\n",
              "</style>\n",
              "<table border=\"1\" class=\"dataframe\">\n",
              "  <thead>\n",
              "    <tr style=\"text-align: right;\">\n",
              "      <th></th>\n",
              "      <th>user_id</th>\n",
              "      <th>ratio</th>\n",
              "    </tr>\n",
              "    <tr>\n",
              "      <th>group</th>\n",
              "      <th></th>\n",
              "      <th></th>\n",
              "    </tr>\n",
              "  </thead>\n",
              "  <tbody>\n",
              "    <tr>\n",
              "      <th>B</th>\n",
              "      <td>877</td>\n",
              "      <td>25.0</td>\n",
              "    </tr>\n",
              "    <tr>\n",
              "      <th>A</th>\n",
              "      <td>2604</td>\n",
              "      <td>75.0</td>\n",
              "    </tr>\n",
              "  </tbody>\n",
              "</table>\n",
              "</div>\n",
              "      <button class=\"colab-df-convert\" onclick=\"convertToInteractive('df-2fa8c365-b940-4171-b345-873bd0503df0')\"\n",
              "              title=\"Convert this dataframe to an interactive table.\"\n",
              "              style=\"display:none;\">\n",
              "        \n",
              "  <svg xmlns=\"http://www.w3.org/2000/svg\" height=\"24px\"viewBox=\"0 0 24 24\"\n",
              "       width=\"24px\">\n",
              "    <path d=\"M0 0h24v24H0V0z\" fill=\"none\"/>\n",
              "    <path d=\"M18.56 5.44l.94 2.06.94-2.06 2.06-.94-2.06-.94-.94-2.06-.94 2.06-2.06.94zm-11 1L8.5 8.5l.94-2.06 2.06-.94-2.06-.94L8.5 2.5l-.94 2.06-2.06.94zm10 10l.94 2.06.94-2.06 2.06-.94-2.06-.94-.94-2.06-.94 2.06-2.06.94z\"/><path d=\"M17.41 7.96l-1.37-1.37c-.4-.4-.92-.59-1.43-.59-.52 0-1.04.2-1.43.59L10.3 9.45l-7.72 7.72c-.78.78-.78 2.05 0 2.83L4 21.41c.39.39.9.59 1.41.59.51 0 1.02-.2 1.41-.59l7.78-7.78 2.81-2.81c.8-.78.8-2.07 0-2.86zM5.41 20L4 18.59l7.72-7.72 1.47 1.35L5.41 20z\"/>\n",
              "  </svg>\n",
              "      </button>\n",
              "      \n",
              "  <style>\n",
              "    .colab-df-container {\n",
              "      display:flex;\n",
              "      flex-wrap:wrap;\n",
              "      gap: 12px;\n",
              "    }\n",
              "\n",
              "    .colab-df-convert {\n",
              "      background-color: #E8F0FE;\n",
              "      border: none;\n",
              "      border-radius: 50%;\n",
              "      cursor: pointer;\n",
              "      display: none;\n",
              "      fill: #1967D2;\n",
              "      height: 32px;\n",
              "      padding: 0 0 0 0;\n",
              "      width: 32px;\n",
              "    }\n",
              "\n",
              "    .colab-df-convert:hover {\n",
              "      background-color: #E2EBFA;\n",
              "      box-shadow: 0px 1px 2px rgba(60, 64, 67, 0.3), 0px 1px 3px 1px rgba(60, 64, 67, 0.15);\n",
              "      fill: #174EA6;\n",
              "    }\n",
              "\n",
              "    [theme=dark] .colab-df-convert {\n",
              "      background-color: #3B4455;\n",
              "      fill: #D2E3FC;\n",
              "    }\n",
              "\n",
              "    [theme=dark] .colab-df-convert:hover {\n",
              "      background-color: #434B5C;\n",
              "      box-shadow: 0px 1px 3px 1px rgba(0, 0, 0, 0.15);\n",
              "      filter: drop-shadow(0px 1px 2px rgba(0, 0, 0, 0.3));\n",
              "      fill: #FFFFFF;\n",
              "    }\n",
              "  </style>\n",
              "\n",
              "      <script>\n",
              "        const buttonEl =\n",
              "          document.querySelector('#df-2fa8c365-b940-4171-b345-873bd0503df0 button.colab-df-convert');\n",
              "        buttonEl.style.display =\n",
              "          google.colab.kernel.accessAllowed ? 'block' : 'none';\n",
              "\n",
              "        async function convertToInteractive(key) {\n",
              "          const element = document.querySelector('#df-2fa8c365-b940-4171-b345-873bd0503df0');\n",
              "          const dataTable =\n",
              "            await google.colab.kernel.invokeFunction('convertToInteractive',\n",
              "                                                     [key], {});\n",
              "          if (!dataTable) return;\n",
              "\n",
              "          const docLinkHtml = 'Like what you see? Visit the ' +\n",
              "            '<a target=\"_blank\" href=https://colab.research.google.com/notebooks/data_table.ipynb>data table notebook</a>'\n",
              "            + ' to learn more about interactive tables.';\n",
              "          element.innerHTML = '';\n",
              "          dataTable['output_type'] = 'display_data';\n",
              "          await google.colab.output.renderOutput(dataTable, element);\n",
              "          const docLink = document.createElement('div');\n",
              "          docLink.innerHTML = docLinkHtml;\n",
              "          element.appendChild(docLink);\n",
              "        }\n",
              "      </script>\n",
              "    </div>\n",
              "  </div>\n",
              "  "
            ]
          },
          "metadata": {},
          "execution_count": 30
        }
      ],
      "source": [
        "# выведем пользователей по группам\n",
        "user_pivot = out[out['event_name'] == \"login\"]\n",
        "user_pivot = user_pivot.pivot_table(index='group',values='user_id',aggfunc='nunique')\n",
        "user_pivot['ratio'] = round(user_pivot['user_id']/user_pivot['user_id'].sum()*100)\n",
        "user_pivot.sort_values('group', ascending=False).head()"
      ]
    },
    {
      "cell_type": "markdown",
      "metadata": {
        "id": "vHFV1VuULgQu"
      },
      "source": [
        "В каждой группе есть пользователи. Различие в количестве пользователей значительное, что критично. Также количество участников теста намного ниже запланированного количества."
      ]
    },
    {
      "cell_type": "markdown",
      "metadata": {
        "id": "GPCaGY0GLgQu"
      },
      "source": [
        "В данном разделе мы обнаружили:\n",
        "- несовпадение в дате остановки теста\n",
        "- несовпадения в доле новых пользователей из Европы: разница составляет 1,2% в меньшую сторону.\n",
        "- несовпадения в количестве участников теста: больше запланированого на 351 участника.\n",
        "- подтвердилась ожидаемая конверсия пользователей за первые 14 дней \n",
        "- период проведения теста пересекается в периодами двух мерояприятий - Christmas&New Year Promo (6 дней) и CIS New Year Gift Lottery (1 день)\n",
        "- нет пользователей, участвующих в двух и более группах сразу\n",
        "- различие в количестве пользователей в группах значительно выше 1%%, что критично."
      ]
    },
    {
      "cell_type": "markdown",
      "metadata": {
        "id": "49CFduw0LgQu"
      },
      "source": [
        "# 4. Исследовательский анализ данных"
      ]
    },
    {
      "cell_type": "markdown",
      "metadata": {
        "id": "a5V25zpiLgQu"
      },
      "source": [
        "### Определение количества событий на одного пользователя по группам"
      ]
    },
    {
      "cell_type": "code",
      "execution_count": null,
      "metadata": {
        "colab": {
          "base_uri": "https://localhost:8080/",
          "height": 424
        },
        "id": "y8i2r8RiLgQu",
        "outputId": "680272e1-6a37-4dbe-b0f8-7f04e5ff8d73"
      },
      "outputs": [
        {
          "output_type": "execute_result",
          "data": {
            "text/plain": [
              "                 user_id registration_date region   device  \\\n",
              "1       D72A72121175D8BE        2020-12-07     EU       PC   \n",
              "158     DD4352CDCF8C3D57        2020-12-07     EU  Android   \n",
              "160     DD4352CDCF8C3D57        2020-12-07     EU  Android   \n",
              "162     DD4352CDCF8C3D57        2020-12-07     EU  Android   \n",
              "164     DD4352CDCF8C3D57        2020-12-07     EU  Android   \n",
              "...                  ...               ...    ...      ...   \n",
              "449806  574ACBC674BC385D        2020-12-20     EU      Mac   \n",
              "449807  574ACBC674BC385D        2020-12-20     EU      Mac   \n",
              "449814  0416B34D35C8C8B8        2020-12-20     EU  Android   \n",
              "449815  0416B34D35C8C8B8        2020-12-20     EU  Android   \n",
              "449816  0416B34D35C8C8B8        2020-12-20     EU  Android   \n",
              "\n",
              "                  event_dt event_name  details group                  ab_test  \n",
              "1      2020-12-07 21:52:07      login      0.0     A  recommender_system_test  \n",
              "158    2020-12-07 15:32:53      login      0.0     B  recommender_system_test  \n",
              "160    2020-12-08 08:29:27      login      0.0     B  recommender_system_test  \n",
              "162    2020-12-10 18:18:24      login      0.0     B  recommender_system_test  \n",
              "164    2020-12-16 20:35:47      login      0.0     B  recommender_system_test  \n",
              "...                    ...        ...      ...   ...                      ...  \n",
              "449806 2020-12-20 04:15:43      login      0.0     A  recommender_system_test  \n",
              "449807 2020-12-26 04:55:27      login      0.0     A  recommender_system_test  \n",
              "449814 2020-12-20 20:58:25      login      0.0     A  recommender_system_test  \n",
              "449815 2020-12-21 22:28:29      login      0.0     A  recommender_system_test  \n",
              "449816 2020-12-24 09:12:49      login      0.0     A  recommender_system_test  \n",
              "\n",
              "[10595 rows x 9 columns]"
            ],
            "text/html": [
              "\n",
              "  <div id=\"df-e5720234-e9cd-46d9-9eb8-7756f9f057ff\">\n",
              "    <div class=\"colab-df-container\">\n",
              "      <div>\n",
              "<style scoped>\n",
              "    .dataframe tbody tr th:only-of-type {\n",
              "        vertical-align: middle;\n",
              "    }\n",
              "\n",
              "    .dataframe tbody tr th {\n",
              "        vertical-align: top;\n",
              "    }\n",
              "\n",
              "    .dataframe thead th {\n",
              "        text-align: right;\n",
              "    }\n",
              "</style>\n",
              "<table border=\"1\" class=\"dataframe\">\n",
              "  <thead>\n",
              "    <tr style=\"text-align: right;\">\n",
              "      <th></th>\n",
              "      <th>user_id</th>\n",
              "      <th>registration_date</th>\n",
              "      <th>region</th>\n",
              "      <th>device</th>\n",
              "      <th>event_dt</th>\n",
              "      <th>event_name</th>\n",
              "      <th>details</th>\n",
              "      <th>group</th>\n",
              "      <th>ab_test</th>\n",
              "    </tr>\n",
              "  </thead>\n",
              "  <tbody>\n",
              "    <tr>\n",
              "      <th>1</th>\n",
              "      <td>D72A72121175D8BE</td>\n",
              "      <td>2020-12-07</td>\n",
              "      <td>EU</td>\n",
              "      <td>PC</td>\n",
              "      <td>2020-12-07 21:52:07</td>\n",
              "      <td>login</td>\n",
              "      <td>0.0</td>\n",
              "      <td>A</td>\n",
              "      <td>recommender_system_test</td>\n",
              "    </tr>\n",
              "    <tr>\n",
              "      <th>158</th>\n",
              "      <td>DD4352CDCF8C3D57</td>\n",
              "      <td>2020-12-07</td>\n",
              "      <td>EU</td>\n",
              "      <td>Android</td>\n",
              "      <td>2020-12-07 15:32:53</td>\n",
              "      <td>login</td>\n",
              "      <td>0.0</td>\n",
              "      <td>B</td>\n",
              "      <td>recommender_system_test</td>\n",
              "    </tr>\n",
              "    <tr>\n",
              "      <th>160</th>\n",
              "      <td>DD4352CDCF8C3D57</td>\n",
              "      <td>2020-12-07</td>\n",
              "      <td>EU</td>\n",
              "      <td>Android</td>\n",
              "      <td>2020-12-08 08:29:27</td>\n",
              "      <td>login</td>\n",
              "      <td>0.0</td>\n",
              "      <td>B</td>\n",
              "      <td>recommender_system_test</td>\n",
              "    </tr>\n",
              "    <tr>\n",
              "      <th>162</th>\n",
              "      <td>DD4352CDCF8C3D57</td>\n",
              "      <td>2020-12-07</td>\n",
              "      <td>EU</td>\n",
              "      <td>Android</td>\n",
              "      <td>2020-12-10 18:18:24</td>\n",
              "      <td>login</td>\n",
              "      <td>0.0</td>\n",
              "      <td>B</td>\n",
              "      <td>recommender_system_test</td>\n",
              "    </tr>\n",
              "    <tr>\n",
              "      <th>164</th>\n",
              "      <td>DD4352CDCF8C3D57</td>\n",
              "      <td>2020-12-07</td>\n",
              "      <td>EU</td>\n",
              "      <td>Android</td>\n",
              "      <td>2020-12-16 20:35:47</td>\n",
              "      <td>login</td>\n",
              "      <td>0.0</td>\n",
              "      <td>B</td>\n",
              "      <td>recommender_system_test</td>\n",
              "    </tr>\n",
              "    <tr>\n",
              "      <th>...</th>\n",
              "      <td>...</td>\n",
              "      <td>...</td>\n",
              "      <td>...</td>\n",
              "      <td>...</td>\n",
              "      <td>...</td>\n",
              "      <td>...</td>\n",
              "      <td>...</td>\n",
              "      <td>...</td>\n",
              "      <td>...</td>\n",
              "    </tr>\n",
              "    <tr>\n",
              "      <th>449806</th>\n",
              "      <td>574ACBC674BC385D</td>\n",
              "      <td>2020-12-20</td>\n",
              "      <td>EU</td>\n",
              "      <td>Mac</td>\n",
              "      <td>2020-12-20 04:15:43</td>\n",
              "      <td>login</td>\n",
              "      <td>0.0</td>\n",
              "      <td>A</td>\n",
              "      <td>recommender_system_test</td>\n",
              "    </tr>\n",
              "    <tr>\n",
              "      <th>449807</th>\n",
              "      <td>574ACBC674BC385D</td>\n",
              "      <td>2020-12-20</td>\n",
              "      <td>EU</td>\n",
              "      <td>Mac</td>\n",
              "      <td>2020-12-26 04:55:27</td>\n",
              "      <td>login</td>\n",
              "      <td>0.0</td>\n",
              "      <td>A</td>\n",
              "      <td>recommender_system_test</td>\n",
              "    </tr>\n",
              "    <tr>\n",
              "      <th>449814</th>\n",
              "      <td>0416B34D35C8C8B8</td>\n",
              "      <td>2020-12-20</td>\n",
              "      <td>EU</td>\n",
              "      <td>Android</td>\n",
              "      <td>2020-12-20 20:58:25</td>\n",
              "      <td>login</td>\n",
              "      <td>0.0</td>\n",
              "      <td>A</td>\n",
              "      <td>recommender_system_test</td>\n",
              "    </tr>\n",
              "    <tr>\n",
              "      <th>449815</th>\n",
              "      <td>0416B34D35C8C8B8</td>\n",
              "      <td>2020-12-20</td>\n",
              "      <td>EU</td>\n",
              "      <td>Android</td>\n",
              "      <td>2020-12-21 22:28:29</td>\n",
              "      <td>login</td>\n",
              "      <td>0.0</td>\n",
              "      <td>A</td>\n",
              "      <td>recommender_system_test</td>\n",
              "    </tr>\n",
              "    <tr>\n",
              "      <th>449816</th>\n",
              "      <td>0416B34D35C8C8B8</td>\n",
              "      <td>2020-12-20</td>\n",
              "      <td>EU</td>\n",
              "      <td>Android</td>\n",
              "      <td>2020-12-24 09:12:49</td>\n",
              "      <td>login</td>\n",
              "      <td>0.0</td>\n",
              "      <td>A</td>\n",
              "      <td>recommender_system_test</td>\n",
              "    </tr>\n",
              "  </tbody>\n",
              "</table>\n",
              "<p>10595 rows × 9 columns</p>\n",
              "</div>\n",
              "      <button class=\"colab-df-convert\" onclick=\"convertToInteractive('df-e5720234-e9cd-46d9-9eb8-7756f9f057ff')\"\n",
              "              title=\"Convert this dataframe to an interactive table.\"\n",
              "              style=\"display:none;\">\n",
              "        \n",
              "  <svg xmlns=\"http://www.w3.org/2000/svg\" height=\"24px\"viewBox=\"0 0 24 24\"\n",
              "       width=\"24px\">\n",
              "    <path d=\"M0 0h24v24H0V0z\" fill=\"none\"/>\n",
              "    <path d=\"M18.56 5.44l.94 2.06.94-2.06 2.06-.94-2.06-.94-.94-2.06-.94 2.06-2.06.94zm-11 1L8.5 8.5l.94-2.06 2.06-.94-2.06-.94L8.5 2.5l-.94 2.06-2.06.94zm10 10l.94 2.06.94-2.06 2.06-.94-2.06-.94-.94-2.06-.94 2.06-2.06.94z\"/><path d=\"M17.41 7.96l-1.37-1.37c-.4-.4-.92-.59-1.43-.59-.52 0-1.04.2-1.43.59L10.3 9.45l-7.72 7.72c-.78.78-.78 2.05 0 2.83L4 21.41c.39.39.9.59 1.41.59.51 0 1.02-.2 1.41-.59l7.78-7.78 2.81-2.81c.8-.78.8-2.07 0-2.86zM5.41 20L4 18.59l7.72-7.72 1.47 1.35L5.41 20z\"/>\n",
              "  </svg>\n",
              "      </button>\n",
              "      \n",
              "  <style>\n",
              "    .colab-df-container {\n",
              "      display:flex;\n",
              "      flex-wrap:wrap;\n",
              "      gap: 12px;\n",
              "    }\n",
              "\n",
              "    .colab-df-convert {\n",
              "      background-color: #E8F0FE;\n",
              "      border: none;\n",
              "      border-radius: 50%;\n",
              "      cursor: pointer;\n",
              "      display: none;\n",
              "      fill: #1967D2;\n",
              "      height: 32px;\n",
              "      padding: 0 0 0 0;\n",
              "      width: 32px;\n",
              "    }\n",
              "\n",
              "    .colab-df-convert:hover {\n",
              "      background-color: #E2EBFA;\n",
              "      box-shadow: 0px 1px 2px rgba(60, 64, 67, 0.3), 0px 1px 3px 1px rgba(60, 64, 67, 0.15);\n",
              "      fill: #174EA6;\n",
              "    }\n",
              "\n",
              "    [theme=dark] .colab-df-convert {\n",
              "      background-color: #3B4455;\n",
              "      fill: #D2E3FC;\n",
              "    }\n",
              "\n",
              "    [theme=dark] .colab-df-convert:hover {\n",
              "      background-color: #434B5C;\n",
              "      box-shadow: 0px 1px 3px 1px rgba(0, 0, 0, 0.15);\n",
              "      filter: drop-shadow(0px 1px 2px rgba(0, 0, 0, 0.3));\n",
              "      fill: #FFFFFF;\n",
              "    }\n",
              "  </style>\n",
              "\n",
              "      <script>\n",
              "        const buttonEl =\n",
              "          document.querySelector('#df-e5720234-e9cd-46d9-9eb8-7756f9f057ff button.colab-df-convert');\n",
              "        buttonEl.style.display =\n",
              "          google.colab.kernel.accessAllowed ? 'block' : 'none';\n",
              "\n",
              "        async function convertToInteractive(key) {\n",
              "          const element = document.querySelector('#df-e5720234-e9cd-46d9-9eb8-7756f9f057ff');\n",
              "          const dataTable =\n",
              "            await google.colab.kernel.invokeFunction('convertToInteractive',\n",
              "                                                     [key], {});\n",
              "          if (!dataTable) return;\n",
              "\n",
              "          const docLinkHtml = 'Like what you see? Visit the ' +\n",
              "            '<a target=\"_blank\" href=https://colab.research.google.com/notebooks/data_table.ipynb>data table notebook</a>'\n",
              "            + ' to learn more about interactive tables.';\n",
              "          element.innerHTML = '';\n",
              "          dataTable['output_type'] = 'display_data';\n",
              "          await google.colab.output.renderOutput(dataTable, element);\n",
              "          const docLink = document.createElement('div');\n",
              "          docLink.innerHTML = docLinkHtml;\n",
              "          element.appendChild(docLink);\n",
              "        }\n",
              "      </script>\n",
              "    </div>\n",
              "  </div>\n",
              "  "
            ]
          },
          "metadata": {},
          "execution_count": 31
        }
      ],
      "source": [
        "real_test = users_events_ab_test.query('region==\"EU\" and ab_test==\"recommender_system_test\" and event_name == \"login\"')\n",
        "real_test                                "
      ]
    },
    {
      "cell_type": "code",
      "execution_count": null,
      "metadata": {
        "id": "Nuk_dc10LgQu"
      },
      "outputs": [],
      "source": [
        "# создадим выборки по группам А и В\n",
        "real_test = users_events_ab_test.query('region==\"EU\" and ab_test==\"recommender_system_test\" and event_name == \"login\"')\n",
        "group_a = real_test.query('group==\"A\"')\n",
        "group_b = real_test.query('group==\"B\"')\n"
      ]
    },
    {
      "cell_type": "code",
      "execution_count": null,
      "metadata": {
        "colab": {
          "base_uri": "https://localhost:8080/"
        },
        "id": "7tA00-vPLgQu",
        "outputId": "fcfe5e9c-3cf8-4c3b-e869-cd1c4209b209"
      },
      "outputs": [
        {
          "output_type": "stream",
          "name": "stdout",
          "text": [
            "Всего событий в группе А: 8124\n",
            "Всего событий в группе B: 2471\n"
          ]
        }
      ],
      "source": [
        "# посмотрим сколько всего событий в группах\n",
        "event_cnt_a = len(group_a)\n",
        "event_cnt_b = len(group_b)\n",
        "print('Всего событий в группе А: {}'.format(event_cnt_a))\n",
        "print('Всего событий в группе B: {}'.format(event_cnt_b))"
      ]
    },
    {
      "cell_type": "code",
      "execution_count": null,
      "metadata": {
        "colab": {
          "base_uri": "https://localhost:8080/"
        },
        "id": "0xJ2XK3iLgQu",
        "outputId": "da5ab82b-69fa-4002-c8f8-9abd7ae9027a"
      },
      "outputs": [
        {
          "output_type": "stream",
          "name": "stdout",
          "text": [
            "Всего пользователей в группе А: 2604\n",
            "Всего пользователей в группе B: 877\n"
          ]
        }
      ],
      "source": [
        "# посмотрим сколько всего пользователей в группах\n",
        "user_cnt_a = group_a['user_id'].nunique()\n",
        "user_cnt_b = group_b['user_id'].nunique()\n",
        "print('Всего пользователей в группе А: {}'.format(user_cnt_a))\n",
        "print('Всего пользователей в группе B: {}'.format(user_cnt_b))"
      ]
    },
    {
      "cell_type": "code",
      "execution_count": null,
      "metadata": {
        "colab": {
          "base_uri": "https://localhost:8080/"
        },
        "id": "e_a0tzPoLgQu",
        "outputId": "b383b684-8e01-4d9a-d4b4-d99cdb47ee79"
      },
      "outputs": [
        {
          "output_type": "stream",
          "name": "stdout",
          "text": [
            "А - Среднее количество событий на одного пользователя: 3\n",
            "B - Среднее количество событий на одного пользователя: 3\n"
          ]
        }
      ],
      "source": [
        "# вычислим среднее количество событий на одного пользователя \n",
        "print('А - Среднее количество событий на одного пользователя: {}'.format(int(round(event_cnt_a/user_cnt_a, 0))))\n",
        "print('B - Среднее количество событий на одного пользователя: {}'.format(int(round(event_cnt_b/user_cnt_b, 0))))"
      ]
    },
    {
      "cell_type": "code",
      "execution_count": null,
      "metadata": {
        "colab": {
          "base_uri": "https://localhost:8080/"
        },
        "id": "KtS4lsjmLgQu",
        "outputId": "639045c6-b32e-4824-dc77-02191877a914"
      },
      "outputs": [
        {
          "output_type": "stream",
          "name": "stdout",
          "text": [
            "А - Медианное количество событий на одного пользователя: 3.0\n",
            "B - Медианное количество событий на одного пользователя: 3.0\n"
          ]
        }
      ],
      "source": [
        "# вычислим медианное количество событий на одного пользователя \n",
        "print('А - Медианное количество событий на одного пользователя: {}'.format(group_a['user_id'].value_counts().median()))\n",
        "print('B - Медианное количество событий на одного пользователя: {}'.format(group_b['user_id'].value_counts().median()))"
      ]
    },
    {
      "cell_type": "markdown",
      "metadata": {
        "id": "lmYaHnS7LgQu"
      },
      "source": [
        "Количество событий на пользователя распределены равномерно как в среднем так и по медиане."
      ]
    },
    {
      "cell_type": "markdown",
      "metadata": {
        "id": "Q7Y3zAmZLgQu"
      },
      "source": [
        "### Распределение числа событий по дням по двум выборкам"
      ]
    },
    {
      "cell_type": "code",
      "execution_count": null,
      "metadata": {
        "colab": {
          "base_uri": "https://localhost:8080/",
          "height": 438
        },
        "id": "z0Hu1MEaLgQu",
        "outputId": "62a2ab6a-d3ff-4261-c701-d76b22f59c67"
      },
      "outputs": [
        {
          "output_type": "display_data",
          "data": {
            "text/plain": [
              "<Figure size 1080x432 with 1 Axes>"
            ],
            "image/png": "[encoded data removed]"
          },
          "metadata": {
            "needs_background": "light"
          }
        }
      ],
      "source": [
        "# построим гистограмму по группе А\n",
        "plt.figure(figsize=(15,6))\n",
        "group_a['event_dt'].hist(bins=23)\n",
        "\n",
        "plt.title('Количество событий по дням', pad=20)\n",
        "plt.xlabel(\"Ось X\\nПериод\", fontsize=14, fontweight=\"bold\")\n",
        "plt.ylabel(\"Ось Y\\nКоличество событий\", fontsize=14, fontweight=\"bold\");"
      ]
    },
    {
      "cell_type": "code",
      "execution_count": null,
      "metadata": {
        "colab": {
          "base_uri": "https://localhost:8080/",
          "height": 438
        },
        "id": "5ETSKz2ULgQv",
        "outputId": "227c6219-245e-4666-b27a-c70e4d3c187d"
      },
      "outputs": [
        {
          "output_type": "display_data",
          "data": {
            "text/plain": [
              "<Figure size 1080x432 with 1 Axes>"
            ],
            "image/png": "[encoded data removed]"
          },
          "metadata": {
            "needs_background": "light"
          }
        }
      ],
      "source": [
        "# построим гистограмму по группе В\n",
        "plt.figure(figsize=(15,6))\n",
        "group_b['event_dt'].hist(bins=23)\n",
        "\n",
        "plt.title('Количество событий по дням', pad=20)\n",
        "plt.xlabel(\"Ось X\\nПериод\", fontsize=14, fontweight=\"bold\")\n",
        "plt.ylabel(\"Ось Y\\nКоличество событий\", fontsize=14, fontweight=\"bold\");"
      ]
    },
    {
      "cell_type": "markdown",
      "metadata": {
        "id": "074ki7DtLgQv"
      },
      "source": [
        "Распределение событий по дням в группе А неравномерное, в начале периода - затишье, пик приходится на середину периода, далее примерно с 22 декабря - спад. Распределение по группе В наоборот, пользователи проявляют активность с самого старта теста, а спад зеркально группе А - начинается с 22 декабря."
      ]
    },
    {
      "cell_type": "markdown",
      "metadata": {
        "id": "FDRuqoLLLgQv"
      },
      "source": [
        "### Конверсия в воронке в выборках на разных этапах"
      ]
    },
    {
      "cell_type": "code",
      "execution_count": null,
      "metadata": {
        "colab": {
          "base_uri": "https://localhost:8080/",
          "height": 206
        },
        "id": "BgnJKbtWLgQv",
        "outputId": "7cd3919e-5b1d-4c76-a2ce-d6397b3c424e"
      },
      "outputs": [
        {
          "output_type": "execute_result",
          "data": {
            "text/plain": [
              "              number_of_users_a  user_share_a\n",
              "event_name                                   \n",
              "login                      2604      0.716566\n",
              "product_page               1685      0.463676\n",
              "product_cart                782      0.215190\n",
              "purchase                    833      0.229224"
            ],
            "text/html": [
              "\n",
              "  <div id=\"df-c9617d2f-e67e-48b2-b783-60588ba1a18f\">\n",
              "    <div class=\"colab-df-container\">\n",
              "      <div>\n",
              "<style scoped>\n",
              "    .dataframe tbody tr th:only-of-type {\n",
              "        vertical-align: middle;\n",
              "    }\n",
              "\n",
              "    .dataframe tbody tr th {\n",
              "        vertical-align: top;\n",
              "    }\n",
              "\n",
              "    .dataframe thead th {\n",
              "        text-align: right;\n",
              "    }\n",
              "</style>\n",
              "<table border=\"1\" class=\"dataframe\">\n",
              "  <thead>\n",
              "    <tr style=\"text-align: right;\">\n",
              "      <th></th>\n",
              "      <th>number_of_users_a</th>\n",
              "      <th>user_share_a</th>\n",
              "    </tr>\n",
              "    <tr>\n",
              "      <th>event_name</th>\n",
              "      <th></th>\n",
              "      <th></th>\n",
              "    </tr>\n",
              "  </thead>\n",
              "  <tbody>\n",
              "    <tr>\n",
              "      <th>login</th>\n",
              "      <td>2604</td>\n",
              "      <td>0.716566</td>\n",
              "    </tr>\n",
              "    <tr>\n",
              "      <th>product_page</th>\n",
              "      <td>1685</td>\n",
              "      <td>0.463676</td>\n",
              "    </tr>\n",
              "    <tr>\n",
              "      <th>product_cart</th>\n",
              "      <td>782</td>\n",
              "      <td>0.215190</td>\n",
              "    </tr>\n",
              "    <tr>\n",
              "      <th>purchase</th>\n",
              "      <td>833</td>\n",
              "      <td>0.229224</td>\n",
              "    </tr>\n",
              "  </tbody>\n",
              "</table>\n",
              "</div>\n",
              "      <button class=\"colab-df-convert\" onclick=\"convertToInteractive('df-c9617d2f-e67e-48b2-b783-60588ba1a18f')\"\n",
              "              title=\"Convert this dataframe to an interactive table.\"\n",
              "              style=\"display:none;\">\n",
              "        \n",
              "  <svg xmlns=\"http://www.w3.org/2000/svg\" height=\"24px\"viewBox=\"0 0 24 24\"\n",
              "       width=\"24px\">\n",
              "    <path d=\"M0 0h24v24H0V0z\" fill=\"none\"/>\n",
              "    <path d=\"M18.56 5.44l.94 2.06.94-2.06 2.06-.94-2.06-.94-.94-2.06-.94 2.06-2.06.94zm-11 1L8.5 8.5l.94-2.06 2.06-.94-2.06-.94L8.5 2.5l-.94 2.06-2.06.94zm10 10l.94 2.06.94-2.06 2.06-.94-2.06-.94-.94-2.06-.94 2.06-2.06.94z\"/><path d=\"M17.41 7.96l-1.37-1.37c-.4-.4-.92-.59-1.43-.59-.52 0-1.04.2-1.43.59L10.3 9.45l-7.72 7.72c-.78.78-.78 2.05 0 2.83L4 21.41c.39.39.9.59 1.41.59.51 0 1.02-.2 1.41-.59l7.78-7.78 2.81-2.81c.8-.78.8-2.07 0-2.86zM5.41 20L4 18.59l7.72-7.72 1.47 1.35L5.41 20z\"/>\n",
              "  </svg>\n",
              "      </button>\n",
              "      \n",
              "  <style>\n",
              "    .colab-df-container {\n",
              "      display:flex;\n",
              "      flex-wrap:wrap;\n",
              "      gap: 12px;\n",
              "    }\n",
              "\n",
              "    .colab-df-convert {\n",
              "      background-color: #E8F0FE;\n",
              "      border: none;\n",
              "      border-radius: 50%;\n",
              "      cursor: pointer;\n",
              "      display: none;\n",
              "      fill: #1967D2;\n",
              "      height: 32px;\n",
              "      padding: 0 0 0 0;\n",
              "      width: 32px;\n",
              "    }\n",
              "\n",
              "    .colab-df-convert:hover {\n",
              "      background-color: #E2EBFA;\n",
              "      box-shadow: 0px 1px 2px rgba(60, 64, 67, 0.3), 0px 1px 3px 1px rgba(60, 64, 67, 0.15);\n",
              "      fill: #174EA6;\n",
              "    }\n",
              "\n",
              "    [theme=dark] .colab-df-convert {\n",
              "      background-color: #3B4455;\n",
              "      fill: #D2E3FC;\n",
              "    }\n",
              "\n",
              "    [theme=dark] .colab-df-convert:hover {\n",
              "      background-color: #434B5C;\n",
              "      box-shadow: 0px 1px 3px 1px rgba(0, 0, 0, 0.15);\n",
              "      filter: drop-shadow(0px 1px 2px rgba(0, 0, 0, 0.3));\n",
              "      fill: #FFFFFF;\n",
              "    }\n",
              "  </style>\n",
              "\n",
              "      <script>\n",
              "        const buttonEl =\n",
              "          document.querySelector('#df-c9617d2f-e67e-48b2-b783-60588ba1a18f button.colab-df-convert');\n",
              "        buttonEl.style.display =\n",
              "          google.colab.kernel.accessAllowed ? 'block' : 'none';\n",
              "\n",
              "        async function convertToInteractive(key) {\n",
              "          const element = document.querySelector('#df-c9617d2f-e67e-48b2-b783-60588ba1a18f');\n",
              "          const dataTable =\n",
              "            await google.colab.kernel.invokeFunction('convertToInteractive',\n",
              "                                                     [key], {});\n",
              "          if (!dataTable) return;\n",
              "\n",
              "          const docLinkHtml = 'Like what you see? Visit the ' +\n",
              "            '<a target=\"_blank\" href=https://colab.research.google.com/notebooks/data_table.ipynb>data table notebook</a>'\n",
              "            + ' to learn more about interactive tables.';\n",
              "          element.innerHTML = '';\n",
              "          dataTable['output_type'] = 'display_data';\n",
              "          await google.colab.output.renderOutput(dataTable, element);\n",
              "          const docLink = document.createElement('div');\n",
              "          docLink.innerHTML = docLinkHtml;\n",
              "          element.appendChild(docLink);\n",
              "        }\n",
              "      </script>\n",
              "    </div>\n",
              "  </div>\n",
              "  "
            ]
          },
          "metadata": {},
          "execution_count": 39
        }
      ],
      "source": [
        "# выведем пользователей по группе А\n",
        "# посчитаем долю пользователей, которые хоть раз совершали событие\n",
        "group_a = out.query('group==\"A\"')\n",
        "\n",
        "cr_a = (group_a\n",
        "        .groupby('event_name')\n",
        "        .agg(number_of_users_a = ('user_id', 'nunique'))\n",
        "        .sort_values('number_of_users_a', ascending=False)\n",
        "        .assign(user_share_a = lambda x: x['number_of_users_a'] / group_a['user_id'].nunique()))\n",
        "\n",
        "new_index_a = ['login', 'product_page', 'product_cart', 'purchase']\n",
        "cr_a = cr_a.reindex(new_index_a)\n",
        "\n",
        "cr_a\n"
      ]
    },
    {
      "cell_type": "code",
      "execution_count": null,
      "metadata": {
        "colab": {
          "base_uri": "https://localhost:8080/",
          "height": 517
        },
        "id": "TfXGqXNzLgQv",
        "outputId": "fa318533-b75a-4301-f6a8-7e3601646b28"
      },
      "outputs": [
        {
          "output_type": "display_data",
          "data": {
            "text/html": [
              "<html>\n",
              "<head><meta charset=\"utf-8\" /></head>\n",
              "<body>\n",
              "    <div>            <script src=\"https://cdnjs.cloudflare.com/ajax/libs/mathjax/2.7.5/MathJax.js?config=TeX-AMS-MML_SVG\"></script><script type=\"text/javascript\">if (window.MathJax) {MathJax.Hub.Config({SVG: {font: \"STIX-Web\"}});}</script>                <script type=\"text/javascript\">window.PlotlyConfig = {MathJaxConfig: 'local'};</script>\n",
              "        <script src=\"https://cdn.plot.ly/plotly-2.8.3.min.js\"></script>                <div id=\"5128aaa3-88f0-454c-b573-a70cb2e82150\" class=\"plotly-graph-div\" style=\"height:500px; width:900px;\"></div>            <script type=\"text/javascript\">                                    window.PLOTLYENV=window.PLOTLYENV || {};                                    if (document.getElementById(\"5128aaa3-88f0-454c-b573-a70cb2e82150\")) {                    Plotly.newPlot(                        \"5128aaa3-88f0-454c-b573-a70cb2e82150\",                        [{\"connector\":{\"line\":{\"color\":\"royalblue\",\"dash\":\"dot\",\"width\":3}},\"marker\":{\"color\":[\"deepskyblue\",\"lightsalmon\",\"tan\",\"teal\"],\"line\":{\"color\":[\"wheat\",\"wheat\",\"wheat\",\"wheat\"],\"width\":[4,3,2,1]}},\"opacity\":0.65,\"textinfo\":\"value+percent initial+percent previous+percent total\",\"textposition\":\"inside\",\"x\":[2604,1685,782,833],\"y\":[\"login\",\"product_page\",\"product_cart\",\"purchase\"],\"type\":\"funnel\"}],                        {\"template\":{\"data\":{\"bar\":[{\"error_x\":{\"color\":\"#2a3f5f\"},\"error_y\":{\"color\":\"#2a3f5f\"},\"marker\":{\"line\":{\"color\":\"#E5ECF6\",\"width\":0.5},\"pattern\":{\"fillmode\":\"overlay\",\"size\":10,\"solidity\":0.2}},\"type\":\"bar\"}],\"barpolar\":[{\"marker\":{\"line\":{\"color\":\"#E5ECF6\",\"width\":0.5},\"pattern\":{\"fillmode\":\"overlay\",\"size\":10,\"solidity\":0.2}},\"type\":\"barpolar\"}],\"carpet\":[{\"aaxis\":{\"endlinecolor\":\"#2a3f5f\",\"gridcolor\":\"white\",\"linecolor\":\"white\",\"minorgridcolor\":\"white\",\"startlinecolor\":\"#2a3f5f\"},\"baxis\":{\"endlinecolor\":\"#2a3f5f\",\"gridcolor\":\"white\",\"linecolor\":\"white\",\"minorgridcolor\":\"white\",\"startlinecolor\":\"#2a3f5f\"},\"type\":\"carpet\"}],\"choropleth\":[{\"colorbar\":{\"outlinewidth\":0,\"ticks\":\"\"},\"type\":\"choropleth\"}],\"contour\":[{\"colorbar\":{\"outlinewidth\":0,\"ticks\":\"\"},\"colorscale\":[[0.0,\"#0d0887\"],[0.1111111111111111,\"#46039f\"],[0.2222222222222222,\"#7201a8\"],[0.3333333333333333,\"#9c179e\"],[0.4444444444444444,\"#bd3786\"],[0.5555555555555556,\"#d8576b\"],[0.6666666666666666,\"#ed7953\"],[0.7777777777777778,\"#fb9f3a\"],[0.8888888888888888,\"#fdca26\"],[1.0,\"#f0f921\"]],\"type\":\"contour\"}],\"contourcarpet\":[{\"colorbar\":{\"outlinewidth\":0,\"ticks\":\"\"},\"type\":\"contourcarpet\"}],\"heatmap\":[{\"colorbar\":{\"outlinewidth\":0,\"ticks\":\"\"},\"colorscale\":[[0.0,\"#0d0887\"],[0.1111111111111111,\"#46039f\"],[0.2222222222222222,\"#7201a8\"],[0.3333333333333333,\"#9c179e\"],[0.4444444444444444,\"#bd3786\"],[0.5555555555555556,\"#d8576b\"],[0.6666666666666666,\"#ed7953\"],[0.7777777777777778,\"#fb9f3a\"],[0.8888888888888888,\"#fdca26\"],[1.0,\"#f0f921\"]],\"type\":\"heatmap\"}],\"heatmapgl\":[{\"colorbar\":{\"outlinewidth\":0,\"ticks\":\"\"},\"colorscale\":[[0.0,\"#0d0887\"],[0.1111111111111111,\"#46039f\"],[0.2222222222222222,\"#7201a8\"],[0.3333333333333333,\"#9c179e\"],[0.4444444444444444,\"#bd3786\"],[0.5555555555555556,\"#d8576b\"],[0.6666666666666666,\"#ed7953\"],[0.7777777777777778,\"#fb9f3a\"],[0.8888888888888888,\"#fdca26\"],[1.0,\"#f0f921\"]],\"type\":\"heatmapgl\"}],\"histogram\":[{\"marker\":{\"pattern\":{\"fillmode\":\"overlay\",\"size\":10,\"solidity\":0.2}},\"type\":\"histogram\"}],\"histogram2d\":[{\"colorbar\":{\"outlinewidth\":0,\"ticks\":\"\"},\"colorscale\":[[0.0,\"#0d0887\"],[0.1111111111111111,\"#46039f\"],[0.2222222222222222,\"#7201a8\"],[0.3333333333333333,\"#9c179e\"],[0.4444444444444444,\"#bd3786\"],[0.5555555555555556,\"#d8576b\"],[0.6666666666666666,\"#ed7953\"],[0.7777777777777778,\"#fb9f3a\"],[0.8888888888888888,\"#fdca26\"],[1.0,\"#f0f921\"]],\"type\":\"histogram2d\"}],\"histogram2dcontour\":[{\"colorbar\":{\"outlinewidth\":0,\"ticks\":\"\"},\"colorscale\":[[0.0,\"#0d0887\"],[0.1111111111111111,\"#46039f\"],[0.2222222222222222,\"#7201a8\"],[0.3333333333333333,\"#9c179e\"],[0.4444444444444444,\"#bd3786\"],[0.5555555555555556,\"#d8576b\"],[0.6666666666666666,\"#ed7953\"],[0.7777777777777778,\"#fb9f3a\"],[0.8888888888888888,\"#fdca26\"],[1.0,\"#f0f921\"]],\"type\":\"histogram2dcontour\"}],\"mesh3d\":[{\"colorbar\":{\"outlinewidth\":0,\"ticks\":\"\"},\"type\":\"mesh3d\"}],\"parcoords\":[{\"line\":{\"colorbar\":{\"outlinewidth\":0,\"ticks\":\"\"}},\"type\":\"parcoords\"}],\"pie\":[{\"automargin\":true,\"type\":\"pie\"}],\"scatter\":[{\"marker\":{\"colorbar\":{\"outlinewidth\":0,\"ticks\":\"\"}},\"type\":\"scatter\"}],\"scatter3d\":[{\"line\":{\"colorbar\":{\"outlinewidth\":0,\"ticks\":\"\"}},\"marker\":{\"colorbar\":{\"outlinewidth\":0,\"ticks\":\"\"}},\"type\":\"scatter3d\"}],\"scattercarpet\":[{\"marker\":{\"colorbar\":{\"outlinewidth\":0,\"ticks\":\"\"}},\"type\":\"scattercarpet\"}],\"scattergeo\":[{\"marker\":{\"colorbar\":{\"outlinewidth\":0,\"ticks\":\"\"}},\"type\":\"scattergeo\"}],\"scattergl\":[{\"marker\":{\"colorbar\":{\"outlinewidth\":0,\"ticks\":\"\"}},\"type\":\"scattergl\"}],\"scattermapbox\":[{\"marker\":{\"colorbar\":{\"outlinewidth\":0,\"ticks\":\"\"}},\"type\":\"scattermapbox\"}],\"scatterpolar\":[{\"marker\":{\"colorbar\":{\"outlinewidth\":0,\"ticks\":\"\"}},\"type\":\"scatterpolar\"}],\"scatterpolargl\":[{\"marker\":{\"colorbar\":{\"outlinewidth\":0,\"ticks\":\"\"}},\"type\":\"scatterpolargl\"}],\"scatterternary\":[{\"marker\":{\"colorbar\":{\"outlinewidth\":0,\"ticks\":\"\"}},\"type\":\"scatterternary\"}],\"surface\":[{\"colorbar\":{\"outlinewidth\":0,\"ticks\":\"\"},\"colorscale\":[[0.0,\"#0d0887\"],[0.1111111111111111,\"#46039f\"],[0.2222222222222222,\"#7201a8\"],[0.3333333333333333,\"#9c179e\"],[0.4444444444444444,\"#bd3786\"],[0.5555555555555556,\"#d8576b\"],[0.6666666666666666,\"#ed7953\"],[0.7777777777777778,\"#fb9f3a\"],[0.8888888888888888,\"#fdca26\"],[1.0,\"#f0f921\"]],\"type\":\"surface\"}],\"table\":[{\"cells\":{\"fill\":{\"color\":\"#EBF0F8\"},\"line\":{\"color\":\"white\"}},\"header\":{\"fill\":{\"color\":\"#C8D4E3\"},\"line\":{\"color\":\"white\"}},\"type\":\"table\"}]},\"layout\":{\"annotationdefaults\":{\"arrowcolor\":\"#2a3f5f\",\"arrowhead\":0,\"arrowwidth\":1},\"autotypenumbers\":\"strict\",\"coloraxis\":{\"colorbar\":{\"outlinewidth\":0,\"ticks\":\"\"}},\"colorscale\":{\"diverging\":[[0,\"#8e0152\"],[0.1,\"#c51b7d\"],[0.2,\"#de77ae\"],[0.3,\"#f1b6da\"],[0.4,\"#fde0ef\"],[0.5,\"#f7f7f7\"],[0.6,\"#e6f5d0\"],[0.7,\"#b8e186\"],[0.8,\"#7fbc41\"],[0.9,\"#4d9221\"],[1,\"#276419\"]],\"sequential\":[[0.0,\"#0d0887\"],[0.1111111111111111,\"#46039f\"],[0.2222222222222222,\"#7201a8\"],[0.3333333333333333,\"#9c179e\"],[0.4444444444444444,\"#bd3786\"],[0.5555555555555556,\"#d8576b\"],[0.6666666666666666,\"#ed7953\"],[0.7777777777777778,\"#fb9f3a\"],[0.8888888888888888,\"#fdca26\"],[1.0,\"#f0f921\"]],\"sequentialminus\":[[0.0,\"#0d0887\"],[0.1111111111111111,\"#46039f\"],[0.2222222222222222,\"#7201a8\"],[0.3333333333333333,\"#9c179e\"],[0.4444444444444444,\"#bd3786\"],[0.5555555555555556,\"#d8576b\"],[0.6666666666666666,\"#ed7953\"],[0.7777777777777778,\"#fb9f3a\"],[0.8888888888888888,\"#fdca26\"],[1.0,\"#f0f921\"]]},\"colorway\":[\"#636efa\",\"#EF553B\",\"#00cc96\",\"#ab63fa\",\"#FFA15A\",\"#19d3f3\",\"#FF6692\",\"#B6E880\",\"#FF97FF\",\"#FECB52\"],\"font\":{\"color\":\"#2a3f5f\"},\"geo\":{\"bgcolor\":\"white\",\"lakecolor\":\"white\",\"landcolor\":\"#E5ECF6\",\"showlakes\":true,\"showland\":true,\"subunitcolor\":\"white\"},\"hoverlabel\":{\"align\":\"left\"},\"hovermode\":\"closest\",\"mapbox\":{\"style\":\"light\"},\"paper_bgcolor\":\"white\",\"plot_bgcolor\":\"#E5ECF6\",\"polar\":{\"angularaxis\":{\"gridcolor\":\"white\",\"linecolor\":\"white\",\"ticks\":\"\"},\"bgcolor\":\"#E5ECF6\",\"radialaxis\":{\"gridcolor\":\"white\",\"linecolor\":\"white\",\"ticks\":\"\"}},\"scene\":{\"xaxis\":{\"backgroundcolor\":\"#E5ECF6\",\"gridcolor\":\"white\",\"gridwidth\":2,\"linecolor\":\"white\",\"showbackground\":true,\"ticks\":\"\",\"zerolinecolor\":\"white\"},\"yaxis\":{\"backgroundcolor\":\"#E5ECF6\",\"gridcolor\":\"white\",\"gridwidth\":2,\"linecolor\":\"white\",\"showbackground\":true,\"ticks\":\"\",\"zerolinecolor\":\"white\"},\"zaxis\":{\"backgroundcolor\":\"#E5ECF6\",\"gridcolor\":\"white\",\"gridwidth\":2,\"linecolor\":\"white\",\"showbackground\":true,\"ticks\":\"\",\"zerolinecolor\":\"white\"}},\"shapedefaults\":{\"line\":{\"color\":\"#2a3f5f\"}},\"ternary\":{\"aaxis\":{\"gridcolor\":\"white\",\"linecolor\":\"white\",\"ticks\":\"\"},\"baxis\":{\"gridcolor\":\"white\",\"linecolor\":\"white\",\"ticks\":\"\"},\"bgcolor\":\"#E5ECF6\",\"caxis\":{\"gridcolor\":\"white\",\"linecolor\":\"white\",\"ticks\":\"\"}},\"title\":{\"x\":0.05},\"xaxis\":{\"automargin\":true,\"gridcolor\":\"white\",\"linecolor\":\"white\",\"ticks\":\"\",\"title\":{\"standoff\":15},\"zerolinecolor\":\"white\",\"zerolinewidth\":2},\"yaxis\":{\"automargin\":true,\"gridcolor\":\"white\",\"linecolor\":\"white\",\"ticks\":\"\",\"title\":{\"standoff\":15},\"zerolinecolor\":\"white\",\"zerolinewidth\":2}}},\"title\":{\"text\":\"\\u0412\\u043e\\u0440\\u043e\\u043d\\u043a\\u0430 \\u0441\\u043e\\u0431\\u044b\\u0442\\u0438\\u0439 \\u0433\\u0440\\u0443\\u043f\\u043f\\u044b \\u0410\"},\"width\":900,\"height\":500},                        {\"responsive\": true}                    ).then(function(){\n",
              "                            \n",
              "var gd = document.getElementById('5128aaa3-88f0-454c-b573-a70cb2e82150');\n",
              "var x = new MutationObserver(function (mutations, observer) {{\n",
              "        var display = window.getComputedStyle(gd).display;\n",
              "        if (!display || display === 'none') {{\n",
              "            console.log([gd, 'removed!']);\n",
              "            Plotly.purge(gd);\n",
              "            observer.disconnect();\n",
              "        }}\n",
              "}});\n",
              "\n",
              "// Listen for the removal of the full notebook cells\n",
              "var notebookContainer = gd.closest('#notebook-container');\n",
              "if (notebookContainer) {{\n",
              "    x.observe(notebookContainer, {childList: true});\n",
              "}}\n",
              "\n",
              "// Listen for the clearing of the current output cell\n",
              "var outputEl = gd.closest('.output');\n",
              "if (outputEl) {{\n",
              "    x.observe(outputEl, {childList: true});\n",
              "}}\n",
              "\n",
              "                        })                };                            </script>        </div>\n",
              "</body>\n",
              "</html>"
            ]
          },
          "metadata": {}
        }
      ],
      "source": [
        "# построим воронку событий и посмотрим, сколько пользователей побывали на каждом из этапов\n",
        "# login - регистрация пользователя\n",
        "# product_page - страница продукта\n",
        "# product_cart - корзина\n",
        "# purchase - покупка\n",
        "\n",
        "fig = go.Figure(go.Funnel(\n",
        "    y = new_index_a,\n",
        "    x = cr_a['number_of_users_a'],\n",
        "    textposition = \"inside\",\n",
        "    textinfo = \"value+percent initial+percent previous+percent total\",\n",
        "    opacity = 0.65, marker = {\"color\": [\"deepskyblue\", \"lightsalmon\", \"tan\", \"teal\"],\n",
        "    \"line\": {\"width\": [4, 3, 2, 1], \"color\": [\"wheat\", \"wheat\", \"wheat\", \"wheat\"]}},\n",
        "    connector = {\"line\": {\"color\": \"royalblue\", \"dash\": \"dot\", \"width\": 3}})\n",
        "    )\n",
        "\n",
        "fig.update_layout(title=\"Воронка событий группы А\", width=900, height=500)\n",
        "\n",
        "fig.show()"
      ]
    },
    {
      "cell_type": "markdown",
      "metadata": {
        "id": "6i98UmokLgQv"
      },
      "source": [
        "Пользователи, которые побывали на первом этапе возьмем за общее количество пользователей (100%).\n",
        "\n",
        "Тогда, на втором этапе побывали только 65% пользователей. На данном этапе теряется больше всего пользователей.\n",
        "\n",
        "Доля пользователей, которая доходит от регистрации до покупки составляет всего 32%."
      ]
    },
    {
      "cell_type": "code",
      "execution_count": null,
      "metadata": {
        "colab": {
          "base_uri": "https://localhost:8080/",
          "height": 206
        },
        "id": "-gcsbEvLLgQv",
        "outputId": "4e5780d4-9e8a-4aa7-c867-53bc32b9e1f2"
      },
      "outputs": [
        {
          "output_type": "execute_result",
          "data": {
            "text/plain": [
              "              number_of_users_b  user_share_b\n",
              "event_name                                   \n",
              "login                       877      0.322782\n",
              "product_page                493      0.181450\n",
              "product_cart                244      0.089805\n",
              "purchase                    249      0.091645"
            ],
            "text/html": [
              "\n",
              "  <div id=\"df-8a13a540-32a6-4f8e-98bc-26dfe1a6d19b\">\n",
              "    <div class=\"colab-df-container\">\n",
              "      <div>\n",
              "<style scoped>\n",
              "    .dataframe tbody tr th:only-of-type {\n",
              "        vertical-align: middle;\n",
              "    }\n",
              "\n",
              "    .dataframe tbody tr th {\n",
              "        vertical-align: top;\n",
              "    }\n",
              "\n",
              "    .dataframe thead th {\n",
              "        text-align: right;\n",
              "    }\n",
              "</style>\n",
              "<table border=\"1\" class=\"dataframe\">\n",
              "  <thead>\n",
              "    <tr style=\"text-align: right;\">\n",
              "      <th></th>\n",
              "      <th>number_of_users_b</th>\n",
              "      <th>user_share_b</th>\n",
              "    </tr>\n",
              "    <tr>\n",
              "      <th>event_name</th>\n",
              "      <th></th>\n",
              "      <th></th>\n",
              "    </tr>\n",
              "  </thead>\n",
              "  <tbody>\n",
              "    <tr>\n",
              "      <th>login</th>\n",
              "      <td>877</td>\n",
              "      <td>0.322782</td>\n",
              "    </tr>\n",
              "    <tr>\n",
              "      <th>product_page</th>\n",
              "      <td>493</td>\n",
              "      <td>0.181450</td>\n",
              "    </tr>\n",
              "    <tr>\n",
              "      <th>product_cart</th>\n",
              "      <td>244</td>\n",
              "      <td>0.089805</td>\n",
              "    </tr>\n",
              "    <tr>\n",
              "      <th>purchase</th>\n",
              "      <td>249</td>\n",
              "      <td>0.091645</td>\n",
              "    </tr>\n",
              "  </tbody>\n",
              "</table>\n",
              "</div>\n",
              "      <button class=\"colab-df-convert\" onclick=\"convertToInteractive('df-8a13a540-32a6-4f8e-98bc-26dfe1a6d19b')\"\n",
              "              title=\"Convert this dataframe to an interactive table.\"\n",
              "              style=\"display:none;\">\n",
              "        \n",
              "  <svg xmlns=\"http://www.w3.org/2000/svg\" height=\"24px\"viewBox=\"0 0 24 24\"\n",
              "       width=\"24px\">\n",
              "    <path d=\"M0 0h24v24H0V0z\" fill=\"none\"/>\n",
              "    <path d=\"M18.56 5.44l.94 2.06.94-2.06 2.06-.94-2.06-.94-.94-2.06-.94 2.06-2.06.94zm-11 1L8.5 8.5l.94-2.06 2.06-.94-2.06-.94L8.5 2.5l-.94 2.06-2.06.94zm10 10l.94 2.06.94-2.06 2.06-.94-2.06-.94-.94-2.06-.94 2.06-2.06.94z\"/><path d=\"M17.41 7.96l-1.37-1.37c-.4-.4-.92-.59-1.43-.59-.52 0-1.04.2-1.43.59L10.3 9.45l-7.72 7.72c-.78.78-.78 2.05 0 2.83L4 21.41c.39.39.9.59 1.41.59.51 0 1.02-.2 1.41-.59l7.78-7.78 2.81-2.81c.8-.78.8-2.07 0-2.86zM5.41 20L4 18.59l7.72-7.72 1.47 1.35L5.41 20z\"/>\n",
              "  </svg>\n",
              "      </button>\n",
              "      \n",
              "  <style>\n",
              "    .colab-df-container {\n",
              "      display:flex;\n",
              "      flex-wrap:wrap;\n",
              "      gap: 12px;\n",
              "    }\n",
              "\n",
              "    .colab-df-convert {\n",
              "      background-color: #E8F0FE;\n",
              "      border: none;\n",
              "      border-radius: 50%;\n",
              "      cursor: pointer;\n",
              "      display: none;\n",
              "      fill: #1967D2;\n",
              "      height: 32px;\n",
              "      padding: 0 0 0 0;\n",
              "      width: 32px;\n",
              "    }\n",
              "\n",
              "    .colab-df-convert:hover {\n",
              "      background-color: #E2EBFA;\n",
              "      box-shadow: 0px 1px 2px rgba(60, 64, 67, 0.3), 0px 1px 3px 1px rgba(60, 64, 67, 0.15);\n",
              "      fill: #174EA6;\n",
              "    }\n",
              "\n",
              "    [theme=dark] .colab-df-convert {\n",
              "      background-color: #3B4455;\n",
              "      fill: #D2E3FC;\n",
              "    }\n",
              "\n",
              "    [theme=dark] .colab-df-convert:hover {\n",
              "      background-color: #434B5C;\n",
              "      box-shadow: 0px 1px 3px 1px rgba(0, 0, 0, 0.15);\n",
              "      filter: drop-shadow(0px 1px 2px rgba(0, 0, 0, 0.3));\n",
              "      fill: #FFFFFF;\n",
              "    }\n",
              "  </style>\n",
              "\n",
              "      <script>\n",
              "        const buttonEl =\n",
              "          document.querySelector('#df-8a13a540-32a6-4f8e-98bc-26dfe1a6d19b button.colab-df-convert');\n",
              "        buttonEl.style.display =\n",
              "          google.colab.kernel.accessAllowed ? 'block' : 'none';\n",
              "\n",
              "        async function convertToInteractive(key) {\n",
              "          const element = document.querySelector('#df-8a13a540-32a6-4f8e-98bc-26dfe1a6d19b');\n",
              "          const dataTable =\n",
              "            await google.colab.kernel.invokeFunction('convertToInteractive',\n",
              "                                                     [key], {});\n",
              "          if (!dataTable) return;\n",
              "\n",
              "          const docLinkHtml = 'Like what you see? Visit the ' +\n",
              "            '<a target=\"_blank\" href=https://colab.research.google.com/notebooks/data_table.ipynb>data table notebook</a>'\n",
              "            + ' to learn more about interactive tables.';\n",
              "          element.innerHTML = '';\n",
              "          dataTable['output_type'] = 'display_data';\n",
              "          await google.colab.output.renderOutput(dataTable, element);\n",
              "          const docLink = document.createElement('div');\n",
              "          docLink.innerHTML = docLinkHtml;\n",
              "          element.appendChild(docLink);\n",
              "        }\n",
              "      </script>\n",
              "    </div>\n",
              "  </div>\n",
              "  "
            ]
          },
          "metadata": {},
          "execution_count": 41
        }
      ],
      "source": [
        "# выведем пользователей по группе B\n",
        "# посчитаем долю пользователей, которые хоть раз совершали событие\n",
        "\n",
        "group_b = out.query('group==\"B\"')\n",
        "\n",
        "cr_b = (group_b\n",
        "        .groupby('event_name')\n",
        "        .agg(number_of_users_b = ('user_id', 'nunique'))\n",
        "        .sort_values('number_of_users_b', ascending=False)\n",
        "        .assign(user_share_b = lambda x: x['number_of_users_b'] / group_b['user_id'].nunique()))\n",
        "\n",
        "new_index_b = ['login', 'product_page', 'product_cart', 'purchase']\n",
        "cr_b = cr_b.reindex(new_index_b)\n",
        "\n",
        "cr_b"
      ]
    },
    {
      "cell_type": "code",
      "execution_count": null,
      "metadata": {
        "colab": {
          "base_uri": "https://localhost:8080/",
          "height": 517
        },
        "id": "kxrU6e6BLgQv",
        "outputId": "581dabbe-d119-4223-9db0-b3f84a761e8a"
      },
      "outputs": [
        {
          "output_type": "display_data",
          "data": {
            "text/html": [
              "<html>\n",
              "<head><meta charset=\"utf-8\" /></head>\n",
              "<body>\n",
              "    <div>            <script src=\"https://cdnjs.cloudflare.com/ajax/libs/mathjax/2.7.5/MathJax.js?config=TeX-AMS-MML_SVG\"></script><script type=\"text/javascript\">if (window.MathJax) {MathJax.Hub.Config({SVG: {font: \"STIX-Web\"}});}</script>                <script type=\"text/javascript\">window.PlotlyConfig = {MathJaxConfig: 'local'};</script>\n",
              "        <script src=\"https://cdn.plot.ly/plotly-2.8.3.min.js\"></script>                <div id=\"4a7784d4-72be-4a5e-b59e-0d4abaa5bc99\" class=\"plotly-graph-div\" style=\"height:500px; width:900px;\"></div>            <script type=\"text/javascript\">                                    window.PLOTLYENV=window.PLOTLYENV || {};                                    if (document.getElementById(\"4a7784d4-72be-4a5e-b59e-0d4abaa5bc99\")) {                    Plotly.newPlot(                        \"4a7784d4-72be-4a5e-b59e-0d4abaa5bc99\",                        [{\"connector\":{\"line\":{\"color\":\"royalblue\",\"dash\":\"dot\",\"width\":3}},\"marker\":{\"color\":[\"deepskyblue\",\"lightsalmon\",\"tan\",\"teal\"],\"line\":{\"color\":[\"wheat\",\"wheat\",\"wheat\",\"wheat\"],\"width\":[4,3,2,1]}},\"opacity\":0.65,\"textinfo\":\"value+percent initial+percent previous+percent total\",\"textposition\":\"inside\",\"x\":[877,493,244,249],\"y\":[\"login\",\"product_page\",\"product_cart\",\"purchase\"],\"type\":\"funnel\"}],                        {\"template\":{\"data\":{\"bar\":[{\"error_x\":{\"color\":\"#2a3f5f\"},\"error_y\":{\"color\":\"#2a3f5f\"},\"marker\":{\"line\":{\"color\":\"#E5ECF6\",\"width\":0.5},\"pattern\":{\"fillmode\":\"overlay\",\"size\":10,\"solidity\":0.2}},\"type\":\"bar\"}],\"barpolar\":[{\"marker\":{\"line\":{\"color\":\"#E5ECF6\",\"width\":0.5},\"pattern\":{\"fillmode\":\"overlay\",\"size\":10,\"solidity\":0.2}},\"type\":\"barpolar\"}],\"carpet\":[{\"aaxis\":{\"endlinecolor\":\"#2a3f5f\",\"gridcolor\":\"white\",\"linecolor\":\"white\",\"minorgridcolor\":\"white\",\"startlinecolor\":\"#2a3f5f\"},\"baxis\":{\"endlinecolor\":\"#2a3f5f\",\"gridcolor\":\"white\",\"linecolor\":\"white\",\"minorgridcolor\":\"white\",\"startlinecolor\":\"#2a3f5f\"},\"type\":\"carpet\"}],\"choropleth\":[{\"colorbar\":{\"outlinewidth\":0,\"ticks\":\"\"},\"type\":\"choropleth\"}],\"contour\":[{\"colorbar\":{\"outlinewidth\":0,\"ticks\":\"\"},\"colorscale\":[[0.0,\"#0d0887\"],[0.1111111111111111,\"#46039f\"],[0.2222222222222222,\"#7201a8\"],[0.3333333333333333,\"#9c179e\"],[0.4444444444444444,\"#bd3786\"],[0.5555555555555556,\"#d8576b\"],[0.6666666666666666,\"#ed7953\"],[0.7777777777777778,\"#fb9f3a\"],[0.8888888888888888,\"#fdca26\"],[1.0,\"#f0f921\"]],\"type\":\"contour\"}],\"contourcarpet\":[{\"colorbar\":{\"outlinewidth\":0,\"ticks\":\"\"},\"type\":\"contourcarpet\"}],\"heatmap\":[{\"colorbar\":{\"outlinewidth\":0,\"ticks\":\"\"},\"colorscale\":[[0.0,\"#0d0887\"],[0.1111111111111111,\"#46039f\"],[0.2222222222222222,\"#7201a8\"],[0.3333333333333333,\"#9c179e\"],[0.4444444444444444,\"#bd3786\"],[0.5555555555555556,\"#d8576b\"],[0.6666666666666666,\"#ed7953\"],[0.7777777777777778,\"#fb9f3a\"],[0.8888888888888888,\"#fdca26\"],[1.0,\"#f0f921\"]],\"type\":\"heatmap\"}],\"heatmapgl\":[{\"colorbar\":{\"outlinewidth\":0,\"ticks\":\"\"},\"colorscale\":[[0.0,\"#0d0887\"],[0.1111111111111111,\"#46039f\"],[0.2222222222222222,\"#7201a8\"],[0.3333333333333333,\"#9c179e\"],[0.4444444444444444,\"#bd3786\"],[0.5555555555555556,\"#d8576b\"],[0.6666666666666666,\"#ed7953\"],[0.7777777777777778,\"#fb9f3a\"],[0.8888888888888888,\"#fdca26\"],[1.0,\"#f0f921\"]],\"type\":\"heatmapgl\"}],\"histogram\":[{\"marker\":{\"pattern\":{\"fillmode\":\"overlay\",\"size\":10,\"solidity\":0.2}},\"type\":\"histogram\"}],\"histogram2d\":[{\"colorbar\":{\"outlinewidth\":0,\"ticks\":\"\"},\"colorscale\":[[0.0,\"#0d0887\"],[0.1111111111111111,\"#46039f\"],[0.2222222222222222,\"#7201a8\"],[0.3333333333333333,\"#9c179e\"],[0.4444444444444444,\"#bd3786\"],[0.5555555555555556,\"#d8576b\"],[0.6666666666666666,\"#ed7953\"],[0.7777777777777778,\"#fb9f3a\"],[0.8888888888888888,\"#fdca26\"],[1.0,\"#f0f921\"]],\"type\":\"histogram2d\"}],\"histogram2dcontour\":[{\"colorbar\":{\"outlinewidth\":0,\"ticks\":\"\"},\"colorscale\":[[0.0,\"#0d0887\"],[0.1111111111111111,\"#46039f\"],[0.2222222222222222,\"#7201a8\"],[0.3333333333333333,\"#9c179e\"],[0.4444444444444444,\"#bd3786\"],[0.5555555555555556,\"#d8576b\"],[0.6666666666666666,\"#ed7953\"],[0.7777777777777778,\"#fb9f3a\"],[0.8888888888888888,\"#fdca26\"],[1.0,\"#f0f921\"]],\"type\":\"histogram2dcontour\"}],\"mesh3d\":[{\"colorbar\":{\"outlinewidth\":0,\"ticks\":\"\"},\"type\":\"mesh3d\"}],\"parcoords\":[{\"line\":{\"colorbar\":{\"outlinewidth\":0,\"ticks\":\"\"}},\"type\":\"parcoords\"}],\"pie\":[{\"automargin\":true,\"type\":\"pie\"}],\"scatter\":[{\"marker\":{\"colorbar\":{\"outlinewidth\":0,\"ticks\":\"\"}},\"type\":\"scatter\"}],\"scatter3d\":[{\"line\":{\"colorbar\":{\"outlinewidth\":0,\"ticks\":\"\"}},\"marker\":{\"colorbar\":{\"outlinewidth\":0,\"ticks\":\"\"}},\"type\":\"scatter3d\"}],\"scattercarpet\":[{\"marker\":{\"colorbar\":{\"outlinewidth\":0,\"ticks\":\"\"}},\"type\":\"scattercarpet\"}],\"scattergeo\":[{\"marker\":{\"colorbar\":{\"outlinewidth\":0,\"ticks\":\"\"}},\"type\":\"scattergeo\"}],\"scattergl\":[{\"marker\":{\"colorbar\":{\"outlinewidth\":0,\"ticks\":\"\"}},\"type\":\"scattergl\"}],\"scattermapbox\":[{\"marker\":{\"colorbar\":{\"outlinewidth\":0,\"ticks\":\"\"}},\"type\":\"scattermapbox\"}],\"scatterpolar\":[{\"marker\":{\"colorbar\":{\"outlinewidth\":0,\"ticks\":\"\"}},\"type\":\"scatterpolar\"}],\"scatterpolargl\":[{\"marker\":{\"colorbar\":{\"outlinewidth\":0,\"ticks\":\"\"}},\"type\":\"scatterpolargl\"}],\"scatterternary\":[{\"marker\":{\"colorbar\":{\"outlinewidth\":0,\"ticks\":\"\"}},\"type\":\"scatterternary\"}],\"surface\":[{\"colorbar\":{\"outlinewidth\":0,\"ticks\":\"\"},\"colorscale\":[[0.0,\"#0d0887\"],[0.1111111111111111,\"#46039f\"],[0.2222222222222222,\"#7201a8\"],[0.3333333333333333,\"#9c179e\"],[0.4444444444444444,\"#bd3786\"],[0.5555555555555556,\"#d8576b\"],[0.6666666666666666,\"#ed7953\"],[0.7777777777777778,\"#fb9f3a\"],[0.8888888888888888,\"#fdca26\"],[1.0,\"#f0f921\"]],\"type\":\"surface\"}],\"table\":[{\"cells\":{\"fill\":{\"color\":\"#EBF0F8\"},\"line\":{\"color\":\"white\"}},\"header\":{\"fill\":{\"color\":\"#C8D4E3\"},\"line\":{\"color\":\"white\"}},\"type\":\"table\"}]},\"layout\":{\"annotationdefaults\":{\"arrowcolor\":\"#2a3f5f\",\"arrowhead\":0,\"arrowwidth\":1},\"autotypenumbers\":\"strict\",\"coloraxis\":{\"colorbar\":{\"outlinewidth\":0,\"ticks\":\"\"}},\"colorscale\":{\"diverging\":[[0,\"#8e0152\"],[0.1,\"#c51b7d\"],[0.2,\"#de77ae\"],[0.3,\"#f1b6da\"],[0.4,\"#fde0ef\"],[0.5,\"#f7f7f7\"],[0.6,\"#e6f5d0\"],[0.7,\"#b8e186\"],[0.8,\"#7fbc41\"],[0.9,\"#4d9221\"],[1,\"#276419\"]],\"sequential\":[[0.0,\"#0d0887\"],[0.1111111111111111,\"#46039f\"],[0.2222222222222222,\"#7201a8\"],[0.3333333333333333,\"#9c179e\"],[0.4444444444444444,\"#bd3786\"],[0.5555555555555556,\"#d8576b\"],[0.6666666666666666,\"#ed7953\"],[0.7777777777777778,\"#fb9f3a\"],[0.8888888888888888,\"#fdca26\"],[1.0,\"#f0f921\"]],\"sequentialminus\":[[0.0,\"#0d0887\"],[0.1111111111111111,\"#46039f\"],[0.2222222222222222,\"#7201a8\"],[0.3333333333333333,\"#9c179e\"],[0.4444444444444444,\"#bd3786\"],[0.5555555555555556,\"#d8576b\"],[0.6666666666666666,\"#ed7953\"],[0.7777777777777778,\"#fb9f3a\"],[0.8888888888888888,\"#fdca26\"],[1.0,\"#f0f921\"]]},\"colorway\":[\"#636efa\",\"#EF553B\",\"#00cc96\",\"#ab63fa\",\"#FFA15A\",\"#19d3f3\",\"#FF6692\",\"#B6E880\",\"#FF97FF\",\"#FECB52\"],\"font\":{\"color\":\"#2a3f5f\"},\"geo\":{\"bgcolor\":\"white\",\"lakecolor\":\"white\",\"landcolor\":\"#E5ECF6\",\"showlakes\":true,\"showland\":true,\"subunitcolor\":\"white\"},\"hoverlabel\":{\"align\":\"left\"},\"hovermode\":\"closest\",\"mapbox\":{\"style\":\"light\"},\"paper_bgcolor\":\"white\",\"plot_bgcolor\":\"#E5ECF6\",\"polar\":{\"angularaxis\":{\"gridcolor\":\"white\",\"linecolor\":\"white\",\"ticks\":\"\"},\"bgcolor\":\"#E5ECF6\",\"radialaxis\":{\"gridcolor\":\"white\",\"linecolor\":\"white\",\"ticks\":\"\"}},\"scene\":{\"xaxis\":{\"backgroundcolor\":\"#E5ECF6\",\"gridcolor\":\"white\",\"gridwidth\":2,\"linecolor\":\"white\",\"showbackground\":true,\"ticks\":\"\",\"zerolinecolor\":\"white\"},\"yaxis\":{\"backgroundcolor\":\"#E5ECF6\",\"gridcolor\":\"white\",\"gridwidth\":2,\"linecolor\":\"white\",\"showbackground\":true,\"ticks\":\"\",\"zerolinecolor\":\"white\"},\"zaxis\":{\"backgroundcolor\":\"#E5ECF6\",\"gridcolor\":\"white\",\"gridwidth\":2,\"linecolor\":\"white\",\"showbackground\":true,\"ticks\":\"\",\"zerolinecolor\":\"white\"}},\"shapedefaults\":{\"line\":{\"color\":\"#2a3f5f\"}},\"ternary\":{\"aaxis\":{\"gridcolor\":\"white\",\"linecolor\":\"white\",\"ticks\":\"\"},\"baxis\":{\"gridcolor\":\"white\",\"linecolor\":\"white\",\"ticks\":\"\"},\"bgcolor\":\"#E5ECF6\",\"caxis\":{\"gridcolor\":\"white\",\"linecolor\":\"white\",\"ticks\":\"\"}},\"title\":{\"x\":0.05},\"xaxis\":{\"automargin\":true,\"gridcolor\":\"white\",\"linecolor\":\"white\",\"ticks\":\"\",\"title\":{\"standoff\":15},\"zerolinecolor\":\"white\",\"zerolinewidth\":2},\"yaxis\":{\"automargin\":true,\"gridcolor\":\"white\",\"linecolor\":\"white\",\"ticks\":\"\",\"title\":{\"standoff\":15},\"zerolinecolor\":\"white\",\"zerolinewidth\":2}}},\"title\":{\"text\":\"\\u0412\\u043e\\u0440\\u043e\\u043d\\u043a\\u0430 \\u0441\\u043e\\u0431\\u044b\\u0442\\u0438\\u0439 \\u0433\\u0440\\u0443\\u043f\\u043f\\u044b B\"},\"width\":900,\"height\":500},                        {\"responsive\": true}                    ).then(function(){\n",
              "                            \n",
              "var gd = document.getElementById('4a7784d4-72be-4a5e-b59e-0d4abaa5bc99');\n",
              "var x = new MutationObserver(function (mutations, observer) {{\n",
              "        var display = window.getComputedStyle(gd).display;\n",
              "        if (!display || display === 'none') {{\n",
              "            console.log([gd, 'removed!']);\n",
              "            Plotly.purge(gd);\n",
              "            observer.disconnect();\n",
              "        }}\n",
              "}});\n",
              "\n",
              "// Listen for the removal of the full notebook cells\n",
              "var notebookContainer = gd.closest('#notebook-container');\n",
              "if (notebookContainer) {{\n",
              "    x.observe(notebookContainer, {childList: true});\n",
              "}}\n",
              "\n",
              "// Listen for the clearing of the current output cell\n",
              "var outputEl = gd.closest('.output');\n",
              "if (outputEl) {{\n",
              "    x.observe(outputEl, {childList: true});\n",
              "}}\n",
              "\n",
              "                        })                };                            </script>        </div>\n",
              "</body>\n",
              "</html>"
            ]
          },
          "metadata": {}
        }
      ],
      "source": [
        "# построим воронку событий и посмотрим, сколько пользователей побывали на каждом из этапов\n",
        "# login - регистрация пользователя\n",
        "# product_page - страница продукта\n",
        "# product_cart - корзина\n",
        "# purchase - покупка\n",
        "\n",
        "fig = go.Figure(go.Funnel(\n",
        "    y = new_index_b,\n",
        "    x = cr_b['number_of_users_b'],\n",
        "    textposition = \"inside\",\n",
        "    textinfo = \"value+percent initial+percent previous+percent total\",\n",
        "    opacity = 0.65, marker = {\"color\": [\"deepskyblue\", \"lightsalmon\", \"tan\", \"teal\"],\n",
        "    \"line\": {\"width\": [4, 3, 2, 1], \"color\": [\"wheat\", \"wheat\", \"wheat\", \"wheat\"]}},\n",
        "    connector = {\"line\": {\"color\": \"royalblue\", \"dash\": \"dot\", \"width\": 3}})\n",
        "    )\n",
        "\n",
        "fig.update_layout(title=\"Воронка событий группы B\", width=900, height=500)\n",
        "\n",
        "fig.show()"
      ]
    },
    {
      "cell_type": "markdown",
      "metadata": {
        "id": "0yWCUkIjLgQv"
      },
      "source": [
        "Пользователи, которые побывали на первом этапе возьмем за общее количество пользователей (100%).\n",
        "\n",
        "Тогда, на втором этапе побывали только 56% пользователей. На данном этапе потеря пользователей выше чем в группе А.\n",
        "\n",
        "Доля пользователей, которая доходит от регистрации до покупки составляет всего 28%."
      ]
    },
    {
      "cell_type": "markdown",
      "metadata": {
        "id": "_SQIO9CVLgQv"
      },
      "source": [
        "Конверсия группы В ниже чем в группе А."
      ]
    },
    {
      "cell_type": "markdown",
      "metadata": {
        "id": "wldj_5heLgQv"
      },
      "source": [
        "В данном разделе выявлено:\n",
        "- количество событий на пользователя распределены равномерно как в среднем так и по медиане\n",
        "- распределение событий по дням в обеих группах неравномерное\n",
        "- по группе А конверсия от регистрации до покупки составляет 32%\n",
        "- по группе В конверсия от регистрации до покупки составляет 28%"
      ]
    },
    {
      "cell_type": "markdown",
      "metadata": {
        "id": "RLr7P_PALgQv"
      },
      "source": [
        "# 5. Оценка результатов A/B-тестирования"
      ]
    },
    {
      "cell_type": "markdown",
      "metadata": {
        "id": "NtBjpv-ZLgQv"
      },
      "source": [
        "## Результаты A/B-тестирования"
      ]
    },
    {
      "cell_type": "markdown",
      "metadata": {
        "id": "96Ors4ycLgQv"
      },
      "source": [
        "### Количество пользователей по группам"
      ]
    },
    {
      "cell_type": "code",
      "execution_count": null,
      "metadata": {
        "colab": {
          "base_uri": "https://localhost:8080/",
          "height": 143
        },
        "id": "H7E-zzUgLgQv",
        "outputId": "82166e39-ecaf-4602-855d-e035d1a2271b"
      },
      "outputs": [
        {
          "output_type": "execute_result",
          "data": {
            "text/plain": [
              "       user_id\n",
              "group         \n",
              "A         3634\n",
              "B         2717"
            ],
            "text/html": [
              "\n",
              "  <div id=\"df-3a407409-c7ed-45e3-970e-7619fd50bd81\">\n",
              "    <div class=\"colab-df-container\">\n",
              "      <div>\n",
              "<style scoped>\n",
              "    .dataframe tbody tr th:only-of-type {\n",
              "        vertical-align: middle;\n",
              "    }\n",
              "\n",
              "    .dataframe tbody tr th {\n",
              "        vertical-align: top;\n",
              "    }\n",
              "\n",
              "    .dataframe thead th {\n",
              "        text-align: right;\n",
              "    }\n",
              "</style>\n",
              "<table border=\"1\" class=\"dataframe\">\n",
              "  <thead>\n",
              "    <tr style=\"text-align: right;\">\n",
              "      <th></th>\n",
              "      <th>user_id</th>\n",
              "    </tr>\n",
              "    <tr>\n",
              "      <th>group</th>\n",
              "      <th></th>\n",
              "    </tr>\n",
              "  </thead>\n",
              "  <tbody>\n",
              "    <tr>\n",
              "      <th>A</th>\n",
              "      <td>3634</td>\n",
              "    </tr>\n",
              "    <tr>\n",
              "      <th>B</th>\n",
              "      <td>2717</td>\n",
              "    </tr>\n",
              "  </tbody>\n",
              "</table>\n",
              "</div>\n",
              "      <button class=\"colab-df-convert\" onclick=\"convertToInteractive('df-3a407409-c7ed-45e3-970e-7619fd50bd81')\"\n",
              "              title=\"Convert this dataframe to an interactive table.\"\n",
              "              style=\"display:none;\">\n",
              "        \n",
              "  <svg xmlns=\"http://www.w3.org/2000/svg\" height=\"24px\"viewBox=\"0 0 24 24\"\n",
              "       width=\"24px\">\n",
              "    <path d=\"M0 0h24v24H0V0z\" fill=\"none\"/>\n",
              "    <path d=\"M18.56 5.44l.94 2.06.94-2.06 2.06-.94-2.06-.94-.94-2.06-.94 2.06-2.06.94zm-11 1L8.5 8.5l.94-2.06 2.06-.94-2.06-.94L8.5 2.5l-.94 2.06-2.06.94zm10 10l.94 2.06.94-2.06 2.06-.94-2.06-.94-.94-2.06-.94 2.06-2.06.94z\"/><path d=\"M17.41 7.96l-1.37-1.37c-.4-.4-.92-.59-1.43-.59-.52 0-1.04.2-1.43.59L10.3 9.45l-7.72 7.72c-.78.78-.78 2.05 0 2.83L4 21.41c.39.39.9.59 1.41.59.51 0 1.02-.2 1.41-.59l7.78-7.78 2.81-2.81c.8-.78.8-2.07 0-2.86zM5.41 20L4 18.59l7.72-7.72 1.47 1.35L5.41 20z\"/>\n",
              "  </svg>\n",
              "      </button>\n",
              "      \n",
              "  <style>\n",
              "    .colab-df-container {\n",
              "      display:flex;\n",
              "      flex-wrap:wrap;\n",
              "      gap: 12px;\n",
              "    }\n",
              "\n",
              "    .colab-df-convert {\n",
              "      background-color: #E8F0FE;\n",
              "      border: none;\n",
              "      border-radius: 50%;\n",
              "      cursor: pointer;\n",
              "      display: none;\n",
              "      fill: #1967D2;\n",
              "      height: 32px;\n",
              "      padding: 0 0 0 0;\n",
              "      width: 32px;\n",
              "    }\n",
              "\n",
              "    .colab-df-convert:hover {\n",
              "      background-color: #E2EBFA;\n",
              "      box-shadow: 0px 1px 2px rgba(60, 64, 67, 0.3), 0px 1px 3px 1px rgba(60, 64, 67, 0.15);\n",
              "      fill: #174EA6;\n",
              "    }\n",
              "\n",
              "    [theme=dark] .colab-df-convert {\n",
              "      background-color: #3B4455;\n",
              "      fill: #D2E3FC;\n",
              "    }\n",
              "\n",
              "    [theme=dark] .colab-df-convert:hover {\n",
              "      background-color: #434B5C;\n",
              "      box-shadow: 0px 1px 3px 1px rgba(0, 0, 0, 0.15);\n",
              "      filter: drop-shadow(0px 1px 2px rgba(0, 0, 0, 0.3));\n",
              "      fill: #FFFFFF;\n",
              "    }\n",
              "  </style>\n",
              "\n",
              "      <script>\n",
              "        const buttonEl =\n",
              "          document.querySelector('#df-3a407409-c7ed-45e3-970e-7619fd50bd81 button.colab-df-convert');\n",
              "        buttonEl.style.display =\n",
              "          google.colab.kernel.accessAllowed ? 'block' : 'none';\n",
              "\n",
              "        async function convertToInteractive(key) {\n",
              "          const element = document.querySelector('#df-3a407409-c7ed-45e3-970e-7619fd50bd81');\n",
              "          const dataTable =\n",
              "            await google.colab.kernel.invokeFunction('convertToInteractive',\n",
              "                                                     [key], {});\n",
              "          if (!dataTable) return;\n",
              "\n",
              "          const docLinkHtml = 'Like what you see? Visit the ' +\n",
              "            '<a target=\"_blank\" href=https://colab.research.google.com/notebooks/data_table.ipynb>data table notebook</a>'\n",
              "            + ' to learn more about interactive tables.';\n",
              "          element.innerHTML = '';\n",
              "          dataTable['output_type'] = 'display_data';\n",
              "          await google.colab.output.renderOutput(dataTable, element);\n",
              "          const docLink = document.createElement('div');\n",
              "          docLink.innerHTML = docLinkHtml;\n",
              "          element.appendChild(docLink);\n",
              "        }\n",
              "      </script>\n",
              "    </div>\n",
              "  </div>\n",
              "  "
            ]
          },
          "metadata": {},
          "execution_count": 43
        }
      ],
      "source": [
        "# посмотрим еще раз, какое количество пользователей относятся к каждой группе\n",
        "out.groupby('group')['user_id'].nunique().to_frame()"
      ]
    },
    {
      "cell_type": "code",
      "execution_count": null,
      "metadata": {
        "colab": {
          "base_uri": "https://localhost:8080/",
          "height": 112
        },
        "id": "-1mUL1yZLgQw",
        "outputId": "f3d93dd9-1eab-44bb-c2aa-75eb16dcc24d"
      },
      "outputs": [
        {
          "output_type": "execute_result",
          "data": {
            "text/plain": [
              "event_name group  login  product_cart  product_page  purchase\n",
              "0              A   2604           782          1685       833\n",
              "1              B    877           244           493       249"
            ],
            "text/html": [
              "\n",
              "  <div id=\"df-deb1578f-6ea7-4de9-8ccd-03976add90d7\">\n",
              "    <div class=\"colab-df-container\">\n",
              "      <div>\n",
              "<style scoped>\n",
              "    .dataframe tbody tr th:only-of-type {\n",
              "        vertical-align: middle;\n",
              "    }\n",
              "\n",
              "    .dataframe tbody tr th {\n",
              "        vertical-align: top;\n",
              "    }\n",
              "\n",
              "    .dataframe thead th {\n",
              "        text-align: right;\n",
              "    }\n",
              "</style>\n",
              "<table border=\"1\" class=\"dataframe\">\n",
              "  <thead>\n",
              "    <tr style=\"text-align: right;\">\n",
              "      <th>event_name</th>\n",
              "      <th>group</th>\n",
              "      <th>login</th>\n",
              "      <th>product_cart</th>\n",
              "      <th>product_page</th>\n",
              "      <th>purchase</th>\n",
              "    </tr>\n",
              "  </thead>\n",
              "  <tbody>\n",
              "    <tr>\n",
              "      <th>0</th>\n",
              "      <td>A</td>\n",
              "      <td>2604</td>\n",
              "      <td>782</td>\n",
              "      <td>1685</td>\n",
              "      <td>833</td>\n",
              "    </tr>\n",
              "    <tr>\n",
              "      <th>1</th>\n",
              "      <td>B</td>\n",
              "      <td>877</td>\n",
              "      <td>244</td>\n",
              "      <td>493</td>\n",
              "      <td>249</td>\n",
              "    </tr>\n",
              "  </tbody>\n",
              "</table>\n",
              "</div>\n",
              "      <button class=\"colab-df-convert\" onclick=\"convertToInteractive('df-deb1578f-6ea7-4de9-8ccd-03976add90d7')\"\n",
              "              title=\"Convert this dataframe to an interactive table.\"\n",
              "              style=\"display:none;\">\n",
              "        \n",
              "  <svg xmlns=\"http://www.w3.org/2000/svg\" height=\"24px\"viewBox=\"0 0 24 24\"\n",
              "       width=\"24px\">\n",
              "    <path d=\"M0 0h24v24H0V0z\" fill=\"none\"/>\n",
              "    <path d=\"M18.56 5.44l.94 2.06.94-2.06 2.06-.94-2.06-.94-.94-2.06-.94 2.06-2.06.94zm-11 1L8.5 8.5l.94-2.06 2.06-.94-2.06-.94L8.5 2.5l-.94 2.06-2.06.94zm10 10l.94 2.06.94-2.06 2.06-.94-2.06-.94-.94-2.06-.94 2.06-2.06.94z\"/><path d=\"M17.41 7.96l-1.37-1.37c-.4-.4-.92-.59-1.43-.59-.52 0-1.04.2-1.43.59L10.3 9.45l-7.72 7.72c-.78.78-.78 2.05 0 2.83L4 21.41c.39.39.9.59 1.41.59.51 0 1.02-.2 1.41-.59l7.78-7.78 2.81-2.81c.8-.78.8-2.07 0-2.86zM5.41 20L4 18.59l7.72-7.72 1.47 1.35L5.41 20z\"/>\n",
              "  </svg>\n",
              "      </button>\n",
              "      \n",
              "  <style>\n",
              "    .colab-df-container {\n",
              "      display:flex;\n",
              "      flex-wrap:wrap;\n",
              "      gap: 12px;\n",
              "    }\n",
              "\n",
              "    .colab-df-convert {\n",
              "      background-color: #E8F0FE;\n",
              "      border: none;\n",
              "      border-radius: 50%;\n",
              "      cursor: pointer;\n",
              "      display: none;\n",
              "      fill: #1967D2;\n",
              "      height: 32px;\n",
              "      padding: 0 0 0 0;\n",
              "      width: 32px;\n",
              "    }\n",
              "\n",
              "    .colab-df-convert:hover {\n",
              "      background-color: #E2EBFA;\n",
              "      box-shadow: 0px 1px 2px rgba(60, 64, 67, 0.3), 0px 1px 3px 1px rgba(60, 64, 67, 0.15);\n",
              "      fill: #174EA6;\n",
              "    }\n",
              "\n",
              "    [theme=dark] .colab-df-convert {\n",
              "      background-color: #3B4455;\n",
              "      fill: #D2E3FC;\n",
              "    }\n",
              "\n",
              "    [theme=dark] .colab-df-convert:hover {\n",
              "      background-color: #434B5C;\n",
              "      box-shadow: 0px 1px 3px 1px rgba(0, 0, 0, 0.15);\n",
              "      filter: drop-shadow(0px 1px 2px rgba(0, 0, 0, 0.3));\n",
              "      fill: #FFFFFF;\n",
              "    }\n",
              "  </style>\n",
              "\n",
              "      <script>\n",
              "        const buttonEl =\n",
              "          document.querySelector('#df-deb1578f-6ea7-4de9-8ccd-03976add90d7 button.colab-df-convert');\n",
              "        buttonEl.style.display =\n",
              "          google.colab.kernel.accessAllowed ? 'block' : 'none';\n",
              "\n",
              "        async function convertToInteractive(key) {\n",
              "          const element = document.querySelector('#df-deb1578f-6ea7-4de9-8ccd-03976add90d7');\n",
              "          const dataTable =\n",
              "            await google.colab.kernel.invokeFunction('convertToInteractive',\n",
              "                                                     [key], {});\n",
              "          if (!dataTable) return;\n",
              "\n",
              "          const docLinkHtml = 'Like what you see? Visit the ' +\n",
              "            '<a target=\"_blank\" href=https://colab.research.google.com/notebooks/data_table.ipynb>data table notebook</a>'\n",
              "            + ' to learn more about interactive tables.';\n",
              "          element.innerHTML = '';\n",
              "          dataTable['output_type'] = 'display_data';\n",
              "          await google.colab.output.renderOutput(dataTable, element);\n",
              "          const docLink = document.createElement('div');\n",
              "          docLink.innerHTML = docLinkHtml;\n",
              "          element.appendChild(docLink);\n",
              "        }\n",
              "      </script>\n",
              "    </div>\n",
              "  </div>\n",
              "  "
            ]
          },
          "metadata": {},
          "execution_count": 44
        }
      ],
      "source": [
        "# выведем информацию по событиям по каждой группе\n",
        "users_by_events = out.pivot_table(index = 'group',\n",
        "                                   columns = 'event_name',\n",
        "                                   values = 'user_id',\n",
        "                                   aggfunc = 'nunique').reset_index()\n",
        "users_by_events"
      ]
    },
    {
      "cell_type": "code",
      "execution_count": null,
      "metadata": {
        "colab": {
          "base_uri": "https://localhost:8080/",
          "height": 143
        },
        "id": "VDE4veAxLgQw",
        "outputId": "35e0ffa0-df6a-46c1-afd6-dd0ecf751dc5"
      },
      "outputs": [
        {
          "output_type": "execute_result",
          "data": {
            "text/plain": [
              "event_name  login  product_cart  product_page  purchase  users_total\n",
              "group                                                               \n",
              "A            2604           782          1685       833         3634\n",
              "B             877           244           493       249         2717"
            ],
            "text/html": [
              "\n",
              "  <div id=\"df-840976cf-b50e-4416-9642-e182ab522d1d\">\n",
              "    <div class=\"colab-df-container\">\n",
              "      <div>\n",
              "<style scoped>\n",
              "    .dataframe tbody tr th:only-of-type {\n",
              "        vertical-align: middle;\n",
              "    }\n",
              "\n",
              "    .dataframe tbody tr th {\n",
              "        vertical-align: top;\n",
              "    }\n",
              "\n",
              "    .dataframe thead th {\n",
              "        text-align: right;\n",
              "    }\n",
              "</style>\n",
              "<table border=\"1\" class=\"dataframe\">\n",
              "  <thead>\n",
              "    <tr style=\"text-align: right;\">\n",
              "      <th>event_name</th>\n",
              "      <th>login</th>\n",
              "      <th>product_cart</th>\n",
              "      <th>product_page</th>\n",
              "      <th>purchase</th>\n",
              "      <th>users_total</th>\n",
              "    </tr>\n",
              "    <tr>\n",
              "      <th>group</th>\n",
              "      <th></th>\n",
              "      <th></th>\n",
              "      <th></th>\n",
              "      <th></th>\n",
              "      <th></th>\n",
              "    </tr>\n",
              "  </thead>\n",
              "  <tbody>\n",
              "    <tr>\n",
              "      <th>A</th>\n",
              "      <td>2604</td>\n",
              "      <td>782</td>\n",
              "      <td>1685</td>\n",
              "      <td>833</td>\n",
              "      <td>3634</td>\n",
              "    </tr>\n",
              "    <tr>\n",
              "      <th>B</th>\n",
              "      <td>877</td>\n",
              "      <td>244</td>\n",
              "      <td>493</td>\n",
              "      <td>249</td>\n",
              "      <td>2717</td>\n",
              "    </tr>\n",
              "  </tbody>\n",
              "</table>\n",
              "</div>\n",
              "      <button class=\"colab-df-convert\" onclick=\"convertToInteractive('df-840976cf-b50e-4416-9642-e182ab522d1d')\"\n",
              "              title=\"Convert this dataframe to an interactive table.\"\n",
              "              style=\"display:none;\">\n",
              "        \n",
              "  <svg xmlns=\"http://www.w3.org/2000/svg\" height=\"24px\"viewBox=\"0 0 24 24\"\n",
              "       width=\"24px\">\n",
              "    <path d=\"M0 0h24v24H0V0z\" fill=\"none\"/>\n",
              "    <path d=\"M18.56 5.44l.94 2.06.94-2.06 2.06-.94-2.06-.94-.94-2.06-.94 2.06-2.06.94zm-11 1L8.5 8.5l.94-2.06 2.06-.94-2.06-.94L8.5 2.5l-.94 2.06-2.06.94zm10 10l.94 2.06.94-2.06 2.06-.94-2.06-.94-.94-2.06-.94 2.06-2.06.94z\"/><path d=\"M17.41 7.96l-1.37-1.37c-.4-.4-.92-.59-1.43-.59-.52 0-1.04.2-1.43.59L10.3 9.45l-7.72 7.72c-.78.78-.78 2.05 0 2.83L4 21.41c.39.39.9.59 1.41.59.51 0 1.02-.2 1.41-.59l7.78-7.78 2.81-2.81c.8-.78.8-2.07 0-2.86zM5.41 20L4 18.59l7.72-7.72 1.47 1.35L5.41 20z\"/>\n",
              "  </svg>\n",
              "      </button>\n",
              "      \n",
              "  <style>\n",
              "    .colab-df-container {\n",
              "      display:flex;\n",
              "      flex-wrap:wrap;\n",
              "      gap: 12px;\n",
              "    }\n",
              "\n",
              "    .colab-df-convert {\n",
              "      background-color: #E8F0FE;\n",
              "      border: none;\n",
              "      border-radius: 50%;\n",
              "      cursor: pointer;\n",
              "      display: none;\n",
              "      fill: #1967D2;\n",
              "      height: 32px;\n",
              "      padding: 0 0 0 0;\n",
              "      width: 32px;\n",
              "    }\n",
              "\n",
              "    .colab-df-convert:hover {\n",
              "      background-color: #E2EBFA;\n",
              "      box-shadow: 0px 1px 2px rgba(60, 64, 67, 0.3), 0px 1px 3px 1px rgba(60, 64, 67, 0.15);\n",
              "      fill: #174EA6;\n",
              "    }\n",
              "\n",
              "    [theme=dark] .colab-df-convert {\n",
              "      background-color: #3B4455;\n",
              "      fill: #D2E3FC;\n",
              "    }\n",
              "\n",
              "    [theme=dark] .colab-df-convert:hover {\n",
              "      background-color: #434B5C;\n",
              "      box-shadow: 0px 1px 3px 1px rgba(0, 0, 0, 0.15);\n",
              "      filter: drop-shadow(0px 1px 2px rgba(0, 0, 0, 0.3));\n",
              "      fill: #FFFFFF;\n",
              "    }\n",
              "  </style>\n",
              "\n",
              "      <script>\n",
              "        const buttonEl =\n",
              "          document.querySelector('#df-840976cf-b50e-4416-9642-e182ab522d1d button.colab-df-convert');\n",
              "        buttonEl.style.display =\n",
              "          google.colab.kernel.accessAllowed ? 'block' : 'none';\n",
              "\n",
              "        async function convertToInteractive(key) {\n",
              "          const element = document.querySelector('#df-840976cf-b50e-4416-9642-e182ab522d1d');\n",
              "          const dataTable =\n",
              "            await google.colab.kernel.invokeFunction('convertToInteractive',\n",
              "                                                     [key], {});\n",
              "          if (!dataTable) return;\n",
              "\n",
              "          const docLinkHtml = 'Like what you see? Visit the ' +\n",
              "            '<a target=\"_blank\" href=https://colab.research.google.com/notebooks/data_table.ipynb>data table notebook</a>'\n",
              "            + ' to learn more about interactive tables.';\n",
              "          element.innerHTML = '';\n",
              "          dataTable['output_type'] = 'display_data';\n",
              "          await google.colab.output.renderOutput(dataTable, element);\n",
              "          const docLink = document.createElement('div');\n",
              "          docLink.innerHTML = docLinkHtml;\n",
              "          element.appendChild(docLink);\n",
              "        }\n",
              "      </script>\n",
              "    </div>\n",
              "  </div>\n",
              "  "
            ]
          },
          "metadata": {},
          "execution_count": 45
        }
      ],
      "source": [
        "# добавим таблице users_by_events столбец с количеством пользователей в каждой из групп:\n",
        "users_total = out.groupby('group')['user_id'].nunique()\n",
        "users_by_events['users_total'] = users_by_events['group'].apply(lambda x: users_total.loc[x])\n",
        "users_by_events = users_by_events.set_index('group')\n",
        "users_by_events"
      ]
    },
    {
      "cell_type": "markdown",
      "metadata": {
        "id": "gFxxJPuDLgQw"
      },
      "source": [
        "Самым популярным событием для обеих групп становится регистрация. \n",
        "\n",
        "Для проверки гипотез возьмем только пользователей реально поучаствовавших в тесте, т.е. совершивших хотя бы одно событие. Для простоты можно взять количество пользователей с события login, это почти 100%"
      ]
    },
    {
      "cell_type": "markdown",
      "metadata": {
        "id": "yCzDr2_cLgQw"
      },
      "source": [
        "### Проверка гипотез"
      ]
    },
    {
      "cell_type": "markdown",
      "metadata": {
        "id": "8d7pVdHmLgQw"
      },
      "source": [
        "**Сформулируем гипотезы**\n",
        "- Нулевая: конверсия группы А равна конверсии группы В.\n",
        "- Альтернативная: конверсия группы А не равна конверсии группы В.\n",
        "\n",
        "Проверять гипотезу будем при помощи Z-критерия."
      ]
    },
    {
      "cell_type": "code",
      "execution_count": null,
      "metadata": {
        "id": "txENjObVLgQw"
      },
      "outputs": [],
      "source": [
        "# напишем функцию для проверки\n",
        "def st_test(part0, part1, total0, total1, alpha):  \n",
        "    p1 = part0 / total0 \n",
        "    p2 = part1 / total1 \n",
        "    p_combined = (part0 + part1) / (total0 + total1) \n",
        "    difference = p1 - p2 \n",
        "    z_value = difference / mth.sqrt(p_combined * (1 - p_combined) * (1/total0 + 1/total1))\n",
        "    distr = st.norm(0, 1) \n",
        "    p_value = (1 - distr.cdf(abs(z_value))) * 2\n",
        "    return p_value"
      ]
    },
    {
      "cell_type": "code",
      "execution_count": null,
      "metadata": {
        "colab": {
          "base_uri": "https://localhost:8080/",
          "height": 246
        },
        "id": "IsyO-B2hLgQw",
        "outputId": "7a281513-e78f-4abb-b2c8-bd561eb61e0b"
      },
      "outputs": [
        {
          "output_type": "stream",
          "name": "stderr",
          "text": [
            "<ipython-input-46-f20972d69fe1>:7: RuntimeWarning:\n",
            "\n",
            "invalid value encountered in double_scalars\n",
            "\n"
          ]
        },
        {
          "output_type": "execute_result",
          "data": {
            "text/plain": [
              "  Группа_1 Группа_2       Событие  p_alpha  p_value  \\\n",
              "0        A        B         login     0.01      NaN   \n",
              "1        A        B  product_cart     0.01  0.21469   \n",
              "2        A        B  product_page     0.01  0.00001   \n",
              "3        A        B      purchase     0.01  0.04652   \n",
              "\n",
              "                                                             Результат  \n",
              "0  Отвергаем нулевую гипотезу - между долями есть статзначимая разница  \n",
              "1                            Не получилось отвергнуть нулевую гипотезу  \n",
              "2  Отвергаем нулевую гипотезу - между долями есть статзначимая разница  \n",
              "3  Отвергаем нулевую гипотезу - между долями есть статзначимая разница  "
            ],
            "text/html": [
              "\n",
              "  <div id=\"df-c32a5884-bf82-44ef-beb7-aadb2d3ac525\">\n",
              "    <div class=\"colab-df-container\">\n",
              "      <div>\n",
              "<style scoped>\n",
              "    .dataframe tbody tr th:only-of-type {\n",
              "        vertical-align: middle;\n",
              "    }\n",
              "\n",
              "    .dataframe tbody tr th {\n",
              "        vertical-align: top;\n",
              "    }\n",
              "\n",
              "    .dataframe thead th {\n",
              "        text-align: right;\n",
              "    }\n",
              "</style>\n",
              "<table border=\"1\" class=\"dataframe\">\n",
              "  <thead>\n",
              "    <tr style=\"text-align: right;\">\n",
              "      <th></th>\n",
              "      <th>Группа_1</th>\n",
              "      <th>Группа_2</th>\n",
              "      <th>Событие</th>\n",
              "      <th>p_alpha</th>\n",
              "      <th>p_value</th>\n",
              "      <th>Результат</th>\n",
              "    </tr>\n",
              "  </thead>\n",
              "  <tbody>\n",
              "    <tr>\n",
              "      <th>0</th>\n",
              "      <td>A</td>\n",
              "      <td>B</td>\n",
              "      <td>login</td>\n",
              "      <td>0.01</td>\n",
              "      <td>NaN</td>\n",
              "      <td>Отвергаем нулевую гипотезу - между долями есть статзначимая разница</td>\n",
              "    </tr>\n",
              "    <tr>\n",
              "      <th>1</th>\n",
              "      <td>A</td>\n",
              "      <td>B</td>\n",
              "      <td>product_cart</td>\n",
              "      <td>0.01</td>\n",
              "      <td>0.21469</td>\n",
              "      <td>Не получилось отвергнуть нулевую гипотезу</td>\n",
              "    </tr>\n",
              "    <tr>\n",
              "      <th>2</th>\n",
              "      <td>A</td>\n",
              "      <td>B</td>\n",
              "      <td>product_page</td>\n",
              "      <td>0.01</td>\n",
              "      <td>0.00001</td>\n",
              "      <td>Отвергаем нулевую гипотезу - между долями есть статзначимая разница</td>\n",
              "    </tr>\n",
              "    <tr>\n",
              "      <th>3</th>\n",
              "      <td>A</td>\n",
              "      <td>B</td>\n",
              "      <td>purchase</td>\n",
              "      <td>0.01</td>\n",
              "      <td>0.04652</td>\n",
              "      <td>Отвергаем нулевую гипотезу - между долями есть статзначимая разница</td>\n",
              "    </tr>\n",
              "  </tbody>\n",
              "</table>\n",
              "</div>\n",
              "      <button class=\"colab-df-convert\" onclick=\"convertToInteractive('df-c32a5884-bf82-44ef-beb7-aadb2d3ac525')\"\n",
              "              title=\"Convert this dataframe to an interactive table.\"\n",
              "              style=\"display:none;\">\n",
              "        \n",
              "  <svg xmlns=\"http://www.w3.org/2000/svg\" height=\"24px\"viewBox=\"0 0 24 24\"\n",
              "       width=\"24px\">\n",
              "    <path d=\"M0 0h24v24H0V0z\" fill=\"none\"/>\n",
              "    <path d=\"M18.56 5.44l.94 2.06.94-2.06 2.06-.94-2.06-.94-.94-2.06-.94 2.06-2.06.94zm-11 1L8.5 8.5l.94-2.06 2.06-.94-2.06-.94L8.5 2.5l-.94 2.06-2.06.94zm10 10l.94 2.06.94-2.06 2.06-.94-2.06-.94-.94-2.06-.94 2.06-2.06.94z\"/><path d=\"M17.41 7.96l-1.37-1.37c-.4-.4-.92-.59-1.43-.59-.52 0-1.04.2-1.43.59L10.3 9.45l-7.72 7.72c-.78.78-.78 2.05 0 2.83L4 21.41c.39.39.9.59 1.41.59.51 0 1.02-.2 1.41-.59l7.78-7.78 2.81-2.81c.8-.78.8-2.07 0-2.86zM5.41 20L4 18.59l7.72-7.72 1.47 1.35L5.41 20z\"/>\n",
              "  </svg>\n",
              "      </button>\n",
              "      \n",
              "  <style>\n",
              "    .colab-df-container {\n",
              "      display:flex;\n",
              "      flex-wrap:wrap;\n",
              "      gap: 12px;\n",
              "    }\n",
              "\n",
              "    .colab-df-convert {\n",
              "      background-color: #E8F0FE;\n",
              "      border: none;\n",
              "      border-radius: 50%;\n",
              "      cursor: pointer;\n",
              "      display: none;\n",
              "      fill: #1967D2;\n",
              "      height: 32px;\n",
              "      padding: 0 0 0 0;\n",
              "      width: 32px;\n",
              "    }\n",
              "\n",
              "    .colab-df-convert:hover {\n",
              "      background-color: #E2EBFA;\n",
              "      box-shadow: 0px 1px 2px rgba(60, 64, 67, 0.3), 0px 1px 3px 1px rgba(60, 64, 67, 0.15);\n",
              "      fill: #174EA6;\n",
              "    }\n",
              "\n",
              "    [theme=dark] .colab-df-convert {\n",
              "      background-color: #3B4455;\n",
              "      fill: #D2E3FC;\n",
              "    }\n",
              "\n",
              "    [theme=dark] .colab-df-convert:hover {\n",
              "      background-color: #434B5C;\n",
              "      box-shadow: 0px 1px 3px 1px rgba(0, 0, 0, 0.15);\n",
              "      filter: drop-shadow(0px 1px 2px rgba(0, 0, 0, 0.3));\n",
              "      fill: #FFFFFF;\n",
              "    }\n",
              "  </style>\n",
              "\n",
              "      <script>\n",
              "        const buttonEl =\n",
              "          document.querySelector('#df-c32a5884-bf82-44ef-beb7-aadb2d3ac525 button.colab-df-convert');\n",
              "        buttonEl.style.display =\n",
              "          google.colab.kernel.accessAllowed ? 'block' : 'none';\n",
              "\n",
              "        async function convertToInteractive(key) {\n",
              "          const element = document.querySelector('#df-c32a5884-bf82-44ef-beb7-aadb2d3ac525');\n",
              "          const dataTable =\n",
              "            await google.colab.kernel.invokeFunction('convertToInteractive',\n",
              "                                                     [key], {});\n",
              "          if (!dataTable) return;\n",
              "\n",
              "          const docLinkHtml = 'Like what you see? Visit the ' +\n",
              "            '<a target=\"_blank\" href=https://colab.research.google.com/notebooks/data_table.ipynb>data table notebook</a>'\n",
              "            + ' to learn more about interactive tables.';\n",
              "          element.innerHTML = '';\n",
              "          dataTable['output_type'] = 'display_data';\n",
              "          await google.colab.output.renderOutput(dataTable, element);\n",
              "          const docLink = document.createElement('div');\n",
              "          docLink.innerHTML = docLinkHtml;\n",
              "          element.appendChild(docLink);\n",
              "        }\n",
              "      </script>\n",
              "    </div>\n",
              "  </div>\n",
              "  "
            ]
          },
          "metadata": {},
          "execution_count": 51
        }
      ],
      "source": [
        "pd.options.display.max_colwidth = 150\n",
        "\n",
        "AB_pivot = pd.DataFrame(columns=['Группа_1', 'Группа_2', 'Событие', 'p_alpha', 'p_value', 'Результат'])\n",
        "\n",
        "result_options = [\"Отвергаем нулевую гипотезу - между долями есть статзначимая разница\",\n",
        "                  \"Не получилось отвергнуть нулевую гипотезу\"]\n",
        "\n",
        "for i in range(1):\n",
        "    group_1 = 'A'\n",
        "    current_row = users_by_events.loc[group_1]\n",
        "    group_2 = 'B'\n",
        "    for event_number in range(4):\n",
        "        curr_event = users_by_events.columns[event_number]\n",
        "        p_value_result = st_test(current_row[curr_event], \n",
        "                                       users_by_events[curr_event][group_2],\n",
        "                                       current_row['login'],\n",
        "                                       users_by_events['login'][group_2],\n",
        "                                       alpha = 0.01\n",
        "                               )\n",
        "        new_row = {'Группа_1': group_1,\n",
        "                   'Группа_2': group_2,\n",
        "                   'Событие': users_by_events.columns[event_number],\n",
        "                   'p_alpha': 0.01,\n",
        "                   'p_value': round(p_value_result, 5),\n",
        "                   'Результат': result_options[int(p_value_result >= 0.05)]}\n",
        "        AB_pivot = AB_pivot.append([new_row])\n",
        "\n",
        "AB_pivot.index = range(len(AB_pivot))\n",
        "AB_pivot"
      ]
    },
    {
      "cell_type": "markdown",
      "metadata": {
        "id": "T3c6COKMLgQw"
      },
      "source": [
        "Статзначимые отличия обнаружены во всех событиях, кроме product_cart.\n",
        "\n",
        "Мы проводим множественный тест (берем несколько выборок из одного и того же набора данных). Особенность данного теста в том, что с каждой новой проверкой гипотезы растёт вероятность ошибки первого рода. Поэтому скорректируем наши конечные p_value для сравнения их значений с alpha, для этого выберем метод Шидака."
      ]
    },
    {
      "cell_type": "code",
      "execution_count": null,
      "metadata": {
        "colab": {
          "base_uri": "https://localhost:8080/",
          "height": 175
        },
        "id": "XzLgwEssLgQw",
        "outputId": "646d969d-b2e4-4e09-ee13-8d3125c75fc8"
      },
      "outputs": [
        {
          "output_type": "execute_result",
          "data": {
            "text/plain": [
              "  Группа_1 Группа_2       Событие  p_alpha  p_value  p_value_corr  \\\n",
              "0        A        B         login     0.01      NaN           NaN   \n",
              "1        A        B  product_cart     0.01  0.21469       0.38329   \n",
              "2        A        B  product_page     0.01  0.00001       0.00004   \n",
              "3        A        B      purchase     0.01  0.04652       0.13317   \n",
              "\n",
              "                                                    Итоговый результат  \n",
              "0                            Не получилось отвергнуть нулевую гипотезу  \n",
              "1                            Не получилось отвергнуть нулевую гипотезу  \n",
              "2  Отвергаем нулевую гипотезу - между долями есть статзначимая разница  \n",
              "3                            Не получилось отвергнуть нулевую гипотезу  "
            ],
            "text/html": [
              "\n",
              "  <div id=\"df-eb4e71e6-c4d8-4305-a207-bd9fd5523c25\">\n",
              "    <div class=\"colab-df-container\">\n",
              "      <div>\n",
              "<style scoped>\n",
              "    .dataframe tbody tr th:only-of-type {\n",
              "        vertical-align: middle;\n",
              "    }\n",
              "\n",
              "    .dataframe tbody tr th {\n",
              "        vertical-align: top;\n",
              "    }\n",
              "\n",
              "    .dataframe thead th {\n",
              "        text-align: right;\n",
              "    }\n",
              "</style>\n",
              "<table border=\"1\" class=\"dataframe\">\n",
              "  <thead>\n",
              "    <tr style=\"text-align: right;\">\n",
              "      <th></th>\n",
              "      <th>Группа_1</th>\n",
              "      <th>Группа_2</th>\n",
              "      <th>Событие</th>\n",
              "      <th>p_alpha</th>\n",
              "      <th>p_value</th>\n",
              "      <th>p_value_corr</th>\n",
              "      <th>Итоговый результат</th>\n",
              "    </tr>\n",
              "  </thead>\n",
              "  <tbody>\n",
              "    <tr>\n",
              "      <th>0</th>\n",
              "      <td>A</td>\n",
              "      <td>B</td>\n",
              "      <td>login</td>\n",
              "      <td>0.01</td>\n",
              "      <td>NaN</td>\n",
              "      <td>NaN</td>\n",
              "      <td>Не получилось отвергнуть нулевую гипотезу</td>\n",
              "    </tr>\n",
              "    <tr>\n",
              "      <th>1</th>\n",
              "      <td>A</td>\n",
              "      <td>B</td>\n",
              "      <td>product_cart</td>\n",
              "      <td>0.01</td>\n",
              "      <td>0.21469</td>\n",
              "      <td>0.38329</td>\n",
              "      <td>Не получилось отвергнуть нулевую гипотезу</td>\n",
              "    </tr>\n",
              "    <tr>\n",
              "      <th>2</th>\n",
              "      <td>A</td>\n",
              "      <td>B</td>\n",
              "      <td>product_page</td>\n",
              "      <td>0.01</td>\n",
              "      <td>0.00001</td>\n",
              "      <td>0.00004</td>\n",
              "      <td>Отвергаем нулевую гипотезу - между долями есть статзначимая разница</td>\n",
              "    </tr>\n",
              "    <tr>\n",
              "      <th>3</th>\n",
              "      <td>A</td>\n",
              "      <td>B</td>\n",
              "      <td>purchase</td>\n",
              "      <td>0.01</td>\n",
              "      <td>0.04652</td>\n",
              "      <td>0.13317</td>\n",
              "      <td>Не получилось отвергнуть нулевую гипотезу</td>\n",
              "    </tr>\n",
              "  </tbody>\n",
              "</table>\n",
              "</div>\n",
              "      <button class=\"colab-df-convert\" onclick=\"convertToInteractive('df-eb4e71e6-c4d8-4305-a207-bd9fd5523c25')\"\n",
              "              title=\"Convert this dataframe to an interactive table.\"\n",
              "              style=\"display:none;\">\n",
              "        \n",
              "  <svg xmlns=\"http://www.w3.org/2000/svg\" height=\"24px\"viewBox=\"0 0 24 24\"\n",
              "       width=\"24px\">\n",
              "    <path d=\"M0 0h24v24H0V0z\" fill=\"none\"/>\n",
              "    <path d=\"M18.56 5.44l.94 2.06.94-2.06 2.06-.94-2.06-.94-.94-2.06-.94 2.06-2.06.94zm-11 1L8.5 8.5l.94-2.06 2.06-.94-2.06-.94L8.5 2.5l-.94 2.06-2.06.94zm10 10l.94 2.06.94-2.06 2.06-.94-2.06-.94-.94-2.06-.94 2.06-2.06.94z\"/><path d=\"M17.41 7.96l-1.37-1.37c-.4-.4-.92-.59-1.43-.59-.52 0-1.04.2-1.43.59L10.3 9.45l-7.72 7.72c-.78.78-.78 2.05 0 2.83L4 21.41c.39.39.9.59 1.41.59.51 0 1.02-.2 1.41-.59l7.78-7.78 2.81-2.81c.8-.78.8-2.07 0-2.86zM5.41 20L4 18.59l7.72-7.72 1.47 1.35L5.41 20z\"/>\n",
              "  </svg>\n",
              "      </button>\n",
              "      \n",
              "  <style>\n",
              "    .colab-df-container {\n",
              "      display:flex;\n",
              "      flex-wrap:wrap;\n",
              "      gap: 12px;\n",
              "    }\n",
              "\n",
              "    .colab-df-convert {\n",
              "      background-color: #E8F0FE;\n",
              "      border: none;\n",
              "      border-radius: 50%;\n",
              "      cursor: pointer;\n",
              "      display: none;\n",
              "      fill: #1967D2;\n",
              "      height: 32px;\n",
              "      padding: 0 0 0 0;\n",
              "      width: 32px;\n",
              "    }\n",
              "\n",
              "    .colab-df-convert:hover {\n",
              "      background-color: #E2EBFA;\n",
              "      box-shadow: 0px 1px 2px rgba(60, 64, 67, 0.3), 0px 1px 3px 1px rgba(60, 64, 67, 0.15);\n",
              "      fill: #174EA6;\n",
              "    }\n",
              "\n",
              "    [theme=dark] .colab-df-convert {\n",
              "      background-color: #3B4455;\n",
              "      fill: #D2E3FC;\n",
              "    }\n",
              "\n",
              "    [theme=dark] .colab-df-convert:hover {\n",
              "      background-color: #434B5C;\n",
              "      box-shadow: 0px 1px 3px 1px rgba(0, 0, 0, 0.15);\n",
              "      filter: drop-shadow(0px 1px 2px rgba(0, 0, 0, 0.3));\n",
              "      fill: #FFFFFF;\n",
              "    }\n",
              "  </style>\n",
              "\n",
              "      <script>\n",
              "        const buttonEl =\n",
              "          document.querySelector('#df-eb4e71e6-c4d8-4305-a207-bd9fd5523c25 button.colab-df-convert');\n",
              "        buttonEl.style.display =\n",
              "          google.colab.kernel.accessAllowed ? 'block' : 'none';\n",
              "\n",
              "        async function convertToInteractive(key) {\n",
              "          const element = document.querySelector('#df-eb4e71e6-c4d8-4305-a207-bd9fd5523c25');\n",
              "          const dataTable =\n",
              "            await google.colab.kernel.invokeFunction('convertToInteractive',\n",
              "                                                     [key], {});\n",
              "          if (!dataTable) return;\n",
              "\n",
              "          const docLinkHtml = 'Like what you see? Visit the ' +\n",
              "            '<a target=\"_blank\" href=https://colab.research.google.com/notebooks/data_table.ipynb>data table notebook</a>'\n",
              "            + ' to learn more about interactive tables.';\n",
              "          element.innerHTML = '';\n",
              "          dataTable['output_type'] = 'display_data';\n",
              "          await google.colab.output.renderOutput(dataTable, element);\n",
              "          const docLink = document.createElement('div');\n",
              "          docLink.innerHTML = docLinkHtml;\n",
              "          element.appendChild(docLink);\n",
              "        }\n",
              "      </script>\n",
              "    </div>\n",
              "  </div>\n",
              "  "
            ]
          },
          "metadata": {},
          "execution_count": 52
        }
      ],
      "source": [
        "# пересчитаем данные по таблице (столбец p_value) и обновим выводы, если это потребуется (столбец Результат)\n",
        "pd.options.display.max_colwidth = 150\n",
        "\n",
        "result_options = [\"Отвергаем нулевую гипотезу - между долями есть статзначимая разница\",\n",
        "                  \"Не получилось отвергнуть нулевую гипотезу\"]\n",
        "\n",
        "pvalues_corr_list = []  # откорректированные p-value\n",
        "final_results = []  # итоговые результаты (отклоняем или нет)\n",
        "\n",
        "for i in range(0, len(AB_pivot), 4):\n",
        "    pvalues_list = AB_pivot.loc[i:i+3, 'p_value'].tolist()\n",
        "    results, p_value_corr, _, _ = multipletests(pvalues_list, method='holm-sidak')\n",
        "    pvalues_corr_list.extend([round(x, 5) for x in p_value_corr])\n",
        "    final_results.extend([result_options[0] if x else result_options[1] for x in results])\n",
        "\n",
        "AB_pivot = AB_pivot.drop('Результат', axis=1)\n",
        "AB_pivot['p_value_corr'] = pvalues_corr_list\n",
        "AB_pivot['Итоговый результат'] = final_results\n",
        "\n",
        "AB_pivot"
      ]
    },
    {
      "cell_type": "markdown",
      "metadata": {
        "id": "pOEvoNZBLgQw"
      },
      "source": [
        "*Результаты* изменились, внесённые изменения никак не повлияли на метрики и на поведения пользователей на трех шагах из четырех"
      ]
    },
    {
      "cell_type": "markdown",
      "metadata": {
        "id": "JRncfyKTLgQw"
      },
      "source": [
        "# 6. Выводы и общее заключение о корректности проведения теста"
      ]
    },
    {
      "cell_type": "markdown",
      "metadata": {
        "id": "FS4GcC3sLgQw"
      },
      "source": [
        "Исходя из полученных данных и проведенной обработки информации\n",
        "\n",
        "**Вывод:**\n",
        "- количество событий на пользователя распределены равномерно как в среднем так и по медиане\n",
        "- распределение событий по дням в обеих группах неравномерное\n",
        "- по группе А конверсия от регистрации до покупки составляет 32%\n",
        "- по группе В конверсия от регистрации до покупки составляет 28%\n",
        "- самым популярным событием для обеих групп является регистрация.\n",
        "- статзначимые отличия обнаружены\n",
        "\n",
        "**Общее заключение о корректности проведения теста**\n",
        "- выявлены несовпадения ТЗ и проведенного теста \n",
        "  - в дате остановки теста\n",
        "  - в доле новых пользователей из Европы: разница составляет 1,2% в меньшую сторону.\n",
        "  - в количестве участников теста: меньше запланированого\n",
        "  - период проведения теста пересекается с периодами двух мерояприятий\n",
        "  - различие в количестве пользователей в группах\n",
        "  \n",
        "\n",
        "  \n"
      ]
    },
    {
      "cell_type": "markdown",
      "metadata": {
        "id": "9Il0Xe7ILgQx"
      },
      "source": [
        "**Описание шагов исследования:**\n",
        "\n",
        "1. Загрузка данных и подготовка их к анализу\n",
        "- обзор данных\n",
        "\n",
        "2. Предобработка данных\n",
        "- преобразование типов\n",
        "- проверка пропущенных значений и дубликатов (описать их природу)\n",
        "\n",
        "3. Оценка корректности проведения теста\n",
        "- проверка корректности всех пунктов технического задания\n",
        "- время проведения теста (что оно не совпадает с маркетинговыми и другими активностями)\n",
        "- аудитория теста (нет ли пересечений с конкурирующим тестом и нет ли пользователей, участвующих в двух группах теста одновременно; проверка равномерности распределения пользователей по тестовым группам и правильность их формирования)\n",
        "\n",
        "4. Исследовательский анализ данных\n",
        "- равность распределения количества событий на пользователя в выборках\n",
        "- распределение числа событий в выборках по дням\n",
        "- изменение конверсии в воронке в выборках на разных этапах\n",
        "- выявление особенностей в данных перед началом A/B-тестирования\n",
        "\n",
        "5. Оценка результатов A/B-тестирования\n",
        "- результаты A/B-тестирования\n",
        "- проверка статистической разницы долей z-критерием\n",
        "\n",
        "6. Выводы и общее заключение о корректности проведения теста\n",
        "\n"
      ]
    },
    {
      "cell_type": "markdown",
      "metadata": {
        "id": "o6Q9IArDLgQx"
      },
      "source": [
        "**Прежде чем приступать к A/B-тестированию необходимо учитывать следующие особенности:**\n",
        "- цель теста\n",
        "- определение метрики (например, Conversion Rate)\n",
        "- формулирование гипотезы (например, \"Ожидаем, что изменения вызовут рост конверсии не менее чем на 10%\")\n",
        "- проверка количества пользователей в различных группах (различие не более, чем на 1%)\n",
        "- равномерность выборок\n",
        "- достаточный период теста\n"
      ]
    },
    {
      "cell_type": "code",
      "execution_count": null,
      "metadata": {
        "id": "PB5tdPOjLgQx"
      },
      "outputs": [],
      "source": []
    }
  ],
  "metadata": {
    "ExecuteTimeLog": [
      {
        "duration": 426,
        "start_time": "2022-11-30T11:06:35.841Z"
      },
      {
        "duration": 76,
        "start_time": "2022-11-30T11:08:12.156Z"
      },
      {
        "duration": 249,
        "start_time": "2022-11-30T11:08:56.428Z"
      },
      {
        "duration": 1727,
        "start_time": "2022-11-30T11:09:29.946Z"
      },
      {
        "duration": 197,
        "start_time": "2022-11-30T11:10:26.273Z"
      },
      {
        "duration": 81,
        "start_time": "2022-11-30T11:10:57.270Z"
      },
      {
        "duration": 654,
        "start_time": "2022-11-30T11:11:08.597Z"
      },
      {
        "duration": 38,
        "start_time": "2022-11-30T11:11:36.390Z"
      },
      {
        "duration": 24,
        "start_time": "2022-11-30T11:12:00.410Z"
      },
      {
        "duration": 20,
        "start_time": "2022-11-30T11:12:42.770Z"
      },
      {
        "duration": 58,
        "start_time": "2022-11-30T11:14:30.780Z"
      },
      {
        "duration": 23,
        "start_time": "2022-11-30T11:15:44.241Z"
      },
      {
        "duration": 59,
        "start_time": "2022-11-30T11:31:36.457Z"
      },
      {
        "duration": 4,
        "start_time": "2022-11-30T11:32:24.747Z"
      },
      {
        "duration": 12,
        "start_time": "2022-11-30T11:32:35.740Z"
      },
      {
        "duration": 10,
        "start_time": "2022-11-30T11:32:45.561Z"
      },
      {
        "duration": 5,
        "start_time": "2022-11-30T11:33:11.610Z"
      },
      {
        "duration": 9,
        "start_time": "2022-11-30T11:33:58.215Z"
      },
      {
        "duration": 91,
        "start_time": "2022-11-30T11:34:15.286Z"
      },
      {
        "duration": 5,
        "start_time": "2022-11-30T11:36:19.432Z"
      },
      {
        "duration": 348,
        "start_time": "2022-11-30T11:38:04.972Z"
      },
      {
        "duration": 10,
        "start_time": "2022-11-30T11:38:44.144Z"
      },
      {
        "duration": 8,
        "start_time": "2022-11-30T11:38:56.249Z"
      },
      {
        "duration": 59,
        "start_time": "2022-11-30T11:38:56.712Z"
      },
      {
        "duration": 6,
        "start_time": "2022-11-30T11:39:55.532Z"
      },
      {
        "duration": 209,
        "start_time": "2022-11-30T11:43:31.405Z"
      },
      {
        "duration": 230,
        "start_time": "2022-11-30T11:44:01.852Z"
      },
      {
        "duration": 29,
        "start_time": "2022-11-30T11:44:13.762Z"
      },
      {
        "duration": 29,
        "start_time": "2022-11-30T11:44:17.996Z"
      },
      {
        "duration": 173,
        "start_time": "2022-11-30T11:44:23.728Z"
      },
      {
        "duration": 9,
        "start_time": "2022-11-30T11:44:29.022Z"
      },
      {
        "duration": 17,
        "start_time": "2022-11-30T11:44:47.186Z"
      },
      {
        "duration": 15,
        "start_time": "2022-11-30T11:45:17.647Z"
      },
      {
        "duration": 14,
        "start_time": "2022-11-30T11:46:58.863Z"
      },
      {
        "duration": 29,
        "start_time": "2022-11-30T11:49:05.705Z"
      },
      {
        "duration": 16,
        "start_time": "2022-11-30T11:49:42.189Z"
      },
      {
        "duration": 3,
        "start_time": "2022-11-30T11:51:31.287Z"
      },
      {
        "duration": 436,
        "start_time": "2022-11-30T11:51:36.543Z"
      },
      {
        "duration": 14,
        "start_time": "2022-11-30T11:52:34.121Z"
      },
      {
        "duration": 30,
        "start_time": "2022-11-30T11:55:51.181Z"
      },
      {
        "duration": 13,
        "start_time": "2022-11-30T11:57:24.975Z"
      },
      {
        "duration": 13,
        "start_time": "2022-11-30T11:58:53.825Z"
      },
      {
        "duration": 8,
        "start_time": "2022-11-30T11:59:04.061Z"
      },
      {
        "duration": 13,
        "start_time": "2022-11-30T11:59:23.639Z"
      },
      {
        "duration": 7,
        "start_time": "2022-11-30T12:00:17.943Z"
      },
      {
        "duration": 9,
        "start_time": "2022-11-30T12:00:31.291Z"
      },
      {
        "duration": 20,
        "start_time": "2022-11-30T12:00:59.770Z"
      },
      {
        "duration": 49,
        "start_time": "2022-11-30T12:01:27.801Z"
      },
      {
        "duration": 750,
        "start_time": "2022-12-01T06:54:44.151Z"
      },
      {
        "duration": 77,
        "start_time": "2022-12-01T06:54:44.903Z"
      },
      {
        "duration": 127,
        "start_time": "2022-12-01T06:54:44.981Z"
      },
      {
        "duration": 622,
        "start_time": "2022-12-01T06:54:45.111Z"
      },
      {
        "duration": 86,
        "start_time": "2022-12-01T06:54:45.735Z"
      },
      {
        "duration": 22,
        "start_time": "2022-12-01T06:54:45.823Z"
      },
      {
        "duration": 23,
        "start_time": "2022-12-01T06:54:45.847Z"
      },
      {
        "duration": 64,
        "start_time": "2022-12-01T06:54:45.871Z"
      },
      {
        "duration": 16,
        "start_time": "2022-12-01T06:54:45.937Z"
      },
      {
        "duration": 154,
        "start_time": "2022-12-01T06:54:45.956Z"
      },
      {
        "duration": 7,
        "start_time": "2022-12-01T06:54:46.113Z"
      },
      {
        "duration": 132,
        "start_time": "2022-12-01T06:54:46.122Z"
      },
      {
        "duration": 10,
        "start_time": "2022-12-01T06:54:46.256Z"
      },
      {
        "duration": 252,
        "start_time": "2022-12-01T06:54:46.268Z"
      },
      {
        "duration": 17,
        "start_time": "2022-12-01T06:54:46.521Z"
      },
      {
        "duration": 27,
        "start_time": "2022-12-01T06:54:46.539Z"
      },
      {
        "duration": 68,
        "start_time": "2022-12-01T06:54:46.567Z"
      },
      {
        "duration": 12,
        "start_time": "2022-12-01T06:56:55.502Z"
      },
      {
        "duration": 75,
        "start_time": "2022-12-01T06:59:02.452Z"
      },
      {
        "duration": 5,
        "start_time": "2022-12-01T06:59:10.201Z"
      },
      {
        "duration": 8,
        "start_time": "2022-12-01T06:59:15.593Z"
      },
      {
        "duration": 56,
        "start_time": "2022-12-01T06:59:28.694Z"
      },
      {
        "duration": 8,
        "start_time": "2022-12-01T06:59:33.377Z"
      },
      {
        "duration": 35,
        "start_time": "2022-12-01T07:01:35.168Z"
      },
      {
        "duration": 51,
        "start_time": "2022-12-01T07:01:56.263Z"
      },
      {
        "duration": 57,
        "start_time": "2022-12-01T07:03:11.683Z"
      },
      {
        "duration": 9,
        "start_time": "2022-12-01T07:11:38.190Z"
      },
      {
        "duration": 7,
        "start_time": "2022-12-01T07:12:52.535Z"
      },
      {
        "duration": 7,
        "start_time": "2022-12-01T07:17:08.160Z"
      },
      {
        "duration": 214,
        "start_time": "2022-12-01T07:21:37.695Z"
      },
      {
        "duration": 187,
        "start_time": "2022-12-01T07:21:52.282Z"
      },
      {
        "duration": 11,
        "start_time": "2022-12-01T07:22:10.235Z"
      },
      {
        "duration": 11,
        "start_time": "2022-12-01T07:22:44.744Z"
      },
      {
        "duration": 188,
        "start_time": "2022-12-01T07:26:37.758Z"
      },
      {
        "duration": 97,
        "start_time": "2022-12-01T07:30:28.615Z"
      },
      {
        "duration": 84,
        "start_time": "2022-12-01T07:31:38.878Z"
      },
      {
        "duration": 48,
        "start_time": "2022-12-01T07:32:56.187Z"
      },
      {
        "duration": 105,
        "start_time": "2022-12-01T07:33:05.078Z"
      },
      {
        "duration": 90,
        "start_time": "2022-12-01T07:33:33.376Z"
      },
      {
        "duration": 9,
        "start_time": "2022-12-01T07:35:29.787Z"
      },
      {
        "duration": 9,
        "start_time": "2022-12-01T07:35:58.745Z"
      },
      {
        "duration": 245,
        "start_time": "2022-12-01T07:37:35.308Z"
      },
      {
        "duration": 193,
        "start_time": "2022-12-01T07:37:41.942Z"
      },
      {
        "duration": 201,
        "start_time": "2022-12-01T07:37:58.229Z"
      },
      {
        "duration": 204,
        "start_time": "2022-12-01T07:39:17.183Z"
      },
      {
        "duration": 137,
        "start_time": "2022-12-01T07:40:17.901Z"
      },
      {
        "duration": 118,
        "start_time": "2022-12-01T07:40:24.472Z"
      },
      {
        "duration": 81,
        "start_time": "2022-12-01T07:42:39.168Z"
      },
      {
        "duration": 99,
        "start_time": "2022-12-01T07:42:44.490Z"
      },
      {
        "duration": 81,
        "start_time": "2022-12-01T07:42:44.907Z"
      },
      {
        "duration": 3,
        "start_time": "2022-12-01T07:42:50.569Z"
      },
      {
        "duration": 30,
        "start_time": "2022-12-01T07:42:50.574Z"
      },
      {
        "duration": 57,
        "start_time": "2022-12-01T07:42:50.606Z"
      },
      {
        "duration": 438,
        "start_time": "2022-12-01T07:42:50.665Z"
      },
      {
        "duration": 24,
        "start_time": "2022-12-01T07:42:51.105Z"
      },
      {
        "duration": 16,
        "start_time": "2022-12-01T07:42:51.131Z"
      },
      {
        "duration": 33,
        "start_time": "2022-12-01T07:42:51.148Z"
      },
      {
        "duration": 60,
        "start_time": "2022-12-01T07:42:51.182Z"
      },
      {
        "duration": 14,
        "start_time": "2022-12-01T07:42:51.244Z"
      },
      {
        "duration": 111,
        "start_time": "2022-12-01T07:42:51.259Z"
      },
      {
        "duration": 6,
        "start_time": "2022-12-01T07:42:51.371Z"
      },
      {
        "duration": 52,
        "start_time": "2022-12-01T07:42:51.378Z"
      },
      {
        "duration": 6,
        "start_time": "2022-12-01T07:42:51.431Z"
      },
      {
        "duration": 63,
        "start_time": "2022-12-01T07:42:51.440Z"
      },
      {
        "duration": 190,
        "start_time": "2022-12-01T07:42:51.504Z"
      },
      {
        "duration": 15,
        "start_time": "2022-12-01T07:42:51.697Z"
      },
      {
        "duration": 23,
        "start_time": "2022-12-01T07:42:51.714Z"
      },
      {
        "duration": 66,
        "start_time": "2022-12-01T07:42:51.739Z"
      },
      {
        "duration": 193,
        "start_time": "2022-12-01T07:42:51.807Z"
      },
      {
        "duration": 12,
        "start_time": "2022-12-01T07:42:52.002Z"
      },
      {
        "duration": 116,
        "start_time": "2022-12-01T07:42:52.015Z"
      },
      {
        "duration": 89,
        "start_time": "2022-12-01T07:42:52.133Z"
      },
      {
        "duration": 39,
        "start_time": "2022-12-01T07:43:36.998Z"
      },
      {
        "duration": 45,
        "start_time": "2022-12-01T07:43:42.512Z"
      },
      {
        "duration": 71,
        "start_time": "2022-12-01T07:43:56.420Z"
      },
      {
        "duration": 27,
        "start_time": "2022-12-01T07:46:58.467Z"
      },
      {
        "duration": 28,
        "start_time": "2022-12-01T07:48:38.150Z"
      },
      {
        "duration": 76,
        "start_time": "2022-12-01T07:48:55.356Z"
      },
      {
        "duration": 75,
        "start_time": "2022-12-01T07:50:20.232Z"
      },
      {
        "duration": 40,
        "start_time": "2022-12-01T07:51:03.307Z"
      },
      {
        "duration": 10,
        "start_time": "2022-12-01T07:52:54.452Z"
      },
      {
        "duration": 12,
        "start_time": "2022-12-01T07:53:23.906Z"
      },
      {
        "duration": 42,
        "start_time": "2022-12-01T07:54:37.700Z"
      },
      {
        "duration": 38,
        "start_time": "2022-12-01T07:54:42.999Z"
      },
      {
        "duration": 38,
        "start_time": "2022-12-01T07:54:52.781Z"
      },
      {
        "duration": 1031,
        "start_time": "2022-12-01T07:54:58.370Z"
      },
      {
        "duration": 11,
        "start_time": "2022-12-01T07:55:06.832Z"
      },
      {
        "duration": 14,
        "start_time": "2022-12-01T07:55:44.943Z"
      },
      {
        "duration": 13,
        "start_time": "2022-12-01T07:56:39.819Z"
      },
      {
        "duration": 14,
        "start_time": "2022-12-01T07:56:50.471Z"
      },
      {
        "duration": 112,
        "start_time": "2022-12-01T08:06:15.527Z"
      },
      {
        "duration": 24,
        "start_time": "2022-12-01T08:06:47.631Z"
      },
      {
        "duration": 22,
        "start_time": "2022-12-01T08:07:41.654Z"
      },
      {
        "duration": 29,
        "start_time": "2022-12-01T08:08:24.234Z"
      },
      {
        "duration": 178,
        "start_time": "2022-12-01T08:09:18.552Z"
      },
      {
        "duration": 99,
        "start_time": "2022-12-01T08:09:45.182Z"
      },
      {
        "duration": 28,
        "start_time": "2022-12-01T08:09:48.230Z"
      },
      {
        "duration": 28,
        "start_time": "2022-12-01T08:09:54.276Z"
      },
      {
        "duration": 83,
        "start_time": "2022-12-01T08:11:33.472Z"
      },
      {
        "duration": 40,
        "start_time": "2022-12-01T08:12:15.242Z"
      },
      {
        "duration": 15,
        "start_time": "2022-12-01T08:12:30.825Z"
      },
      {
        "duration": 7,
        "start_time": "2022-12-01T08:15:26.891Z"
      },
      {
        "duration": 9,
        "start_time": "2022-12-01T08:17:07.296Z"
      },
      {
        "duration": 4,
        "start_time": "2022-12-01T08:36:33.796Z"
      },
      {
        "duration": 322,
        "start_time": "2022-12-01T08:36:57.581Z"
      },
      {
        "duration": 260,
        "start_time": "2022-12-01T08:37:21.985Z"
      },
      {
        "duration": 303,
        "start_time": "2022-12-01T08:37:34.412Z"
      },
      {
        "duration": 264,
        "start_time": "2022-12-01T08:39:35.005Z"
      },
      {
        "duration": 204,
        "start_time": "2022-12-01T08:47:34.965Z"
      },
      {
        "duration": 12,
        "start_time": "2022-12-01T08:47:45.530Z"
      },
      {
        "duration": 124,
        "start_time": "2022-12-01T08:47:50.401Z"
      },
      {
        "duration": 28,
        "start_time": "2022-12-01T08:47:52.870Z"
      },
      {
        "duration": 76,
        "start_time": "2022-12-01T08:47:53.773Z"
      },
      {
        "duration": 98,
        "start_time": "2022-12-01T08:47:56.693Z"
      },
      {
        "duration": 122,
        "start_time": "2022-12-01T08:48:24.938Z"
      },
      {
        "duration": 30,
        "start_time": "2022-12-01T08:48:28.041Z"
      },
      {
        "duration": 84,
        "start_time": "2022-12-01T08:48:29.410Z"
      },
      {
        "duration": 111,
        "start_time": "2022-12-01T08:48:33.567Z"
      },
      {
        "duration": 14,
        "start_time": "2022-12-01T08:48:35.283Z"
      },
      {
        "duration": 43,
        "start_time": "2022-12-01T08:49:04.355Z"
      },
      {
        "duration": 15,
        "start_time": "2022-12-01T08:49:04.907Z"
      },
      {
        "duration": 10,
        "start_time": "2022-12-01T08:49:07.392Z"
      },
      {
        "duration": 39,
        "start_time": "2022-12-01T08:50:08.300Z"
      },
      {
        "duration": 226,
        "start_time": "2022-12-01T08:52:14.530Z"
      },
      {
        "duration": 283,
        "start_time": "2022-12-01T08:52:21.694Z"
      },
      {
        "duration": 104,
        "start_time": "2022-12-01T08:52:30.111Z"
      },
      {
        "duration": 4,
        "start_time": "2022-12-01T08:54:17.238Z"
      },
      {
        "duration": 50,
        "start_time": "2022-12-01T08:56:15.509Z"
      },
      {
        "duration": 5,
        "start_time": "2022-12-01T08:56:22.123Z"
      },
      {
        "duration": 4,
        "start_time": "2022-12-01T08:57:22.952Z"
      },
      {
        "duration": 46,
        "start_time": "2022-12-01T08:57:58.631Z"
      },
      {
        "duration": 30,
        "start_time": "2022-12-01T08:58:09.625Z"
      },
      {
        "duration": 32,
        "start_time": "2022-12-01T08:58:16.580Z"
      },
      {
        "duration": 31,
        "start_time": "2022-12-01T08:59:36.446Z"
      },
      {
        "duration": 45,
        "start_time": "2022-12-01T09:00:43.931Z"
      },
      {
        "duration": 36,
        "start_time": "2022-12-01T09:02:01.193Z"
      },
      {
        "duration": 130,
        "start_time": "2022-12-01T09:03:42.375Z"
      },
      {
        "duration": 124,
        "start_time": "2022-12-01T09:04:51.906Z"
      },
      {
        "duration": 118,
        "start_time": "2022-12-01T09:05:02.066Z"
      },
      {
        "duration": 9,
        "start_time": "2022-12-01T09:05:02.899Z"
      },
      {
        "duration": 4,
        "start_time": "2022-12-01T09:05:21.443Z"
      },
      {
        "duration": 20,
        "start_time": "2022-12-01T09:05:26.265Z"
      },
      {
        "duration": 1069,
        "start_time": "2022-12-01T09:05:46.636Z"
      },
      {
        "duration": 175,
        "start_time": "2022-12-01T09:06:11.051Z"
      },
      {
        "duration": 105,
        "start_time": "2022-12-01T09:16:48.655Z"
      },
      {
        "duration": 349,
        "start_time": "2022-12-01T09:46:12.465Z"
      },
      {
        "duration": 294,
        "start_time": "2022-12-01T09:46:21.692Z"
      },
      {
        "duration": 255,
        "start_time": "2022-12-01T09:46:41.171Z"
      },
      {
        "duration": 247,
        "start_time": "2022-12-01T09:46:53.432Z"
      },
      {
        "duration": 379,
        "start_time": "2022-12-01T09:46:59.757Z"
      },
      {
        "duration": 436,
        "start_time": "2022-12-01T09:48:53.672Z"
      },
      {
        "duration": 325,
        "start_time": "2022-12-01T09:50:01.479Z"
      },
      {
        "duration": 246,
        "start_time": "2022-12-01T09:50:49.172Z"
      },
      {
        "duration": 202,
        "start_time": "2022-12-01T09:50:54.648Z"
      },
      {
        "duration": 10,
        "start_time": "2022-12-01T09:51:59.806Z"
      },
      {
        "duration": 18,
        "start_time": "2022-12-01T09:52:34.705Z"
      },
      {
        "duration": 4,
        "start_time": "2022-12-01T09:52:42.226Z"
      },
      {
        "duration": 18,
        "start_time": "2022-12-01T09:53:11.761Z"
      },
      {
        "duration": 34,
        "start_time": "2022-12-01T09:53:22.608Z"
      },
      {
        "duration": 19,
        "start_time": "2022-12-01T09:54:58.747Z"
      },
      {
        "duration": 17,
        "start_time": "2022-12-01T09:55:21.407Z"
      },
      {
        "duration": 13,
        "start_time": "2022-12-01T09:56:29.602Z"
      },
      {
        "duration": 4,
        "start_time": "2022-12-01T10:10:00.460Z"
      },
      {
        "duration": 47,
        "start_time": "2022-12-01T10:10:25.819Z"
      },
      {
        "duration": 54,
        "start_time": "2022-12-01T10:11:09.703Z"
      },
      {
        "duration": 12,
        "start_time": "2022-12-01T10:12:17.452Z"
      },
      {
        "duration": 196,
        "start_time": "2022-12-01T10:12:41.539Z"
      },
      {
        "duration": 93,
        "start_time": "2022-12-01T10:15:56.322Z"
      },
      {
        "duration": 63,
        "start_time": "2022-12-01T10:17:06.918Z"
      },
      {
        "duration": 195,
        "start_time": "2022-12-01T10:20:26.969Z"
      },
      {
        "duration": 194,
        "start_time": "2022-12-01T10:20:41.392Z"
      },
      {
        "duration": 191,
        "start_time": "2022-12-01T10:21:17.199Z"
      },
      {
        "duration": 184,
        "start_time": "2022-12-01T10:21:40.221Z"
      },
      {
        "duration": 190,
        "start_time": "2022-12-01T10:21:45.431Z"
      },
      {
        "duration": 180,
        "start_time": "2022-12-01T10:21:54.700Z"
      },
      {
        "duration": 300,
        "start_time": "2022-12-01T10:22:50.541Z"
      },
      {
        "duration": 299,
        "start_time": "2022-12-01T10:27:33.078Z"
      },
      {
        "duration": 16,
        "start_time": "2022-12-01T10:28:24.796Z"
      },
      {
        "duration": 37,
        "start_time": "2022-12-01T10:35:00.264Z"
      },
      {
        "duration": 14,
        "start_time": "2022-12-01T10:35:10.886Z"
      },
      {
        "duration": 8,
        "start_time": "2022-12-01T10:35:40.031Z"
      },
      {
        "duration": 38,
        "start_time": "2022-12-01T10:46:00.859Z"
      },
      {
        "duration": 10,
        "start_time": "2022-12-01T10:46:24.162Z"
      },
      {
        "duration": 31,
        "start_time": "2022-12-01T10:46:36.027Z"
      },
      {
        "duration": 13,
        "start_time": "2022-12-01T10:46:39.439Z"
      },
      {
        "duration": 61,
        "start_time": "2022-12-01T10:48:46.189Z"
      },
      {
        "duration": 23,
        "start_time": "2022-12-01T10:49:33.405Z"
      },
      {
        "duration": 5,
        "start_time": "2022-12-01T10:50:38.097Z"
      },
      {
        "duration": 9,
        "start_time": "2022-12-01T10:50:45.381Z"
      },
      {
        "duration": 24,
        "start_time": "2022-12-01T10:51:00.056Z"
      },
      {
        "duration": 22,
        "start_time": "2022-12-01T10:52:16.460Z"
      },
      {
        "duration": 26,
        "start_time": "2022-12-01T10:57:54.828Z"
      },
      {
        "duration": 40,
        "start_time": "2022-12-01T10:58:24.546Z"
      },
      {
        "duration": 8,
        "start_time": "2022-12-01T10:58:32.475Z"
      },
      {
        "duration": 10,
        "start_time": "2022-12-01T10:58:54.492Z"
      },
      {
        "duration": 11,
        "start_time": "2022-12-01T10:59:09.585Z"
      },
      {
        "duration": 4,
        "start_time": "2022-12-01T11:01:20.712Z"
      },
      {
        "duration": 9,
        "start_time": "2022-12-01T11:03:09.281Z"
      },
      {
        "duration": 17,
        "start_time": "2022-12-01T11:05:03.318Z"
      },
      {
        "duration": 13,
        "start_time": "2022-12-01T11:05:49.267Z"
      },
      {
        "duration": 16,
        "start_time": "2022-12-01T11:08:26.424Z"
      },
      {
        "duration": 9,
        "start_time": "2022-12-01T11:11:20.582Z"
      },
      {
        "duration": 4,
        "start_time": "2022-12-01T11:11:23.576Z"
      },
      {
        "duration": 21,
        "start_time": "2022-12-01T11:12:35.593Z"
      },
      {
        "duration": 4,
        "start_time": "2022-12-01T11:14:32.771Z"
      },
      {
        "duration": 5,
        "start_time": "2022-12-01T11:14:46.400Z"
      },
      {
        "duration": 23,
        "start_time": "2022-12-01T11:15:38.590Z"
      },
      {
        "duration": 333,
        "start_time": "2022-12-01T11:16:03.177Z"
      },
      {
        "duration": 306,
        "start_time": "2022-12-01T11:18:02.712Z"
      },
      {
        "duration": 428,
        "start_time": "2022-12-01T11:18:18.955Z"
      },
      {
        "duration": 303,
        "start_time": "2022-12-01T11:20:19.314Z"
      },
      {
        "duration": 230,
        "start_time": "2022-12-01T11:20:24.213Z"
      },
      {
        "duration": 231,
        "start_time": "2022-12-01T11:20:44.274Z"
      },
      {
        "duration": 239,
        "start_time": "2022-12-01T11:20:55.429Z"
      },
      {
        "duration": 27,
        "start_time": "2022-12-01T11:30:13.779Z"
      },
      {
        "duration": 20,
        "start_time": "2022-12-01T11:31:03.156Z"
      },
      {
        "duration": 13,
        "start_time": "2022-12-01T11:32:00.482Z"
      },
      {
        "duration": 14,
        "start_time": "2022-12-01T11:32:19.801Z"
      },
      {
        "duration": 12,
        "start_time": "2022-12-01T11:32:58.009Z"
      },
      {
        "duration": 684,
        "start_time": "2022-12-01T12:09:20.093Z"
      },
      {
        "duration": 34,
        "start_time": "2022-12-01T12:09:20.779Z"
      },
      {
        "duration": 79,
        "start_time": "2022-12-01T12:09:20.815Z"
      },
      {
        "duration": 502,
        "start_time": "2022-12-01T12:09:20.895Z"
      },
      {
        "duration": 33,
        "start_time": "2022-12-01T12:09:21.399Z"
      },
      {
        "duration": 19,
        "start_time": "2022-12-01T12:09:21.434Z"
      },
      {
        "duration": 23,
        "start_time": "2022-12-01T12:09:21.455Z"
      },
      {
        "duration": 76,
        "start_time": "2022-12-01T12:09:21.479Z"
      },
      {
        "duration": 16,
        "start_time": "2022-12-01T12:09:21.557Z"
      },
      {
        "duration": 121,
        "start_time": "2022-12-01T12:09:21.575Z"
      },
      {
        "duration": 7,
        "start_time": "2022-12-01T12:09:21.698Z"
      },
      {
        "duration": 94,
        "start_time": "2022-12-01T12:09:21.707Z"
      },
      {
        "duration": 8,
        "start_time": "2022-12-01T12:09:21.803Z"
      },
      {
        "duration": 58,
        "start_time": "2022-12-01T12:09:21.814Z"
      },
      {
        "duration": 262,
        "start_time": "2022-12-01T12:09:21.873Z"
      },
      {
        "duration": 17,
        "start_time": "2022-12-01T12:09:22.137Z"
      },
      {
        "duration": 26,
        "start_time": "2022-12-01T12:09:22.156Z"
      },
      {
        "duration": 51,
        "start_time": "2022-12-01T12:09:22.196Z"
      },
      {
        "duration": 236,
        "start_time": "2022-12-01T12:09:22.249Z"
      },
      {
        "duration": 25,
        "start_time": "2022-12-01T12:09:22.486Z"
      },
      {
        "duration": 123,
        "start_time": "2022-12-01T12:09:22.512Z"
      },
      {
        "duration": 28,
        "start_time": "2022-12-01T12:09:22.636Z"
      },
      {
        "duration": 172,
        "start_time": "2022-12-01T12:09:22.666Z"
      },
      {
        "duration": 0,
        "start_time": "2022-12-01T12:09:22.840Z"
      },
      {
        "duration": 0,
        "start_time": "2022-12-01T12:09:22.841Z"
      },
      {
        "duration": 0,
        "start_time": "2022-12-01T12:09:22.842Z"
      },
      {
        "duration": 0,
        "start_time": "2022-12-01T12:09:22.843Z"
      },
      {
        "duration": 0,
        "start_time": "2022-12-01T12:09:22.844Z"
      },
      {
        "duration": 0,
        "start_time": "2022-12-01T12:09:22.845Z"
      },
      {
        "duration": 0,
        "start_time": "2022-12-01T12:09:22.846Z"
      },
      {
        "duration": 0,
        "start_time": "2022-12-01T12:09:22.847Z"
      },
      {
        "duration": 0,
        "start_time": "2022-12-01T12:09:22.848Z"
      },
      {
        "duration": 0,
        "start_time": "2022-12-01T12:09:22.849Z"
      },
      {
        "duration": 0,
        "start_time": "2022-12-01T12:09:22.850Z"
      },
      {
        "duration": 0,
        "start_time": "2022-12-01T12:09:22.851Z"
      },
      {
        "duration": 0,
        "start_time": "2022-12-01T12:09:22.852Z"
      },
      {
        "duration": 0,
        "start_time": "2022-12-01T12:09:22.854Z"
      },
      {
        "duration": 0,
        "start_time": "2022-12-01T12:09:22.855Z"
      },
      {
        "duration": 0,
        "start_time": "2022-12-01T12:09:22.856Z"
      },
      {
        "duration": 0,
        "start_time": "2022-12-01T12:09:22.857Z"
      },
      {
        "duration": 0,
        "start_time": "2022-12-01T12:09:22.858Z"
      },
      {
        "duration": 0,
        "start_time": "2022-12-01T12:09:22.859Z"
      },
      {
        "duration": 0,
        "start_time": "2022-12-01T12:09:22.859Z"
      },
      {
        "duration": 0,
        "start_time": "2022-12-01T12:09:22.898Z"
      },
      {
        "duration": 0,
        "start_time": "2022-12-01T12:09:22.899Z"
      },
      {
        "duration": 687,
        "start_time": "2022-12-01T12:09:54.175Z"
      },
      {
        "duration": 27,
        "start_time": "2022-12-01T12:09:54.864Z"
      },
      {
        "duration": 74,
        "start_time": "2022-12-01T12:09:54.893Z"
      },
      {
        "duration": 500,
        "start_time": "2022-12-01T12:09:54.969Z"
      },
      {
        "duration": 28,
        "start_time": "2022-12-01T12:09:55.470Z"
      },
      {
        "duration": 21,
        "start_time": "2022-12-01T12:09:55.509Z"
      },
      {
        "duration": 23,
        "start_time": "2022-12-01T12:09:55.532Z"
      },
      {
        "duration": 79,
        "start_time": "2022-12-01T12:09:55.556Z"
      },
      {
        "duration": 19,
        "start_time": "2022-12-01T12:09:55.637Z"
      },
      {
        "duration": 131,
        "start_time": "2022-12-01T12:09:55.659Z"
      },
      {
        "duration": 17,
        "start_time": "2022-12-01T12:09:55.792Z"
      },
      {
        "duration": 104,
        "start_time": "2022-12-01T12:09:55.810Z"
      },
      {
        "duration": 7,
        "start_time": "2022-12-01T12:09:55.916Z"
      },
      {
        "duration": 72,
        "start_time": "2022-12-01T12:09:55.925Z"
      },
      {
        "duration": 257,
        "start_time": "2022-12-01T12:09:56.001Z"
      },
      {
        "duration": 20,
        "start_time": "2022-12-01T12:09:56.260Z"
      },
      {
        "duration": 28,
        "start_time": "2022-12-01T12:09:56.297Z"
      },
      {
        "duration": 53,
        "start_time": "2022-12-01T12:09:56.326Z"
      },
      {
        "duration": 246,
        "start_time": "2022-12-01T12:09:56.381Z"
      },
      {
        "duration": 11,
        "start_time": "2022-12-01T12:09:56.629Z"
      },
      {
        "duration": 134,
        "start_time": "2022-12-01T12:09:56.642Z"
      },
      {
        "duration": 31,
        "start_time": "2022-12-01T12:09:56.777Z"
      },
      {
        "duration": 93,
        "start_time": "2022-12-01T12:09:56.810Z"
      },
      {
        "duration": 116,
        "start_time": "2022-12-01T12:09:56.905Z"
      },
      {
        "duration": 14,
        "start_time": "2022-12-01T12:09:57.022Z"
      },
      {
        "duration": 15,
        "start_time": "2022-12-01T12:09:57.038Z"
      },
      {
        "duration": 65,
        "start_time": "2022-12-01T12:09:57.055Z"
      },
      {
        "duration": 41,
        "start_time": "2022-12-01T12:09:57.125Z"
      },
      {
        "duration": 9,
        "start_time": "2022-12-01T12:09:57.167Z"
      },
      {
        "duration": 26,
        "start_time": "2022-12-01T12:09:57.197Z"
      },
      {
        "duration": 198,
        "start_time": "2022-12-01T12:09:57.225Z"
      },
      {
        "duration": 12,
        "start_time": "2022-12-01T12:09:57.425Z"
      },
      {
        "duration": 84,
        "start_time": "2022-12-01T12:09:57.439Z"
      },
      {
        "duration": 21,
        "start_time": "2022-12-01T12:09:57.525Z"
      },
      {
        "duration": 56,
        "start_time": "2022-12-01T12:09:57.548Z"
      },
      {
        "duration": 6,
        "start_time": "2022-12-01T12:09:57.606Z"
      },
      {
        "duration": 17,
        "start_time": "2022-12-01T12:09:57.614Z"
      },
      {
        "duration": 18,
        "start_time": "2022-12-01T12:09:57.633Z"
      },
      {
        "duration": 16,
        "start_time": "2022-12-01T12:09:57.653Z"
      },
      {
        "duration": 408,
        "start_time": "2022-12-01T12:09:57.671Z"
      },
      {
        "duration": 243,
        "start_time": "2022-12-01T12:09:58.081Z"
      },
      {
        "duration": 27,
        "start_time": "2022-12-01T12:09:58.326Z"
      },
      {
        "duration": 14,
        "start_time": "2022-12-01T12:09:58.355Z"
      },
      {
        "duration": 47,
        "start_time": "2022-12-01T12:09:58.371Z"
      },
      {
        "duration": 15,
        "start_time": "2022-12-01T12:09:58.420Z"
      },
      {
        "duration": 785,
        "start_time": "2022-12-01T19:04:25.205Z"
      },
      {
        "duration": 87,
        "start_time": "2022-12-01T19:04:25.992Z"
      },
      {
        "duration": 237,
        "start_time": "2022-12-01T19:04:26.080Z"
      },
      {
        "duration": 1429,
        "start_time": "2022-12-01T19:04:26.320Z"
      },
      {
        "duration": 118,
        "start_time": "2022-12-01T19:04:27.751Z"
      },
      {
        "duration": 21,
        "start_time": "2022-12-01T19:04:27.871Z"
      },
      {
        "duration": 22,
        "start_time": "2022-12-01T19:04:27.894Z"
      },
      {
        "duration": 58,
        "start_time": "2022-12-01T19:04:27.918Z"
      },
      {
        "duration": 16,
        "start_time": "2022-12-01T19:04:27.978Z"
      },
      {
        "duration": 106,
        "start_time": "2022-12-01T19:04:28.012Z"
      },
      {
        "duration": 6,
        "start_time": "2022-12-01T19:04:28.120Z"
      },
      {
        "duration": 90,
        "start_time": "2022-12-01T19:04:28.128Z"
      },
      {
        "duration": 9,
        "start_time": "2022-12-01T19:04:28.220Z"
      },
      {
        "duration": 56,
        "start_time": "2022-12-01T19:04:28.231Z"
      },
      {
        "duration": 226,
        "start_time": "2022-12-01T19:04:28.288Z"
      },
      {
        "duration": 16,
        "start_time": "2022-12-01T19:04:28.516Z"
      },
      {
        "duration": 23,
        "start_time": "2022-12-01T19:04:28.533Z"
      },
      {
        "duration": 66,
        "start_time": "2022-12-01T19:04:28.558Z"
      },
      {
        "duration": 218,
        "start_time": "2022-12-01T19:04:28.626Z"
      },
      {
        "duration": 10,
        "start_time": "2022-12-01T19:04:28.846Z"
      },
      {
        "duration": 127,
        "start_time": "2022-12-01T19:04:28.857Z"
      },
      {
        "duration": 30,
        "start_time": "2022-12-01T19:04:28.986Z"
      },
      {
        "duration": 76,
        "start_time": "2022-12-01T19:04:29.018Z"
      },
      {
        "duration": 105,
        "start_time": "2022-12-01T19:04:29.096Z"
      },
      {
        "duration": 19,
        "start_time": "2022-12-01T19:04:29.202Z"
      },
      {
        "duration": 6,
        "start_time": "2022-12-01T19:04:29.223Z"
      },
      {
        "duration": 40,
        "start_time": "2022-12-01T19:04:29.230Z"
      },
      {
        "duration": 54,
        "start_time": "2022-12-01T19:04:29.273Z"
      },
      {
        "duration": 7,
        "start_time": "2022-12-01T19:04:29.329Z"
      },
      {
        "duration": 26,
        "start_time": "2022-12-01T19:04:29.338Z"
      },
      {
        "duration": 165,
        "start_time": "2022-12-01T19:04:29.365Z"
      },
      {
        "duration": 10,
        "start_time": "2022-12-01T19:04:29.532Z"
      },
      {
        "duration": 93,
        "start_time": "2022-12-01T19:04:29.544Z"
      },
      {
        "duration": 19,
        "start_time": "2022-12-01T19:04:29.639Z"
      },
      {
        "duration": 9,
        "start_time": "2022-12-01T19:04:29.660Z"
      },
      {
        "duration": 4,
        "start_time": "2022-12-01T19:04:29.713Z"
      },
      {
        "duration": 11,
        "start_time": "2022-12-01T19:04:29.718Z"
      },
      {
        "duration": 3,
        "start_time": "2022-12-01T19:04:29.731Z"
      },
      {
        "duration": 12,
        "start_time": "2022-12-01T19:04:29.735Z"
      },
      {
        "duration": 366,
        "start_time": "2022-12-01T19:04:29.749Z"
      },
      {
        "duration": 226,
        "start_time": "2022-12-01T19:04:30.116Z"
      },
      {
        "duration": 27,
        "start_time": "2022-12-01T19:04:30.344Z"
      },
      {
        "duration": 44,
        "start_time": "2022-12-01T19:04:30.373Z"
      },
      {
        "duration": 46,
        "start_time": "2022-12-01T19:04:30.419Z"
      },
      {
        "duration": 43,
        "start_time": "2022-12-01T19:04:30.467Z"
      },
      {
        "duration": 13,
        "start_time": "2022-12-01T19:08:48.175Z"
      },
      {
        "duration": 12,
        "start_time": "2022-12-01T19:08:58.271Z"
      },
      {
        "duration": 11,
        "start_time": "2022-12-01T19:09:09.057Z"
      },
      {
        "duration": 25,
        "start_time": "2022-12-01T19:09:48.320Z"
      },
      {
        "duration": 14,
        "start_time": "2022-12-01T19:11:08.474Z"
      },
      {
        "duration": 4,
        "start_time": "2022-12-01T19:15:41.106Z"
      },
      {
        "duration": 98,
        "start_time": "2022-12-01T19:18:36.162Z"
      },
      {
        "duration": 16,
        "start_time": "2022-12-01T19:18:47.658Z"
      },
      {
        "duration": 16,
        "start_time": "2022-12-01T19:19:22.764Z"
      },
      {
        "duration": 15,
        "start_time": "2022-12-01T19:19:41.065Z"
      },
      {
        "duration": 4,
        "start_time": "2022-12-01T19:21:19.978Z"
      },
      {
        "duration": 27,
        "start_time": "2022-12-01T19:21:26.066Z"
      },
      {
        "duration": 429,
        "start_time": "2022-12-01T19:21:47.357Z"
      },
      {
        "duration": 58,
        "start_time": "2022-12-01T19:21:54.391Z"
      },
      {
        "duration": 28,
        "start_time": "2022-12-01T19:22:06.649Z"
      },
      {
        "duration": 29,
        "start_time": "2022-12-01T19:22:29.086Z"
      },
      {
        "duration": 41,
        "start_time": "2022-12-01T19:22:35.413Z"
      },
      {
        "duration": 34,
        "start_time": "2022-12-01T19:24:31.367Z"
      },
      {
        "duration": 10,
        "start_time": "2022-12-01T19:24:56.480Z"
      },
      {
        "duration": 16,
        "start_time": "2022-12-01T19:25:03.353Z"
      },
      {
        "duration": 3,
        "start_time": "2022-12-01T19:47:00.279Z"
      },
      {
        "duration": 36,
        "start_time": "2022-12-01T19:47:00.283Z"
      },
      {
        "duration": 67,
        "start_time": "2022-12-01T19:47:00.321Z"
      },
      {
        "duration": 552,
        "start_time": "2022-12-01T19:47:00.390Z"
      },
      {
        "duration": 28,
        "start_time": "2022-12-01T19:47:00.944Z"
      },
      {
        "duration": 18,
        "start_time": "2022-12-01T19:47:00.973Z"
      },
      {
        "duration": 30,
        "start_time": "2022-12-01T19:47:00.993Z"
      },
      {
        "duration": 59,
        "start_time": "2022-12-01T19:47:01.025Z"
      },
      {
        "duration": 32,
        "start_time": "2022-12-01T19:47:01.086Z"
      },
      {
        "duration": 104,
        "start_time": "2022-12-01T19:47:01.121Z"
      },
      {
        "duration": 6,
        "start_time": "2022-12-01T19:47:01.226Z"
      },
      {
        "duration": 53,
        "start_time": "2022-12-01T19:47:01.234Z"
      },
      {
        "duration": 6,
        "start_time": "2022-12-01T19:47:01.288Z"
      },
      {
        "duration": 71,
        "start_time": "2022-12-01T19:47:01.296Z"
      },
      {
        "duration": 220,
        "start_time": "2022-12-01T19:47:01.369Z"
      },
      {
        "duration": 15,
        "start_time": "2022-12-01T19:47:01.590Z"
      },
      {
        "duration": 20,
        "start_time": "2022-12-01T19:47:01.613Z"
      },
      {
        "duration": 45,
        "start_time": "2022-12-01T19:47:01.634Z"
      },
      {
        "duration": 248,
        "start_time": "2022-12-01T19:47:01.681Z"
      },
      {
        "duration": 12,
        "start_time": "2022-12-01T19:47:01.931Z"
      },
      {
        "duration": 142,
        "start_time": "2022-12-01T19:47:01.945Z"
      },
      {
        "duration": 31,
        "start_time": "2022-12-01T19:47:02.089Z"
      },
      {
        "duration": 93,
        "start_time": "2022-12-01T19:47:02.122Z"
      },
      {
        "duration": 104,
        "start_time": "2022-12-01T19:47:02.217Z"
      },
      {
        "duration": 13,
        "start_time": "2022-12-01T19:47:02.323Z"
      },
      {
        "duration": 10,
        "start_time": "2022-12-01T19:47:02.338Z"
      },
      {
        "duration": 85,
        "start_time": "2022-12-01T19:47:02.349Z"
      },
      {
        "duration": 17,
        "start_time": "2022-12-01T19:47:02.438Z"
      },
      {
        "duration": 7,
        "start_time": "2022-12-01T19:47:02.457Z"
      },
      {
        "duration": 28,
        "start_time": "2022-12-01T19:47:02.466Z"
      },
      {
        "duration": 28,
        "start_time": "2022-12-01T19:47:02.496Z"
      },
      {
        "duration": 10,
        "start_time": "2022-12-01T19:47:02.526Z"
      },
      {
        "duration": 77,
        "start_time": "2022-12-01T19:47:02.537Z"
      },
      {
        "duration": 21,
        "start_time": "2022-12-01T19:47:02.615Z"
      },
      {
        "duration": 12,
        "start_time": "2022-12-01T19:47:02.638Z"
      },
      {
        "duration": 3,
        "start_time": "2022-12-01T19:47:02.652Z"
      },
      {
        "duration": 12,
        "start_time": "2022-12-01T19:47:02.657Z"
      },
      {
        "duration": 43,
        "start_time": "2022-12-01T19:47:02.670Z"
      },
      {
        "duration": 12,
        "start_time": "2022-12-01T19:47:02.715Z"
      },
      {
        "duration": 243,
        "start_time": "2022-12-01T19:47:02.729Z"
      },
      {
        "duration": 233,
        "start_time": "2022-12-01T19:47:02.974Z"
      },
      {
        "duration": 24,
        "start_time": "2022-12-01T19:47:03.209Z"
      },
      {
        "duration": 101,
        "start_time": "2022-12-01T19:47:03.234Z"
      },
      {
        "duration": 19,
        "start_time": "2022-12-01T19:47:03.337Z"
      },
      {
        "duration": 12,
        "start_time": "2022-12-01T19:47:03.358Z"
      },
      {
        "duration": 13,
        "start_time": "2022-12-01T19:47:03.372Z"
      },
      {
        "duration": 50,
        "start_time": "2022-12-01T19:47:03.387Z"
      },
      {
        "duration": 16,
        "start_time": "2022-12-01T19:47:03.439Z"
      },
      {
        "duration": 4,
        "start_time": "2022-12-01T19:47:03.456Z"
      },
      {
        "duration": 58,
        "start_time": "2022-12-01T19:47:03.462Z"
      },
      {
        "duration": 16,
        "start_time": "2022-12-01T19:47:03.522Z"
      },
      {
        "duration": 1158,
        "start_time": "2022-12-01T19:49:09.237Z"
      },
      {
        "duration": 28,
        "start_time": "2022-12-01T19:49:10.397Z"
      },
      {
        "duration": 64,
        "start_time": "2022-12-01T19:49:10.427Z"
      },
      {
        "duration": 469,
        "start_time": "2022-12-01T19:49:10.492Z"
      },
      {
        "duration": 24,
        "start_time": "2022-12-01T19:49:10.963Z"
      },
      {
        "duration": 19,
        "start_time": "2022-12-01T19:49:10.989Z"
      },
      {
        "duration": 23,
        "start_time": "2022-12-01T19:49:11.013Z"
      },
      {
        "duration": 75,
        "start_time": "2022-12-01T19:49:11.037Z"
      },
      {
        "duration": 17,
        "start_time": "2022-12-01T19:49:11.114Z"
      },
      {
        "duration": 121,
        "start_time": "2022-12-01T19:49:11.132Z"
      },
      {
        "duration": 6,
        "start_time": "2022-12-01T19:49:11.255Z"
      },
      {
        "duration": 96,
        "start_time": "2022-12-01T19:49:11.262Z"
      },
      {
        "duration": 8,
        "start_time": "2022-12-01T19:49:11.359Z"
      },
      {
        "duration": 64,
        "start_time": "2022-12-01T19:49:11.370Z"
      },
      {
        "duration": 231,
        "start_time": "2022-12-01T19:49:11.435Z"
      },
      {
        "duration": 15,
        "start_time": "2022-12-01T19:49:11.668Z"
      },
      {
        "duration": 35,
        "start_time": "2022-12-01T19:49:11.685Z"
      },
      {
        "duration": 45,
        "start_time": "2022-12-01T19:49:11.721Z"
      },
      {
        "duration": 237,
        "start_time": "2022-12-01T19:49:11.767Z"
      },
      {
        "duration": 17,
        "start_time": "2022-12-01T19:49:12.006Z"
      },
      {
        "duration": 131,
        "start_time": "2022-12-01T19:49:12.025Z"
      },
      {
        "duration": 25,
        "start_time": "2022-12-01T19:49:12.158Z"
      },
      {
        "duration": 96,
        "start_time": "2022-12-01T19:49:12.185Z"
      },
      {
        "duration": 116,
        "start_time": "2022-12-01T19:49:12.283Z"
      },
      {
        "duration": 19,
        "start_time": "2022-12-01T19:49:12.401Z"
      },
      {
        "duration": 7,
        "start_time": "2022-12-01T19:49:12.422Z"
      },
      {
        "duration": 67,
        "start_time": "2022-12-01T19:49:12.430Z"
      },
      {
        "duration": 22,
        "start_time": "2022-12-01T19:49:12.498Z"
      },
      {
        "duration": 25,
        "start_time": "2022-12-01T19:49:12.522Z"
      },
      {
        "duration": 159,
        "start_time": "2022-12-01T19:49:12.549Z"
      },
      {
        "duration": 11,
        "start_time": "2022-12-01T19:49:12.710Z"
      },
      {
        "duration": 98,
        "start_time": "2022-12-01T19:49:12.722Z"
      },
      {
        "duration": 21,
        "start_time": "2022-12-01T19:49:12.821Z"
      },
      {
        "duration": 9,
        "start_time": "2022-12-01T19:49:12.844Z"
      },
      {
        "duration": 3,
        "start_time": "2022-12-01T19:49:12.854Z"
      },
      {
        "duration": 11,
        "start_time": "2022-12-01T19:49:12.859Z"
      },
      {
        "duration": 4,
        "start_time": "2022-12-01T19:49:12.871Z"
      },
      {
        "duration": 13,
        "start_time": "2022-12-01T19:49:12.913Z"
      },
      {
        "duration": 298,
        "start_time": "2022-12-01T19:49:12.929Z"
      },
      {
        "duration": 214,
        "start_time": "2022-12-01T19:49:13.228Z"
      },
      {
        "duration": 24,
        "start_time": "2022-12-01T19:49:13.446Z"
      },
      {
        "duration": 12,
        "start_time": "2022-12-01T19:49:13.471Z"
      },
      {
        "duration": 42,
        "start_time": "2022-12-01T19:49:13.485Z"
      },
      {
        "duration": 11,
        "start_time": "2022-12-01T19:49:13.529Z"
      },
      {
        "duration": 14,
        "start_time": "2022-12-01T19:49:13.542Z"
      },
      {
        "duration": 26,
        "start_time": "2022-12-01T19:49:13.557Z"
      },
      {
        "duration": 39,
        "start_time": "2022-12-01T19:49:13.585Z"
      },
      {
        "duration": 3,
        "start_time": "2022-12-01T19:49:13.626Z"
      },
      {
        "duration": 27,
        "start_time": "2022-12-01T19:49:13.631Z"
      },
      {
        "duration": 18,
        "start_time": "2022-12-01T19:49:13.659Z"
      },
      {
        "duration": 28,
        "start_time": "2022-12-01T20:04:12.239Z"
      },
      {
        "duration": 17,
        "start_time": "2022-12-01T20:04:21.371Z"
      },
      {
        "duration": 108,
        "start_time": "2022-12-01T20:04:38.294Z"
      },
      {
        "duration": 15,
        "start_time": "2022-12-01T20:04:58.065Z"
      },
      {
        "duration": 1137,
        "start_time": "2022-12-01T20:05:16.442Z"
      },
      {
        "duration": 27,
        "start_time": "2022-12-01T20:05:17.581Z"
      },
      {
        "duration": 66,
        "start_time": "2022-12-01T20:05:17.610Z"
      },
      {
        "duration": 484,
        "start_time": "2022-12-01T20:05:17.678Z"
      },
      {
        "duration": 25,
        "start_time": "2022-12-01T20:05:18.165Z"
      },
      {
        "duration": 22,
        "start_time": "2022-12-01T20:05:18.192Z"
      },
      {
        "duration": 22,
        "start_time": "2022-12-01T20:05:18.216Z"
      },
      {
        "duration": 82,
        "start_time": "2022-12-01T20:05:18.240Z"
      },
      {
        "duration": 17,
        "start_time": "2022-12-01T20:05:18.324Z"
      },
      {
        "duration": 120,
        "start_time": "2022-12-01T20:05:18.342Z"
      },
      {
        "duration": 6,
        "start_time": "2022-12-01T20:05:18.463Z"
      },
      {
        "duration": 85,
        "start_time": "2022-12-01T20:05:18.471Z"
      },
      {
        "duration": 9,
        "start_time": "2022-12-01T20:05:18.558Z"
      },
      {
        "duration": 72,
        "start_time": "2022-12-01T20:05:18.570Z"
      },
      {
        "duration": 242,
        "start_time": "2022-12-01T20:05:18.644Z"
      },
      {
        "duration": 26,
        "start_time": "2022-12-01T20:05:18.888Z"
      },
      {
        "duration": 25,
        "start_time": "2022-12-01T20:05:18.916Z"
      },
      {
        "duration": 47,
        "start_time": "2022-12-01T20:05:18.942Z"
      },
      {
        "duration": 275,
        "start_time": "2022-12-01T20:05:18.990Z"
      },
      {
        "duration": 12,
        "start_time": "2022-12-01T20:05:19.267Z"
      },
      {
        "duration": 134,
        "start_time": "2022-12-01T20:05:19.281Z"
      },
      {
        "duration": 25,
        "start_time": "2022-12-01T20:05:19.417Z"
      },
      {
        "duration": 93,
        "start_time": "2022-12-01T20:05:19.444Z"
      },
      {
        "duration": 110,
        "start_time": "2022-12-01T20:05:19.539Z"
      },
      {
        "duration": 13,
        "start_time": "2022-12-01T20:05:19.651Z"
      },
      {
        "duration": 5,
        "start_time": "2022-12-01T20:05:19.666Z"
      },
      {
        "duration": 83,
        "start_time": "2022-12-01T20:05:19.673Z"
      },
      {
        "duration": 9,
        "start_time": "2022-12-01T20:05:19.758Z"
      },
      {
        "duration": 30,
        "start_time": "2022-12-01T20:05:19.769Z"
      },
      {
        "duration": 154,
        "start_time": "2022-12-01T20:05:19.814Z"
      },
      {
        "duration": 13,
        "start_time": "2022-12-01T20:05:19.970Z"
      },
      {
        "duration": 71,
        "start_time": "2022-12-01T20:05:19.985Z"
      },
      {
        "duration": 75,
        "start_time": "2022-12-01T20:05:20.057Z"
      },
      {
        "duration": 11,
        "start_time": "2022-12-01T20:05:20.133Z"
      },
      {
        "duration": 3,
        "start_time": "2022-12-01T20:05:20.146Z"
      },
      {
        "duration": 12,
        "start_time": "2022-12-01T20:05:20.151Z"
      },
      {
        "duration": 9,
        "start_time": "2022-12-01T20:05:20.164Z"
      },
      {
        "duration": 38,
        "start_time": "2022-12-01T20:05:20.175Z"
      },
      {
        "duration": 340,
        "start_time": "2022-12-01T20:05:20.216Z"
      },
      {
        "duration": 205,
        "start_time": "2022-12-01T20:05:20.558Z"
      },
      {
        "duration": 24,
        "start_time": "2022-12-01T20:05:20.767Z"
      },
      {
        "duration": 25,
        "start_time": "2022-12-01T20:05:20.792Z"
      },
      {
        "duration": 21,
        "start_time": "2022-12-01T20:05:20.820Z"
      },
      {
        "duration": 12,
        "start_time": "2022-12-01T20:05:20.843Z"
      },
      {
        "duration": 19,
        "start_time": "2022-12-01T20:05:20.857Z"
      },
      {
        "duration": 47,
        "start_time": "2022-12-01T20:05:20.877Z"
      },
      {
        "duration": 16,
        "start_time": "2022-12-01T20:05:20.926Z"
      },
      {
        "duration": 4,
        "start_time": "2022-12-01T20:05:20.943Z"
      },
      {
        "duration": 31,
        "start_time": "2022-12-01T20:05:20.949Z"
      },
      {
        "duration": 42,
        "start_time": "2022-12-01T20:05:20.981Z"
      },
      {
        "duration": 31,
        "start_time": "2022-12-01T20:05:37.244Z"
      },
      {
        "duration": 17,
        "start_time": "2022-12-01T20:05:44.866Z"
      },
      {
        "duration": 1116,
        "start_time": "2022-12-01T20:06:39.770Z"
      },
      {
        "duration": 26,
        "start_time": "2022-12-01T20:06:40.888Z"
      },
      {
        "duration": 71,
        "start_time": "2022-12-01T20:06:40.916Z"
      },
      {
        "duration": 476,
        "start_time": "2022-12-01T20:06:40.988Z"
      },
      {
        "duration": 25,
        "start_time": "2022-12-01T20:06:41.466Z"
      },
      {
        "duration": 22,
        "start_time": "2022-12-01T20:06:41.492Z"
      },
      {
        "duration": 26,
        "start_time": "2022-12-01T20:06:41.516Z"
      },
      {
        "duration": 82,
        "start_time": "2022-12-01T20:06:41.543Z"
      },
      {
        "duration": 18,
        "start_time": "2022-12-01T20:06:41.627Z"
      },
      {
        "duration": 110,
        "start_time": "2022-12-01T20:06:41.647Z"
      },
      {
        "duration": 6,
        "start_time": "2022-12-01T20:06:41.759Z"
      },
      {
        "duration": 86,
        "start_time": "2022-12-01T20:06:41.766Z"
      },
      {
        "duration": 9,
        "start_time": "2022-12-01T20:06:41.854Z"
      },
      {
        "duration": 66,
        "start_time": "2022-12-01T20:06:41.866Z"
      },
      {
        "duration": 250,
        "start_time": "2022-12-01T20:06:41.933Z"
      },
      {
        "duration": 16,
        "start_time": "2022-12-01T20:06:42.185Z"
      },
      {
        "duration": 31,
        "start_time": "2022-12-01T20:06:42.213Z"
      },
      {
        "duration": 68,
        "start_time": "2022-12-01T20:06:42.246Z"
      },
      {
        "duration": 239,
        "start_time": "2022-12-01T20:06:42.316Z"
      },
      {
        "duration": 12,
        "start_time": "2022-12-01T20:06:42.556Z"
      },
      {
        "duration": 135,
        "start_time": "2022-12-01T20:06:42.570Z"
      },
      {
        "duration": 36,
        "start_time": "2022-12-01T20:06:42.707Z"
      },
      {
        "duration": 110,
        "start_time": "2022-12-01T20:06:42.745Z"
      },
      {
        "duration": 114,
        "start_time": "2022-12-01T20:06:42.857Z"
      },
      {
        "duration": 19,
        "start_time": "2022-12-01T20:06:42.972Z"
      },
      {
        "duration": 21,
        "start_time": "2022-12-01T20:06:42.993Z"
      },
      {
        "duration": 83,
        "start_time": "2022-12-01T20:06:43.016Z"
      },
      {
        "duration": 14,
        "start_time": "2022-12-01T20:06:43.101Z"
      },
      {
        "duration": 30,
        "start_time": "2022-12-01T20:06:43.116Z"
      },
      {
        "duration": 172,
        "start_time": "2022-12-01T20:06:43.148Z"
      },
      {
        "duration": 11,
        "start_time": "2022-12-01T20:06:43.322Z"
      },
      {
        "duration": 102,
        "start_time": "2022-12-01T20:06:43.335Z"
      },
      {
        "duration": 21,
        "start_time": "2022-12-01T20:06:43.438Z"
      },
      {
        "duration": 10,
        "start_time": "2022-12-01T20:06:43.460Z"
      },
      {
        "duration": 4,
        "start_time": "2022-12-01T20:06:43.472Z"
      },
      {
        "duration": 11,
        "start_time": "2022-12-01T20:06:43.512Z"
      },
      {
        "duration": 4,
        "start_time": "2022-12-01T20:06:43.525Z"
      },
      {
        "duration": 19,
        "start_time": "2022-12-01T20:06:43.530Z"
      },
      {
        "duration": 311,
        "start_time": "2022-12-01T20:06:43.550Z"
      },
      {
        "duration": 216,
        "start_time": "2022-12-01T20:06:43.863Z"
      },
      {
        "duration": 34,
        "start_time": "2022-12-01T20:06:44.082Z"
      },
      {
        "duration": 17,
        "start_time": "2022-12-01T20:06:44.118Z"
      },
      {
        "duration": 23,
        "start_time": "2022-12-01T20:06:44.137Z"
      },
      {
        "duration": 12,
        "start_time": "2022-12-01T20:06:44.162Z"
      },
      {
        "duration": 38,
        "start_time": "2022-12-01T20:06:44.176Z"
      },
      {
        "duration": 27,
        "start_time": "2022-12-01T20:06:44.216Z"
      },
      {
        "duration": 16,
        "start_time": "2022-12-01T20:06:44.245Z"
      },
      {
        "duration": 4,
        "start_time": "2022-12-01T20:06:44.262Z"
      },
      {
        "duration": 59,
        "start_time": "2022-12-01T20:06:44.268Z"
      },
      {
        "duration": 16,
        "start_time": "2022-12-01T20:06:44.329Z"
      },
      {
        "duration": 123,
        "start_time": "2022-12-02T05:36:02.246Z"
      },
      {
        "duration": 49,
        "start_time": "2022-12-02T08:52:37.400Z"
      },
      {
        "duration": 1263,
        "start_time": "2022-12-02T08:53:06.842Z"
      },
      {
        "duration": 82,
        "start_time": "2022-12-02T08:53:08.107Z"
      },
      {
        "duration": 256,
        "start_time": "2022-12-02T08:53:08.191Z"
      },
      {
        "duration": 1505,
        "start_time": "2022-12-02T08:53:08.450Z"
      },
      {
        "duration": 127,
        "start_time": "2022-12-02T08:53:09.957Z"
      },
      {
        "duration": 20,
        "start_time": "2022-12-02T08:53:10.086Z"
      },
      {
        "duration": 21,
        "start_time": "2022-12-02T08:53:10.108Z"
      },
      {
        "duration": 65,
        "start_time": "2022-12-02T08:53:10.131Z"
      },
      {
        "duration": 32,
        "start_time": "2022-12-02T08:53:10.198Z"
      },
      {
        "duration": 104,
        "start_time": "2022-12-02T08:53:10.232Z"
      },
      {
        "duration": 6,
        "start_time": "2022-12-02T08:53:10.337Z"
      },
      {
        "duration": 92,
        "start_time": "2022-12-02T08:53:10.344Z"
      },
      {
        "duration": 7,
        "start_time": "2022-12-02T08:53:10.438Z"
      },
      {
        "duration": 54,
        "start_time": "2022-12-02T08:53:10.447Z"
      },
      {
        "duration": 244,
        "start_time": "2022-12-02T08:53:10.502Z"
      },
      {
        "duration": 16,
        "start_time": "2022-12-02T08:53:10.749Z"
      },
      {
        "duration": 22,
        "start_time": "2022-12-02T08:53:10.767Z"
      },
      {
        "duration": 69,
        "start_time": "2022-12-02T08:53:10.791Z"
      },
      {
        "duration": 339,
        "start_time": "2022-12-02T08:53:10.863Z"
      },
      {
        "duration": 0,
        "start_time": "2022-12-02T08:53:11.205Z"
      },
      {
        "duration": 0,
        "start_time": "2022-12-02T08:53:11.207Z"
      },
      {
        "duration": 0,
        "start_time": "2022-12-02T08:53:11.209Z"
      },
      {
        "duration": 0,
        "start_time": "2022-12-02T08:53:11.210Z"
      },
      {
        "duration": 0,
        "start_time": "2022-12-02T08:53:11.222Z"
      },
      {
        "duration": 0,
        "start_time": "2022-12-02T08:53:11.224Z"
      },
      {
        "duration": 0,
        "start_time": "2022-12-02T08:53:11.225Z"
      },
      {
        "duration": 0,
        "start_time": "2022-12-02T08:53:11.227Z"
      },
      {
        "duration": 0,
        "start_time": "2022-12-02T08:53:11.228Z"
      },
      {
        "duration": 0,
        "start_time": "2022-12-02T08:53:11.230Z"
      },
      {
        "duration": 0,
        "start_time": "2022-12-02T08:53:11.231Z"
      },
      {
        "duration": 0,
        "start_time": "2022-12-02T08:53:11.232Z"
      },
      {
        "duration": 0,
        "start_time": "2022-12-02T08:53:11.234Z"
      },
      {
        "duration": 0,
        "start_time": "2022-12-02T08:53:11.236Z"
      },
      {
        "duration": 0,
        "start_time": "2022-12-02T08:53:11.237Z"
      },
      {
        "duration": 0,
        "start_time": "2022-12-02T08:53:11.239Z"
      },
      {
        "duration": 0,
        "start_time": "2022-12-02T08:53:11.240Z"
      },
      {
        "duration": 0,
        "start_time": "2022-12-02T08:53:11.242Z"
      },
      {
        "duration": 0,
        "start_time": "2022-12-02T08:53:11.244Z"
      },
      {
        "duration": 0,
        "start_time": "2022-12-02T08:53:11.245Z"
      },
      {
        "duration": 0,
        "start_time": "2022-12-02T08:53:11.247Z"
      },
      {
        "duration": 0,
        "start_time": "2022-12-02T08:53:11.248Z"
      },
      {
        "duration": 0,
        "start_time": "2022-12-02T08:53:11.249Z"
      },
      {
        "duration": 0,
        "start_time": "2022-12-02T08:53:11.251Z"
      },
      {
        "duration": 0,
        "start_time": "2022-12-02T08:53:11.252Z"
      },
      {
        "duration": 0,
        "start_time": "2022-12-02T08:53:11.253Z"
      },
      {
        "duration": 0,
        "start_time": "2022-12-02T08:53:11.253Z"
      },
      {
        "duration": 0,
        "start_time": "2022-12-02T08:53:11.255Z"
      },
      {
        "duration": 1,
        "start_time": "2022-12-02T08:53:11.255Z"
      },
      {
        "duration": 0,
        "start_time": "2022-12-02T08:53:11.257Z"
      },
      {
        "duration": 0,
        "start_time": "2022-12-02T08:53:11.258Z"
      },
      {
        "duration": 200,
        "start_time": "2022-12-02T08:53:36.650Z"
      },
      {
        "duration": 306,
        "start_time": "2022-12-02T08:55:11.237Z"
      },
      {
        "duration": 428,
        "start_time": "2022-12-02T08:56:12.440Z"
      },
      {
        "duration": 427,
        "start_time": "2022-12-02T08:56:28.615Z"
      },
      {
        "duration": 7,
        "start_time": "2022-12-02T08:56:46.617Z"
      },
      {
        "duration": 4,
        "start_time": "2022-12-02T08:57:27.688Z"
      },
      {
        "duration": 44,
        "start_time": "2022-12-02T08:57:27.694Z"
      },
      {
        "duration": 64,
        "start_time": "2022-12-02T08:57:27.739Z"
      },
      {
        "duration": 495,
        "start_time": "2022-12-02T08:57:27.805Z"
      },
      {
        "duration": 28,
        "start_time": "2022-12-02T08:57:28.303Z"
      },
      {
        "duration": 24,
        "start_time": "2022-12-02T08:57:28.333Z"
      },
      {
        "duration": 36,
        "start_time": "2022-12-02T08:57:28.360Z"
      },
      {
        "duration": 108,
        "start_time": "2022-12-02T08:57:28.399Z"
      },
      {
        "duration": 32,
        "start_time": "2022-12-02T08:57:28.509Z"
      },
      {
        "duration": 126,
        "start_time": "2022-12-02T08:57:28.543Z"
      },
      {
        "duration": 6,
        "start_time": "2022-12-02T08:57:28.672Z"
      },
      {
        "duration": 92,
        "start_time": "2022-12-02T08:57:28.681Z"
      },
      {
        "duration": 7,
        "start_time": "2022-12-02T08:57:28.775Z"
      },
      {
        "duration": 71,
        "start_time": "2022-12-02T08:57:28.786Z"
      },
      {
        "duration": 274,
        "start_time": "2022-12-02T08:57:28.859Z"
      },
      {
        "duration": 18,
        "start_time": "2022-12-02T08:57:29.135Z"
      },
      {
        "duration": 30,
        "start_time": "2022-12-02T08:57:29.155Z"
      },
      {
        "duration": 73,
        "start_time": "2022-12-02T08:57:29.187Z"
      },
      {
        "duration": 435,
        "start_time": "2022-12-02T08:57:29.262Z"
      },
      {
        "duration": 7,
        "start_time": "2022-12-02T08:57:29.699Z"
      },
      {
        "duration": 137,
        "start_time": "2022-12-02T08:57:29.708Z"
      },
      {
        "duration": 38,
        "start_time": "2022-12-02T08:57:29.847Z"
      },
      {
        "duration": 97,
        "start_time": "2022-12-02T08:57:29.887Z"
      },
      {
        "duration": 90,
        "start_time": "2022-12-02T08:57:29.985Z"
      },
      {
        "duration": 15,
        "start_time": "2022-12-02T08:57:30.077Z"
      },
      {
        "duration": 25,
        "start_time": "2022-12-02T08:57:30.094Z"
      },
      {
        "duration": 120,
        "start_time": "2022-12-02T08:57:30.122Z"
      },
      {
        "duration": 11,
        "start_time": "2022-12-02T08:57:30.243Z"
      },
      {
        "duration": 47,
        "start_time": "2022-12-02T08:57:30.255Z"
      },
      {
        "duration": 172,
        "start_time": "2022-12-02T08:57:30.304Z"
      },
      {
        "duration": 18,
        "start_time": "2022-12-02T08:57:30.478Z"
      },
      {
        "duration": 162,
        "start_time": "2022-12-02T08:57:30.523Z"
      },
      {
        "duration": 55,
        "start_time": "2022-12-02T08:57:30.687Z"
      },
      {
        "duration": 32,
        "start_time": "2022-12-02T08:57:30.744Z"
      },
      {
        "duration": 16,
        "start_time": "2022-12-02T08:57:30.779Z"
      },
      {
        "duration": 22,
        "start_time": "2022-12-02T08:57:30.798Z"
      },
      {
        "duration": 24,
        "start_time": "2022-12-02T08:57:30.822Z"
      },
      {
        "duration": 28,
        "start_time": "2022-12-02T08:57:30.849Z"
      },
      {
        "duration": 372,
        "start_time": "2022-12-02T08:57:30.879Z"
      },
      {
        "duration": 252,
        "start_time": "2022-12-02T08:57:31.253Z"
      },
      {
        "duration": 35,
        "start_time": "2022-12-02T08:57:31.511Z"
      },
      {
        "duration": 14,
        "start_time": "2022-12-02T08:57:31.549Z"
      },
      {
        "duration": 27,
        "start_time": "2022-12-02T08:57:31.565Z"
      },
      {
        "duration": 38,
        "start_time": "2022-12-02T08:57:31.594Z"
      },
      {
        "duration": 33,
        "start_time": "2022-12-02T08:57:31.635Z"
      },
      {
        "duration": 29,
        "start_time": "2022-12-02T08:57:31.671Z"
      },
      {
        "duration": 19,
        "start_time": "2022-12-02T08:57:31.721Z"
      },
      {
        "duration": 5,
        "start_time": "2022-12-02T08:57:31.741Z"
      },
      {
        "duration": 35,
        "start_time": "2022-12-02T08:57:31.747Z"
      },
      {
        "duration": 43,
        "start_time": "2022-12-02T08:57:31.784Z"
      },
      {
        "duration": 1204,
        "start_time": "2022-12-02T09:04:31.101Z"
      },
      {
        "duration": 48,
        "start_time": "2022-12-02T09:04:56.083Z"
      },
      {
        "duration": 329,
        "start_time": "2022-12-02T09:05:19.154Z"
      },
      {
        "duration": 299,
        "start_time": "2022-12-02T09:05:28.237Z"
      },
      {
        "duration": 262,
        "start_time": "2022-12-02T09:10:28.432Z"
      },
      {
        "duration": 1660,
        "start_time": "2022-12-02T09:11:29.293Z"
      },
      {
        "duration": 253,
        "start_time": "2022-12-02T09:11:40.866Z"
      },
      {
        "duration": 269,
        "start_time": "2022-12-02T09:11:49.308Z"
      },
      {
        "duration": 299,
        "start_time": "2022-12-02T09:13:01.726Z"
      },
      {
        "duration": 3,
        "start_time": "2022-12-02T09:14:19.616Z"
      },
      {
        "duration": 275,
        "start_time": "2022-12-02T09:16:18.070Z"
      },
      {
        "duration": 292,
        "start_time": "2022-12-02T09:16:39.252Z"
      },
      {
        "duration": 4,
        "start_time": "2022-12-02T09:17:15.737Z"
      },
      {
        "duration": 311,
        "start_time": "2022-12-02T09:17:19.702Z"
      },
      {
        "duration": 44,
        "start_time": "2022-12-02T09:18:48.236Z"
      },
      {
        "duration": 1270,
        "start_time": "2022-12-02T09:18:54.308Z"
      },
      {
        "duration": 100,
        "start_time": "2022-12-02T09:19:27.757Z"
      },
      {
        "duration": 1387,
        "start_time": "2022-12-02T09:19:42.316Z"
      },
      {
        "duration": 52,
        "start_time": "2022-12-02T09:19:55.637Z"
      },
      {
        "duration": 321,
        "start_time": "2022-12-02T09:21:26.955Z"
      },
      {
        "duration": 294,
        "start_time": "2022-12-02T09:22:41.104Z"
      },
      {
        "duration": 292,
        "start_time": "2022-12-02T09:24:05.069Z"
      },
      {
        "duration": 287,
        "start_time": "2022-12-02T09:24:39.047Z"
      },
      {
        "duration": 278,
        "start_time": "2022-12-02T09:27:08.315Z"
      },
      {
        "duration": 47,
        "start_time": "2022-12-02T09:34:27.622Z"
      },
      {
        "duration": 63,
        "start_time": "2022-12-02T09:34:38.739Z"
      },
      {
        "duration": 3962,
        "start_time": "2022-12-02T09:35:10.190Z"
      },
      {
        "duration": 56,
        "start_time": "2022-12-02T09:35:33.278Z"
      },
      {
        "duration": 59,
        "start_time": "2022-12-02T09:36:04.817Z"
      },
      {
        "duration": 88,
        "start_time": "2022-12-02T09:37:01.253Z"
      },
      {
        "duration": 69,
        "start_time": "2022-12-02T09:38:52.508Z"
      },
      {
        "duration": 11,
        "start_time": "2022-12-02T09:39:48.520Z"
      },
      {
        "duration": 24,
        "start_time": "2022-12-02T09:43:08.771Z"
      },
      {
        "duration": 39,
        "start_time": "2022-12-02T09:43:24.138Z"
      },
      {
        "duration": 1468,
        "start_time": "2022-12-02T09:43:49.251Z"
      },
      {
        "duration": 13,
        "start_time": "2022-12-02T09:44:15.454Z"
      },
      {
        "duration": 44,
        "start_time": "2022-12-02T09:47:32.358Z"
      },
      {
        "duration": 39,
        "start_time": "2022-12-02T09:52:04.271Z"
      },
      {
        "duration": 13,
        "start_time": "2022-12-02T09:52:39.456Z"
      },
      {
        "duration": 15,
        "start_time": "2022-12-02T09:52:51.788Z"
      },
      {
        "duration": 13,
        "start_time": "2022-12-02T09:53:03.445Z"
      },
      {
        "duration": 16,
        "start_time": "2022-12-02T09:53:24.170Z"
      },
      {
        "duration": 12,
        "start_time": "2022-12-02T09:53:33.757Z"
      },
      {
        "duration": 4,
        "start_time": "2022-12-02T09:53:45.863Z"
      },
      {
        "duration": 70,
        "start_time": "2022-12-02T09:53:45.869Z"
      },
      {
        "duration": 67,
        "start_time": "2022-12-02T09:53:45.940Z"
      },
      {
        "duration": 455,
        "start_time": "2022-12-02T09:53:46.008Z"
      },
      {
        "duration": 27,
        "start_time": "2022-12-02T09:53:46.465Z"
      },
      {
        "duration": 15,
        "start_time": "2022-12-02T09:53:46.493Z"
      },
      {
        "duration": 49,
        "start_time": "2022-12-02T09:53:46.509Z"
      },
      {
        "duration": 78,
        "start_time": "2022-12-02T09:53:46.560Z"
      },
      {
        "duration": 18,
        "start_time": "2022-12-02T09:53:46.640Z"
      },
      {
        "duration": 125,
        "start_time": "2022-12-02T09:53:46.660Z"
      },
      {
        "duration": 5,
        "start_time": "2022-12-02T09:53:46.787Z"
      },
      {
        "duration": 69,
        "start_time": "2022-12-02T09:53:46.794Z"
      },
      {
        "duration": 6,
        "start_time": "2022-12-02T09:53:46.864Z"
      },
      {
        "duration": 67,
        "start_time": "2022-12-02T09:53:46.873Z"
      },
      {
        "duration": 246,
        "start_time": "2022-12-02T09:53:46.942Z"
      },
      {
        "duration": 19,
        "start_time": "2022-12-02T09:53:47.190Z"
      },
      {
        "duration": 30,
        "start_time": "2022-12-02T09:53:47.221Z"
      },
      {
        "duration": 75,
        "start_time": "2022-12-02T09:53:47.253Z"
      },
      {
        "duration": 427,
        "start_time": "2022-12-02T09:53:47.330Z"
      },
      {
        "duration": 7,
        "start_time": "2022-12-02T09:53:47.759Z"
      },
      {
        "duration": 121,
        "start_time": "2022-12-02T09:53:47.768Z"
      },
      {
        "duration": 43,
        "start_time": "2022-12-02T09:53:47.891Z"
      },
      {
        "duration": 78,
        "start_time": "2022-12-02T09:53:47.939Z"
      },
      {
        "duration": 76,
        "start_time": "2022-12-02T09:53:48.018Z"
      },
      {
        "duration": 41,
        "start_time": "2022-12-02T09:53:48.096Z"
      },
      {
        "duration": 13,
        "start_time": "2022-12-02T09:53:48.139Z"
      },
      {
        "duration": 45,
        "start_time": "2022-12-02T09:53:48.153Z"
      },
      {
        "duration": 46,
        "start_time": "2022-12-02T09:53:48.200Z"
      },
      {
        "duration": 5,
        "start_time": "2022-12-02T09:54:01.709Z"
      },
      {
        "duration": 10,
        "start_time": "2022-12-02T09:54:09.910Z"
      },
      {
        "duration": 9,
        "start_time": "2022-12-02T09:55:31.677Z"
      },
      {
        "duration": 75,
        "start_time": "2022-12-02T09:58:58.335Z"
      },
      {
        "duration": 11,
        "start_time": "2022-12-02T09:59:49.734Z"
      },
      {
        "duration": 25,
        "start_time": "2022-12-02T10:00:20.832Z"
      },
      {
        "duration": 11,
        "start_time": "2022-12-02T10:03:40.895Z"
      },
      {
        "duration": 11,
        "start_time": "2022-12-02T10:04:39.442Z"
      },
      {
        "duration": 68,
        "start_time": "2022-12-02T10:04:54.740Z"
      },
      {
        "duration": 72,
        "start_time": "2022-12-02T10:05:44.401Z"
      },
      {
        "duration": 5,
        "start_time": "2022-12-02T10:09:55.679Z"
      },
      {
        "duration": 5,
        "start_time": "2022-12-02T10:10:09.970Z"
      },
      {
        "duration": 19,
        "start_time": "2022-12-02T10:11:02.772Z"
      },
      {
        "duration": 6,
        "start_time": "2022-12-02T10:11:19.735Z"
      },
      {
        "duration": 10,
        "start_time": "2022-12-02T10:12:55.267Z"
      },
      {
        "duration": 10,
        "start_time": "2022-12-02T10:13:01.342Z"
      },
      {
        "duration": 9,
        "start_time": "2022-12-02T10:13:07.035Z"
      },
      {
        "duration": 5,
        "start_time": "2022-12-02T10:14:14.109Z"
      },
      {
        "duration": 24,
        "start_time": "2022-12-02T10:14:19.035Z"
      },
      {
        "duration": 8,
        "start_time": "2022-12-02T10:14:43.748Z"
      },
      {
        "duration": 16,
        "start_time": "2022-12-02T10:14:45.096Z"
      },
      {
        "duration": 4,
        "start_time": "2022-12-02T10:14:52.849Z"
      },
      {
        "duration": 37,
        "start_time": "2022-12-02T10:14:52.857Z"
      },
      {
        "duration": 76,
        "start_time": "2022-12-02T10:14:52.896Z"
      },
      {
        "duration": 483,
        "start_time": "2022-12-02T10:14:52.974Z"
      },
      {
        "duration": 27,
        "start_time": "2022-12-02T10:14:53.460Z"
      },
      {
        "duration": 17,
        "start_time": "2022-12-02T10:14:53.489Z"
      },
      {
        "duration": 36,
        "start_time": "2022-12-02T10:14:53.508Z"
      },
      {
        "duration": 79,
        "start_time": "2022-12-02T10:14:53.547Z"
      },
      {
        "duration": 22,
        "start_time": "2022-12-02T10:14:53.631Z"
      },
      {
        "duration": 113,
        "start_time": "2022-12-02T10:14:53.654Z"
      },
      {
        "duration": 7,
        "start_time": "2022-12-02T10:14:53.769Z"
      },
      {
        "duration": 65,
        "start_time": "2022-12-02T10:14:53.778Z"
      },
      {
        "duration": 7,
        "start_time": "2022-12-02T10:14:53.845Z"
      },
      {
        "duration": 74,
        "start_time": "2022-12-02T10:14:53.855Z"
      },
      {
        "duration": 229,
        "start_time": "2022-12-02T10:14:53.935Z"
      },
      {
        "duration": 19,
        "start_time": "2022-12-02T10:14:54.166Z"
      },
      {
        "duration": 52,
        "start_time": "2022-12-02T10:14:54.188Z"
      },
      {
        "duration": 79,
        "start_time": "2022-12-02T10:14:54.241Z"
      },
      {
        "duration": 499,
        "start_time": "2022-12-02T10:14:54.328Z"
      },
      {
        "duration": 12,
        "start_time": "2022-12-02T10:14:54.836Z"
      },
      {
        "duration": 187,
        "start_time": "2022-12-02T10:14:54.850Z"
      },
      {
        "duration": 34,
        "start_time": "2022-12-02T10:14:55.042Z"
      },
      {
        "duration": 97,
        "start_time": "2022-12-02T10:14:55.078Z"
      },
      {
        "duration": 98,
        "start_time": "2022-12-02T10:14:55.177Z"
      },
      {
        "duration": 19,
        "start_time": "2022-12-02T10:14:55.277Z"
      },
      {
        "duration": 92,
        "start_time": "2022-12-02T10:14:55.298Z"
      },
      {
        "duration": 7,
        "start_time": "2022-12-02T10:14:55.392Z"
      },
      {
        "duration": 44,
        "start_time": "2022-12-02T10:14:55.401Z"
      },
      {
        "duration": 8,
        "start_time": "2022-12-02T10:15:52.745Z"
      },
      {
        "duration": 6,
        "start_time": "2022-12-02T10:16:15.189Z"
      },
      {
        "duration": 8,
        "start_time": "2022-12-02T10:16:40.734Z"
      },
      {
        "duration": 17,
        "start_time": "2022-12-02T10:17:31.500Z"
      },
      {
        "duration": 20,
        "start_time": "2022-12-02T10:17:45.322Z"
      },
      {
        "duration": 11,
        "start_time": "2022-12-02T10:17:48.398Z"
      },
      {
        "duration": 26,
        "start_time": "2022-12-02T10:18:04.879Z"
      },
      {
        "duration": 26,
        "start_time": "2022-12-02T10:18:57.468Z"
      },
      {
        "duration": 23,
        "start_time": "2022-12-02T10:21:07.737Z"
      },
      {
        "duration": 22,
        "start_time": "2022-12-02T10:21:18.275Z"
      },
      {
        "duration": 32,
        "start_time": "2022-12-02T10:21:43.819Z"
      },
      {
        "duration": 24,
        "start_time": "2022-12-02T10:21:52.954Z"
      },
      {
        "duration": 22,
        "start_time": "2022-12-02T10:22:36.371Z"
      },
      {
        "duration": 22,
        "start_time": "2022-12-02T10:23:02.677Z"
      },
      {
        "duration": 22,
        "start_time": "2022-12-02T10:26:32.361Z"
      },
      {
        "duration": 13,
        "start_time": "2022-12-02T10:26:33.821Z"
      },
      {
        "duration": 14,
        "start_time": "2022-12-02T10:29:37.789Z"
      },
      {
        "duration": 37,
        "start_time": "2022-12-02T10:30:20.010Z"
      },
      {
        "duration": 15,
        "start_time": "2022-12-02T10:30:20.559Z"
      },
      {
        "duration": 21,
        "start_time": "2022-12-02T10:31:42.525Z"
      },
      {
        "duration": 261,
        "start_time": "2022-12-02T10:35:33.114Z"
      },
      {
        "duration": 268,
        "start_time": "2022-12-02T10:36:39.886Z"
      },
      {
        "duration": 272,
        "start_time": "2022-12-02T10:38:08.241Z"
      },
      {
        "duration": 78,
        "start_time": "2022-12-02T10:39:03.595Z"
      },
      {
        "duration": 1153,
        "start_time": "2022-12-02T10:40:42.059Z"
      },
      {
        "duration": 28,
        "start_time": "2022-12-02T10:40:43.221Z"
      },
      {
        "duration": 72,
        "start_time": "2022-12-02T10:40:43.250Z"
      },
      {
        "duration": 517,
        "start_time": "2022-12-02T10:40:43.325Z"
      },
      {
        "duration": 27,
        "start_time": "2022-12-02T10:40:43.844Z"
      },
      {
        "duration": 26,
        "start_time": "2022-12-02T10:40:43.873Z"
      },
      {
        "duration": 63,
        "start_time": "2022-12-02T10:40:43.901Z"
      },
      {
        "duration": 105,
        "start_time": "2022-12-02T10:40:43.966Z"
      },
      {
        "duration": 27,
        "start_time": "2022-12-02T10:40:44.073Z"
      },
      {
        "duration": 145,
        "start_time": "2022-12-02T10:40:44.121Z"
      },
      {
        "duration": 7,
        "start_time": "2022-12-02T10:40:44.269Z"
      },
      {
        "duration": 125,
        "start_time": "2022-12-02T10:40:44.279Z"
      },
      {
        "duration": 8,
        "start_time": "2022-12-02T10:40:44.406Z"
      },
      {
        "duration": 77,
        "start_time": "2022-12-02T10:40:44.416Z"
      },
      {
        "duration": 237,
        "start_time": "2022-12-02T10:40:44.494Z"
      },
      {
        "duration": 16,
        "start_time": "2022-12-02T10:40:44.733Z"
      },
      {
        "duration": 50,
        "start_time": "2022-12-02T10:40:44.751Z"
      },
      {
        "duration": 63,
        "start_time": "2022-12-02T10:40:44.803Z"
      },
      {
        "duration": 451,
        "start_time": "2022-12-02T10:40:44.868Z"
      },
      {
        "duration": 7,
        "start_time": "2022-12-02T10:40:45.322Z"
      },
      {
        "duration": 157,
        "start_time": "2022-12-02T10:40:45.330Z"
      },
      {
        "duration": 34,
        "start_time": "2022-12-02T10:40:45.489Z"
      },
      {
        "duration": 93,
        "start_time": "2022-12-02T10:40:45.524Z"
      },
      {
        "duration": 109,
        "start_time": "2022-12-02T10:40:45.619Z"
      },
      {
        "duration": 16,
        "start_time": "2022-12-02T10:40:45.730Z"
      },
      {
        "duration": 102,
        "start_time": "2022-12-02T10:40:45.748Z"
      },
      {
        "duration": 12,
        "start_time": "2022-12-02T10:40:45.852Z"
      },
      {
        "duration": 35,
        "start_time": "2022-12-02T10:40:45.869Z"
      },
      {
        "duration": 141,
        "start_time": "2022-12-02T10:40:45.907Z"
      },
      {
        "duration": 0,
        "start_time": "2022-12-02T10:40:46.050Z"
      },
      {
        "duration": 0,
        "start_time": "2022-12-02T10:40:46.052Z"
      },
      {
        "duration": 0,
        "start_time": "2022-12-02T10:40:46.053Z"
      },
      {
        "duration": 0,
        "start_time": "2022-12-02T10:40:46.055Z"
      },
      {
        "duration": 0,
        "start_time": "2022-12-02T10:40:46.056Z"
      },
      {
        "duration": 0,
        "start_time": "2022-12-02T10:40:46.059Z"
      },
      {
        "duration": 0,
        "start_time": "2022-12-02T10:40:46.061Z"
      },
      {
        "duration": 0,
        "start_time": "2022-12-02T10:40:46.062Z"
      },
      {
        "duration": 0,
        "start_time": "2022-12-02T10:40:46.064Z"
      },
      {
        "duration": 0,
        "start_time": "2022-12-02T10:40:46.065Z"
      },
      {
        "duration": 0,
        "start_time": "2022-12-02T10:40:46.067Z"
      },
      {
        "duration": 0,
        "start_time": "2022-12-02T10:40:46.068Z"
      },
      {
        "duration": 0,
        "start_time": "2022-12-02T10:40:46.070Z"
      },
      {
        "duration": 0,
        "start_time": "2022-12-02T10:40:46.072Z"
      },
      {
        "duration": 0,
        "start_time": "2022-12-02T10:40:46.073Z"
      },
      {
        "duration": 0,
        "start_time": "2022-12-02T10:40:46.074Z"
      },
      {
        "duration": 0,
        "start_time": "2022-12-02T10:40:46.076Z"
      },
      {
        "duration": 0,
        "start_time": "2022-12-02T10:40:46.121Z"
      },
      {
        "duration": 0,
        "start_time": "2022-12-02T10:40:46.124Z"
      },
      {
        "duration": 0,
        "start_time": "2022-12-02T10:40:46.125Z"
      },
      {
        "duration": 0,
        "start_time": "2022-12-02T10:40:46.127Z"
      },
      {
        "duration": 0,
        "start_time": "2022-12-02T10:40:46.129Z"
      },
      {
        "duration": 32,
        "start_time": "2022-12-02T10:41:56.503Z"
      },
      {
        "duration": 1191,
        "start_time": "2022-12-02T10:42:06.420Z"
      },
      {
        "duration": 34,
        "start_time": "2022-12-02T10:42:07.613Z"
      },
      {
        "duration": 72,
        "start_time": "2022-12-02T10:42:07.650Z"
      },
      {
        "duration": 515,
        "start_time": "2022-12-02T10:42:07.725Z"
      },
      {
        "duration": 29,
        "start_time": "2022-12-02T10:42:08.242Z"
      },
      {
        "duration": 21,
        "start_time": "2022-12-02T10:42:08.273Z"
      },
      {
        "duration": 35,
        "start_time": "2022-12-02T10:42:08.296Z"
      },
      {
        "duration": 65,
        "start_time": "2022-12-02T10:42:08.333Z"
      },
      {
        "duration": 33,
        "start_time": "2022-12-02T10:42:08.400Z"
      },
      {
        "duration": 121,
        "start_time": "2022-12-02T10:42:08.436Z"
      },
      {
        "duration": 7,
        "start_time": "2022-12-02T10:42:08.559Z"
      },
      {
        "duration": 96,
        "start_time": "2022-12-02T10:42:08.568Z"
      },
      {
        "duration": 9,
        "start_time": "2022-12-02T10:42:08.666Z"
      },
      {
        "duration": 69,
        "start_time": "2022-12-02T10:42:08.677Z"
      },
      {
        "duration": 260,
        "start_time": "2022-12-02T10:42:08.748Z"
      },
      {
        "duration": 25,
        "start_time": "2022-12-02T10:42:09.010Z"
      },
      {
        "duration": 24,
        "start_time": "2022-12-02T10:42:09.036Z"
      },
      {
        "duration": 72,
        "start_time": "2022-12-02T10:42:09.062Z"
      },
      {
        "duration": 459,
        "start_time": "2022-12-02T10:42:09.136Z"
      },
      {
        "duration": 6,
        "start_time": "2022-12-02T10:42:09.597Z"
      },
      {
        "duration": 129,
        "start_time": "2022-12-02T10:42:09.605Z"
      },
      {
        "duration": 29,
        "start_time": "2022-12-02T10:42:09.736Z"
      },
      {
        "duration": 101,
        "start_time": "2022-12-02T10:42:09.766Z"
      },
      {
        "duration": 109,
        "start_time": "2022-12-02T10:42:09.869Z"
      },
      {
        "duration": 13,
        "start_time": "2022-12-02T10:42:09.980Z"
      },
      {
        "duration": 89,
        "start_time": "2022-12-02T10:42:09.995Z"
      },
      {
        "duration": 7,
        "start_time": "2022-12-02T10:42:10.086Z"
      },
      {
        "duration": 27,
        "start_time": "2022-12-02T10:42:10.096Z"
      },
      {
        "duration": 22,
        "start_time": "2022-12-02T10:42:10.124Z"
      },
      {
        "duration": 166,
        "start_time": "2022-12-02T10:42:10.148Z"
      },
      {
        "duration": 11,
        "start_time": "2022-12-02T10:42:10.316Z"
      },
      {
        "duration": 336,
        "start_time": "2022-12-02T10:42:10.329Z"
      },
      {
        "duration": 62,
        "start_time": "2022-12-02T10:42:10.667Z"
      },
      {
        "duration": 20,
        "start_time": "2022-12-02T10:42:10.731Z"
      },
      {
        "duration": 10,
        "start_time": "2022-12-02T10:42:10.752Z"
      },
      {
        "duration": 4,
        "start_time": "2022-12-02T10:42:10.764Z"
      },
      {
        "duration": 11,
        "start_time": "2022-12-02T10:42:10.770Z"
      },
      {
        "duration": 39,
        "start_time": "2022-12-02T10:42:10.783Z"
      },
      {
        "duration": 12,
        "start_time": "2022-12-02T10:42:10.824Z"
      },
      {
        "duration": 322,
        "start_time": "2022-12-02T10:42:10.838Z"
      },
      {
        "duration": 226,
        "start_time": "2022-12-02T10:42:11.161Z"
      },
      {
        "duration": 34,
        "start_time": "2022-12-02T10:42:11.389Z"
      },
      {
        "duration": 14,
        "start_time": "2022-12-02T10:42:11.425Z"
      },
      {
        "duration": 29,
        "start_time": "2022-12-02T10:42:11.441Z"
      },
      {
        "duration": 13,
        "start_time": "2022-12-02T10:42:11.472Z"
      },
      {
        "duration": 38,
        "start_time": "2022-12-02T10:42:11.488Z"
      },
      {
        "duration": 41,
        "start_time": "2022-12-02T10:42:11.528Z"
      },
      {
        "duration": 25,
        "start_time": "2022-12-02T10:42:11.571Z"
      },
      {
        "duration": 25,
        "start_time": "2022-12-02T10:42:11.598Z"
      },
      {
        "duration": 40,
        "start_time": "2022-12-02T10:42:11.625Z"
      },
      {
        "duration": 23,
        "start_time": "2022-12-02T10:42:11.667Z"
      },
      {
        "duration": 4,
        "start_time": "2022-12-02T11:31:12.517Z"
      },
      {
        "duration": 45,
        "start_time": "2022-12-02T11:31:12.525Z"
      },
      {
        "duration": 70,
        "start_time": "2022-12-02T11:31:12.571Z"
      },
      {
        "duration": 492,
        "start_time": "2022-12-02T11:31:12.644Z"
      },
      {
        "duration": 25,
        "start_time": "2022-12-02T11:31:13.139Z"
      },
      {
        "duration": 16,
        "start_time": "2022-12-02T11:31:13.166Z"
      },
      {
        "duration": 26,
        "start_time": "2022-12-02T11:31:13.183Z"
      },
      {
        "duration": 68,
        "start_time": "2022-12-02T11:31:13.211Z"
      },
      {
        "duration": 16,
        "start_time": "2022-12-02T11:31:13.281Z"
      },
      {
        "duration": 145,
        "start_time": "2022-12-02T11:31:13.299Z"
      },
      {
        "duration": 7,
        "start_time": "2022-12-02T11:31:13.445Z"
      },
      {
        "duration": 51,
        "start_time": "2022-12-02T11:31:13.453Z"
      },
      {
        "duration": 21,
        "start_time": "2022-12-02T11:31:13.506Z"
      },
      {
        "duration": 65,
        "start_time": "2022-12-02T11:31:13.535Z"
      },
      {
        "duration": 232,
        "start_time": "2022-12-02T11:31:13.601Z"
      },
      {
        "duration": 28,
        "start_time": "2022-12-02T11:31:13.840Z"
      },
      {
        "duration": 28,
        "start_time": "2022-12-02T11:31:13.870Z"
      },
      {
        "duration": 70,
        "start_time": "2022-12-02T11:31:13.899Z"
      },
      {
        "duration": 470,
        "start_time": "2022-12-02T11:31:13.971Z"
      },
      {
        "duration": 7,
        "start_time": "2022-12-02T11:31:14.443Z"
      },
      {
        "duration": 121,
        "start_time": "2022-12-02T11:31:14.451Z"
      },
      {
        "duration": 26,
        "start_time": "2022-12-02T11:31:14.574Z"
      },
      {
        "duration": 95,
        "start_time": "2022-12-02T11:31:14.602Z"
      },
      {
        "duration": 84,
        "start_time": "2022-12-02T11:31:14.699Z"
      },
      {
        "duration": 15,
        "start_time": "2022-12-02T11:31:14.785Z"
      },
      {
        "duration": 90,
        "start_time": "2022-12-02T11:31:14.802Z"
      },
      {
        "duration": 8,
        "start_time": "2022-12-02T11:31:14.893Z"
      },
      {
        "duration": 34,
        "start_time": "2022-12-02T11:31:14.902Z"
      },
      {
        "duration": 26,
        "start_time": "2022-12-02T11:31:14.941Z"
      },
      {
        "duration": 12,
        "start_time": "2022-12-02T11:31:14.969Z"
      },
      {
        "duration": 12,
        "start_time": "2022-12-02T11:31:14.983Z"
      },
      {
        "duration": 298,
        "start_time": "2022-12-02T11:31:14.997Z"
      },
      {
        "duration": 75,
        "start_time": "2022-12-02T11:31:15.296Z"
      },
      {
        "duration": 99,
        "start_time": "2022-12-02T11:31:15.373Z"
      },
      {
        "duration": 0,
        "start_time": "2022-12-02T11:31:15.475Z"
      },
      {
        "duration": 0,
        "start_time": "2022-12-02T11:31:15.477Z"
      },
      {
        "duration": 0,
        "start_time": "2022-12-02T11:31:15.478Z"
      },
      {
        "duration": 0,
        "start_time": "2022-12-02T11:31:15.479Z"
      },
      {
        "duration": 0,
        "start_time": "2022-12-02T11:31:15.481Z"
      },
      {
        "duration": 0,
        "start_time": "2022-12-02T11:31:15.482Z"
      },
      {
        "duration": 0,
        "start_time": "2022-12-02T11:31:15.483Z"
      },
      {
        "duration": 0,
        "start_time": "2022-12-02T11:31:15.485Z"
      },
      {
        "duration": 0,
        "start_time": "2022-12-02T11:31:15.486Z"
      },
      {
        "duration": 0,
        "start_time": "2022-12-02T11:31:15.487Z"
      },
      {
        "duration": 0,
        "start_time": "2022-12-02T11:31:15.488Z"
      },
      {
        "duration": 0,
        "start_time": "2022-12-02T11:31:15.490Z"
      },
      {
        "duration": 0,
        "start_time": "2022-12-02T11:31:15.491Z"
      },
      {
        "duration": 0,
        "start_time": "2022-12-02T11:31:15.492Z"
      },
      {
        "duration": 0,
        "start_time": "2022-12-02T11:31:15.493Z"
      },
      {
        "duration": 0,
        "start_time": "2022-12-02T11:31:15.495Z"
      },
      {
        "duration": 0,
        "start_time": "2022-12-02T11:31:15.496Z"
      },
      {
        "duration": 28,
        "start_time": "2022-12-02T11:31:32.015Z"
      },
      {
        "duration": 24,
        "start_time": "2022-12-02T11:31:44.481Z"
      },
      {
        "duration": 66,
        "start_time": "2022-12-02T11:34:33.522Z"
      },
      {
        "duration": 4,
        "start_time": "2022-12-02T11:35:16.592Z"
      },
      {
        "duration": 41,
        "start_time": "2022-12-02T11:35:16.599Z"
      },
      {
        "duration": 89,
        "start_time": "2022-12-02T11:35:16.643Z"
      },
      {
        "duration": 479,
        "start_time": "2022-12-02T11:35:16.734Z"
      },
      {
        "duration": 35,
        "start_time": "2022-12-02T11:35:17.216Z"
      },
      {
        "duration": 16,
        "start_time": "2022-12-02T11:35:17.252Z"
      },
      {
        "duration": 27,
        "start_time": "2022-12-02T11:35:17.270Z"
      },
      {
        "duration": 78,
        "start_time": "2022-12-02T11:35:17.299Z"
      },
      {
        "duration": 17,
        "start_time": "2022-12-02T11:35:17.379Z"
      },
      {
        "duration": 118,
        "start_time": "2022-12-02T11:35:17.398Z"
      },
      {
        "duration": 10,
        "start_time": "2022-12-02T11:35:17.531Z"
      },
      {
        "duration": 45,
        "start_time": "2022-12-02T11:35:17.543Z"
      },
      {
        "duration": 5,
        "start_time": "2022-12-02T11:35:17.590Z"
      },
      {
        "duration": 83,
        "start_time": "2022-12-02T11:35:17.599Z"
      },
      {
        "duration": 229,
        "start_time": "2022-12-02T11:35:17.683Z"
      },
      {
        "duration": 28,
        "start_time": "2022-12-02T11:35:17.914Z"
      },
      {
        "duration": 23,
        "start_time": "2022-12-02T11:35:17.944Z"
      },
      {
        "duration": 74,
        "start_time": "2022-12-02T11:35:17.969Z"
      },
      {
        "duration": 411,
        "start_time": "2022-12-02T11:35:18.045Z"
      },
      {
        "duration": 7,
        "start_time": "2022-12-02T11:35:18.458Z"
      },
      {
        "duration": 124,
        "start_time": "2022-12-02T11:35:18.468Z"
      },
      {
        "duration": 46,
        "start_time": "2022-12-02T11:35:18.594Z"
      },
      {
        "duration": 93,
        "start_time": "2022-12-02T11:35:18.642Z"
      },
      {
        "duration": 87,
        "start_time": "2022-12-02T11:35:18.737Z"
      },
      {
        "duration": 17,
        "start_time": "2022-12-02T11:35:18.826Z"
      },
      {
        "duration": 81,
        "start_time": "2022-12-02T11:35:18.844Z"
      },
      {
        "duration": 16,
        "start_time": "2022-12-02T11:35:18.926Z"
      },
      {
        "duration": 20,
        "start_time": "2022-12-02T11:35:18.944Z"
      },
      {
        "duration": 30,
        "start_time": "2022-12-02T11:35:18.966Z"
      },
      {
        "duration": 38,
        "start_time": "2022-12-02T11:35:18.998Z"
      },
      {
        "duration": 24,
        "start_time": "2022-12-02T11:35:19.037Z"
      },
      {
        "duration": 308,
        "start_time": "2022-12-02T11:35:19.063Z"
      },
      {
        "duration": 83,
        "start_time": "2022-12-02T11:35:19.373Z"
      },
      {
        "duration": 22,
        "start_time": "2022-12-02T11:35:19.458Z"
      },
      {
        "duration": 80,
        "start_time": "2022-12-02T11:35:19.482Z"
      },
      {
        "duration": 12,
        "start_time": "2022-12-02T11:35:19.564Z"
      },
      {
        "duration": 6,
        "start_time": "2022-12-02T11:35:19.579Z"
      },
      {
        "duration": 17,
        "start_time": "2022-12-02T11:35:19.587Z"
      },
      {
        "duration": 25,
        "start_time": "2022-12-02T11:35:19.606Z"
      },
      {
        "duration": 26,
        "start_time": "2022-12-02T11:35:19.638Z"
      },
      {
        "duration": 245,
        "start_time": "2022-12-02T11:35:19.668Z"
      },
      {
        "duration": 245,
        "start_time": "2022-12-02T11:35:19.914Z"
      },
      {
        "duration": 23,
        "start_time": "2022-12-02T11:35:20.161Z"
      },
      {
        "duration": 116,
        "start_time": "2022-12-02T11:35:20.186Z"
      },
      {
        "duration": 40,
        "start_time": "2022-12-02T11:35:20.304Z"
      },
      {
        "duration": 14,
        "start_time": "2022-12-02T11:35:20.346Z"
      },
      {
        "duration": 14,
        "start_time": "2022-12-02T11:35:20.361Z"
      },
      {
        "duration": 58,
        "start_time": "2022-12-02T11:35:20.377Z"
      },
      {
        "duration": 19,
        "start_time": "2022-12-02T11:35:20.438Z"
      },
      {
        "duration": 5,
        "start_time": "2022-12-02T11:35:20.459Z"
      },
      {
        "duration": 40,
        "start_time": "2022-12-02T11:35:20.466Z"
      },
      {
        "duration": 34,
        "start_time": "2022-12-02T11:35:20.508Z"
      },
      {
        "duration": 48,
        "start_time": "2022-12-02T11:36:05.647Z"
      },
      {
        "duration": 5,
        "start_time": "2022-12-02T11:36:09.097Z"
      },
      {
        "duration": 9,
        "start_time": "2022-12-02T11:36:10.477Z"
      },
      {
        "duration": 4,
        "start_time": "2022-12-02T11:36:16.746Z"
      },
      {
        "duration": 12,
        "start_time": "2022-12-02T11:36:17.924Z"
      },
      {
        "duration": 12,
        "start_time": "2022-12-02T11:37:52.145Z"
      },
      {
        "duration": 4,
        "start_time": "2022-12-02T11:38:05.741Z"
      },
      {
        "duration": 36,
        "start_time": "2022-12-02T11:38:05.747Z"
      },
      {
        "duration": 73,
        "start_time": "2022-12-02T11:38:05.785Z"
      },
      {
        "duration": 489,
        "start_time": "2022-12-02T11:38:05.860Z"
      },
      {
        "duration": 27,
        "start_time": "2022-12-02T11:38:06.352Z"
      },
      {
        "duration": 17,
        "start_time": "2022-12-02T11:38:06.381Z"
      },
      {
        "duration": 37,
        "start_time": "2022-12-02T11:38:06.400Z"
      },
      {
        "duration": 90,
        "start_time": "2022-12-02T11:38:06.439Z"
      },
      {
        "duration": 21,
        "start_time": "2022-12-02T11:38:06.531Z"
      },
      {
        "duration": 118,
        "start_time": "2022-12-02T11:38:06.554Z"
      },
      {
        "duration": 7,
        "start_time": "2022-12-02T11:38:06.674Z"
      },
      {
        "duration": 71,
        "start_time": "2022-12-02T11:38:06.683Z"
      },
      {
        "duration": 6,
        "start_time": "2022-12-02T11:38:06.755Z"
      },
      {
        "duration": 72,
        "start_time": "2022-12-02T11:38:06.765Z"
      },
      {
        "duration": 227,
        "start_time": "2022-12-02T11:38:06.841Z"
      },
      {
        "duration": 16,
        "start_time": "2022-12-02T11:38:07.070Z"
      },
      {
        "duration": 37,
        "start_time": "2022-12-02T11:38:07.087Z"
      },
      {
        "duration": 48,
        "start_time": "2022-12-02T11:38:07.132Z"
      },
      {
        "duration": 405,
        "start_time": "2022-12-02T11:38:07.182Z"
      },
      {
        "duration": 6,
        "start_time": "2022-12-02T11:38:07.589Z"
      },
      {
        "duration": 141,
        "start_time": "2022-12-02T11:38:07.597Z"
      },
      {
        "duration": 32,
        "start_time": "2022-12-02T11:38:07.740Z"
      },
      {
        "duration": 97,
        "start_time": "2022-12-02T11:38:07.774Z"
      },
      {
        "duration": 80,
        "start_time": "2022-12-02T11:38:07.873Z"
      },
      {
        "duration": 15,
        "start_time": "2022-12-02T11:38:07.955Z"
      },
      {
        "duration": 89,
        "start_time": "2022-12-02T11:38:07.973Z"
      },
      {
        "duration": 7,
        "start_time": "2022-12-02T11:38:08.064Z"
      },
      {
        "duration": 16,
        "start_time": "2022-12-02T11:38:08.073Z"
      },
      {
        "duration": 45,
        "start_time": "2022-12-02T11:38:08.091Z"
      },
      {
        "duration": 13,
        "start_time": "2022-12-02T11:38:08.138Z"
      },
      {
        "duration": 15,
        "start_time": "2022-12-02T11:38:08.153Z"
      },
      {
        "duration": 293,
        "start_time": "2022-12-02T11:38:08.170Z"
      },
      {
        "duration": 76,
        "start_time": "2022-12-02T11:38:08.464Z"
      },
      {
        "duration": 21,
        "start_time": "2022-12-02T11:38:08.543Z"
      },
      {
        "duration": 69,
        "start_time": "2022-12-02T11:38:08.567Z"
      },
      {
        "duration": 4,
        "start_time": "2022-12-02T11:38:08.637Z"
      },
      {
        "duration": 11,
        "start_time": "2022-12-02T11:38:08.642Z"
      },
      {
        "duration": 8,
        "start_time": "2022-12-02T11:38:08.654Z"
      },
      {
        "duration": 13,
        "start_time": "2022-12-02T11:38:08.663Z"
      },
      {
        "duration": 268,
        "start_time": "2022-12-02T11:38:08.677Z"
      },
      {
        "duration": 249,
        "start_time": "2022-12-02T11:38:08.948Z"
      },
      {
        "duration": 37,
        "start_time": "2022-12-02T11:38:09.199Z"
      },
      {
        "duration": 14,
        "start_time": "2022-12-02T11:38:09.239Z"
      },
      {
        "duration": 1157,
        "start_time": "2022-12-02T11:38:24.153Z"
      },
      {
        "duration": 35,
        "start_time": "2022-12-02T11:38:25.314Z"
      },
      {
        "duration": 79,
        "start_time": "2022-12-02T11:38:25.351Z"
      },
      {
        "duration": 527,
        "start_time": "2022-12-02T11:38:25.433Z"
      },
      {
        "duration": 26,
        "start_time": "2022-12-02T11:38:25.962Z"
      },
      {
        "duration": 33,
        "start_time": "2022-12-02T11:38:25.989Z"
      },
      {
        "duration": 46,
        "start_time": "2022-12-02T11:38:26.027Z"
      },
      {
        "duration": 96,
        "start_time": "2022-12-02T11:38:26.075Z"
      },
      {
        "duration": 16,
        "start_time": "2022-12-02T11:38:26.173Z"
      },
      {
        "duration": 129,
        "start_time": "2022-12-02T11:38:26.191Z"
      },
      {
        "duration": 15,
        "start_time": "2022-12-02T11:38:26.324Z"
      },
      {
        "duration": 96,
        "start_time": "2022-12-02T11:38:26.341Z"
      },
      {
        "duration": 9,
        "start_time": "2022-12-02T11:38:26.440Z"
      },
      {
        "duration": 86,
        "start_time": "2022-12-02T11:38:26.453Z"
      },
      {
        "duration": 268,
        "start_time": "2022-12-02T11:38:26.541Z"
      },
      {
        "duration": 34,
        "start_time": "2022-12-02T11:38:26.811Z"
      },
      {
        "duration": 23,
        "start_time": "2022-12-02T11:38:26.847Z"
      },
      {
        "duration": 68,
        "start_time": "2022-12-02T11:38:26.872Z"
      },
      {
        "duration": 440,
        "start_time": "2022-12-02T11:38:26.942Z"
      },
      {
        "duration": 6,
        "start_time": "2022-12-02T11:38:27.383Z"
      },
      {
        "duration": 146,
        "start_time": "2022-12-02T11:38:27.391Z"
      },
      {
        "duration": 28,
        "start_time": "2022-12-02T11:38:27.539Z"
      },
      {
        "duration": 91,
        "start_time": "2022-12-02T11:38:27.568Z"
      },
      {
        "duration": 106,
        "start_time": "2022-12-02T11:38:27.661Z"
      },
      {
        "duration": 14,
        "start_time": "2022-12-02T11:38:27.768Z"
      },
      {
        "duration": 80,
        "start_time": "2022-12-02T11:38:27.784Z"
      },
      {
        "duration": 7,
        "start_time": "2022-12-02T11:38:27.865Z"
      },
      {
        "duration": 16,
        "start_time": "2022-12-02T11:38:27.874Z"
      },
      {
        "duration": 38,
        "start_time": "2022-12-02T11:38:27.892Z"
      },
      {
        "duration": 181,
        "start_time": "2022-12-02T11:38:27.931Z"
      },
      {
        "duration": 22,
        "start_time": "2022-12-02T11:38:28.114Z"
      },
      {
        "duration": 321,
        "start_time": "2022-12-02T11:38:28.138Z"
      },
      {
        "duration": 76,
        "start_time": "2022-12-02T11:38:28.461Z"
      },
      {
        "duration": 23,
        "start_time": "2022-12-02T11:38:28.539Z"
      },
      {
        "duration": 40,
        "start_time": "2022-12-02T11:38:28.563Z"
      },
      {
        "duration": 4,
        "start_time": "2022-12-02T11:38:28.605Z"
      },
      {
        "duration": 12,
        "start_time": "2022-12-02T11:38:28.627Z"
      },
      {
        "duration": 35,
        "start_time": "2022-12-02T11:38:28.641Z"
      },
      {
        "duration": 32,
        "start_time": "2022-12-02T11:38:28.678Z"
      },
      {
        "duration": 363,
        "start_time": "2022-12-02T11:38:28.712Z"
      },
      {
        "duration": 253,
        "start_time": "2022-12-02T11:38:29.079Z"
      },
      {
        "duration": 21,
        "start_time": "2022-12-02T11:38:29.334Z"
      },
      {
        "duration": 37,
        "start_time": "2022-12-02T11:38:29.357Z"
      },
      {
        "duration": 42,
        "start_time": "2022-12-02T11:38:29.396Z"
      },
      {
        "duration": 36,
        "start_time": "2022-12-02T11:38:29.440Z"
      },
      {
        "duration": 39,
        "start_time": "2022-12-02T11:38:29.478Z"
      },
      {
        "duration": 47,
        "start_time": "2022-12-02T11:38:29.519Z"
      },
      {
        "duration": 45,
        "start_time": "2022-12-02T11:38:29.567Z"
      },
      {
        "duration": 4,
        "start_time": "2022-12-02T11:38:29.613Z"
      },
      {
        "duration": 87,
        "start_time": "2022-12-02T11:38:29.619Z"
      },
      {
        "duration": 50,
        "start_time": "2022-12-02T11:38:29.708Z"
      },
      {
        "duration": 46,
        "start_time": "2022-12-02T11:39:44.894Z"
      },
      {
        "duration": 13,
        "start_time": "2022-12-02T11:39:50.584Z"
      },
      {
        "duration": 18,
        "start_time": "2022-12-02T11:40:26.820Z"
      },
      {
        "duration": 13,
        "start_time": "2022-12-02T11:40:46.564Z"
      },
      {
        "duration": 25,
        "start_time": "2022-12-02T11:40:48.891Z"
      },
      {
        "duration": 12,
        "start_time": "2022-12-02T11:41:50.364Z"
      },
      {
        "duration": 11,
        "start_time": "2022-12-02T11:42:45.256Z"
      },
      {
        "duration": 21,
        "start_time": "2022-12-02T11:42:50.164Z"
      },
      {
        "duration": 26,
        "start_time": "2022-12-02T11:43:35.392Z"
      },
      {
        "duration": 12,
        "start_time": "2022-12-02T11:43:39.591Z"
      },
      {
        "duration": 10,
        "start_time": "2022-12-02T12:05:52.877Z"
      },
      {
        "duration": 21,
        "start_time": "2022-12-02T12:06:01.029Z"
      },
      {
        "duration": 15,
        "start_time": "2022-12-02T12:06:10.628Z"
      },
      {
        "duration": 4,
        "start_time": "2022-12-02T12:06:37.067Z"
      },
      {
        "duration": 126,
        "start_time": "2022-12-02T12:06:49.278Z"
      },
      {
        "duration": 25,
        "start_time": "2022-12-02T12:06:52.815Z"
      },
      {
        "duration": 25,
        "start_time": "2022-12-02T12:07:08.020Z"
      },
      {
        "duration": 24,
        "start_time": "2022-12-02T12:07:17.746Z"
      },
      {
        "duration": 22,
        "start_time": "2022-12-02T12:07:26.269Z"
      },
      {
        "duration": 1155,
        "start_time": "2022-12-02T12:08:31.253Z"
      },
      {
        "duration": 22,
        "start_time": "2022-12-02T12:09:09.695Z"
      },
      {
        "duration": 10,
        "start_time": "2022-12-02T12:09:12.808Z"
      },
      {
        "duration": 20,
        "start_time": "2022-12-02T12:09:13.463Z"
      },
      {
        "duration": 17,
        "start_time": "2022-12-02T12:09:14.232Z"
      },
      {
        "duration": 5,
        "start_time": "2022-12-02T12:09:19.108Z"
      },
      {
        "duration": 22,
        "start_time": "2022-12-02T12:09:19.681Z"
      },
      {
        "duration": 20,
        "start_time": "2022-12-02T12:09:24.382Z"
      },
      {
        "duration": 14,
        "start_time": "2022-12-02T12:09:38.381Z"
      },
      {
        "duration": 27,
        "start_time": "2022-12-02T12:09:44.288Z"
      },
      {
        "duration": 15,
        "start_time": "2022-12-02T12:09:48.460Z"
      },
      {
        "duration": 4,
        "start_time": "2022-12-02T12:09:52.568Z"
      },
      {
        "duration": 20,
        "start_time": "2022-12-02T12:09:53.129Z"
      },
      {
        "duration": 17,
        "start_time": "2022-12-02T12:10:03.321Z"
      },
      {
        "duration": 1201,
        "start_time": "2022-12-02T12:10:30.006Z"
      },
      {
        "duration": 28,
        "start_time": "2022-12-02T12:10:31.209Z"
      },
      {
        "duration": 69,
        "start_time": "2022-12-02T12:10:31.239Z"
      },
      {
        "duration": 526,
        "start_time": "2022-12-02T12:10:31.310Z"
      },
      {
        "duration": 26,
        "start_time": "2022-12-02T12:10:31.838Z"
      },
      {
        "duration": 23,
        "start_time": "2022-12-02T12:10:31.866Z"
      },
      {
        "duration": 40,
        "start_time": "2022-12-02T12:10:31.891Z"
      },
      {
        "duration": 64,
        "start_time": "2022-12-02T12:10:31.934Z"
      },
      {
        "duration": 35,
        "start_time": "2022-12-02T12:10:31.999Z"
      },
      {
        "duration": 118,
        "start_time": "2022-12-02T12:10:32.038Z"
      },
      {
        "duration": 7,
        "start_time": "2022-12-02T12:10:32.157Z"
      },
      {
        "duration": 96,
        "start_time": "2022-12-02T12:10:32.165Z"
      },
      {
        "duration": 9,
        "start_time": "2022-12-02T12:10:32.263Z"
      },
      {
        "duration": 69,
        "start_time": "2022-12-02T12:10:32.273Z"
      },
      {
        "duration": 264,
        "start_time": "2022-12-02T12:10:32.344Z"
      },
      {
        "duration": 19,
        "start_time": "2022-12-02T12:10:32.610Z"
      },
      {
        "duration": 35,
        "start_time": "2022-12-02T12:10:32.631Z"
      },
      {
        "duration": 55,
        "start_time": "2022-12-02T12:10:32.668Z"
      },
      {
        "duration": 455,
        "start_time": "2022-12-02T12:10:32.724Z"
      },
      {
        "duration": 7,
        "start_time": "2022-12-02T12:10:33.181Z"
      },
      {
        "duration": 124,
        "start_time": "2022-12-02T12:10:33.190Z"
      },
      {
        "duration": 28,
        "start_time": "2022-12-02T12:10:33.322Z"
      },
      {
        "duration": 93,
        "start_time": "2022-12-02T12:10:33.352Z"
      },
      {
        "duration": 107,
        "start_time": "2022-12-02T12:10:33.447Z"
      },
      {
        "duration": 17,
        "start_time": "2022-12-02T12:10:33.556Z"
      },
      {
        "duration": 78,
        "start_time": "2022-12-02T12:10:33.575Z"
      },
      {
        "duration": 7,
        "start_time": "2022-12-02T12:10:33.654Z"
      },
      {
        "duration": 32,
        "start_time": "2022-12-02T12:10:33.664Z"
      },
      {
        "duration": 33,
        "start_time": "2022-12-02T12:10:33.698Z"
      },
      {
        "duration": 178,
        "start_time": "2022-12-02T12:10:33.733Z"
      },
      {
        "duration": 12,
        "start_time": "2022-12-02T12:10:33.913Z"
      },
      {
        "duration": 407,
        "start_time": "2022-12-02T12:10:33.927Z"
      },
      {
        "duration": 53,
        "start_time": "2022-12-02T12:10:34.335Z"
      },
      {
        "duration": 36,
        "start_time": "2022-12-02T12:10:34.390Z"
      },
      {
        "duration": 52,
        "start_time": "2022-12-02T12:10:34.428Z"
      },
      {
        "duration": 61,
        "start_time": "2022-12-02T12:10:34.482Z"
      },
      {
        "duration": 4,
        "start_time": "2022-12-02T12:10:34.544Z"
      },
      {
        "duration": 26,
        "start_time": "2022-12-02T12:10:34.550Z"
      },
      {
        "duration": 34,
        "start_time": "2022-12-02T12:10:34.578Z"
      },
      {
        "duration": 24,
        "start_time": "2022-12-02T12:10:34.614Z"
      },
      {
        "duration": 353,
        "start_time": "2022-12-02T12:10:34.640Z"
      },
      {
        "duration": 226,
        "start_time": "2022-12-02T12:10:34.996Z"
      },
      {
        "duration": 29,
        "start_time": "2022-12-02T12:10:35.224Z"
      },
      {
        "duration": 22,
        "start_time": "2022-12-02T12:10:35.255Z"
      },
      {
        "duration": 31,
        "start_time": "2022-12-02T12:10:35.280Z"
      },
      {
        "duration": 13,
        "start_time": "2022-12-02T12:10:35.322Z"
      },
      {
        "duration": 34,
        "start_time": "2022-12-02T12:10:35.336Z"
      },
      {
        "duration": 44,
        "start_time": "2022-12-02T12:10:35.372Z"
      },
      {
        "duration": 16,
        "start_time": "2022-12-02T12:10:35.417Z"
      },
      {
        "duration": 5,
        "start_time": "2022-12-02T12:10:35.434Z"
      },
      {
        "duration": 37,
        "start_time": "2022-12-02T12:10:35.440Z"
      },
      {
        "duration": 39,
        "start_time": "2022-12-02T12:10:35.479Z"
      },
      {
        "duration": 1206,
        "start_time": "2022-12-02T12:15:06.394Z"
      },
      {
        "duration": 27,
        "start_time": "2022-12-02T12:15:07.602Z"
      },
      {
        "duration": 71,
        "start_time": "2022-12-02T12:15:07.630Z"
      },
      {
        "duration": 533,
        "start_time": "2022-12-02T12:15:07.703Z"
      },
      {
        "duration": 27,
        "start_time": "2022-12-02T12:15:08.238Z"
      },
      {
        "duration": 57,
        "start_time": "2022-12-02T12:15:08.267Z"
      },
      {
        "duration": 23,
        "start_time": "2022-12-02T12:15:08.326Z"
      },
      {
        "duration": 107,
        "start_time": "2022-12-02T12:15:08.351Z"
      },
      {
        "duration": 17,
        "start_time": "2022-12-02T12:15:08.459Z"
      },
      {
        "duration": 134,
        "start_time": "2022-12-02T12:15:08.477Z"
      },
      {
        "duration": 9,
        "start_time": "2022-12-02T12:15:08.613Z"
      },
      {
        "duration": 105,
        "start_time": "2022-12-02T12:15:08.624Z"
      },
      {
        "duration": 10,
        "start_time": "2022-12-02T12:15:08.731Z"
      },
      {
        "duration": 56,
        "start_time": "2022-12-02T12:15:08.744Z"
      },
      {
        "duration": 252,
        "start_time": "2022-12-02T12:15:08.821Z"
      },
      {
        "duration": 17,
        "start_time": "2022-12-02T12:15:09.075Z"
      },
      {
        "duration": 38,
        "start_time": "2022-12-02T12:15:09.094Z"
      },
      {
        "duration": 46,
        "start_time": "2022-12-02T12:15:09.134Z"
      },
      {
        "duration": 456,
        "start_time": "2022-12-02T12:15:09.182Z"
      },
      {
        "duration": 6,
        "start_time": "2022-12-02T12:15:09.640Z"
      },
      {
        "duration": 130,
        "start_time": "2022-12-02T12:15:09.648Z"
      },
      {
        "duration": 27,
        "start_time": "2022-12-02T12:15:09.779Z"
      },
      {
        "duration": 84,
        "start_time": "2022-12-02T12:15:09.822Z"
      },
      {
        "duration": 116,
        "start_time": "2022-12-02T12:15:09.907Z"
      },
      {
        "duration": 15,
        "start_time": "2022-12-02T12:15:10.025Z"
      },
      {
        "duration": 85,
        "start_time": "2022-12-02T12:15:10.041Z"
      },
      {
        "duration": 8,
        "start_time": "2022-12-02T12:15:10.128Z"
      },
      {
        "duration": 14,
        "start_time": "2022-12-02T12:15:10.137Z"
      },
      {
        "duration": 21,
        "start_time": "2022-12-02T12:15:10.153Z"
      },
      {
        "duration": 201,
        "start_time": "2022-12-02T12:15:10.176Z"
      },
      {
        "duration": 11,
        "start_time": "2022-12-02T12:15:10.379Z"
      },
      {
        "duration": 303,
        "start_time": "2022-12-02T12:15:10.392Z"
      },
      {
        "duration": 66,
        "start_time": "2022-12-02T12:15:10.697Z"
      },
      {
        "duration": 20,
        "start_time": "2022-12-02T12:15:10.765Z"
      },
      {
        "duration": 71,
        "start_time": "2022-12-02T12:15:10.787Z"
      },
      {
        "duration": 48,
        "start_time": "2022-12-02T12:15:10.859Z"
      },
      {
        "duration": 14,
        "start_time": "2022-12-02T12:15:10.908Z"
      },
      {
        "duration": 7,
        "start_time": "2022-12-02T12:15:10.924Z"
      },
      {
        "duration": 10,
        "start_time": "2022-12-02T12:15:10.933Z"
      },
      {
        "duration": 12,
        "start_time": "2022-12-02T12:15:10.945Z"
      },
      {
        "duration": 321,
        "start_time": "2022-12-02T12:15:10.961Z"
      },
      {
        "duration": 233,
        "start_time": "2022-12-02T12:15:11.283Z"
      },
      {
        "duration": 28,
        "start_time": "2022-12-02T12:15:11.518Z"
      },
      {
        "duration": 13,
        "start_time": "2022-12-02T12:15:11.547Z"
      },
      {
        "duration": 26,
        "start_time": "2022-12-02T12:15:11.561Z"
      },
      {
        "duration": 39,
        "start_time": "2022-12-02T12:15:11.589Z"
      },
      {
        "duration": 18,
        "start_time": "2022-12-02T12:15:11.630Z"
      },
      {
        "duration": 27,
        "start_time": "2022-12-02T12:15:11.651Z"
      },
      {
        "duration": 42,
        "start_time": "2022-12-02T12:15:11.681Z"
      },
      {
        "duration": 5,
        "start_time": "2022-12-02T12:15:11.725Z"
      },
      {
        "duration": 25,
        "start_time": "2022-12-02T12:15:11.731Z"
      },
      {
        "duration": 17,
        "start_time": "2022-12-02T12:15:11.758Z"
      },
      {
        "duration": 1397,
        "start_time": "2022-12-02T13:58:41.985Z"
      },
      {
        "duration": 85,
        "start_time": "2022-12-02T13:58:43.384Z"
      },
      {
        "duration": 130,
        "start_time": "2022-12-02T13:58:43.471Z"
      },
      {
        "duration": 673,
        "start_time": "2022-12-02T13:58:43.604Z"
      },
      {
        "duration": 80,
        "start_time": "2022-12-02T13:58:44.279Z"
      },
      {
        "duration": 21,
        "start_time": "2022-12-02T13:58:44.361Z"
      },
      {
        "duration": 24,
        "start_time": "2022-12-02T13:58:44.384Z"
      },
      {
        "duration": 65,
        "start_time": "2022-12-02T13:58:44.410Z"
      },
      {
        "duration": 17,
        "start_time": "2022-12-02T13:58:44.477Z"
      },
      {
        "duration": 111,
        "start_time": "2022-12-02T13:58:44.514Z"
      },
      {
        "duration": 6,
        "start_time": "2022-12-02T13:58:44.626Z"
      },
      {
        "duration": 98,
        "start_time": "2022-12-02T13:58:44.634Z"
      },
      {
        "duration": 9,
        "start_time": "2022-12-02T13:58:44.733Z"
      },
      {
        "duration": 75,
        "start_time": "2022-12-02T13:58:44.744Z"
      },
      {
        "duration": 273,
        "start_time": "2022-12-02T13:58:44.821Z"
      },
      {
        "duration": 24,
        "start_time": "2022-12-02T13:58:45.096Z"
      },
      {
        "duration": 26,
        "start_time": "2022-12-02T13:58:45.122Z"
      },
      {
        "duration": 85,
        "start_time": "2022-12-02T13:58:45.150Z"
      },
      {
        "duration": 503,
        "start_time": "2022-12-02T13:58:45.237Z"
      },
      {
        "duration": 6,
        "start_time": "2022-12-02T13:58:45.742Z"
      },
      {
        "duration": 133,
        "start_time": "2022-12-02T13:58:45.751Z"
      },
      {
        "duration": 33,
        "start_time": "2022-12-02T13:58:45.886Z"
      },
      {
        "duration": 128,
        "start_time": "2022-12-02T13:58:45.920Z"
      },
      {
        "duration": 135,
        "start_time": "2022-12-02T13:58:46.050Z"
      },
      {
        "duration": 16,
        "start_time": "2022-12-02T13:58:46.187Z"
      },
      {
        "duration": 87,
        "start_time": "2022-12-02T13:58:46.213Z"
      },
      {
        "duration": 12,
        "start_time": "2022-12-02T13:58:46.301Z"
      },
      {
        "duration": 39,
        "start_time": "2022-12-02T13:58:46.317Z"
      },
      {
        "duration": 60,
        "start_time": "2022-12-02T13:58:46.358Z"
      },
      {
        "duration": 220,
        "start_time": "2022-12-02T13:58:46.421Z"
      },
      {
        "duration": 13,
        "start_time": "2022-12-02T13:58:46.644Z"
      },
      {
        "duration": 347,
        "start_time": "2022-12-02T13:58:46.659Z"
      },
      {
        "duration": 53,
        "start_time": "2022-12-02T13:58:47.011Z"
      },
      {
        "duration": 22,
        "start_time": "2022-12-02T13:58:47.066Z"
      },
      {
        "duration": 70,
        "start_time": "2022-12-02T13:58:47.089Z"
      },
      {
        "duration": 53,
        "start_time": "2022-12-02T13:58:47.161Z"
      },
      {
        "duration": 4,
        "start_time": "2022-12-02T13:58:47.216Z"
      },
      {
        "duration": 27,
        "start_time": "2022-12-02T13:58:47.222Z"
      },
      {
        "duration": 57,
        "start_time": "2022-12-02T13:58:47.250Z"
      },
      {
        "duration": 30,
        "start_time": "2022-12-02T13:58:47.308Z"
      },
      {
        "duration": 352,
        "start_time": "2022-12-02T13:58:47.340Z"
      },
      {
        "duration": 233,
        "start_time": "2022-12-02T13:58:47.693Z"
      },
      {
        "duration": 30,
        "start_time": "2022-12-02T13:58:47.928Z"
      },
      {
        "duration": 12,
        "start_time": "2022-12-02T13:58:47.960Z"
      },
      {
        "duration": 58,
        "start_time": "2022-12-02T13:58:47.974Z"
      },
      {
        "duration": 14,
        "start_time": "2022-12-02T13:58:48.033Z"
      },
      {
        "duration": 46,
        "start_time": "2022-12-02T13:58:48.049Z"
      },
      {
        "duration": 51,
        "start_time": "2022-12-02T13:58:48.096Z"
      },
      {
        "duration": 16,
        "start_time": "2022-12-02T13:58:48.148Z"
      },
      {
        "duration": 21,
        "start_time": "2022-12-02T13:58:48.165Z"
      },
      {
        "duration": 42,
        "start_time": "2022-12-02T13:58:48.188Z"
      },
      {
        "duration": 33,
        "start_time": "2022-12-02T13:58:48.232Z"
      },
      {
        "duration": 484,
        "start_time": "2022-12-02T14:00:01.370Z"
      },
      {
        "duration": 6,
        "start_time": "2022-12-02T14:00:21.236Z"
      },
      {
        "duration": 5,
        "start_time": "2022-12-02T14:02:26.734Z"
      },
      {
        "duration": 53,
        "start_time": "2022-12-02T14:02:26.742Z"
      },
      {
        "duration": 79,
        "start_time": "2022-12-02T14:02:26.797Z"
      },
      {
        "duration": 494,
        "start_time": "2022-12-02T14:02:26.879Z"
      },
      {
        "duration": 29,
        "start_time": "2022-12-02T14:02:27.375Z"
      },
      {
        "duration": 18,
        "start_time": "2022-12-02T14:02:27.406Z"
      },
      {
        "duration": 26,
        "start_time": "2022-12-02T14:02:27.427Z"
      },
      {
        "duration": 88,
        "start_time": "2022-12-02T14:02:27.456Z"
      },
      {
        "duration": 20,
        "start_time": "2022-12-02T14:02:27.546Z"
      },
      {
        "duration": 132,
        "start_time": "2022-12-02T14:02:27.569Z"
      },
      {
        "duration": 11,
        "start_time": "2022-12-02T14:02:27.703Z"
      },
      {
        "duration": 52,
        "start_time": "2022-12-02T14:02:27.716Z"
      },
      {
        "duration": 6,
        "start_time": "2022-12-02T14:02:27.770Z"
      },
      {
        "duration": 97,
        "start_time": "2022-12-02T14:02:27.778Z"
      },
      {
        "duration": 225,
        "start_time": "2022-12-02T14:02:27.877Z"
      },
      {
        "duration": 21,
        "start_time": "2022-12-02T14:02:28.104Z"
      },
      {
        "duration": 90,
        "start_time": "2022-12-02T14:02:28.127Z"
      },
      {
        "duration": 97,
        "start_time": "2022-12-02T14:02:28.219Z"
      },
      {
        "duration": 418,
        "start_time": "2022-12-02T14:02:28.318Z"
      },
      {
        "duration": 7,
        "start_time": "2022-12-02T14:02:28.738Z"
      },
      {
        "duration": 145,
        "start_time": "2022-12-02T14:02:28.747Z"
      },
      {
        "duration": 32,
        "start_time": "2022-12-02T14:02:28.894Z"
      },
      {
        "duration": 105,
        "start_time": "2022-12-02T14:02:28.928Z"
      },
      {
        "duration": 61,
        "start_time": "2022-12-02T14:02:29.035Z"
      },
      {
        "duration": 27,
        "start_time": "2022-12-02T14:02:29.098Z"
      },
      {
        "duration": 93,
        "start_time": "2022-12-02T14:02:29.128Z"
      },
      {
        "duration": 8,
        "start_time": "2022-12-02T14:02:29.223Z"
      },
      {
        "duration": 12,
        "start_time": "2022-12-02T14:02:29.235Z"
      },
      {
        "duration": 27,
        "start_time": "2022-12-02T14:02:29.249Z"
      },
      {
        "duration": 15,
        "start_time": "2022-12-02T14:02:29.311Z"
      },
      {
        "duration": 31,
        "start_time": "2022-12-02T14:02:29.329Z"
      },
      {
        "duration": 282,
        "start_time": "2022-12-02T14:02:29.362Z"
      },
      {
        "duration": 68,
        "start_time": "2022-12-02T14:02:29.646Z"
      },
      {
        "duration": 23,
        "start_time": "2022-12-02T14:02:29.716Z"
      },
      {
        "duration": 76,
        "start_time": "2022-12-02T14:02:29.740Z"
      },
      {
        "duration": 43,
        "start_time": "2022-12-02T14:02:29.818Z"
      },
      {
        "duration": 4,
        "start_time": "2022-12-02T14:02:29.863Z"
      },
      {
        "duration": 52,
        "start_time": "2022-12-02T14:02:29.869Z"
      },
      {
        "duration": 37,
        "start_time": "2022-12-02T14:02:29.923Z"
      },
      {
        "duration": 32,
        "start_time": "2022-12-02T14:02:29.962Z"
      },
      {
        "duration": 252,
        "start_time": "2022-12-02T14:02:29.996Z"
      },
      {
        "duration": 238,
        "start_time": "2022-12-02T14:02:30.251Z"
      },
      {
        "duration": 35,
        "start_time": "2022-12-02T14:02:30.491Z"
      },
      {
        "duration": 135,
        "start_time": "2022-12-02T14:02:30.528Z"
      },
      {
        "duration": 50,
        "start_time": "2022-12-02T14:02:30.665Z"
      },
      {
        "duration": 15,
        "start_time": "2022-12-02T14:02:30.717Z"
      },
      {
        "duration": 70,
        "start_time": "2022-12-02T14:02:30.733Z"
      },
      {
        "duration": 40,
        "start_time": "2022-12-02T14:02:30.804Z"
      },
      {
        "duration": 35,
        "start_time": "2022-12-02T14:02:30.846Z"
      },
      {
        "duration": 46,
        "start_time": "2022-12-02T14:02:30.883Z"
      },
      {
        "duration": 55,
        "start_time": "2022-12-02T14:02:30.931Z"
      },
      {
        "duration": 25,
        "start_time": "2022-12-02T14:02:30.988Z"
      },
      {
        "duration": 128,
        "start_time": "2022-12-02T14:07:15.970Z"
      },
      {
        "duration": 16,
        "start_time": "2022-12-02T14:07:44.049Z"
      },
      {
        "duration": 17,
        "start_time": "2022-12-02T14:08:43.613Z"
      },
      {
        "duration": 20,
        "start_time": "2022-12-02T14:08:53.705Z"
      },
      {
        "duration": 18,
        "start_time": "2022-12-02T14:10:34.694Z"
      },
      {
        "duration": 24,
        "start_time": "2022-12-02T14:11:16.355Z"
      },
      {
        "duration": 21,
        "start_time": "2022-12-02T14:11:24.899Z"
      },
      {
        "duration": 18,
        "start_time": "2022-12-02T14:11:53.882Z"
      },
      {
        "duration": 21,
        "start_time": "2022-12-02T14:12:01.194Z"
      },
      {
        "duration": 18,
        "start_time": "2022-12-02T14:15:57.887Z"
      },
      {
        "duration": 22,
        "start_time": "2022-12-02T14:16:22.361Z"
      },
      {
        "duration": 26,
        "start_time": "2022-12-02T14:18:33.646Z"
      },
      {
        "duration": 21,
        "start_time": "2022-12-02T14:18:51.147Z"
      },
      {
        "duration": 18,
        "start_time": "2022-12-02T14:19:05.689Z"
      },
      {
        "duration": 16,
        "start_time": "2022-12-02T14:19:44.499Z"
      },
      {
        "duration": 13,
        "start_time": "2022-12-02T14:21:42.689Z"
      },
      {
        "duration": 18,
        "start_time": "2022-12-02T14:21:54.127Z"
      },
      {
        "duration": 18,
        "start_time": "2022-12-02T14:25:17.641Z"
      },
      {
        "duration": 18,
        "start_time": "2022-12-02T14:33:21.325Z"
      },
      {
        "duration": 19,
        "start_time": "2022-12-02T14:34:03.301Z"
      },
      {
        "duration": 808,
        "start_time": "2022-12-02T14:34:24.169Z"
      },
      {
        "duration": 20,
        "start_time": "2022-12-02T14:34:40.624Z"
      },
      {
        "duration": 19,
        "start_time": "2022-12-02T14:34:51.186Z"
      },
      {
        "duration": 12,
        "start_time": "2022-12-02T14:35:08.986Z"
      },
      {
        "duration": 19,
        "start_time": "2022-12-02T14:35:47.891Z"
      },
      {
        "duration": 19,
        "start_time": "2022-12-02T14:36:12.153Z"
      },
      {
        "duration": 19,
        "start_time": "2022-12-02T14:38:24.826Z"
      },
      {
        "duration": 19,
        "start_time": "2022-12-02T14:38:50.960Z"
      },
      {
        "duration": 19,
        "start_time": "2022-12-02T14:39:14.212Z"
      },
      {
        "duration": 18,
        "start_time": "2022-12-02T14:39:55.557Z"
      },
      {
        "duration": 19,
        "start_time": "2022-12-02T14:40:16.016Z"
      },
      {
        "duration": 19,
        "start_time": "2022-12-02T14:40:27.132Z"
      },
      {
        "duration": 19,
        "start_time": "2022-12-02T14:40:32.613Z"
      },
      {
        "duration": 21,
        "start_time": "2022-12-02T14:40:41.194Z"
      },
      {
        "duration": 19,
        "start_time": "2022-12-02T14:40:55.257Z"
      },
      {
        "duration": 18,
        "start_time": "2022-12-02T14:41:03.675Z"
      },
      {
        "duration": 812,
        "start_time": "2022-12-02T14:42:01.885Z"
      },
      {
        "duration": 16,
        "start_time": "2022-12-02T14:42:14.891Z"
      },
      {
        "duration": 16,
        "start_time": "2022-12-02T14:42:35.821Z"
      },
      {
        "duration": 18,
        "start_time": "2022-12-02T14:42:41.571Z"
      },
      {
        "duration": 19,
        "start_time": "2022-12-02T14:42:52.891Z"
      },
      {
        "duration": 13,
        "start_time": "2022-12-02T14:43:01.091Z"
      },
      {
        "duration": 18,
        "start_time": "2022-12-02T14:43:34.447Z"
      },
      {
        "duration": 10,
        "start_time": "2022-12-02T14:45:24.289Z"
      },
      {
        "duration": 84,
        "start_time": "2022-12-02T14:45:46.151Z"
      },
      {
        "duration": 496,
        "start_time": "2022-12-02T14:46:01.080Z"
      },
      {
        "duration": 1231,
        "start_time": "2022-12-02T14:48:53.040Z"
      },
      {
        "duration": 31,
        "start_time": "2022-12-02T14:48:54.273Z"
      },
      {
        "duration": 76,
        "start_time": "2022-12-02T14:48:54.306Z"
      },
      {
        "duration": 514,
        "start_time": "2022-12-02T14:48:54.384Z"
      },
      {
        "duration": 41,
        "start_time": "2022-12-02T14:48:54.901Z"
      },
      {
        "duration": 20,
        "start_time": "2022-12-02T14:48:54.943Z"
      },
      {
        "duration": 31,
        "start_time": "2022-12-02T14:48:54.965Z"
      },
      {
        "duration": 67,
        "start_time": "2022-12-02T14:48:54.997Z"
      },
      {
        "duration": 16,
        "start_time": "2022-12-02T14:48:55.066Z"
      },
      {
        "duration": 124,
        "start_time": "2022-12-02T14:48:55.083Z"
      },
      {
        "duration": 7,
        "start_time": "2022-12-02T14:48:55.209Z"
      },
      {
        "duration": 107,
        "start_time": "2022-12-02T14:48:55.218Z"
      },
      {
        "duration": 8,
        "start_time": "2022-12-02T14:48:55.327Z"
      },
      {
        "duration": 66,
        "start_time": "2022-12-02T14:48:55.338Z"
      },
      {
        "duration": 243,
        "start_time": "2022-12-02T14:48:55.406Z"
      },
      {
        "duration": 17,
        "start_time": "2022-12-02T14:48:55.651Z"
      },
      {
        "duration": 36,
        "start_time": "2022-12-02T14:48:55.670Z"
      },
      {
        "duration": 49,
        "start_time": "2022-12-02T14:48:55.712Z"
      },
      {
        "duration": 460,
        "start_time": "2022-12-02T14:48:55.763Z"
      },
      {
        "duration": 6,
        "start_time": "2022-12-02T14:48:56.224Z"
      },
      {
        "duration": 147,
        "start_time": "2022-12-02T14:48:56.231Z"
      },
      {
        "duration": 35,
        "start_time": "2022-12-02T14:48:56.380Z"
      },
      {
        "duration": 96,
        "start_time": "2022-12-02T14:48:56.417Z"
      },
      {
        "duration": 123,
        "start_time": "2022-12-02T14:48:56.515Z"
      },
      {
        "duration": 18,
        "start_time": "2022-12-02T14:48:56.641Z"
      },
      {
        "duration": 111,
        "start_time": "2022-12-02T14:48:56.661Z"
      },
      {
        "duration": 8,
        "start_time": "2022-12-02T14:48:56.774Z"
      },
      {
        "duration": 33,
        "start_time": "2022-12-02T14:48:56.784Z"
      },
      {
        "duration": 22,
        "start_time": "2022-12-02T14:48:56.818Z"
      },
      {
        "duration": 182,
        "start_time": "2022-12-02T14:48:56.842Z"
      },
      {
        "duration": 12,
        "start_time": "2022-12-02T14:48:57.026Z"
      },
      {
        "duration": 336,
        "start_time": "2022-12-02T14:48:57.040Z"
      },
      {
        "duration": 57,
        "start_time": "2022-12-02T14:48:57.378Z"
      },
      {
        "duration": 21,
        "start_time": "2022-12-02T14:48:57.437Z"
      },
      {
        "duration": 65,
        "start_time": "2022-12-02T14:48:57.459Z"
      },
      {
        "duration": 42,
        "start_time": "2022-12-02T14:48:57.526Z"
      },
      {
        "duration": 9,
        "start_time": "2022-12-02T14:48:57.570Z"
      },
      {
        "duration": 32,
        "start_time": "2022-12-02T14:48:57.581Z"
      },
      {
        "duration": 40,
        "start_time": "2022-12-02T14:48:57.615Z"
      },
      {
        "duration": 60,
        "start_time": "2022-12-02T14:48:57.657Z"
      },
      {
        "duration": 343,
        "start_time": "2022-12-02T14:48:57.722Z"
      },
      {
        "duration": 247,
        "start_time": "2022-12-02T14:48:58.067Z"
      },
      {
        "duration": 31,
        "start_time": "2022-12-02T14:48:58.316Z"
      },
      {
        "duration": 13,
        "start_time": "2022-12-02T14:48:58.348Z"
      },
      {
        "duration": 30,
        "start_time": "2022-12-02T14:48:58.363Z"
      },
      {
        "duration": 16,
        "start_time": "2022-12-02T14:48:58.412Z"
      },
      {
        "duration": 16,
        "start_time": "2022-12-02T14:48:58.430Z"
      },
      {
        "duration": 27,
        "start_time": "2022-12-02T14:48:58.448Z"
      },
      {
        "duration": 46,
        "start_time": "2022-12-02T14:48:58.477Z"
      },
      {
        "duration": 4,
        "start_time": "2022-12-02T14:48:58.524Z"
      },
      {
        "duration": 23,
        "start_time": "2022-12-02T14:48:58.530Z"
      },
      {
        "duration": 17,
        "start_time": "2022-12-02T14:48:58.555Z"
      },
      {
        "duration": 31,
        "start_time": "2022-12-02T14:49:22.161Z"
      },
      {
        "duration": 30,
        "start_time": "2022-12-02T14:50:41.885Z"
      },
      {
        "duration": 15,
        "start_time": "2022-12-02T14:50:43.046Z"
      },
      {
        "duration": 1227,
        "start_time": "2022-12-03T05:24:10.787Z"
      },
      {
        "duration": 73,
        "start_time": "2022-12-03T05:24:12.016Z"
      },
      {
        "duration": 122,
        "start_time": "2022-12-03T05:24:12.090Z"
      },
      {
        "duration": 548,
        "start_time": "2022-12-03T05:24:12.214Z"
      },
      {
        "duration": 79,
        "start_time": "2022-12-03T05:24:12.763Z"
      },
      {
        "duration": 18,
        "start_time": "2022-12-03T05:24:12.844Z"
      },
      {
        "duration": 22,
        "start_time": "2022-12-03T05:24:12.863Z"
      },
      {
        "duration": 63,
        "start_time": "2022-12-03T05:24:12.886Z"
      },
      {
        "duration": 15,
        "start_time": "2022-12-03T05:24:12.950Z"
      },
      {
        "duration": 110,
        "start_time": "2022-12-03T05:24:12.968Z"
      },
      {
        "duration": 6,
        "start_time": "2022-12-03T05:24:13.079Z"
      },
      {
        "duration": 78,
        "start_time": "2022-12-03T05:24:13.097Z"
      },
      {
        "duration": 7,
        "start_time": "2022-12-03T05:24:13.176Z"
      },
      {
        "duration": 90,
        "start_time": "2022-12-03T05:24:13.184Z"
      },
      {
        "duration": 185,
        "start_time": "2022-12-03T05:24:13.275Z"
      },
      {
        "duration": 15,
        "start_time": "2022-12-03T05:24:13.461Z"
      },
      {
        "duration": 29,
        "start_time": "2022-12-03T05:24:13.478Z"
      },
      {
        "duration": 48,
        "start_time": "2022-12-03T05:24:13.508Z"
      },
      {
        "duration": 377,
        "start_time": "2022-12-03T05:24:13.557Z"
      },
      {
        "duration": 6,
        "start_time": "2022-12-03T05:24:13.936Z"
      },
      {
        "duration": 115,
        "start_time": "2022-12-03T05:24:13.943Z"
      },
      {
        "duration": 39,
        "start_time": "2022-12-03T05:24:14.059Z"
      },
      {
        "duration": 70,
        "start_time": "2022-12-03T05:24:14.100Z"
      },
      {
        "duration": 99,
        "start_time": "2022-12-03T05:24:14.171Z"
      },
      {
        "duration": 11,
        "start_time": "2022-12-03T05:24:14.271Z"
      },
      {
        "duration": 58,
        "start_time": "2022-12-03T05:24:14.283Z"
      },
      {
        "duration": 6,
        "start_time": "2022-12-03T05:24:14.342Z"
      },
      {
        "duration": 8,
        "start_time": "2022-12-03T05:24:14.351Z"
      },
      {
        "duration": 13,
        "start_time": "2022-12-03T05:24:14.360Z"
      },
      {
        "duration": 511,
        "start_time": "2022-12-03T05:24:14.398Z"
      },
      {
        "duration": 10,
        "start_time": "2022-12-03T05:24:14.910Z"
      },
      {
        "duration": 301,
        "start_time": "2022-12-03T05:24:14.922Z"
      },
      {
        "duration": 45,
        "start_time": "2022-12-03T05:24:15.225Z"
      },
      {
        "duration": 30,
        "start_time": "2022-12-03T05:24:15.271Z"
      },
      {
        "duration": 43,
        "start_time": "2022-12-03T05:24:15.303Z"
      },
      {
        "duration": 60,
        "start_time": "2022-12-03T05:24:15.348Z"
      },
      {
        "duration": 4,
        "start_time": "2022-12-03T05:24:15.409Z"
      },
      {
        "duration": 8,
        "start_time": "2022-12-03T05:24:15.415Z"
      },
      {
        "duration": 3,
        "start_time": "2022-12-03T05:24:15.425Z"
      },
      {
        "duration": 17,
        "start_time": "2022-12-03T05:24:15.429Z"
      },
      {
        "duration": 290,
        "start_time": "2022-12-03T05:24:15.447Z"
      },
      {
        "duration": 185,
        "start_time": "2022-12-03T05:24:15.738Z"
      },
      {
        "duration": 27,
        "start_time": "2022-12-03T05:24:15.924Z"
      },
      {
        "duration": 11,
        "start_time": "2022-12-03T05:24:15.953Z"
      },
      {
        "duration": 34,
        "start_time": "2022-12-03T05:24:15.965Z"
      },
      {
        "duration": 10,
        "start_time": "2022-12-03T05:24:16.000Z"
      },
      {
        "duration": 14,
        "start_time": "2022-12-03T05:24:16.011Z"
      },
      {
        "duration": 21,
        "start_time": "2022-12-03T05:24:16.027Z"
      },
      {
        "duration": 13,
        "start_time": "2022-12-03T05:24:16.049Z"
      },
      {
        "duration": 3,
        "start_time": "2022-12-03T05:24:16.063Z"
      },
      {
        "duration": 16,
        "start_time": "2022-12-03T05:24:16.098Z"
      },
      {
        "duration": 26,
        "start_time": "2022-12-03T05:24:16.115Z"
      },
      {
        "duration": 1342,
        "start_time": "2022-12-03T06:04:32.423Z"
      },
      {
        "duration": 80,
        "start_time": "2022-12-03T06:04:33.767Z"
      },
      {
        "duration": 272,
        "start_time": "2022-12-03T06:04:33.849Z"
      },
      {
        "duration": 1516,
        "start_time": "2022-12-03T06:04:34.124Z"
      },
      {
        "duration": 123,
        "start_time": "2022-12-03T06:04:35.641Z"
      },
      {
        "duration": 18,
        "start_time": "2022-12-03T06:04:35.765Z"
      },
      {
        "duration": 39,
        "start_time": "2022-12-03T06:04:35.784Z"
      },
      {
        "duration": 74,
        "start_time": "2022-12-03T06:04:35.825Z"
      },
      {
        "duration": 35,
        "start_time": "2022-12-03T06:04:35.900Z"
      },
      {
        "duration": 116,
        "start_time": "2022-12-03T06:04:35.939Z"
      },
      {
        "duration": 7,
        "start_time": "2022-12-03T06:04:36.057Z"
      },
      {
        "duration": 92,
        "start_time": "2022-12-03T06:04:36.066Z"
      },
      {
        "duration": 8,
        "start_time": "2022-12-03T06:04:36.160Z"
      },
      {
        "duration": 68,
        "start_time": "2022-12-03T06:04:36.170Z"
      },
      {
        "duration": 222,
        "start_time": "2022-12-03T06:04:36.240Z"
      },
      {
        "duration": 16,
        "start_time": "2022-12-03T06:04:36.464Z"
      },
      {
        "duration": 43,
        "start_time": "2022-12-03T06:04:36.481Z"
      },
      {
        "duration": 46,
        "start_time": "2022-12-03T06:04:36.525Z"
      },
      {
        "duration": 416,
        "start_time": "2022-12-03T06:04:36.573Z"
      },
      {
        "duration": 8,
        "start_time": "2022-12-03T06:04:36.991Z"
      },
      {
        "duration": 125,
        "start_time": "2022-12-03T06:04:37.001Z"
      },
      {
        "duration": 26,
        "start_time": "2022-12-03T06:04:37.127Z"
      },
      {
        "duration": 89,
        "start_time": "2022-12-03T06:04:37.155Z"
      },
      {
        "duration": 102,
        "start_time": "2022-12-03T06:04:37.246Z"
      },
      {
        "duration": 13,
        "start_time": "2022-12-03T06:04:37.350Z"
      },
      {
        "duration": 78,
        "start_time": "2022-12-03T06:04:37.365Z"
      },
      {
        "duration": 6,
        "start_time": "2022-12-03T06:04:37.445Z"
      },
      {
        "duration": 11,
        "start_time": "2022-12-03T06:04:37.454Z"
      },
      {
        "duration": 19,
        "start_time": "2022-12-03T06:04:37.466Z"
      },
      {
        "duration": 181,
        "start_time": "2022-12-03T06:04:37.487Z"
      },
      {
        "duration": 11,
        "start_time": "2022-12-03T06:04:37.670Z"
      },
      {
        "duration": 336,
        "start_time": "2022-12-03T06:04:37.682Z"
      },
      {
        "duration": 52,
        "start_time": "2022-12-03T06:04:38.022Z"
      },
      {
        "duration": 21,
        "start_time": "2022-12-03T06:04:38.076Z"
      },
      {
        "duration": 69,
        "start_time": "2022-12-03T06:04:38.099Z"
      },
      {
        "duration": 39,
        "start_time": "2022-12-03T06:04:38.169Z"
      },
      {
        "duration": 16,
        "start_time": "2022-12-03T06:04:38.209Z"
      },
      {
        "duration": 10,
        "start_time": "2022-12-03T06:04:38.227Z"
      },
      {
        "duration": 5,
        "start_time": "2022-12-03T06:04:38.239Z"
      },
      {
        "duration": 14,
        "start_time": "2022-12-03T06:04:38.246Z"
      },
      {
        "duration": 321,
        "start_time": "2022-12-03T06:04:38.262Z"
      },
      {
        "duration": 213,
        "start_time": "2022-12-03T06:04:38.584Z"
      },
      {
        "duration": 35,
        "start_time": "2022-12-03T06:04:38.799Z"
      },
      {
        "duration": 11,
        "start_time": "2022-12-03T06:04:38.836Z"
      },
      {
        "duration": 34,
        "start_time": "2022-12-03T06:04:38.852Z"
      },
      {
        "duration": 34,
        "start_time": "2022-12-03T06:04:38.888Z"
      },
      {
        "duration": 12,
        "start_time": "2022-12-03T06:04:38.924Z"
      },
      {
        "duration": 27,
        "start_time": "2022-12-03T06:04:38.937Z"
      },
      {
        "duration": 17,
        "start_time": "2022-12-03T06:04:38.966Z"
      },
      {
        "duration": 4,
        "start_time": "2022-12-03T06:04:38.985Z"
      },
      {
        "duration": 20,
        "start_time": "2022-12-03T06:04:39.022Z"
      },
      {
        "duration": 21,
        "start_time": "2022-12-03T06:04:39.043Z"
      },
      {
        "duration": 3,
        "start_time": "2022-12-03T06:08:11.028Z"
      },
      {
        "duration": 120,
        "start_time": "2022-12-03T06:08:43.217Z"
      },
      {
        "duration": 14,
        "start_time": "2022-12-03T06:09:09.088Z"
      },
      {
        "duration": 10,
        "start_time": "2022-12-03T06:09:35.881Z"
      },
      {
        "duration": 9,
        "start_time": "2022-12-03T06:10:08.437Z"
      },
      {
        "duration": 11,
        "start_time": "2022-12-03T06:11:09.435Z"
      },
      {
        "duration": 17,
        "start_time": "2022-12-03T06:11:14.076Z"
      },
      {
        "duration": 4,
        "start_time": "2022-12-03T06:11:35.586Z"
      },
      {
        "duration": 6,
        "start_time": "2022-12-03T06:11:55.634Z"
      },
      {
        "duration": 13,
        "start_time": "2022-12-03T06:12:06.335Z"
      },
      {
        "duration": 17,
        "start_time": "2022-12-03T06:14:35.953Z"
      },
      {
        "duration": 64,
        "start_time": "2022-12-03T06:14:40.408Z"
      },
      {
        "duration": 8,
        "start_time": "2022-12-03T06:14:41.061Z"
      },
      {
        "duration": 21,
        "start_time": "2022-12-03T06:14:45.197Z"
      },
      {
        "duration": 17,
        "start_time": "2022-12-03T06:21:36.697Z"
      },
      {
        "duration": 5,
        "start_time": "2022-12-03T06:21:46.988Z"
      },
      {
        "duration": 43,
        "start_time": "2022-12-03T06:21:46.995Z"
      },
      {
        "duration": 64,
        "start_time": "2022-12-03T06:21:47.040Z"
      },
      {
        "duration": 456,
        "start_time": "2022-12-03T06:21:47.105Z"
      },
      {
        "duration": 25,
        "start_time": "2022-12-03T06:21:47.564Z"
      },
      {
        "duration": 16,
        "start_time": "2022-12-03T06:21:47.590Z"
      },
      {
        "duration": 40,
        "start_time": "2022-12-03T06:21:47.609Z"
      },
      {
        "duration": 63,
        "start_time": "2022-12-03T06:21:47.651Z"
      },
      {
        "duration": 23,
        "start_time": "2022-12-03T06:21:47.726Z"
      },
      {
        "duration": 140,
        "start_time": "2022-12-03T06:21:47.751Z"
      },
      {
        "duration": 6,
        "start_time": "2022-12-03T06:21:47.893Z"
      },
      {
        "duration": 59,
        "start_time": "2022-12-03T06:21:47.900Z"
      },
      {
        "duration": 6,
        "start_time": "2022-12-03T06:21:47.961Z"
      },
      {
        "duration": 71,
        "start_time": "2022-12-03T06:21:47.970Z"
      },
      {
        "duration": 254,
        "start_time": "2022-12-03T06:21:48.043Z"
      },
      {
        "duration": 26,
        "start_time": "2022-12-03T06:21:48.299Z"
      },
      {
        "duration": 35,
        "start_time": "2022-12-03T06:21:48.328Z"
      },
      {
        "duration": 73,
        "start_time": "2022-12-03T06:21:48.366Z"
      },
      {
        "duration": 408,
        "start_time": "2022-12-03T06:21:48.443Z"
      },
      {
        "duration": 6,
        "start_time": "2022-12-03T06:21:48.853Z"
      },
      {
        "duration": 115,
        "start_time": "2022-12-03T06:21:48.861Z"
      },
      {
        "duration": 31,
        "start_time": "2022-12-03T06:21:48.977Z"
      },
      {
        "duration": 82,
        "start_time": "2022-12-03T06:21:49.025Z"
      },
      {
        "duration": 98,
        "start_time": "2022-12-03T06:21:49.108Z"
      },
      {
        "duration": 24,
        "start_time": "2022-12-03T06:21:49.208Z"
      },
      {
        "duration": 64,
        "start_time": "2022-12-03T06:21:49.234Z"
      },
      {
        "duration": 26,
        "start_time": "2022-12-03T06:21:49.300Z"
      },
      {
        "duration": 13,
        "start_time": "2022-12-03T06:21:49.329Z"
      },
      {
        "duration": 34,
        "start_time": "2022-12-03T06:21:49.344Z"
      },
      {
        "duration": 76,
        "start_time": "2022-12-03T06:24:53.402Z"
      },
      {
        "duration": 64,
        "start_time": "2022-12-03T06:25:38.688Z"
      },
      {
        "duration": 57,
        "start_time": "2022-12-03T06:26:10.737Z"
      },
      {
        "duration": 5,
        "start_time": "2022-12-03T06:26:35.488Z"
      },
      {
        "duration": 6,
        "start_time": "2022-12-03T06:26:58.592Z"
      },
      {
        "duration": 12,
        "start_time": "2022-12-03T06:27:26.531Z"
      },
      {
        "duration": 7,
        "start_time": "2022-12-03T06:27:35.983Z"
      },
      {
        "duration": 18,
        "start_time": "2022-12-03T06:28:00.735Z"
      },
      {
        "duration": 84,
        "start_time": "2022-12-03T06:28:25.169Z"
      },
      {
        "duration": 11,
        "start_time": "2022-12-03T06:28:31.484Z"
      },
      {
        "duration": 8,
        "start_time": "2022-12-03T06:28:32.969Z"
      },
      {
        "duration": 22,
        "start_time": "2022-12-03T06:28:34.992Z"
      },
      {
        "duration": 74,
        "start_time": "2022-12-03T06:31:57.778Z"
      },
      {
        "duration": 64,
        "start_time": "2022-12-03T06:32:19.742Z"
      },
      {
        "duration": 55,
        "start_time": "2022-12-03T06:32:47.580Z"
      },
      {
        "duration": 49,
        "start_time": "2022-12-03T06:33:36.492Z"
      },
      {
        "duration": 11,
        "start_time": "2022-12-03T06:35:08.236Z"
      },
      {
        "duration": 5,
        "start_time": "2022-12-03T06:35:24.190Z"
      },
      {
        "duration": 48,
        "start_time": "2022-12-03T06:35:24.197Z"
      },
      {
        "duration": 87,
        "start_time": "2022-12-03T06:35:24.247Z"
      },
      {
        "duration": 437,
        "start_time": "2022-12-03T06:35:24.339Z"
      },
      {
        "duration": 25,
        "start_time": "2022-12-03T06:35:24.778Z"
      },
      {
        "duration": 15,
        "start_time": "2022-12-03T06:35:24.805Z"
      },
      {
        "duration": 53,
        "start_time": "2022-12-03T06:35:24.823Z"
      },
      {
        "duration": 67,
        "start_time": "2022-12-03T06:35:24.877Z"
      },
      {
        "duration": 27,
        "start_time": "2022-12-03T06:35:24.946Z"
      },
      {
        "duration": 108,
        "start_time": "2022-12-03T06:35:24.976Z"
      },
      {
        "duration": 7,
        "start_time": "2022-12-03T06:35:25.086Z"
      },
      {
        "duration": 61,
        "start_time": "2022-12-03T06:35:25.095Z"
      },
      {
        "duration": 6,
        "start_time": "2022-12-03T06:35:25.158Z"
      },
      {
        "duration": 59,
        "start_time": "2022-12-03T06:35:25.166Z"
      },
      {
        "duration": 202,
        "start_time": "2022-12-03T06:35:25.227Z"
      },
      {
        "duration": 17,
        "start_time": "2022-12-03T06:35:25.432Z"
      },
      {
        "duration": 27,
        "start_time": "2022-12-03T06:35:25.451Z"
      },
      {
        "duration": 66,
        "start_time": "2022-12-03T06:35:25.479Z"
      },
      {
        "duration": 405,
        "start_time": "2022-12-03T06:35:25.546Z"
      },
      {
        "duration": 6,
        "start_time": "2022-12-03T06:35:25.952Z"
      },
      {
        "duration": 124,
        "start_time": "2022-12-03T06:35:25.960Z"
      },
      {
        "duration": 26,
        "start_time": "2022-12-03T06:35:26.086Z"
      },
      {
        "duration": 122,
        "start_time": "2022-12-03T06:35:26.123Z"
      },
      {
        "duration": 110,
        "start_time": "2022-12-03T06:35:26.247Z"
      },
      {
        "duration": 13,
        "start_time": "2022-12-03T06:35:26.359Z"
      },
      {
        "duration": 63,
        "start_time": "2022-12-03T06:35:26.373Z"
      },
      {
        "duration": 35,
        "start_time": "2022-12-03T06:35:26.437Z"
      },
      {
        "duration": 71,
        "start_time": "2022-12-03T06:35:26.475Z"
      },
      {
        "duration": 5,
        "start_time": "2022-12-03T06:35:26.548Z"
      },
      {
        "duration": 14,
        "start_time": "2022-12-03T06:35:26.554Z"
      },
      {
        "duration": 9,
        "start_time": "2022-12-03T06:35:26.570Z"
      },
      {
        "duration": 9,
        "start_time": "2022-12-03T06:35:55.008Z"
      },
      {
        "duration": 17,
        "start_time": "2022-12-03T06:35:58.902Z"
      },
      {
        "duration": 3,
        "start_time": "2022-12-03T06:36:04.838Z"
      },
      {
        "duration": 36,
        "start_time": "2022-12-03T06:36:04.844Z"
      },
      {
        "duration": 67,
        "start_time": "2022-12-03T06:36:04.881Z"
      },
      {
        "duration": 439,
        "start_time": "2022-12-03T06:36:04.949Z"
      },
      {
        "duration": 25,
        "start_time": "2022-12-03T06:36:05.390Z"
      },
      {
        "duration": 27,
        "start_time": "2022-12-03T06:36:05.417Z"
      },
      {
        "duration": 37,
        "start_time": "2022-12-03T06:36:05.446Z"
      },
      {
        "duration": 77,
        "start_time": "2022-12-03T06:36:05.485Z"
      },
      {
        "duration": 18,
        "start_time": "2022-12-03T06:36:05.563Z"
      },
      {
        "duration": 119,
        "start_time": "2022-12-03T06:36:05.582Z"
      },
      {
        "duration": 6,
        "start_time": "2022-12-03T06:36:05.703Z"
      },
      {
        "duration": 58,
        "start_time": "2022-12-03T06:36:05.722Z"
      },
      {
        "duration": 7,
        "start_time": "2022-12-03T06:36:05.782Z"
      },
      {
        "duration": 76,
        "start_time": "2022-12-03T06:36:05.793Z"
      },
      {
        "duration": 223,
        "start_time": "2022-12-03T06:36:05.871Z"
      },
      {
        "duration": 26,
        "start_time": "2022-12-03T06:36:06.096Z"
      },
      {
        "duration": 35,
        "start_time": "2022-12-03T06:36:06.125Z"
      },
      {
        "duration": 81,
        "start_time": "2022-12-03T06:36:06.162Z"
      },
      {
        "duration": 400,
        "start_time": "2022-12-03T06:36:06.245Z"
      },
      {
        "duration": 6,
        "start_time": "2022-12-03T06:36:06.646Z"
      },
      {
        "duration": 133,
        "start_time": "2022-12-03T06:36:06.653Z"
      },
      {
        "duration": 37,
        "start_time": "2022-12-03T06:36:06.788Z"
      },
      {
        "duration": 109,
        "start_time": "2022-12-03T06:36:06.829Z"
      },
      {
        "duration": 103,
        "start_time": "2022-12-03T06:36:06.940Z"
      },
      {
        "duration": 14,
        "start_time": "2022-12-03T06:36:07.045Z"
      },
      {
        "duration": 67,
        "start_time": "2022-12-03T06:36:07.061Z"
      },
      {
        "duration": 36,
        "start_time": "2022-12-03T06:36:07.135Z"
      },
      {
        "duration": 80,
        "start_time": "2022-12-03T06:36:07.172Z"
      },
      {
        "duration": 6,
        "start_time": "2022-12-03T06:36:07.254Z"
      },
      {
        "duration": 31,
        "start_time": "2022-12-03T06:36:07.262Z"
      },
      {
        "duration": 41,
        "start_time": "2022-12-03T06:36:07.295Z"
      },
      {
        "duration": 48,
        "start_time": "2022-12-03T06:36:07.337Z"
      },
      {
        "duration": 6,
        "start_time": "2022-12-03T06:45:53.689Z"
      },
      {
        "duration": 4,
        "start_time": "2022-12-03T06:46:01.129Z"
      },
      {
        "duration": 102,
        "start_time": "2022-12-03T06:46:01.135Z"
      },
      {
        "duration": 61,
        "start_time": "2022-12-03T06:46:01.239Z"
      },
      {
        "duration": 472,
        "start_time": "2022-12-03T06:46:01.302Z"
      },
      {
        "duration": 27,
        "start_time": "2022-12-03T06:46:01.776Z"
      },
      {
        "duration": 18,
        "start_time": "2022-12-03T06:46:01.805Z"
      },
      {
        "duration": 40,
        "start_time": "2022-12-03T06:46:01.829Z"
      },
      {
        "duration": 69,
        "start_time": "2022-12-03T06:46:01.871Z"
      },
      {
        "duration": 18,
        "start_time": "2022-12-03T06:46:01.942Z"
      },
      {
        "duration": 122,
        "start_time": "2022-12-03T06:46:01.961Z"
      },
      {
        "duration": 6,
        "start_time": "2022-12-03T06:46:02.085Z"
      },
      {
        "duration": 62,
        "start_time": "2022-12-03T06:46:02.093Z"
      },
      {
        "duration": 6,
        "start_time": "2022-12-03T06:46:02.156Z"
      },
      {
        "duration": 67,
        "start_time": "2022-12-03T06:46:02.165Z"
      },
      {
        "duration": 210,
        "start_time": "2022-12-03T06:46:02.233Z"
      },
      {
        "duration": 16,
        "start_time": "2022-12-03T06:46:02.444Z"
      },
      {
        "duration": 23,
        "start_time": "2022-12-03T06:46:02.462Z"
      },
      {
        "duration": 70,
        "start_time": "2022-12-03T06:46:02.491Z"
      },
      {
        "duration": 405,
        "start_time": "2022-12-03T06:46:02.562Z"
      },
      {
        "duration": 7,
        "start_time": "2022-12-03T06:46:02.969Z"
      },
      {
        "duration": 127,
        "start_time": "2022-12-03T06:46:02.978Z"
      },
      {
        "duration": 35,
        "start_time": "2022-12-03T06:46:03.107Z"
      },
      {
        "duration": 84,
        "start_time": "2022-12-03T06:46:03.144Z"
      },
      {
        "duration": 111,
        "start_time": "2022-12-03T06:46:03.229Z"
      },
      {
        "duration": 20,
        "start_time": "2022-12-03T06:46:03.343Z"
      },
      {
        "duration": 89,
        "start_time": "2022-12-03T06:46:03.365Z"
      },
      {
        "duration": 13,
        "start_time": "2022-12-03T06:46:03.456Z"
      },
      {
        "duration": 6,
        "start_time": "2022-12-03T06:46:03.471Z"
      },
      {
        "duration": 62,
        "start_time": "2022-12-03T06:55:22.917Z"
      },
      {
        "duration": 96,
        "start_time": "2022-12-03T06:57:30.756Z"
      },
      {
        "duration": 60,
        "start_time": "2022-12-03T06:57:46.070Z"
      },
      {
        "duration": 62,
        "start_time": "2022-12-03T06:58:41.520Z"
      },
      {
        "duration": 67,
        "start_time": "2022-12-03T06:59:39.420Z"
      },
      {
        "duration": 14,
        "start_time": "2022-12-03T07:00:35.803Z"
      },
      {
        "duration": 6,
        "start_time": "2022-12-03T07:00:42.473Z"
      },
      {
        "duration": 17,
        "start_time": "2022-12-03T07:00:59.644Z"
      },
      {
        "duration": 1164,
        "start_time": "2022-12-03T07:01:24.583Z"
      },
      {
        "duration": 27,
        "start_time": "2022-12-03T07:01:25.748Z"
      },
      {
        "duration": 102,
        "start_time": "2022-12-03T07:01:25.778Z"
      },
      {
        "duration": 476,
        "start_time": "2022-12-03T07:01:25.882Z"
      },
      {
        "duration": 28,
        "start_time": "2022-12-03T07:01:26.360Z"
      },
      {
        "duration": 33,
        "start_time": "2022-12-03T07:01:26.390Z"
      },
      {
        "duration": 31,
        "start_time": "2022-12-03T07:01:26.425Z"
      },
      {
        "duration": 95,
        "start_time": "2022-12-03T07:01:26.458Z"
      },
      {
        "duration": 17,
        "start_time": "2022-12-03T07:01:26.554Z"
      },
      {
        "duration": 115,
        "start_time": "2022-12-03T07:01:26.573Z"
      },
      {
        "duration": 6,
        "start_time": "2022-12-03T07:01:26.690Z"
      },
      {
        "duration": 98,
        "start_time": "2022-12-03T07:01:26.698Z"
      },
      {
        "duration": 10,
        "start_time": "2022-12-03T07:01:26.798Z"
      },
      {
        "duration": 61,
        "start_time": "2022-12-03T07:01:26.810Z"
      },
      {
        "duration": 229,
        "start_time": "2022-12-03T07:01:26.873Z"
      },
      {
        "duration": 19,
        "start_time": "2022-12-03T07:01:27.104Z"
      },
      {
        "duration": 21,
        "start_time": "2022-12-03T07:01:27.125Z"
      },
      {
        "duration": 83,
        "start_time": "2022-12-03T07:01:27.147Z"
      },
      {
        "duration": 410,
        "start_time": "2022-12-03T07:01:27.232Z"
      },
      {
        "duration": 7,
        "start_time": "2022-12-03T07:01:27.643Z"
      },
      {
        "duration": 121,
        "start_time": "2022-12-03T07:01:27.651Z"
      },
      {
        "duration": 27,
        "start_time": "2022-12-03T07:01:27.774Z"
      },
      {
        "duration": 102,
        "start_time": "2022-12-03T07:01:27.803Z"
      },
      {
        "duration": 119,
        "start_time": "2022-12-03T07:01:27.908Z"
      },
      {
        "duration": 16,
        "start_time": "2022-12-03T07:01:28.029Z"
      },
      {
        "duration": 83,
        "start_time": "2022-12-03T07:01:28.048Z"
      },
      {
        "duration": 13,
        "start_time": "2022-12-03T07:01:28.133Z"
      },
      {
        "duration": 18,
        "start_time": "2022-12-03T07:01:28.149Z"
      },
      {
        "duration": 177,
        "start_time": "2022-12-03T07:01:28.170Z"
      },
      {
        "duration": 13,
        "start_time": "2022-12-03T07:01:28.349Z"
      },
      {
        "duration": 338,
        "start_time": "2022-12-03T07:01:28.364Z"
      },
      {
        "duration": 60,
        "start_time": "2022-12-03T07:01:28.704Z"
      },
      {
        "duration": 22,
        "start_time": "2022-12-03T07:01:28.766Z"
      },
      {
        "duration": 69,
        "start_time": "2022-12-03T07:01:28.789Z"
      },
      {
        "duration": 41,
        "start_time": "2022-12-03T07:01:28.860Z"
      },
      {
        "duration": 4,
        "start_time": "2022-12-03T07:01:28.903Z"
      },
      {
        "duration": 7,
        "start_time": "2022-12-03T07:01:28.923Z"
      },
      {
        "duration": 4,
        "start_time": "2022-12-03T07:01:28.932Z"
      },
      {
        "duration": 11,
        "start_time": "2022-12-03T07:01:28.937Z"
      },
      {
        "duration": 360,
        "start_time": "2022-12-03T07:01:28.950Z"
      },
      {
        "duration": 226,
        "start_time": "2022-12-03T07:01:29.312Z"
      },
      {
        "duration": 30,
        "start_time": "2022-12-03T07:01:29.540Z"
      },
      {
        "duration": 15,
        "start_time": "2022-12-03T07:01:29.572Z"
      },
      {
        "duration": 59,
        "start_time": "2022-12-03T07:01:29.590Z"
      },
      {
        "duration": 14,
        "start_time": "2022-12-03T07:01:29.651Z"
      },
      {
        "duration": 16,
        "start_time": "2022-12-03T07:01:29.667Z"
      },
      {
        "duration": 55,
        "start_time": "2022-12-03T07:01:29.685Z"
      },
      {
        "duration": 16,
        "start_time": "2022-12-03T07:01:29.743Z"
      },
      {
        "duration": 6,
        "start_time": "2022-12-03T07:01:29.761Z"
      },
      {
        "duration": 25,
        "start_time": "2022-12-03T07:01:29.768Z"
      },
      {
        "duration": 43,
        "start_time": "2022-12-03T07:01:29.795Z"
      },
      {
        "duration": 6,
        "start_time": "2022-12-03T07:02:13.434Z"
      },
      {
        "duration": 73,
        "start_time": "2022-12-03T07:02:26.025Z"
      },
      {
        "duration": 13,
        "start_time": "2022-12-03T07:02:31.242Z"
      },
      {
        "duration": 7,
        "start_time": "2022-12-03T07:02:33.139Z"
      },
      {
        "duration": 1220,
        "start_time": "2022-12-03T07:02:51.345Z"
      },
      {
        "duration": 27,
        "start_time": "2022-12-03T07:02:52.567Z"
      },
      {
        "duration": 66,
        "start_time": "2022-12-03T07:02:52.596Z"
      },
      {
        "duration": 486,
        "start_time": "2022-12-03T07:02:52.664Z"
      },
      {
        "duration": 26,
        "start_time": "2022-12-03T07:02:53.153Z"
      },
      {
        "duration": 23,
        "start_time": "2022-12-03T07:02:53.181Z"
      },
      {
        "duration": 37,
        "start_time": "2022-12-03T07:02:53.206Z"
      },
      {
        "duration": 117,
        "start_time": "2022-12-03T07:02:53.246Z"
      },
      {
        "duration": 24,
        "start_time": "2022-12-03T07:02:53.365Z"
      },
      {
        "duration": 132,
        "start_time": "2022-12-03T07:02:53.391Z"
      },
      {
        "duration": 7,
        "start_time": "2022-12-03T07:02:53.524Z"
      },
      {
        "duration": 96,
        "start_time": "2022-12-03T07:02:53.533Z"
      },
      {
        "duration": 8,
        "start_time": "2022-12-03T07:02:53.630Z"
      },
      {
        "duration": 54,
        "start_time": "2022-12-03T07:02:53.641Z"
      },
      {
        "duration": 270,
        "start_time": "2022-12-03T07:02:53.696Z"
      },
      {
        "duration": 16,
        "start_time": "2022-12-03T07:02:53.968Z"
      },
      {
        "duration": 51,
        "start_time": "2022-12-03T07:02:53.986Z"
      },
      {
        "duration": 99,
        "start_time": "2022-12-03T07:02:54.039Z"
      },
      {
        "duration": 582,
        "start_time": "2022-12-03T07:02:54.141Z"
      },
      {
        "duration": 7,
        "start_time": "2022-12-03T07:02:54.725Z"
      },
      {
        "duration": 147,
        "start_time": "2022-12-03T07:02:54.734Z"
      },
      {
        "duration": 41,
        "start_time": "2022-12-03T07:02:54.882Z"
      },
      {
        "duration": 82,
        "start_time": "2022-12-03T07:02:54.925Z"
      },
      {
        "duration": 117,
        "start_time": "2022-12-03T07:02:55.009Z"
      },
      {
        "duration": 16,
        "start_time": "2022-12-03T07:02:55.128Z"
      },
      {
        "duration": 125,
        "start_time": "2022-12-03T07:02:55.147Z"
      },
      {
        "duration": 16,
        "start_time": "2022-12-03T07:02:55.274Z"
      },
      {
        "duration": 36,
        "start_time": "2022-12-03T07:02:55.292Z"
      },
      {
        "duration": 150,
        "start_time": "2022-12-03T07:02:55.330Z"
      },
      {
        "duration": 19,
        "start_time": "2022-12-03T07:02:55.482Z"
      },
      {
        "duration": 305,
        "start_time": "2022-12-03T07:02:55.522Z"
      },
      {
        "duration": 68,
        "start_time": "2022-12-03T07:02:55.829Z"
      },
      {
        "duration": 38,
        "start_time": "2022-12-03T07:02:55.898Z"
      },
      {
        "duration": 55,
        "start_time": "2022-12-03T07:02:55.937Z"
      },
      {
        "duration": 64,
        "start_time": "2022-12-03T07:02:55.994Z"
      },
      {
        "duration": 4,
        "start_time": "2022-12-03T07:02:56.060Z"
      },
      {
        "duration": 14,
        "start_time": "2022-12-03T07:02:56.065Z"
      },
      {
        "duration": 15,
        "start_time": "2022-12-03T07:02:56.081Z"
      },
      {
        "duration": 12,
        "start_time": "2022-12-03T07:02:56.098Z"
      },
      {
        "duration": 315,
        "start_time": "2022-12-03T07:02:56.121Z"
      },
      {
        "duration": 224,
        "start_time": "2022-12-03T07:02:56.440Z"
      },
      {
        "duration": 29,
        "start_time": "2022-12-03T07:02:56.666Z"
      },
      {
        "duration": 30,
        "start_time": "2022-12-03T07:02:56.696Z"
      },
      {
        "duration": 23,
        "start_time": "2022-12-03T07:02:56.728Z"
      },
      {
        "duration": 12,
        "start_time": "2022-12-03T07:02:56.752Z"
      },
      {
        "duration": 16,
        "start_time": "2022-12-03T07:02:56.766Z"
      },
      {
        "duration": 54,
        "start_time": "2022-12-03T07:02:56.784Z"
      },
      {
        "duration": 15,
        "start_time": "2022-12-03T07:02:56.839Z"
      },
      {
        "duration": 4,
        "start_time": "2022-12-03T07:02:56.856Z"
      },
      {
        "duration": 24,
        "start_time": "2022-12-03T07:02:56.861Z"
      },
      {
        "duration": 44,
        "start_time": "2022-12-03T07:02:56.887Z"
      },
      {
        "duration": 1175,
        "start_time": "2022-12-03T07:31:50.268Z"
      },
      {
        "duration": 27,
        "start_time": "2022-12-03T07:31:51.445Z"
      },
      {
        "duration": 68,
        "start_time": "2022-12-03T07:31:51.474Z"
      },
      {
        "duration": 487,
        "start_time": "2022-12-03T07:31:51.545Z"
      },
      {
        "duration": 25,
        "start_time": "2022-12-03T07:31:52.034Z"
      },
      {
        "duration": 21,
        "start_time": "2022-12-03T07:31:52.061Z"
      },
      {
        "duration": 35,
        "start_time": "2022-12-03T07:31:52.083Z"
      },
      {
        "duration": 63,
        "start_time": "2022-12-03T07:31:52.122Z"
      },
      {
        "duration": 41,
        "start_time": "2022-12-03T07:31:52.187Z"
      },
      {
        "duration": 121,
        "start_time": "2022-12-03T07:31:52.231Z"
      },
      {
        "duration": 6,
        "start_time": "2022-12-03T07:31:52.354Z"
      },
      {
        "duration": 105,
        "start_time": "2022-12-03T07:31:52.361Z"
      },
      {
        "duration": 9,
        "start_time": "2022-12-03T07:31:52.468Z"
      },
      {
        "duration": 93,
        "start_time": "2022-12-03T07:31:52.480Z"
      },
      {
        "duration": 235,
        "start_time": "2022-12-03T07:31:52.574Z"
      },
      {
        "duration": 21,
        "start_time": "2022-12-03T07:31:52.810Z"
      },
      {
        "duration": 24,
        "start_time": "2022-12-03T07:31:52.833Z"
      },
      {
        "duration": 68,
        "start_time": "2022-12-03T07:31:52.859Z"
      },
      {
        "duration": 427,
        "start_time": "2022-12-03T07:31:52.929Z"
      },
      {
        "duration": 6,
        "start_time": "2022-12-03T07:31:53.358Z"
      },
      {
        "duration": 130,
        "start_time": "2022-12-03T07:31:53.366Z"
      },
      {
        "duration": 55,
        "start_time": "2022-12-03T07:31:53.498Z"
      },
      {
        "duration": 112,
        "start_time": "2022-12-03T07:31:53.555Z"
      },
      {
        "duration": 143,
        "start_time": "2022-12-03T07:31:53.669Z"
      },
      {
        "duration": 28,
        "start_time": "2022-12-03T07:31:53.814Z"
      },
      {
        "duration": 85,
        "start_time": "2022-12-03T07:31:53.844Z"
      },
      {
        "duration": 17,
        "start_time": "2022-12-03T07:31:53.931Z"
      },
      {
        "duration": 22,
        "start_time": "2022-12-03T07:31:53.953Z"
      },
      {
        "duration": 253,
        "start_time": "2022-12-03T07:31:53.977Z"
      },
      {
        "duration": 16,
        "start_time": "2022-12-03T07:31:54.232Z"
      },
      {
        "duration": 409,
        "start_time": "2022-12-03T07:31:54.251Z"
      },
      {
        "duration": 98,
        "start_time": "2022-12-03T07:31:54.663Z"
      },
      {
        "duration": 33,
        "start_time": "2022-12-03T07:31:54.764Z"
      },
      {
        "duration": 94,
        "start_time": "2022-12-03T07:31:54.800Z"
      },
      {
        "duration": 58,
        "start_time": "2022-12-03T07:31:54.896Z"
      },
      {
        "duration": 4,
        "start_time": "2022-12-03T07:31:54.956Z"
      },
      {
        "duration": 10,
        "start_time": "2022-12-03T07:31:54.961Z"
      },
      {
        "duration": 12,
        "start_time": "2022-12-03T07:31:54.973Z"
      },
      {
        "duration": 19,
        "start_time": "2022-12-03T07:31:54.986Z"
      },
      {
        "duration": 493,
        "start_time": "2022-12-03T07:31:55.007Z"
      },
      {
        "duration": 249,
        "start_time": "2022-12-03T07:31:55.503Z"
      },
      {
        "duration": 31,
        "start_time": "2022-12-03T07:31:55.753Z"
      },
      {
        "duration": 14,
        "start_time": "2022-12-03T07:31:55.787Z"
      },
      {
        "duration": 54,
        "start_time": "2022-12-03T07:31:55.822Z"
      },
      {
        "duration": 24,
        "start_time": "2022-12-03T07:31:55.878Z"
      },
      {
        "duration": 28,
        "start_time": "2022-12-03T07:31:55.904Z"
      },
      {
        "duration": 32,
        "start_time": "2022-12-03T07:31:55.933Z"
      },
      {
        "duration": 24,
        "start_time": "2022-12-03T07:31:55.967Z"
      },
      {
        "duration": 4,
        "start_time": "2022-12-03T07:31:55.993Z"
      },
      {
        "duration": 64,
        "start_time": "2022-12-03T07:31:55.999Z"
      },
      {
        "duration": 28,
        "start_time": "2022-12-03T07:31:56.065Z"
      },
      {
        "duration": 385,
        "start_time": "2022-12-03T07:33:14.662Z"
      },
      {
        "duration": 7,
        "start_time": "2022-12-03T07:33:29.329Z"
      },
      {
        "duration": 11,
        "start_time": "2022-12-03T07:33:44.122Z"
      },
      {
        "duration": 379,
        "start_time": "2022-12-03T07:34:30.764Z"
      },
      {
        "duration": 7,
        "start_time": "2022-12-03T07:34:42.072Z"
      },
      {
        "duration": 27,
        "start_time": "2022-12-03T07:34:56.024Z"
      },
      {
        "duration": 78,
        "start_time": "2022-12-03T07:35:00.195Z"
      },
      {
        "duration": 39,
        "start_time": "2022-12-03T07:36:09.507Z"
      },
      {
        "duration": 15,
        "start_time": "2022-12-03T07:36:16.169Z"
      },
      {
        "duration": 1353,
        "start_time": "2022-12-03T13:31:48.186Z"
      },
      {
        "duration": 79,
        "start_time": "2022-12-03T13:31:49.541Z"
      },
      {
        "duration": 258,
        "start_time": "2022-12-03T13:31:49.622Z"
      },
      {
        "duration": 1475,
        "start_time": "2022-12-03T13:31:49.882Z"
      },
      {
        "duration": 121,
        "start_time": "2022-12-03T13:31:51.359Z"
      },
      {
        "duration": 24,
        "start_time": "2022-12-03T13:31:51.482Z"
      },
      {
        "duration": 24,
        "start_time": "2022-12-03T13:31:51.507Z"
      },
      {
        "duration": 98,
        "start_time": "2022-12-03T13:31:51.533Z"
      },
      {
        "duration": 18,
        "start_time": "2022-12-03T13:31:51.633Z"
      },
      {
        "duration": 135,
        "start_time": "2022-12-03T13:31:51.653Z"
      },
      {
        "duration": 8,
        "start_time": "2022-12-03T13:31:51.790Z"
      },
      {
        "duration": 100,
        "start_time": "2022-12-03T13:31:51.800Z"
      },
      {
        "duration": 10,
        "start_time": "2022-12-03T13:31:51.902Z"
      },
      {
        "duration": 71,
        "start_time": "2022-12-03T13:31:51.914Z"
      },
      {
        "duration": 256,
        "start_time": "2022-12-03T13:31:51.987Z"
      },
      {
        "duration": 15,
        "start_time": "2022-12-03T13:31:52.245Z"
      },
      {
        "duration": 36,
        "start_time": "2022-12-03T13:31:52.262Z"
      },
      {
        "duration": 47,
        "start_time": "2022-12-03T13:31:52.300Z"
      },
      {
        "duration": 442,
        "start_time": "2022-12-03T13:31:52.349Z"
      },
      {
        "duration": 6,
        "start_time": "2022-12-03T13:31:52.793Z"
      },
      {
        "duration": 26,
        "start_time": "2022-12-03T13:31:52.800Z"
      },
      {
        "duration": 92,
        "start_time": "2022-12-03T13:31:52.828Z"
      },
      {
        "duration": 32,
        "start_time": "2022-12-03T13:31:52.922Z"
      },
      {
        "duration": 29,
        "start_time": "2022-12-03T13:31:52.956Z"
      },
      {
        "duration": 68,
        "start_time": "2022-12-03T13:31:52.987Z"
      },
      {
        "duration": 26,
        "start_time": "2022-12-03T13:31:53.057Z"
      },
      {
        "duration": 15,
        "start_time": "2022-12-03T13:31:53.084Z"
      },
      {
        "duration": 161,
        "start_time": "2022-12-03T13:31:53.102Z"
      },
      {
        "duration": 10,
        "start_time": "2022-12-03T13:31:53.265Z"
      },
      {
        "duration": 314,
        "start_time": "2022-12-03T13:31:53.278Z"
      },
      {
        "duration": 57,
        "start_time": "2022-12-03T13:31:53.594Z"
      },
      {
        "duration": 39,
        "start_time": "2022-12-03T13:31:53.653Z"
      },
      {
        "duration": 55,
        "start_time": "2022-12-03T13:31:53.694Z"
      },
      {
        "duration": 61,
        "start_time": "2022-12-03T13:31:53.750Z"
      },
      {
        "duration": 4,
        "start_time": "2022-12-03T13:31:53.812Z"
      },
      {
        "duration": 17,
        "start_time": "2022-12-03T13:31:53.817Z"
      },
      {
        "duration": 3,
        "start_time": "2022-12-03T13:31:53.836Z"
      },
      {
        "duration": 11,
        "start_time": "2022-12-03T13:31:53.841Z"
      },
      {
        "duration": 379,
        "start_time": "2022-12-03T13:31:53.853Z"
      },
      {
        "duration": 205,
        "start_time": "2022-12-03T13:31:54.233Z"
      },
      {
        "duration": 38,
        "start_time": "2022-12-03T13:31:54.440Z"
      },
      {
        "duration": 12,
        "start_time": "2022-12-03T13:31:54.480Z"
      },
      {
        "duration": 24,
        "start_time": "2022-12-03T13:31:54.493Z"
      },
      {
        "duration": 11,
        "start_time": "2022-12-03T13:31:54.518Z"
      },
      {
        "duration": 15,
        "start_time": "2022-12-03T13:31:54.531Z"
      },
      {
        "duration": 52,
        "start_time": "2022-12-03T13:31:54.547Z"
      },
      {
        "duration": 14,
        "start_time": "2022-12-03T13:31:54.601Z"
      },
      {
        "duration": 3,
        "start_time": "2022-12-03T13:31:54.617Z"
      },
      {
        "duration": 21,
        "start_time": "2022-12-03T13:31:54.622Z"
      },
      {
        "duration": 48,
        "start_time": "2022-12-03T13:31:54.644Z"
      },
      {
        "duration": 33,
        "start_time": "2022-12-03T13:34:11.728Z"
      },
      {
        "duration": 14,
        "start_time": "2022-12-03T13:34:12.955Z"
      },
      {
        "duration": 329,
        "start_time": "2022-12-03T13:37:52.224Z"
      },
      {
        "duration": 426,
        "start_time": "2022-12-03T13:38:27.351Z"
      },
      {
        "duration": 372,
        "start_time": "2022-12-03T13:38:33.171Z"
      },
      {
        "duration": 372,
        "start_time": "2022-12-03T13:39:14.980Z"
      },
      {
        "duration": 12,
        "start_time": "2022-12-03T13:40:59.980Z"
      },
      {
        "duration": 478,
        "start_time": "2022-12-03T13:44:26.020Z"
      },
      {
        "duration": 1540,
        "start_time": "2022-12-03T13:44:37.060Z"
      },
      {
        "duration": 459,
        "start_time": "2022-12-03T13:44:54.784Z"
      },
      {
        "duration": 489,
        "start_time": "2022-12-03T13:45:48.455Z"
      },
      {
        "duration": 1880,
        "start_time": "2022-12-03T13:46:21.594Z"
      },
      {
        "duration": 550,
        "start_time": "2022-12-03T13:47:16.141Z"
      },
      {
        "duration": 530,
        "start_time": "2022-12-03T13:47:43.865Z"
      },
      {
        "duration": 7,
        "start_time": "2022-12-03T13:48:13.619Z"
      },
      {
        "duration": 9,
        "start_time": "2022-12-03T13:48:26.994Z"
      },
      {
        "duration": 46,
        "start_time": "2022-12-03T13:50:38.935Z"
      },
      {
        "duration": 1251,
        "start_time": "2022-12-03T13:51:38.593Z"
      },
      {
        "duration": 49,
        "start_time": "2022-12-03T13:51:52.101Z"
      },
      {
        "duration": 54,
        "start_time": "2022-12-03T13:52:12.529Z"
      },
      {
        "duration": 51,
        "start_time": "2022-12-03T13:52:49.409Z"
      },
      {
        "duration": 1279,
        "start_time": "2022-12-03T14:00:58.396Z"
      },
      {
        "duration": 68,
        "start_time": "2022-12-03T14:01:07.256Z"
      },
      {
        "duration": 59,
        "start_time": "2022-12-03T14:01:29.364Z"
      },
      {
        "duration": 7,
        "start_time": "2022-12-03T14:04:58.899Z"
      },
      {
        "duration": 55,
        "start_time": "2022-12-03T14:05:02.702Z"
      },
      {
        "duration": 1435,
        "start_time": "2022-12-03T14:05:09.967Z"
      },
      {
        "duration": 72,
        "start_time": "2022-12-03T14:05:24.891Z"
      },
      {
        "duration": 51,
        "start_time": "2022-12-03T14:08:57.470Z"
      },
      {
        "duration": 40,
        "start_time": "2022-12-03T14:09:31.294Z"
      },
      {
        "duration": 56,
        "start_time": "2022-12-03T14:10:46.951Z"
      },
      {
        "duration": 13,
        "start_time": "2022-12-03T14:12:05.053Z"
      },
      {
        "duration": 28,
        "start_time": "2022-12-03T14:13:56.529Z"
      },
      {
        "duration": 69,
        "start_time": "2022-12-03T14:14:06.122Z"
      },
      {
        "duration": 27,
        "start_time": "2022-12-03T14:14:19.310Z"
      },
      {
        "duration": 40,
        "start_time": "2022-12-03T14:14:28.345Z"
      },
      {
        "duration": 27,
        "start_time": "2022-12-03T14:14:37.462Z"
      },
      {
        "duration": 16,
        "start_time": "2022-12-03T14:14:54.229Z"
      },
      {
        "duration": 41,
        "start_time": "2022-12-03T14:16:48.552Z"
      },
      {
        "duration": 46,
        "start_time": "2022-12-03T14:18:12.563Z"
      },
      {
        "duration": 44,
        "start_time": "2022-12-03T14:18:21.527Z"
      },
      {
        "duration": 44,
        "start_time": "2022-12-03T14:18:30.637Z"
      },
      {
        "duration": 155,
        "start_time": "2022-12-03T14:19:17.225Z"
      },
      {
        "duration": 75,
        "start_time": "2022-12-03T14:20:01.578Z"
      },
      {
        "duration": 90,
        "start_time": "2022-12-03T14:20:58.980Z"
      },
      {
        "duration": 43,
        "start_time": "2022-12-03T14:21:30.660Z"
      },
      {
        "duration": 586,
        "start_time": "2022-12-03T14:25:25.378Z"
      },
      {
        "duration": 1730,
        "start_time": "2022-12-03T14:27:31.064Z"
      },
      {
        "duration": 81,
        "start_time": "2022-12-03T14:29:33.985Z"
      },
      {
        "duration": 14,
        "start_time": "2022-12-03T14:29:50.672Z"
      },
      {
        "duration": 1260,
        "start_time": "2022-12-03T14:30:06.675Z"
      },
      {
        "duration": 4,
        "start_time": "2022-12-03T14:30:19.771Z"
      },
      {
        "duration": 32,
        "start_time": "2022-12-03T14:30:19.778Z"
      },
      {
        "duration": 72,
        "start_time": "2022-12-03T14:30:19.812Z"
      },
      {
        "duration": 440,
        "start_time": "2022-12-03T14:30:19.886Z"
      },
      {
        "duration": 25,
        "start_time": "2022-12-03T14:30:20.329Z"
      },
      {
        "duration": 15,
        "start_time": "2022-12-03T14:30:20.356Z"
      },
      {
        "duration": 36,
        "start_time": "2022-12-03T14:30:20.373Z"
      },
      {
        "duration": 75,
        "start_time": "2022-12-03T14:30:20.410Z"
      },
      {
        "duration": 16,
        "start_time": "2022-12-03T14:30:20.487Z"
      },
      {
        "duration": 101,
        "start_time": "2022-12-03T14:30:20.505Z"
      },
      {
        "duration": 5,
        "start_time": "2022-12-03T14:30:20.608Z"
      },
      {
        "duration": 76,
        "start_time": "2022-12-03T14:30:20.615Z"
      },
      {
        "duration": 7,
        "start_time": "2022-12-03T14:30:20.693Z"
      },
      {
        "duration": 47,
        "start_time": "2022-12-03T14:30:20.702Z"
      },
      {
        "duration": 245,
        "start_time": "2022-12-03T14:30:20.751Z"
      },
      {
        "duration": 18,
        "start_time": "2022-12-03T14:30:20.997Z"
      },
      {
        "duration": 39,
        "start_time": "2022-12-03T14:30:21.017Z"
      },
      {
        "duration": 71,
        "start_time": "2022-12-03T14:30:21.058Z"
      },
      {
        "duration": 1143,
        "start_time": "2022-12-03T14:30:48.478Z"
      },
      {
        "duration": 4,
        "start_time": "2022-12-03T14:30:54.752Z"
      },
      {
        "duration": 30,
        "start_time": "2022-12-03T14:30:54.758Z"
      },
      {
        "duration": 60,
        "start_time": "2022-12-03T14:30:54.789Z"
      },
      {
        "duration": 445,
        "start_time": "2022-12-03T14:30:54.851Z"
      },
      {
        "duration": 25,
        "start_time": "2022-12-03T14:30:55.297Z"
      },
      {
        "duration": 15,
        "start_time": "2022-12-03T14:30:55.324Z"
      },
      {
        "duration": 33,
        "start_time": "2022-12-03T14:30:55.341Z"
      },
      {
        "duration": 54,
        "start_time": "2022-12-03T14:30:55.378Z"
      },
      {
        "duration": 16,
        "start_time": "2022-12-03T14:30:55.433Z"
      },
      {
        "duration": 107,
        "start_time": "2022-12-03T14:30:55.451Z"
      },
      {
        "duration": 22,
        "start_time": "2022-12-03T14:31:04.985Z"
      },
      {
        "duration": 6,
        "start_time": "2022-12-03T14:31:06.276Z"
      },
      {
        "duration": 46,
        "start_time": "2022-12-03T14:31:06.900Z"
      },
      {
        "duration": 6,
        "start_time": "2022-12-03T14:31:07.071Z"
      },
      {
        "duration": 46,
        "start_time": "2022-12-03T14:31:07.238Z"
      },
      {
        "duration": 197,
        "start_time": "2022-12-03T14:31:09.619Z"
      },
      {
        "duration": 17,
        "start_time": "2022-12-03T14:31:11.088Z"
      },
      {
        "duration": 30,
        "start_time": "2022-12-03T14:31:11.692Z"
      },
      {
        "duration": 50,
        "start_time": "2022-12-03T14:31:13.704Z"
      },
      {
        "duration": 1264,
        "start_time": "2022-12-03T14:31:30.486Z"
      },
      {
        "duration": 3,
        "start_time": "2022-12-03T14:31:37.087Z"
      },
      {
        "duration": 50,
        "start_time": "2022-12-03T14:31:37.092Z"
      },
      {
        "duration": 57,
        "start_time": "2022-12-03T14:31:37.144Z"
      },
      {
        "duration": 416,
        "start_time": "2022-12-03T14:31:37.204Z"
      },
      {
        "duration": 26,
        "start_time": "2022-12-03T14:31:37.622Z"
      },
      {
        "duration": 15,
        "start_time": "2022-12-03T14:31:37.649Z"
      },
      {
        "duration": 57,
        "start_time": "2022-12-03T14:31:37.666Z"
      },
      {
        "duration": 81,
        "start_time": "2022-12-03T14:31:37.724Z"
      },
      {
        "duration": 16,
        "start_time": "2022-12-03T14:31:37.808Z"
      },
      {
        "duration": 105,
        "start_time": "2022-12-03T14:31:37.826Z"
      },
      {
        "duration": 22,
        "start_time": "2022-12-03T14:33:08.354Z"
      },
      {
        "duration": 51,
        "start_time": "2022-12-03T14:33:16.931Z"
      },
      {
        "duration": 1126,
        "start_time": "2022-12-03T14:33:27.176Z"
      },
      {
        "duration": 26,
        "start_time": "2022-12-03T14:33:28.304Z"
      },
      {
        "duration": 65,
        "start_time": "2022-12-03T14:33:28.332Z"
      },
      {
        "duration": 463,
        "start_time": "2022-12-03T14:33:28.399Z"
      },
      {
        "duration": 26,
        "start_time": "2022-12-03T14:33:28.864Z"
      },
      {
        "duration": 19,
        "start_time": "2022-12-03T14:33:28.892Z"
      },
      {
        "duration": 25,
        "start_time": "2022-12-03T14:33:28.914Z"
      },
      {
        "duration": 83,
        "start_time": "2022-12-03T14:33:28.940Z"
      },
      {
        "duration": 15,
        "start_time": "2022-12-03T14:33:29.025Z"
      },
      {
        "duration": 112,
        "start_time": "2022-12-03T14:33:29.043Z"
      },
      {
        "duration": 5,
        "start_time": "2022-12-03T14:33:29.157Z"
      },
      {
        "duration": 83,
        "start_time": "2022-12-03T14:33:29.164Z"
      },
      {
        "duration": 7,
        "start_time": "2022-12-03T14:33:29.249Z"
      },
      {
        "duration": 62,
        "start_time": "2022-12-03T14:33:29.258Z"
      },
      {
        "duration": 240,
        "start_time": "2022-12-03T14:33:29.322Z"
      },
      {
        "duration": 20,
        "start_time": "2022-12-03T14:33:29.563Z"
      },
      {
        "duration": 24,
        "start_time": "2022-12-03T14:33:29.585Z"
      },
      {
        "duration": 43,
        "start_time": "2022-12-03T14:33:29.610Z"
      },
      {
        "duration": 456,
        "start_time": "2022-12-03T14:33:29.655Z"
      },
      {
        "duration": 6,
        "start_time": "2022-12-03T14:33:30.113Z"
      },
      {
        "duration": 108,
        "start_time": "2022-12-03T14:33:30.121Z"
      },
      {
        "duration": 33,
        "start_time": "2022-12-03T14:33:30.231Z"
      },
      {
        "duration": 51,
        "start_time": "2022-12-03T14:33:30.266Z"
      },
      {
        "duration": 90,
        "start_time": "2022-12-03T14:33:30.318Z"
      },
      {
        "duration": 178,
        "start_time": "2022-12-03T14:33:30.410Z"
      },
      {
        "duration": 11,
        "start_time": "2022-12-03T14:33:30.590Z"
      },
      {
        "duration": 319,
        "start_time": "2022-12-03T14:33:30.603Z"
      },
      {
        "duration": 64,
        "start_time": "2022-12-03T14:33:30.925Z"
      },
      {
        "duration": 23,
        "start_time": "2022-12-03T14:33:30.991Z"
      },
      {
        "duration": 78,
        "start_time": "2022-12-03T14:33:31.016Z"
      },
      {
        "duration": 46,
        "start_time": "2022-12-03T14:33:31.095Z"
      },
      {
        "duration": 3,
        "start_time": "2022-12-03T14:33:31.143Z"
      },
      {
        "duration": 22,
        "start_time": "2022-12-03T14:33:31.148Z"
      },
      {
        "duration": 33,
        "start_time": "2022-12-03T14:33:31.171Z"
      },
      {
        "duration": 27,
        "start_time": "2022-12-03T14:33:31.205Z"
      },
      {
        "duration": 315,
        "start_time": "2022-12-03T14:33:31.233Z"
      },
      {
        "duration": 242,
        "start_time": "2022-12-03T14:33:31.549Z"
      },
      {
        "duration": 32,
        "start_time": "2022-12-03T14:33:31.793Z"
      },
      {
        "duration": 16,
        "start_time": "2022-12-03T14:33:31.827Z"
      },
      {
        "duration": 53,
        "start_time": "2022-12-03T14:33:31.845Z"
      },
      {
        "duration": 15,
        "start_time": "2022-12-03T14:33:31.900Z"
      },
      {
        "duration": 41,
        "start_time": "2022-12-03T14:33:31.917Z"
      },
      {
        "duration": 36,
        "start_time": "2022-12-03T14:33:31.960Z"
      },
      {
        "duration": 18,
        "start_time": "2022-12-03T14:33:31.998Z"
      },
      {
        "duration": 4,
        "start_time": "2022-12-03T14:33:32.017Z"
      },
      {
        "duration": 55,
        "start_time": "2022-12-03T14:33:32.023Z"
      },
      {
        "duration": 19,
        "start_time": "2022-12-03T14:33:32.080Z"
      },
      {
        "duration": 14,
        "start_time": "2022-12-03T14:34:11.879Z"
      },
      {
        "duration": 9,
        "start_time": "2022-12-03T14:34:19.551Z"
      },
      {
        "duration": 1321,
        "start_time": "2022-12-03T14:34:39.903Z"
      },
      {
        "duration": 1197,
        "start_time": "2022-12-03T14:34:50.025Z"
      },
      {
        "duration": 28,
        "start_time": "2022-12-03T14:34:51.224Z"
      },
      {
        "duration": 76,
        "start_time": "2022-12-03T14:34:51.254Z"
      },
      {
        "duration": 534,
        "start_time": "2022-12-03T14:34:51.332Z"
      },
      {
        "duration": 28,
        "start_time": "2022-12-03T14:34:51.869Z"
      },
      {
        "duration": 28,
        "start_time": "2022-12-03T14:34:51.899Z"
      },
      {
        "duration": 49,
        "start_time": "2022-12-03T14:34:51.929Z"
      },
      {
        "duration": 109,
        "start_time": "2022-12-03T14:34:51.981Z"
      },
      {
        "duration": 23,
        "start_time": "2022-12-03T14:34:52.092Z"
      },
      {
        "duration": 196,
        "start_time": "2022-12-03T14:34:52.117Z"
      },
      {
        "duration": 6,
        "start_time": "2022-12-03T14:34:52.315Z"
      },
      {
        "duration": 93,
        "start_time": "2022-12-03T14:34:52.323Z"
      },
      {
        "duration": 10,
        "start_time": "2022-12-03T14:34:52.418Z"
      },
      {
        "duration": 88,
        "start_time": "2022-12-03T14:34:52.432Z"
      },
      {
        "duration": 270,
        "start_time": "2022-12-03T14:34:52.522Z"
      },
      {
        "duration": 23,
        "start_time": "2022-12-03T14:34:52.794Z"
      },
      {
        "duration": 33,
        "start_time": "2022-12-03T14:34:52.820Z"
      },
      {
        "duration": 70,
        "start_time": "2022-12-03T14:34:52.855Z"
      },
      {
        "duration": 488,
        "start_time": "2022-12-03T14:34:52.926Z"
      },
      {
        "duration": 6,
        "start_time": "2022-12-03T14:34:53.415Z"
      },
      {
        "duration": 106,
        "start_time": "2022-12-03T14:34:53.423Z"
      },
      {
        "duration": 46,
        "start_time": "2022-12-03T14:34:53.532Z"
      },
      {
        "duration": 15,
        "start_time": "2022-12-03T14:34:53.580Z"
      },
      {
        "duration": 67,
        "start_time": "2022-12-03T14:34:53.597Z"
      },
      {
        "duration": 203,
        "start_time": "2022-12-03T14:34:53.666Z"
      },
      {
        "duration": 30,
        "start_time": "2022-12-03T14:34:53.871Z"
      },
      {
        "duration": 415,
        "start_time": "2022-12-03T14:34:53.903Z"
      },
      {
        "duration": 59,
        "start_time": "2022-12-03T14:34:54.320Z"
      },
      {
        "duration": 28,
        "start_time": "2022-12-03T14:34:54.381Z"
      },
      {
        "duration": 81,
        "start_time": "2022-12-03T14:34:54.411Z"
      },
      {
        "duration": 39,
        "start_time": "2022-12-03T14:34:54.493Z"
      },
      {
        "duration": 4,
        "start_time": "2022-12-03T14:34:54.533Z"
      },
      {
        "duration": 17,
        "start_time": "2022-12-03T14:34:54.539Z"
      },
      {
        "duration": 23,
        "start_time": "2022-12-03T14:34:54.558Z"
      },
      {
        "duration": 13,
        "start_time": "2022-12-03T14:34:54.583Z"
      },
      {
        "duration": 362,
        "start_time": "2022-12-03T14:34:54.599Z"
      },
      {
        "duration": 217,
        "start_time": "2022-12-03T14:34:54.963Z"
      },
      {
        "duration": 28,
        "start_time": "2022-12-03T14:34:55.183Z"
      },
      {
        "duration": 14,
        "start_time": "2022-12-03T14:34:55.213Z"
      },
      {
        "duration": 28,
        "start_time": "2022-12-03T14:34:55.229Z"
      },
      {
        "duration": 12,
        "start_time": "2022-12-03T14:34:55.277Z"
      },
      {
        "duration": 19,
        "start_time": "2022-12-03T14:34:55.291Z"
      },
      {
        "duration": 25,
        "start_time": "2022-12-03T14:34:55.312Z"
      },
      {
        "duration": 39,
        "start_time": "2022-12-03T14:34:55.340Z"
      },
      {
        "duration": 5,
        "start_time": "2022-12-03T14:34:55.381Z"
      },
      {
        "duration": 33,
        "start_time": "2022-12-03T14:34:55.387Z"
      },
      {
        "duration": 18,
        "start_time": "2022-12-03T14:34:55.422Z"
      },
      {
        "duration": 29,
        "start_time": "2022-12-03T14:37:48.037Z"
      },
      {
        "duration": 25,
        "start_time": "2022-12-03T14:38:06.704Z"
      },
      {
        "duration": 11,
        "start_time": "2022-12-03T14:39:08.155Z"
      },
      {
        "duration": 66,
        "start_time": "2022-12-03T14:40:52.666Z"
      },
      {
        "duration": 27,
        "start_time": "2022-12-03T14:42:32.722Z"
      },
      {
        "duration": 22,
        "start_time": "2022-12-03T14:42:38.285Z"
      },
      {
        "duration": 12,
        "start_time": "2022-12-03T14:43:20.632Z"
      },
      {
        "duration": 3,
        "start_time": "2022-12-03T15:07:24.435Z"
      },
      {
        "duration": 117,
        "start_time": "2022-12-03T15:07:27.038Z"
      },
      {
        "duration": 9,
        "start_time": "2022-12-03T15:07:49.364Z"
      },
      {
        "duration": 11,
        "start_time": "2022-12-03T15:08:00.459Z"
      },
      {
        "duration": 4,
        "start_time": "2022-12-03T15:16:48.504Z"
      },
      {
        "duration": 1268,
        "start_time": "2022-12-03T15:20:00.337Z"
      },
      {
        "duration": 1363,
        "start_time": "2022-12-03T15:20:13.501Z"
      },
      {
        "duration": 29,
        "start_time": "2022-12-03T15:20:14.866Z"
      },
      {
        "duration": 93,
        "start_time": "2022-12-03T15:20:14.897Z"
      },
      {
        "duration": 494,
        "start_time": "2022-12-03T15:20:14.993Z"
      },
      {
        "duration": 26,
        "start_time": "2022-12-03T15:20:15.488Z"
      },
      {
        "duration": 19,
        "start_time": "2022-12-03T15:20:15.515Z"
      },
      {
        "duration": 20,
        "start_time": "2022-12-03T15:20:15.536Z"
      },
      {
        "duration": 67,
        "start_time": "2022-12-03T15:20:15.558Z"
      },
      {
        "duration": 15,
        "start_time": "2022-12-03T15:20:15.627Z"
      },
      {
        "duration": 124,
        "start_time": "2022-12-03T15:20:15.645Z"
      },
      {
        "duration": 10,
        "start_time": "2022-12-03T15:20:15.771Z"
      },
      {
        "duration": 78,
        "start_time": "2022-12-03T15:20:15.782Z"
      },
      {
        "duration": 19,
        "start_time": "2022-12-03T15:20:15.861Z"
      },
      {
        "duration": 52,
        "start_time": "2022-12-03T15:20:15.882Z"
      },
      {
        "duration": 247,
        "start_time": "2022-12-03T15:20:15.935Z"
      },
      {
        "duration": 17,
        "start_time": "2022-12-03T15:20:16.184Z"
      },
      {
        "duration": 22,
        "start_time": "2022-12-03T15:20:16.202Z"
      },
      {
        "duration": 63,
        "start_time": "2022-12-03T15:20:16.225Z"
      },
      {
        "duration": 419,
        "start_time": "2022-12-03T15:20:16.290Z"
      },
      {
        "duration": 5,
        "start_time": "2022-12-03T15:20:16.711Z"
      },
      {
        "duration": 87,
        "start_time": "2022-12-03T15:20:16.718Z"
      },
      {
        "duration": 30,
        "start_time": "2022-12-03T15:20:16.807Z"
      },
      {
        "duration": 13,
        "start_time": "2022-12-03T15:20:16.838Z"
      },
      {
        "duration": 71,
        "start_time": "2022-12-03T15:20:16.853Z"
      },
      {
        "duration": 1407,
        "start_time": "2022-12-03T15:20:16.926Z"
      },
      {
        "duration": 0,
        "start_time": "2022-12-03T15:20:18.335Z"
      },
      {
        "duration": 0,
        "start_time": "2022-12-03T15:20:18.336Z"
      },
      {
        "duration": 0,
        "start_time": "2022-12-03T15:20:18.337Z"
      },
      {
        "duration": 0,
        "start_time": "2022-12-03T15:20:18.338Z"
      },
      {
        "duration": 0,
        "start_time": "2022-12-03T15:20:18.340Z"
      },
      {
        "duration": 0,
        "start_time": "2022-12-03T15:20:18.341Z"
      },
      {
        "duration": 0,
        "start_time": "2022-12-03T15:20:18.342Z"
      },
      {
        "duration": 0,
        "start_time": "2022-12-03T15:20:18.343Z"
      },
      {
        "duration": 0,
        "start_time": "2022-12-03T15:20:18.344Z"
      },
      {
        "duration": 0,
        "start_time": "2022-12-03T15:20:18.345Z"
      },
      {
        "duration": 0,
        "start_time": "2022-12-03T15:20:18.346Z"
      },
      {
        "duration": 0,
        "start_time": "2022-12-03T15:20:18.347Z"
      },
      {
        "duration": 0,
        "start_time": "2022-12-03T15:20:18.348Z"
      },
      {
        "duration": 0,
        "start_time": "2022-12-03T15:20:18.350Z"
      },
      {
        "duration": 0,
        "start_time": "2022-12-03T15:20:18.351Z"
      },
      {
        "duration": 0,
        "start_time": "2022-12-03T15:20:18.352Z"
      },
      {
        "duration": 0,
        "start_time": "2022-12-03T15:20:18.353Z"
      },
      {
        "duration": 0,
        "start_time": "2022-12-03T15:20:18.354Z"
      },
      {
        "duration": 0,
        "start_time": "2022-12-03T15:20:18.355Z"
      },
      {
        "duration": 0,
        "start_time": "2022-12-03T15:20:18.356Z"
      },
      {
        "duration": 0,
        "start_time": "2022-12-03T15:20:18.357Z"
      },
      {
        "duration": 0,
        "start_time": "2022-12-03T15:20:18.358Z"
      },
      {
        "duration": 168,
        "start_time": "2022-12-03T15:20:50.579Z"
      },
      {
        "duration": 1130,
        "start_time": "2022-12-03T15:21:06.471Z"
      },
      {
        "duration": 26,
        "start_time": "2022-12-03T15:21:07.603Z"
      },
      {
        "duration": 63,
        "start_time": "2022-12-03T15:21:07.630Z"
      },
      {
        "duration": 476,
        "start_time": "2022-12-03T15:21:07.695Z"
      },
      {
        "duration": 24,
        "start_time": "2022-12-03T15:21:08.172Z"
      },
      {
        "duration": 19,
        "start_time": "2022-12-03T15:21:08.197Z"
      },
      {
        "duration": 54,
        "start_time": "2022-12-03T15:21:08.217Z"
      },
      {
        "duration": 68,
        "start_time": "2022-12-03T15:21:08.272Z"
      },
      {
        "duration": 18,
        "start_time": "2022-12-03T15:21:08.342Z"
      },
      {
        "duration": 130,
        "start_time": "2022-12-03T15:21:08.362Z"
      },
      {
        "duration": 5,
        "start_time": "2022-12-03T15:21:08.494Z"
      },
      {
        "duration": 90,
        "start_time": "2022-12-03T15:21:08.501Z"
      },
      {
        "duration": 9,
        "start_time": "2022-12-03T15:21:08.592Z"
      },
      {
        "duration": 77,
        "start_time": "2022-12-03T15:21:08.603Z"
      },
      {
        "duration": 247,
        "start_time": "2022-12-03T15:21:08.682Z"
      },
      {
        "duration": 19,
        "start_time": "2022-12-03T15:21:08.931Z"
      },
      {
        "duration": 38,
        "start_time": "2022-12-03T15:21:08.952Z"
      },
      {
        "duration": 47,
        "start_time": "2022-12-03T15:21:08.992Z"
      },
      {
        "duration": 464,
        "start_time": "2022-12-03T15:21:09.041Z"
      },
      {
        "duration": 6,
        "start_time": "2022-12-03T15:21:09.506Z"
      },
      {
        "duration": 85,
        "start_time": "2022-12-03T15:21:09.514Z"
      },
      {
        "duration": 30,
        "start_time": "2022-12-03T15:21:09.601Z"
      },
      {
        "duration": 12,
        "start_time": "2022-12-03T15:21:09.633Z"
      },
      {
        "duration": 72,
        "start_time": "2022-12-03T15:21:09.647Z"
      },
      {
        "duration": 157,
        "start_time": "2022-12-03T15:21:09.721Z"
      },
      {
        "duration": 10,
        "start_time": "2022-12-03T15:21:09.880Z"
      },
      {
        "duration": 320,
        "start_time": "2022-12-03T15:21:09.892Z"
      },
      {
        "duration": 49,
        "start_time": "2022-12-03T15:21:10.216Z"
      },
      {
        "duration": 26,
        "start_time": "2022-12-03T15:21:10.266Z"
      },
      {
        "duration": 45,
        "start_time": "2022-12-03T15:21:10.294Z"
      },
      {
        "duration": 56,
        "start_time": "2022-12-03T15:21:10.341Z"
      },
      {
        "duration": 3,
        "start_time": "2022-12-03T15:21:10.399Z"
      },
      {
        "duration": 11,
        "start_time": "2022-12-03T15:21:10.403Z"
      },
      {
        "duration": 4,
        "start_time": "2022-12-03T15:21:10.416Z"
      },
      {
        "duration": 10,
        "start_time": "2022-12-03T15:21:10.422Z"
      },
      {
        "duration": 311,
        "start_time": "2022-12-03T15:21:10.434Z"
      },
      {
        "duration": 233,
        "start_time": "2022-12-03T15:21:10.747Z"
      },
      {
        "duration": 29,
        "start_time": "2022-12-03T15:21:10.982Z"
      },
      {
        "duration": 14,
        "start_time": "2022-12-03T15:21:11.013Z"
      },
      {
        "duration": 53,
        "start_time": "2022-12-03T15:21:11.029Z"
      },
      {
        "duration": 13,
        "start_time": "2022-12-03T15:21:11.085Z"
      },
      {
        "duration": 31,
        "start_time": "2022-12-03T15:21:11.099Z"
      },
      {
        "duration": 44,
        "start_time": "2022-12-03T15:21:11.131Z"
      },
      {
        "duration": 16,
        "start_time": "2022-12-03T15:21:11.177Z"
      },
      {
        "duration": 7,
        "start_time": "2022-12-03T15:21:11.195Z"
      },
      {
        "duration": 69,
        "start_time": "2022-12-03T15:21:11.204Z"
      },
      {
        "duration": 34,
        "start_time": "2022-12-03T15:21:11.275Z"
      },
      {
        "duration": 1239,
        "start_time": "2022-12-03T15:24:05.595Z"
      },
      {
        "duration": 1130,
        "start_time": "2022-12-03T15:24:17.311Z"
      },
      {
        "duration": 29,
        "start_time": "2022-12-03T15:24:18.442Z"
      },
      {
        "duration": 64,
        "start_time": "2022-12-03T15:24:18.472Z"
      },
      {
        "duration": 466,
        "start_time": "2022-12-03T15:24:18.538Z"
      },
      {
        "duration": 33,
        "start_time": "2022-12-03T15:24:19.006Z"
      },
      {
        "duration": 26,
        "start_time": "2022-12-03T15:24:19.041Z"
      },
      {
        "duration": 30,
        "start_time": "2022-12-03T15:24:19.068Z"
      },
      {
        "duration": 79,
        "start_time": "2022-12-03T15:24:19.100Z"
      },
      {
        "duration": 16,
        "start_time": "2022-12-03T15:24:19.181Z"
      },
      {
        "duration": 126,
        "start_time": "2022-12-03T15:24:19.200Z"
      },
      {
        "duration": 6,
        "start_time": "2022-12-03T15:24:19.328Z"
      },
      {
        "duration": 96,
        "start_time": "2022-12-03T15:24:19.337Z"
      },
      {
        "duration": 9,
        "start_time": "2022-12-03T15:24:19.435Z"
      },
      {
        "duration": 64,
        "start_time": "2022-12-03T15:24:19.446Z"
      },
      {
        "duration": 241,
        "start_time": "2022-12-03T15:24:19.512Z"
      },
      {
        "duration": 25,
        "start_time": "2022-12-03T15:24:19.754Z"
      },
      {
        "duration": 22,
        "start_time": "2022-12-03T15:24:19.780Z"
      },
      {
        "duration": 43,
        "start_time": "2022-12-03T15:24:19.804Z"
      },
      {
        "duration": 461,
        "start_time": "2022-12-03T15:24:19.848Z"
      },
      {
        "duration": 6,
        "start_time": "2022-12-03T15:24:20.311Z"
      },
      {
        "duration": 85,
        "start_time": "2022-12-03T15:24:20.319Z"
      },
      {
        "duration": 29,
        "start_time": "2022-12-03T15:24:20.406Z"
      },
      {
        "duration": 13,
        "start_time": "2022-12-03T15:24:20.437Z"
      },
      {
        "duration": 79,
        "start_time": "2022-12-03T15:24:20.451Z"
      },
      {
        "duration": 167,
        "start_time": "2022-12-03T15:24:20.532Z"
      },
      {
        "duration": 14,
        "start_time": "2022-12-03T15:24:20.701Z"
      },
      {
        "duration": 315,
        "start_time": "2022-12-03T15:24:20.717Z"
      },
      {
        "duration": 60,
        "start_time": "2022-12-03T15:24:21.035Z"
      },
      {
        "duration": 20,
        "start_time": "2022-12-03T15:24:21.096Z"
      },
      {
        "duration": 70,
        "start_time": "2022-12-03T15:24:21.117Z"
      },
      {
        "duration": 47,
        "start_time": "2022-12-03T15:24:21.189Z"
      },
      {
        "duration": 3,
        "start_time": "2022-12-03T15:24:21.238Z"
      },
      {
        "duration": 12,
        "start_time": "2022-12-03T15:24:21.243Z"
      },
      {
        "duration": 21,
        "start_time": "2022-12-03T15:24:21.257Z"
      },
      {
        "duration": 8,
        "start_time": "2022-12-03T15:24:21.280Z"
      },
      {
        "duration": 309,
        "start_time": "2022-12-03T15:24:21.290Z"
      },
      {
        "duration": 208,
        "start_time": "2022-12-03T15:24:21.601Z"
      },
      {
        "duration": 25,
        "start_time": "2022-12-03T15:24:21.811Z"
      },
      {
        "duration": 11,
        "start_time": "2022-12-03T15:24:21.838Z"
      },
      {
        "duration": 42,
        "start_time": "2022-12-03T15:24:21.851Z"
      },
      {
        "duration": 11,
        "start_time": "2022-12-03T15:24:21.894Z"
      },
      {
        "duration": 16,
        "start_time": "2022-12-03T15:24:21.907Z"
      },
      {
        "duration": 27,
        "start_time": "2022-12-03T15:24:21.924Z"
      },
      {
        "duration": 37,
        "start_time": "2022-12-03T15:24:21.952Z"
      },
      {
        "duration": 3,
        "start_time": "2022-12-03T15:24:21.992Z"
      },
      {
        "duration": 31,
        "start_time": "2022-12-03T15:24:21.997Z"
      },
      {
        "duration": 20,
        "start_time": "2022-12-03T15:24:22.030Z"
      },
      {
        "duration": 30,
        "start_time": "2022-12-03T15:24:33.001Z"
      },
      {
        "duration": 15,
        "start_time": "2022-12-03T15:24:54.615Z"
      },
      {
        "duration": 1140,
        "start_time": "2022-12-03T15:26:17.470Z"
      },
      {
        "duration": 28,
        "start_time": "2022-12-03T15:26:18.612Z"
      },
      {
        "duration": 67,
        "start_time": "2022-12-03T15:26:18.641Z"
      },
      {
        "duration": 496,
        "start_time": "2022-12-03T15:26:18.711Z"
      },
      {
        "duration": 31,
        "start_time": "2022-12-03T15:26:19.209Z"
      },
      {
        "duration": 26,
        "start_time": "2022-12-03T15:26:19.242Z"
      },
      {
        "duration": 28,
        "start_time": "2022-12-03T15:26:19.270Z"
      },
      {
        "duration": 58,
        "start_time": "2022-12-03T15:26:19.300Z"
      },
      {
        "duration": 29,
        "start_time": "2022-12-03T15:26:19.360Z"
      },
      {
        "duration": 111,
        "start_time": "2022-12-03T15:26:19.391Z"
      },
      {
        "duration": 6,
        "start_time": "2022-12-03T15:26:19.504Z"
      },
      {
        "duration": 92,
        "start_time": "2022-12-03T15:26:19.511Z"
      },
      {
        "duration": 8,
        "start_time": "2022-12-03T15:26:19.604Z"
      },
      {
        "duration": 66,
        "start_time": "2022-12-03T15:26:19.614Z"
      },
      {
        "duration": 242,
        "start_time": "2022-12-03T15:26:19.682Z"
      },
      {
        "duration": 15,
        "start_time": "2022-12-03T15:26:19.926Z"
      },
      {
        "duration": 36,
        "start_time": "2022-12-03T15:26:19.942Z"
      },
      {
        "duration": 44,
        "start_time": "2022-12-03T15:26:19.979Z"
      },
      {
        "duration": 439,
        "start_time": "2022-12-03T15:26:20.025Z"
      },
      {
        "duration": 5,
        "start_time": "2022-12-03T15:26:20.465Z"
      },
      {
        "duration": 73,
        "start_time": "2022-12-03T15:26:20.478Z"
      },
      {
        "duration": 42,
        "start_time": "2022-12-03T15:26:20.553Z"
      },
      {
        "duration": 13,
        "start_time": "2022-12-03T15:26:20.597Z"
      },
      {
        "duration": 67,
        "start_time": "2022-12-03T15:26:20.612Z"
      },
      {
        "duration": 145,
        "start_time": "2022-12-03T15:26:20.681Z"
      },
      {
        "duration": 11,
        "start_time": "2022-12-03T15:26:20.828Z"
      },
      {
        "duration": 311,
        "start_time": "2022-12-03T15:26:20.840Z"
      },
      {
        "duration": 58,
        "start_time": "2022-12-03T15:26:21.155Z"
      },
      {
        "duration": 21,
        "start_time": "2022-12-03T15:26:21.215Z"
      },
      {
        "duration": 64,
        "start_time": "2022-12-03T15:26:21.238Z"
      },
      {
        "duration": 41,
        "start_time": "2022-12-03T15:26:21.303Z"
      },
      {
        "duration": 3,
        "start_time": "2022-12-03T15:26:21.346Z"
      },
      {
        "duration": 27,
        "start_time": "2022-12-03T15:26:21.351Z"
      },
      {
        "duration": 3,
        "start_time": "2022-12-03T15:26:21.380Z"
      },
      {
        "duration": 17,
        "start_time": "2022-12-03T15:26:21.385Z"
      },
      {
        "duration": 298,
        "start_time": "2022-12-03T15:26:21.403Z"
      },
      {
        "duration": 208,
        "start_time": "2022-12-03T15:26:21.703Z"
      },
      {
        "duration": 26,
        "start_time": "2022-12-03T15:26:21.914Z"
      },
      {
        "duration": 12,
        "start_time": "2022-12-03T15:26:21.942Z"
      },
      {
        "duration": 23,
        "start_time": "2022-12-03T15:26:21.977Z"
      },
      {
        "duration": 11,
        "start_time": "2022-12-03T15:26:22.002Z"
      },
      {
        "duration": 14,
        "start_time": "2022-12-03T15:26:22.015Z"
      },
      {
        "duration": 49,
        "start_time": "2022-12-03T15:26:22.031Z"
      },
      {
        "duration": 16,
        "start_time": "2022-12-03T15:26:22.082Z"
      },
      {
        "duration": 4,
        "start_time": "2022-12-03T15:26:22.100Z"
      },
      {
        "duration": 37,
        "start_time": "2022-12-03T15:26:22.106Z"
      },
      {
        "duration": 34,
        "start_time": "2022-12-03T15:26:22.145Z"
      },
      {
        "duration": 110,
        "start_time": "2022-12-04T04:46:55.282Z"
      }
    ],
    "kernelspec": {
      "display_name": "Python 3 (ipykernel)",
      "language": "python",
      "name": "python3"
    },
    "language_info": {
      "codemirror_mode": {
        "name": "ipython",
        "version": 3
      },
      "file_extension": ".py",
      "mimetype": "text/x-python",
      "name": "python",
      "nbconvert_exporter": "python",
      "pygments_lexer": "ipython3",
      "version": "3.9.5"
    },
    "toc": {
      "base_numbering": 1,
      "nav_menu": {},
      "number_sections": true,
      "sideBar": true,
      "skip_h1_title": true,
      "title_cell": "Table of Contents",
      "title_sidebar": "Contents",
      "toc_cell": false,
      "toc_position": {},
      "toc_section_display": true,
      "toc_window_display": false
    },
    "colab": {
      "provenance": []
    }
  },
  "nbformat": 4,
  "nbformat_minor": 0
}